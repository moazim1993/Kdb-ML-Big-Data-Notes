{
 "cells": [
  {
   "cell_type": "markdown",
   "id": "ce99639e",
   "metadata": {},
   "source": [
    "## Debugging q Code\n",
    "\n",
    "First part of this chapter we make a brief overview of the native errors we may encounter when using incorrect syntax.\n",
    "\n",
    "Then we focus on how to debug the code when encountering errors and move on to advise on how we can structure our codebase better."
   ]
  },
  {
   "cell_type": "markdown",
   "id": "fad6ee57",
   "metadata": {},
   "source": [
    "### 5.1 Introduction to making it wrong: Errors\n",
    "\n",
    "2 main pain points:\n",
    "\n",
    "    - Avoiding simple syntax errors when initially writing our code.\n",
    "    - interpreting the generally obscure and short q errors and how we can make these more verbose while our code increases in complexity\n",
    "    \n",
    "\n",
    "*syntax error*\n",
    "\n",
    "    - May waiste time to debug a syntax error like missing semi colon. Modern IDEs have plugins like intelliJ or QPad for q. Still the console provides an interactive way to run and thereby test the code.\n",
    "    \n",
    "*Runtime Errors*\n",
    "\n",
    "    - An error signal, or what is known as an exception, is denoted in q with a single quote folowed by a word or phrase signaling the error type."
   ]
  },
  {
   "cell_type": "code",
   "execution_count": 1,
   "id": "9dff63c7",
   "metadata": {},
   "outputs": [],
   "source": [
    "wrongFunction:{[x;y] add:x+y; add:add + 50; z+3};"
   ]
  },
  {
   "cell_type": "code",
   "execution_count": 1,
   "id": "0b0ed8d7",
   "metadata": {},
   "outputs": [
    {
     "ename": "\u001b[0;31mz\u001b[0m",
     "evalue": "\u001b[0;31mz\u001b[0m",
     "output_type": "error",
     "traceback": [
      "\u001b[0;31mevaluation error:\n\u001b[0m",
      "\u001b[0;31mz\u001b[0m",
      "\u001b[0;31m\u001b[0m",
      "\u001b[0;31m  [1]  wrongFunction:{[x;y] add:x+y; add:add + 50; z+3}\r\n                                                   ^\r\n\u001b[0m",
      "\u001b[0;31m  [0]  wrongFunction[50;12]\r\n       ^\r\n\u001b[0m"
     ]
    }
   ],
   "source": [
    "wrongFunction[50;12]"
   ]
  },
  {
   "cell_type": "markdown",
   "id": "7f744ea4",
   "metadata": {},
   "source": [
    "The error returns z (note there is no single quote due to the jupyter notebook ide), which is not defined. It also shows the location of the error in the lines [1] and [0].\n",
    "\n",
    "More frequently we find the error to be a build in q error.\n",
    "\n",
    "Full list of errors:\n",
    "  - https://code.kx.com/q/basics/errors/\n",
    "  - https://github.com/prodrive11/log4q\n"
   ]
  },
  {
   "cell_type": "code",
   "execution_count": 2,
   "id": "a25c525d",
   "metadata": {},
   "outputs": [
    {
     "data": {
      "text/plain": [
       "8f\r\n"
      ]
     },
     "execution_count": 2,
     "metadata": {},
     "output_type": "execute_result"
    }
   ],
   "source": [
    "// runs as intended\n",
    "two:2;\n",
    "two xexp 3"
   ]
  },
  {
   "cell_type": "code",
   "execution_count": 2,
   "id": "b432f180",
   "metadata": {},
   "outputs": [
    {
     "ename": "\u001b[0;31mthree\u001b[0m",
     "evalue": "\u001b[0;31mthree\u001b[0m",
     "output_type": "error",
     "traceback": [
      "\u001b[0;31mevaluation error:\n\u001b[0m",
      "\u001b[0;31mthree\u001b[0m",
      "\u001b[0;31m\u001b[0m",
      "\u001b[0;31m  [0]  three xexp 3\r\n       ^\r\n\u001b[0m"
     ]
    }
   ],
   "source": [
    "//type error\n",
    "three xexp 3"
   ]
  },
  {
   "cell_type": "markdown",
   "id": "565efd17",
   "metadata": {},
   "source": [
    "q is strongly types. Partially updating values of a variable to a different type results in a 'type error"
   ]
  },
  {
   "cell_type": "code",
   "execution_count": 2,
   "id": "ac396069",
   "metadata": {},
   "outputs": [
    {
     "name": "stdout",
     "output_type": "stream",
     "text": [
      "101 101.5 101.3\r\n"
     ]
    },
    {
     "ename": "\u001b[0;31mtype\u001b[0m",
     "evalue": "\u001b[0;31mtype\u001b[0m",
     "output_type": "error",
     "traceback": [
      "\u001b[0;31mevaluation error:\n\u001b[0m",
      "\u001b[0;31mtype\u001b[0m",
      "\u001b[0;31m\u001b[0m",
      "\u001b[0;31m  [0]  prices,: 10\r\n             ^\r\n\u001b[0m"
     ]
    }
   ],
   "source": [
    "show prices:101 101.5 101.3;\n",
    "prices,: 10"
   ]
  },
  {
   "cell_type": "markdown",
   "id": "d9dd7631",
   "metadata": {},
   "source": [
    "**NOTE: commonly causes a hard to find bug**\n",
    "  - when we forget to end a like with a semicolon, we may accidentially merge two statements which were meant to be processed indipendently.\n",
    "  - Due to the commonality of this error, two ways to minimise are:\n",
    "      - type check for function arguments\n",
    "      - logging to trace variables passed into functions"
   ]
  },
  {
   "cell_type": "code",
   "execution_count": 3,
   "id": "9a668490",
   "metadata": {},
   "outputs": [],
   "source": [
    ".quantQ.myspace.myfunc:{[prices;newPrices]\n",
    "    //prices -- verctor of prices\n",
    "    if[type[prices] <> type[newPrices]; '\"Prices are incompatable\"];\n",
    "    : prices,newPrices }"
   ]
  },
  {
   "cell_type": "code",
   "execution_count": 4,
   "id": "9430dff1",
   "metadata": {},
   "outputs": [
    {
     "data": {
      "text/plain": [
       "1 2 3 10 20 30f\r\n"
      ]
     },
     "execution_count": 4,
     "metadata": {},
     "output_type": "execute_result"
    }
   ],
   "source": [
    ".quantQ.myspace.myfunc[1 2 3f; 10 20 30f]"
   ]
  },
  {
   "cell_type": "code",
   "execution_count": 4,
   "id": "ac1d4d7b",
   "metadata": {},
   "outputs": [
    {
     "ename": "\u001b[0;31mPrices are incompatable\u001b[0m",
     "evalue": "\u001b[0;31mPrices are incompatable\u001b[0m",
     "output_type": "error",
     "traceback": [
      "\u001b[0;31mevaluation error:\n\u001b[0m",
      "\u001b[0;31mPrices are incompatable\u001b[0m",
      "\u001b[0;31m\u001b[0m",
      "\u001b[0;31m  [1]  .quantQ.myspace.myfunc:\r\n    //prices -- verctor of prices\r\n    if[type[prices] <> type[newPrices]; '\"Prices are incompatable\"];\r\n                                        ^\r\n    : prices,newPrices }\r\n\u001b[0m",
      "\u001b[0;31m  [0]  .quantQ.myspace.myfunc[1 2 3; 10.2 11.1 12.2f]\r\n       ^\r\n\u001b[0m"
     ]
    }
   ],
   "source": [
    ".quantQ.myspace.myfunc[1 2 3; 10.2 11.1 12.2f]"
   ]
  },
  {
   "cell_type": "markdown",
   "id": "c8b4f638",
   "metadata": {},
   "source": [
    "Notice the error message stated in the function is returned."
   ]
  },
  {
   "cell_type": "markdown",
   "id": "22f9e032",
   "metadata": {},
   "source": [
    "'lenght - Another common error type appearns when we perform an operation on two object5s which have incompatible lenghts:"
   ]
  },
  {
   "cell_type": "code",
   "execution_count": 4,
   "id": "d514ccf8",
   "metadata": {},
   "outputs": [
    {
     "ename": "\u001b[0;31mlength\u001b[0m",
     "evalue": "\u001b[0;31mlength\u001b[0m",
     "output_type": "error",
     "traceback": [
      "\u001b[0;31mevaluation error:\n\u001b[0m",
      "\u001b[0;31mlength\u001b[0m",
      "\u001b[0;31m\u001b[0m",
      "\u001b[0;31m  [0]  1 2 + 1 2 3\r\n           ^\r\n\u001b[0m"
     ]
    }
   ],
   "source": [
    "1 2 + 1 2 3"
   ]
  },
  {
   "cell_type": "markdown",
   "id": "073b6cfd",
   "metadata": {},
   "source": [
    "'mismatch - When two tables are being joined with an upsert (or a comma join) and the columns between them differ."
   ]
  },
  {
   "cell_type": "code",
   "execution_count": 4,
   "id": "91aa077f",
   "metadata": {},
   "outputs": [
    {
     "ename": "\u001b[0;31mmismatch\u001b[0m",
     "evalue": "\u001b[0;31mmismatch\u001b[0m",
     "output_type": "error",
     "traceback": [
      "\u001b[0;31mevaluation error:\n\u001b[0m",
      "\u001b[0;31mmismatch\u001b[0m",
      "\u001b[0;31m\u001b[0m",
      "\u001b[0;31m  [0]  t1,t2\r\n         ^\r\n\u001b[0m"
     ]
    }
   ],
   "source": [
    "t1:([]a:1 2;b:3 4);\n",
    "t2:([]c:10 20 30);\n",
    "t1,t2"
   ]
  },
  {
   "cell_type": "code",
   "execution_count": 4,
   "id": "15c0a10e",
   "metadata": {},
   "outputs": [
    {
     "ename": "\u001b[0;31mmismatch\u001b[0m",
     "evalue": "\u001b[0;31mmismatch\u001b[0m",
     "output_type": "error",
     "traceback": [
      "\u001b[0;31mevaluation error:\n\u001b[0m",
      "\u001b[0;31mmismatch\u001b[0m",
      "\u001b[0;31m\u001b[0m",
      "\u001b[0;31m  [0]  t1 upsert t2\r\n          ^\r\n\u001b[0m"
     ]
    }
   ],
   "source": [
    "t1 upsert t2"
   ]
  },
  {
   "cell_type": "markdown",
   "id": "ea4bf46b",
   "metadata": {},
   "source": [
    "#### ERRORS\n",
    "\n",
    "'constants - is an error for when we have declared too many constants, more than 96. This is q's guide to refactor our code into funcitons, and if in functions, break it into smaller functions.\n",
    "\n",
    "'domain - is an error for when we evaluate a function outside of the natural domain.\n",
    "\n",
    "'from - is an error for when we use one of the sql commands and forget (or misspell) the statement from or omit the table name.\n",
    "\n",
    "'noupdate - is an error for when we work on a server which has protection aginst writing or updating globals.\n",
    "\n",
    "'nyi - is an error for when a command looks meaningful but not able to exicute. Stands for 'not yet implimented'.\n",
    "\n",
    "'os - is an error for when the operating system command produces an error during its execution.\n",
    "\n",
    "'params - is an error for when a function with more than eight parameters is constructed.\n",
    "\n",
    "'rank - is an error for when the rank/valeance is lower than how its used. For example calling a function with more variables than the function expects.\n",
    "\n",
    "'wsfull - is an error for when we run out of virtual memory."
   ]
  },
  {
   "cell_type": "markdown",
   "id": "bf356927",
   "metadata": {},
   "source": [
    "#### 5.2 Debugging the code\n",
    "\n",
    "Lets look at the tools avilable to debug. Lets look again at the wrongFunction example"
   ]
  },
  {
   "cell_type": "code",
   "execution_count": 5,
   "id": "ce895a7a",
   "metadata": {},
   "outputs": [],
   "source": [
    "\\l test/test.q"
   ]
  },
  {
   "cell_type": "code",
   "execution_count": 6,
   "id": "c062ed9c",
   "metadata": {},
   "outputs": [
    {
     "data": {
      "text/plain": [
       "{[x;y]\r\n",
       "    add:x+y;\r\n",
       "    add:add + 50;\r\n",
       "    add:add + z}\r\n"
      ]
     },
     "execution_count": 6,
     "metadata": {},
     "output_type": "execute_result"
    }
   ],
   "source": [
    "wrongFunction"
   ]
  },
  {
   "cell_type": "code",
   "execution_count": 6,
   "id": "571ab6f7",
   "metadata": {},
   "outputs": [
    {
     "ename": "\u001b[0;31mz\u001b[0m",
     "evalue": "\u001b[0;31mz\u001b[0m",
     "output_type": "error",
     "traceback": [
      "\u001b[0;31mevaluation error:\n\u001b[0m",
      "\u001b[0;31mz\u001b[0m",
      "\u001b[0;31m\u001b[0m",
      "\u001b[0;31m  [1]  C:\\Users\\moazi\\Documents\\GitHub\\Kdb-ML-Big-Data-Notes\\test\\test.q:4: wrongFunction:\r\n    add:add + 50;\r\n    add:add + z}\r\n              ^\r\n\u001b[0m",
      "\u001b[0;31m  [0]  wrongFunction[1;2]\r\n       ^\r\n\u001b[0m"
     ]
    }
   ],
   "source": [
    "wrongFunction[1;2]"
   ]
  },
  {
   "cell_type": "markdown",
   "id": "6aedf469",
   "metadata": {},
   "source": [
    " - The first line is 'z\n",
    " - The second line is the will locate the file and line number of the error, test.q:4 (line 4 in file test.q).\n",
    " - The third line shows the last two lines before the failure.\n",
    " \n",
    "The error here is variable z not being defined."
   ]
  },
  {
   "cell_type": "markdown",
   "id": "c0f05e89",
   "metadata": {},
   "source": [
    "When using command prompt with kdb, and you run into an error, you will get a line with extra perenthesis. I.e.\n",
    "\n",
    "q))\n",
    "\n",
    "This means you are in the scope of the error. If the error is in a function you can access the function. To see the function you can used .z.s, which is a self funciton (also useful for recursion).\n"
   ]
  },
  {
   "cell_type": "code",
   "execution_count": 8,
   "id": "fb546351",
   "metadata": {},
   "outputs": [
    {
     "data": {
      "text/plain": [
       "args     | `x`y\r\n",
       "locals   | ,`add\r\n",
       "globals  | ``z\r\n",
       "constants| ,50\r\n",
       "name     | \"..wrongFunction\"\r\n",
       "path     | \"C:\\\\Users\\\\moazi\\\\Documents\\\\GitHub\\\\Kdb-ML-Big-Data-Notes\\\\test\\..\r\n"
      ]
     },
     "execution_count": 8,
     "metadata": {},
     "output_type": "execute_result"
    }
   ],
   "source": [
    "`args`locals`globals`constants`name`path!{x[1 2 3],enlist[4_ -5_x],2#-4#x}value[wrongFunction]"
   ]
  },
  {
   "cell_type": "code",
   "execution_count": 11,
   "id": "dfb3d59d",
   "metadata": {},
   "outputs": [
    {
     "data": {
      "text/plain": [
       "args     | `x`y\r\n",
       "locals   | ,`add\r\n",
       "globals  | ``z\r\n",
       "constants| ,50\r\n",
       "name     | \"..wrongFunction\"\r\n",
       "path     | \"C:\\\\Users\\\\moazi\\\\Documents\\\\GitHub\\\\Kdb-ML-Big-Data-Notes\\\\test\\..\r\n"
      ]
     },
     "execution_count": 11,
     "metadata": {},
     "output_type": "execute_result"
    }
   ],
   "source": [
    "\\l quantQ-master/lib/quantQ_extra.q\n",
    ".quantQ.debug.meta[wrongFunction]"
   ]
  },
  {
   "cell_type": "markdown",
   "id": "90a04672",
   "metadata": {},
   "source": [
    "above is a handy utility function to help track a function. You can also use this to get info about .z.s when you are in the scope of a error."
   ]
  },
  {
   "cell_type": "markdown",
   "id": "63e14e68",
   "metadata": {},
   "source": [
    "To comtinue from:\n",
    "\n",
    "q))\n",
    "\n",
    "You have 3 options:\n",
    " - '  -- This will move up the call stack to the parent function of the function scope you are in.\n",
    " - :  -- this will let you proceed from your current operation to the rest of the remaining operation of your call. This will break again if an error is not remedied. You can also return the scope of your current function. For example\n",
    "     - q)):2 will return 2 for the function scope you are in \n",
    " - \\  -- This will end the debugger and return you to your main scope."
   ]
  },
  {
   "cell_type": "markdown",
   "id": "6b74292c",
   "metadata": {},
   "source": [
    "### 5.3 Debugging Server-side\n",
    "\n",
    "Its not always possible to debug directly on the console, when using an IDE to connect to a remote server, or our local process connects to a remote q process, we may need to deal with our funcitons failing while executing server side. One way that helps to deal with it is setting up proper error message and logging of the server side code. Another way to debug is using\n",
    "`.Q.trp`. This function traps exicution, and returns a full stack trace."
   ]
  },
  {
   "cell_type": "code",
   "execution_count": 12,
   "id": "450d9ef8",
   "metadata": {},
   "outputs": [
    {
     "data": {
      "text/plain": [
       "{[func;args]\r\n",
       "    // func -- function to inspect\r\n",
       "    // args -- arguments for that function\r\n",
       "    : .Q.trp[{value enlist[x],y}[func];args;{(x;.Q.sbt y)}]\r\n",
       "    }\r\n"
      ]
     },
     "execution_count": 12,
     "metadata": {},
     "output_type": "execute_result"
    }
   ],
   "source": [
    ".quantQ.debug.trap"
   ]
  },
  {
   "cell_type": "code",
   "execution_count": 14,
   "id": "2f5df996",
   "metadata": {},
   "outputs": [
    {
     "data": {
      "text/plain": [
       ",\"z\"\r\n",
       "\"  [12] C:\\\\Users\\\\moazi\\\\Documents\\\\GitHub\\\\Kdb-ML-Big-Data-Notes\\\\test\\\\tes..\r\n"
      ]
     },
     "execution_count": 14,
     "metadata": {},
     "output_type": "execute_result"
    }
   ],
   "source": [
    "result:.quantQ.debug.trap[wrongFunction; 1 2];\n",
    "result"
   ]
  },
  {
   "cell_type": "code",
   "execution_count": 15,
   "id": "b85b494c",
   "metadata": {},
   "outputs": [
    {
     "data": {
      "text/plain": [
       ",\"z\"\r\n"
      ]
     },
     "execution_count": 15,
     "metadata": {},
     "output_type": "execute_result"
    }
   ],
   "source": [
    "first result"
   ]
  },
  {
   "cell_type": "code",
   "execution_count": 16,
   "id": "a2837bfe",
   "metadata": {},
   "outputs": [
    {
     "name": "stdout",
     "output_type": "stream",
     "text": [
      "  [12] C:\\Users\\moazi\\Documents\\GitHub\\Kdb-ML-Big-Data-Notes\\test\\test.q:4: wrongFunction:\r\n",
      "    add:add + 50;\r\n",
      "    add:add + z}\r\n",
      "              ^\r\n",
      "  [11] C:\\Users\\moazi\\Documents\\GitHub\\Kdb-ML-Big-Data-Notes\\quantQ-master\\lib\\quantQ_extra.q:15: .quantQ.debug.trap@:{value enlist[x],y}\r\n",
      "                                                                                                                       ^\r\n",
      "  [10] (.Q.trp)\n",
      "\n",
      "  [9]  C:\\Users\\moazi\\Documents\\GitHub\\Kdb-ML-Big-Data-Notes\\quantQ-master\\lib\\quantQ_extra.q:15: .quantQ.debug.trap:\r\n",
      "    // args -- arguments for that function\r\n",
      "    : .Q.trp[{value enlist[x],y}[func];args;{(x;.Q.sbt y)}]\r\n",
      "      ^\r\n",
      "    }\r\n",
      "  [8]  result:.quantQ.debug.trap[wrongFunction; 1 2];\r\n",
      "              ^\r\n",
      "  [7]  (.Q.trp)\n",
      "\n",
      "  [6]  C:\\Users\\moazi\\anaconda3\\q\\jupyterq_execution.q:39: {krnsnd[`.qpk.srvres].Q.trp[(0;)@\"q\"@;x;ef]}\r\n",
      "                                                                                ^\r\n",
      "  [5]  C:\\Users\\moazi\\anaconda3\\q\\jupyterq_execution.q:36: .qpk.l@:k){x y}\r\n",
      "                                                                      ^\r\n",
      "  [4]  C:\\Users\\moazi\\anaconda3\\q\\jupyterq_execution.q:36: .qpk.l:k){r@&~(::)~'r:y{x y}'\"\\n\"/:'x(&|1^\\|0N 0 1\"/ \"?*:'x[i],'\"/\")_i:&~|':(b?-1)#b:+\\-/(x:$[@x;`\\:;]x)~\\:/:+,\"/\\\\\"}\r\n",
      "                                                                                       ^\r\n",
      "  [3]  (.Q.trp)\n",
      "\n",
      "  [2]  C:\\Users\\moazi\\anaconda3\\q\\jupyterq_execution.q:38: .qpk.trp:{.Q.trp[(0;)@ev@;` vs x;ef]}\r\n",
      "                                                                     ^\r\n",
      "  [1]  C:\\Users\\moazi\\anaconda3\\q\\jupyterq_execution.q:55: .qpk.h.execute:\r\n",
      " mcn:u 1; / updated commands if any\r\n",
      " err:first res:trp mcn .`content`code;\r\n",
      "               ^\r\n",
      " if[not[err]and mcn .`content`store_history;exn+:1];\r\n",
      "  [0]  C:\\Users\\moazi\\anaconda3\\q\\jupyterq_server.q:53: .qpk.execmsg:{[f;z;s;mc]setstate[f;z;s;mc];                 / handle a request from kernel, only handle locally if not a remote request\r\n",
      " if[not remote[f;z;s;mc];df[h;f][z;s]mc]}\r\n",
      "                         ^\r\n",
      "\r\n"
     ]
    },
    {
     "data": {
      "text/plain": [
       "-1\r\n"
      ]
     },
     "execution_count": 16,
     "metadata": {},
     "output_type": "execute_result"
    }
   ],
   "source": [
    "-1 last result"
   ]
  },
  {
   "cell_type": "markdown",
   "id": "4dda138f",
   "metadata": {},
   "source": [
    "Here you can see proper error message is returned. The key differece is that this can be sent server side with hopen. Also this shows the entire stack trace."
   ]
  },
  {
   "cell_type": "code",
   "execution_count": null,
   "id": "183795a8",
   "metadata": {},
   "outputs": [],
   "source": []
  }
 ],
 "metadata": {
  "kernelspec": {
   "display_name": "Q (kdb+)",
   "language": "q",
   "name": "qpk"
  },
  "language_info": {
   "file_extension": ".q",
   "mimetype": "text/x-q",
   "name": "q",
   "version": "4.0"
  }
 },
 "nbformat": 4,
 "nbformat_minor": 5
}

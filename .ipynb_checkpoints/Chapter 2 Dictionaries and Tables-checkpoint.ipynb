{
 "cells": [
  {
   "cell_type": "markdown",
   "id": "38603437",
   "metadata": {},
   "source": [
    "### Dictionaries and Tables : the q Fundimentals\n",
    "- We will refer to 0h lists as vectors\n",
    "- Dictionaries are simple map of two lists\n",
    "- Tables are where our data will reside\n",
    "- q supports its own query languge qSql with insert, upsert, update, select, and delete\n",
    "- type of dictionary is 99h and type for table is 98h"
   ]
  },
  {
   "cell_type": "code",
   "execution_count": 1,
   "id": "d9452736",
   "metadata": {},
   "outputs": [
    {
     "data": {
      "text/plain": [
       "a| 1\r\n",
       "b| 2\r\n",
       "c| 3\r\n"
      ]
     },
     "execution_count": 1,
     "metadata": {},
     "output_type": "execute_result"
    }
   ],
   "source": [
    "// dictionary\n",
    "myDict:`a`b`c!1 2 3;\n",
    "myDict"
   ]
  },
  {
   "cell_type": "code",
   "execution_count": 2,
   "id": "c280126b",
   "metadata": {},
   "outputs": [
    {
     "data": {
      "text/plain": [
       "2\r\n"
      ]
     },
     "execution_count": 2,
     "metadata": {},
     "output_type": "execute_result"
    }
   ],
   "source": [
    "/ when indexing use the key insted of the int index number\n",
    "myDict[`b]"
   ]
  },
  {
   "cell_type": "code",
   "execution_count": 3,
   "id": "8b503b4e",
   "metadata": {},
   "outputs": [
    {
     "data": {
      "text/plain": [
       "`a`b`c\r\n"
      ]
     },
     "execution_count": 3,
     "metadata": {},
     "output_type": "execute_result"
    }
   ],
   "source": [
    "key myDict"
   ]
  },
  {
   "cell_type": "code",
   "execution_count": 4,
   "id": "d8f4d34a",
   "metadata": {},
   "outputs": [
    {
     "data": {
      "text/plain": [
       "1 2 3\r\n"
      ]
     },
     "execution_count": 4,
     "metadata": {},
     "output_type": "execute_result"
    }
   ],
   "source": [
    "value myDict"
   ]
  },
  {
   "cell_type": "code",
   "execution_count": 5,
   "id": "29e70198",
   "metadata": {},
   "outputs": [
    {
     "data": {
      "text/plain": [
       "a| 97\r\n",
       "b| 98\r\n",
       "c| 99\r\n"
      ]
     },
     "execution_count": 5,
     "metadata": {},
     "output_type": "execute_result"
    }
   ],
   "source": [
    "// key and value can be anything\n",
    "d1:\"abc\"!97 98 99;\n",
    "d1"
   ]
  },
  {
   "cell_type": "code",
   "execution_count": 6,
   "id": "56c255eb",
   "metadata": {},
   "outputs": [
    {
     "data": {
      "text/plain": [
       "a| \"alpha\"\r\n",
       "b| \"beta\"\r\n",
       "c| \"gamma\"\r\n"
      ]
     },
     "execution_count": 6,
     "metadata": {},
     "output_type": "execute_result"
    }
   ],
   "source": [
    "//common vectors are keyed in symbol\n",
    "d2:`a`b`c!(\"alpha\";\"beta\";\"gamma\");\n",
    "d2"
   ]
  },
  {
   "cell_type": "code",
   "execution_count": 7,
   "id": "a836ec1c",
   "metadata": {},
   "outputs": [
    {
     "name": "stdout",
     "output_type": "stream",
     "text": [
      "0N\r\n",
      "\"\"\r\n"
     ]
    }
   ],
   "source": [
    "// simmilar to vector, indexing out of range returns null, and dosn't error\n",
    "show d1[\"d\"];\n",
    "show d2[`d];"
   ]
  },
  {
   "cell_type": "markdown",
   "id": "493e4adc",
   "metadata": {},
   "source": [
    "Dictionaries in q is what is known as an algebraic map which is a partial function. The uniqueness of keys is not garunteed."
   ]
  },
  {
   "cell_type": "code",
   "execution_count": 8,
   "id": "129597e9",
   "metadata": {},
   "outputs": [
    {
     "name": "stdout",
     "output_type": "stream",
     "text": [
      "a| 0\r\n",
      "b| 1\r\n",
      "c| 2\r\n",
      "a| 3\r\n"
     ]
    }
   ],
   "source": [
    "show thisIsAllowed:`a`b`c`a!0 1 2 3"
   ]
  },
  {
   "cell_type": "code",
   "execution_count": 9,
   "id": "d029d6a8",
   "metadata": {},
   "outputs": [
    {
     "data": {
      "text/plain": [
       "0\r\n"
      ]
     },
     "execution_count": 9,
     "metadata": {},
     "output_type": "execute_result"
    }
   ],
   "source": [
    "// repeting value of keys cannot be accessed\n",
    "thisIsAllowed`a"
   ]
  },
  {
   "cell_type": "markdown",
   "id": "267754dc",
   "metadata": {},
   "source": [
    "### 2.2 Tables "
   ]
  },
  {
   "cell_type": "code",
   "execution_count": 10,
   "id": "b96344ca",
   "metadata": {},
   "outputs": [
    {
     "data": {
      "text/plain": [
       "sym time                 price\r\n",
       "------------------------------\r\n",
       "a   0D00:00:00.000000000 10   \r\n",
       "b   0D00:00:01.000000000 20   \r\n",
       "c   0D00:00:02.000000000 30   \r\n"
      ]
     },
     "execution_count": 10,
     "metadata": {},
     "output_type": "execute_result"
    }
   ],
   "source": [
    "// defining a table\n",
    "t:([]sym:`a`b`c;time:1000000000*0D00:00 + til 3; price:10 20 30); //time increments in pico seconds 1billionth of a second\n",
    "t"
   ]
  },
  {
   "cell_type": "code",
   "execution_count": 11,
   "id": "929432cb",
   "metadata": {},
   "outputs": [
    {
     "data": {
      "text/plain": [
       "`sym`time`price\r\n"
      ]
     },
     "execution_count": 11,
     "metadata": {},
     "output_type": "execute_result"
    }
   ],
   "source": [
    "cols t"
   ]
  },
  {
   "cell_type": "code",
   "execution_count": 12,
   "id": "e2b87912",
   "metadata": {},
   "outputs": [
    {
     "data": {
      "text/plain": [
       "`symbol$()\r\n"
      ]
     },
     "execution_count": 12,
     "metadata": {},
     "output_type": "execute_result"
    }
   ],
   "source": [
    "keys t"
   ]
  },
  {
   "cell_type": "code",
   "execution_count": 13,
   "id": "d4a98ed9",
   "metadata": {},
   "outputs": [
    {
     "data": {
      "text/plain": [
       "3\r\n"
      ]
     },
     "execution_count": 13,
     "metadata": {},
     "output_type": "execute_result"
    }
   ],
   "source": [
    "count t"
   ]
  },
  {
   "cell_type": "code",
   "execution_count": 14,
   "id": "48995e1d",
   "metadata": {},
   "outputs": [
    {
     "data": {
      "text/plain": [
       ",3\r\n"
      ]
     },
     "execution_count": 14,
     "metadata": {},
     "output_type": "execute_result"
    }
   ],
   "source": [
    "// can insert into table by passing name as refference with a symbol\n",
    "\n",
    "`t insert ([]sym:enlist `a;time: enlist 0D00:00:03;price:enlist 15)"
   ]
  },
  {
   "cell_type": "code",
   "execution_count": 15,
   "id": "162bc0ec",
   "metadata": {},
   "outputs": [
    {
     "data": {
      "text/plain": [
       "sym time                 price\r\n",
       "------------------------------\r\n",
       "a   0D00:00:00.000000000 10   \r\n",
       "b   0D00:00:01.000000000 20   \r\n",
       "c   0D00:00:02.000000000 30   \r\n",
       "a   0D00:00:03.000000000 15   \r\n"
      ]
     },
     "execution_count": 15,
     "metadata": {},
     "output_type": "execute_result"
    }
   ],
   "source": [
    "t"
   ]
  },
  {
   "cell_type": "markdown",
   "id": "b5aee7ea",
   "metadata": {},
   "source": [
    "q-sql is intuative"
   ]
  },
  {
   "cell_type": "code",
   "execution_count": 16,
   "id": "d50d3dda",
   "metadata": {},
   "outputs": [
    {
     "data": {
      "text/plain": [
       "sym time                \r\n",
       "------------------------\r\n",
       "a   0D00:00:00.000000000\r\n",
       "b   0D00:00:01.000000000\r\n",
       "c   0D00:00:02.000000000\r\n",
       "a   0D00:00:03.000000000\r\n"
      ]
     },
     "execution_count": 16,
     "metadata": {},
     "output_type": "execute_result"
    }
   ],
   "source": [
    "select sym,time from t"
   ]
  },
  {
   "cell_type": "code",
   "execution_count": 17,
   "id": "692d13c7",
   "metadata": {},
   "outputs": [
    {
     "data": {
      "text/plain": [
       "sym time                 price size\r\n",
       "-----------------------------------\r\n",
       "a   0D00:00:00.000000000 10    100 \r\n",
       "b   0D00:00:01.000000000 20    200 \r\n",
       "c   0D00:00:02.000000000 30    300 \r\n",
       "a   0D00:00:03.000000000 15    400 \r\n"
      ]
     },
     "execution_count": 17,
     "metadata": {},
     "output_type": "execute_result"
    }
   ],
   "source": [
    "update size:100 200 300 400 from t"
   ]
  },
  {
   "cell_type": "code",
   "execution_count": 18,
   "id": "f75ac4e4",
   "metadata": {},
   "outputs": [
    {
     "data": {
      "text/plain": [
       "sym| price\r\n",
       "---| -----\r\n",
       "a  | 12.5 \r\n",
       "b  | 20   \r\n",
       "c  | 30   \r\n"
      ]
     },
     "execution_count": 18,
     "metadata": {},
     "output_type": "execute_result"
    }
   ],
   "source": [
    "select avg price by sym from t"
   ]
  },
  {
   "cell_type": "markdown",
   "id": "af8300c9",
   "metadata": {},
   "source": [
    "Note : effect of by clause is the result is keyed and sorted by keys"
   ]
  },
  {
   "cell_type": "code",
   "execution_count": 19,
   "id": "b0bc9003",
   "metadata": {},
   "outputs": [
    {
     "data": {
      "text/plain": [
       "sym time                 price\r\n",
       "------------------------------\r\n",
       "a   0D00:00:03.000000000 15   \r\n"
      ]
     },
     "execution_count": 19,
     "metadata": {},
     "output_type": "execute_result"
    }
   ],
   "source": [
    "select from t where sym=`a, price=15"
   ]
  },
  {
   "cell_type": "markdown",
   "id": "7766486a",
   "metadata": {},
   "source": [
    "Note: Rght to left evaluation doesn't apply to q-sql, Infact, the where cluase is evaluated left to right. To write efficent queries, you should order the where clasue so it reduces the size of the table the most in the first where clause and second most in the second and so on."
   ]
  },
  {
   "cell_type": "code",
   "execution_count": 20,
   "id": "8c93952a",
   "metadata": {},
   "outputs": [
    {
     "data": {
      "text/plain": [
       "sym| name \r\n",
       "---| -----\r\n",
       "a  | alpha\r\n",
       "b  | beta \r\n",
       "c  | gamma\r\n"
      ]
     },
     "execution_count": 20,
     "metadata": {},
     "output_type": "execute_result"
    }
   ],
   "source": [
    "// To define a keyed table you should place the primary ket in the block\n",
    "kt:([sym:`a`b`c]name:`alpha`beta`gamma)\n",
    "kt"
   ]
  },
  {
   "cell_type": "code",
   "execution_count": 21,
   "id": "41b347a7",
   "metadata": {},
   "outputs": [
    {
     "name": "stdout",
     "output_type": "stream",
     "text": [
      "sym| name  name2\r\n",
      "---| -----------\r\n",
      "a  | alpha a    \r\n",
      "b  | beta  b    \r\n",
      "c  | gamma c    \r\n"
     ]
    },
    {
     "data": {
      "text/plain": [
       "sym| name \r\n",
       "---| -----\r\n",
       "a  | alpha\r\n",
       "b  | beta \r\n",
       "c  | gamma\r\n"
      ]
     },
     "execution_count": 21,
     "metadata": {},
     "output_type": "execute_result"
    }
   ],
   "source": [
    "// to delete a column\n",
    "show ks:([sym:`a`b`c]name:`alpha`beta`gamma;name2:`a`b`c)\n",
    "delete name2 from ks"
   ]
  },
  {
   "cell_type": "code",
   "execution_count": 22,
   "id": "e5de580d",
   "metadata": {},
   "outputs": [
    {
     "data": {
      "text/plain": [
       "`alpha`beta`gamma\r\n"
      ]
     },
     "execution_count": 22,
     "metadata": {},
     "output_type": "execute_result"
    }
   ],
   "source": [
    "// to extract vector values from a table use exec\n",
    "exec name from kt"
   ]
  },
  {
   "cell_type": "code",
   "execution_count": 23,
   "id": "e5588948",
   "metadata": {},
   "outputs": [
    {
     "data": {
      "text/plain": [
       "name | alpha beta gamma\r\n",
       "name2| a     b    c    \r\n"
      ]
     },
     "execution_count": 23,
     "metadata": {},
     "output_type": "execute_result"
    }
   ],
   "source": [
    "// if you exec more than one it'll return a dictionary\n",
    "exec name, name2 from ks"
   ]
  },
  {
   "cell_type": "code",
   "execution_count": 24,
   "id": "11d5c047",
   "metadata": {},
   "outputs": [
    {
     "data": {
      "text/plain": [
       "c    | t f a\r\n",
       "-----| -----\r\n",
       "sym  | s    \r\n",
       "name | s    \r\n",
       "name2| s    \r\n"
      ]
     },
     "execution_count": 24,
     "metadata": {},
     "output_type": "execute_result"
    }
   ],
   "source": [
    "// meta shows c = column names, t = datatpes, f = forigne keys, a = attributes\n",
    "meta ks"
   ]
  },
  {
   "cell_type": "markdown",
   "id": "f88c64d5",
   "metadata": {},
   "source": [
    "### 2.3 Truth about tables\n",
    "- Dictionaries and tables are related, the types are 99h and 98h respectively.\n",
    "- How are they different? Not that much. A dictionary that maps a vercor of symbols to lists is exactly what a table is"
   ]
  },
  {
   "cell_type": "code",
   "execution_count": 25,
   "id": "b562972b",
   "metadata": {},
   "outputs": [
    {
     "data": {
      "text/plain": [
       "sym  | a                    b                    c                   \r\n",
       "time | 0D00:00:00.000000000 0D00:00:01.000000000 0D00:00:02.000000000\r\n",
       "price| 10                   20                   30                  \r\n"
      ]
     },
     "execution_count": 25,
     "metadata": {},
     "output_type": "execute_result"
    }
   ],
   "source": [
    "d:`sym`time`price!(`a`b`c;0D00:00:00 0D00:00:01 0D00:00:02;10 20 30)\n",
    "d"
   ]
  },
  {
   "cell_type": "code",
   "execution_count": 26,
   "id": "54143140",
   "metadata": {},
   "outputs": [
    {
     "data": {
      "text/plain": [
       "sym time                 price\r\n",
       "------------------------------\r\n",
       "a   0D00:00:00.000000000 10   \r\n",
       "b   0D00:00:01.000000000 20   \r\n",
       "c   0D00:00:02.000000000 30   \r\n",
       "a   0D00:00:03.000000000 15   \r\n"
      ]
     },
     "execution_count": 26,
     "metadata": {},
     "output_type": "execute_result"
    }
   ],
   "source": [
    "t"
   ]
  },
  {
   "cell_type": "code",
   "execution_count": 27,
   "id": "4e5a97d6",
   "metadata": {},
   "outputs": [
    {
     "data": {
      "text/plain": [
       "sym time                 price\r\n",
       "------------------------------\r\n",
       "a   0D00:00:00.000000000 10   \r\n",
       "b   0D00:00:01.000000000 20   \r\n",
       "c   0D00:00:02.000000000 30   \r\n"
      ]
     },
     "execution_count": 27,
     "metadata": {},
     "output_type": "execute_result"
    }
   ],
   "source": [
    "// we can use flip to make the dictionary to look like a table\n",
    "flip d"
   ]
  },
  {
   "cell_type": "code",
   "execution_count": 28,
   "id": "e05a0188",
   "metadata": {},
   "outputs": [
    {
     "data": {
      "text/plain": [
       "`t\r\n"
      ]
     },
     "execution_count": 28,
     "metadata": {},
     "output_type": "execute_result"
    }
   ],
   "source": [
    "delete from `t where price=15"
   ]
  },
  {
   "cell_type": "code",
   "execution_count": 29,
   "id": "f318af1d",
   "metadata": {},
   "outputs": [
    {
     "data": {
      "text/plain": [
       "1b\r\n"
      ]
     },
     "execution_count": 29,
     "metadata": {},
     "output_type": "execute_result"
    }
   ],
   "source": [
    "t ~ flip d  // infact its exactly what it is"
   ]
  },
  {
   "cell_type": "markdown",
   "id": "6b334dd0",
   "metadata": {},
   "source": [
    "t and d are the same, all that happens is that t is able to index is more fammiliar vectorized way "
   ]
  },
  {
   "cell_type": "code",
   "execution_count": 30,
   "id": "f2e50206",
   "metadata": {},
   "outputs": [
    {
     "data": {
      "text/plain": [
       "sym time                 price\r\n",
       "------------------------------\r\n",
       "a   0D00:00:00.000000000 10   \r\n",
       "b   0D00:00:01.000000000 20   \r\n"
      ]
     },
     "execution_count": 30,
     "metadata": {},
     "output_type": "execute_result"
    }
   ],
   "source": [
    "t[0 1]"
   ]
  },
  {
   "cell_type": "markdown",
   "id": "e8fef3b6",
   "metadata": {},
   "source": [
    "Tables and dictionaries both habe the efficency that comes with mapping names to vectors and storing it in continuous memory"
   ]
  },
  {
   "cell_type": "code",
   "execution_count": 31,
   "id": "8a3dd991",
   "metadata": {},
   "outputs": [
    {
     "data": {
      "text/plain": [
       "1b\r\n"
      ]
     },
     "execution_count": 31,
     "metadata": {},
     "output_type": "execute_result"
    }
   ],
   "source": [
    "// flipping a table also gives up a dict\n",
    "d ~ flip t"
   ]
  },
  {
   "cell_type": "markdown",
   "id": "4cf0c70b",
   "metadata": {},
   "source": [
    "### 2.4 Keyed tables are dictionaries\n",
    "- what would happen if we created a map form a table to another?"
   ]
  },
  {
   "cell_type": "code",
   "execution_count": 32,
   "id": "dce21fdc",
   "metadata": {},
   "outputs": [
    {
     "data": {
      "text/plain": [
       "sym| name \r\n",
       "---| -----\r\n",
       "a  | alpha\r\n",
       "b  | beta \r\n",
       "c  | gamma\r\n"
      ]
     },
     "execution_count": 32,
     "metadata": {},
     "output_type": "execute_result"
    }
   ],
   "source": [
    "kt:([]sym:`a`b`c)!([]name:`alpha`beta`gamma)\n",
    "kt"
   ]
  },
  {
   "cell_type": "code",
   "execution_count": 33,
   "id": "c52795f5",
   "metadata": {},
   "outputs": [
    {
     "data": {
      "text/plain": [
       "1b\r\n"
      ]
     },
     "execution_count": 33,
     "metadata": {},
     "output_type": "execute_result"
    }
   ],
   "source": [
    "// this is the same as the keyed table from before\n",
    "(([]sym:`a`b`c)!([]name:`alpha`beta`gamma)) ~ ([sym:`a`b`c]name:`alpha`beta`gamma)"
   ]
  },
  {
   "cell_type": "code",
   "execution_count": 34,
   "id": "5b0ddd29",
   "metadata": {},
   "outputs": [
    {
     "name": "stdout",
     "output_type": "stream",
     "text": [
      "99h\r\n"
     ]
    },
    {
     "data": {
      "text/plain": [
       "99h\r\n"
      ]
     },
     "execution_count": 34,
     "metadata": {},
     "output_type": "execute_result"
    }
   ],
   "source": [
    "// its not just simmilar its exactly the same, just check the type\n",
    "show type d;\n",
    "type kt"
   ]
  },
  {
   "cell_type": "markdown",
   "id": "c3720d9b",
   "metadata": {},
   "source": [
    "So a keyed table, where the keys index the table, is just a dictionary whos key is a table and can have more than one columns."
   ]
  },
  {
   "cell_type": "markdown",
   "id": "d5b88a15",
   "metadata": {},
   "source": [
    "### 2.5 From a vector languge to an algebraic languge\n",
    "- In this section we will see all the concepts like lookup, finding and indexing from chapter 1 applyed to dictionaries and tables."
   ]
  },
  {
   "cell_type": "code",
   "execution_count": 35,
   "id": "7b55788c",
   "metadata": {},
   "outputs": [
    {
     "data": {
      "text/plain": [
       "sym  | `a\r\n",
       "time | 0D00:00:00.000000000\r\n",
       "price| 10\r\n"
      ]
     },
     "execution_count": 35,
     "metadata": {},
     "output_type": "execute_result"
    }
   ],
   "source": [
    "// indexing \n",
    "t[0]"
   ]
  },
  {
   "cell_type": "code",
   "execution_count": 36,
   "id": "0760da43",
   "metadata": {},
   "outputs": [
    {
     "data": {
      "text/plain": [
       "sym  | `a\r\n",
       "time | 0D00:00:00.000000000\r\n",
       "price| 10\r\n"
      ]
     },
     "execution_count": 36,
     "metadata": {},
     "output_type": "execute_result"
    }
   ],
   "source": [
    "first t"
   ]
  },
  {
   "cell_type": "code",
   "execution_count": 37,
   "id": "85a04ff3",
   "metadata": {},
   "outputs": [
    {
     "data": {
      "text/plain": [
       "sym  | `c\r\n",
       "time | 0D00:00:02.000000000\r\n",
       "price| 30\r\n"
      ]
     },
     "execution_count": 37,
     "metadata": {},
     "output_type": "execute_result"
    }
   ],
   "source": [
    "last t"
   ]
  },
  {
   "cell_type": "code",
   "execution_count": 38,
   "id": "04f57176",
   "metadata": {},
   "outputs": [
    {
     "data": {
      "text/plain": [
       "3\r\n"
      ]
     },
     "execution_count": 38,
     "metadata": {},
     "output_type": "execute_result"
    }
   ],
   "source": [
    "// find also works when using dictinary as element\n",
    "dInd:`sym`time`price!(`c;D00:00:02.000000000;30)\n",
    "t?dInd"
   ]
  },
  {
   "cell_type": "code",
   "execution_count": 39,
   "id": "75ad52b3",
   "metadata": {},
   "outputs": [
    {
     "data": {
      "text/plain": [
       "`a\r\n"
      ]
     },
     "execution_count": 39,
     "metadata": {},
     "output_type": "execute_result"
    }
   ],
   "source": [
    "// due to interchangability of index we can do things like\n",
    "t[0]`sym"
   ]
  },
  {
   "cell_type": "code",
   "execution_count": 40,
   "id": "c068509b",
   "metadata": {},
   "outputs": [
    {
     "data": {
      "text/plain": [
       "sym | `a\r\n",
       "time| 0D00:00:00.000000000\r\n"
      ]
     },
     "execution_count": 40,
     "metadata": {},
     "output_type": "execute_result"
    }
   ],
   "source": [
    "// or\n",
    "`sym`time#t[0]"
   ]
  },
  {
   "cell_type": "code",
   "execution_count": 41,
   "id": "792d59f6",
   "metadata": {},
   "outputs": [
    {
     "data": {
      "text/plain": [
       "time                \r\n",
       "--------------------\r\n",
       "0D00:00:00.000000000\r\n",
       "0D00:00:01.000000000\r\n",
       "0D00:00:02.000000000\r\n"
      ]
     },
     "execution_count": 41,
     "metadata": {},
     "output_type": "execute_result"
    }
   ],
   "source": [
    "// for individual col\n",
    "(enlist `time)#t"
   ]
  },
  {
   "cell_type": "code",
   "execution_count": 42,
   "id": "235564b8",
   "metadata": {},
   "outputs": [
    {
     "data": {
      "text/plain": [
       "sym    | a\r\n",
       "fakecol| \r\n"
      ]
     },
     "execution_count": 42,
     "metadata": {},
     "output_type": "execute_result"
    }
   ],
   "source": [
    "// index out of range will return null like with vectors\n",
    "`sym`fakecol#t[0]"
   ]
  },
  {
   "cell_type": "code",
   "execution_count": 43,
   "id": "c55758f5",
   "metadata": {},
   "outputs": [
    {
     "data": {
      "text/plain": [
       "sym| name \r\n",
       "---| -----\r\n",
       "a  | alpha\r\n",
       "b  | beta \r\n",
       "c  | gamma\r\n"
      ]
     },
     "execution_count": 43,
     "metadata": {},
     "output_type": "execute_result"
    }
   ],
   "source": [
    "// extend this to keyed tables\n",
    "kt"
   ]
  },
  {
   "cell_type": "code",
   "execution_count": 44,
   "id": "3293fd54",
   "metadata": {},
   "outputs": [
    {
     "data": {
      "text/plain": [
       "name \r\n",
       "-----\r\n",
       "alpha\r\n",
       "gamma\r\n"
      ]
     },
     "execution_count": 44,
     "metadata": {},
     "output_type": "execute_result"
    }
   ],
   "source": [
    "kt[([]sym:`a`c)]"
   ]
  },
  {
   "cell_type": "code",
   "execution_count": 45,
   "id": "c593d125",
   "metadata": {},
   "outputs": [
    {
     "data": {
      "text/plain": [
       "sym\r\n",
       "---\r\n",
       "a  \r\n",
       "   \r\n"
      ]
     },
     "execution_count": 45,
     "metadata": {},
     "output_type": "execute_result"
    }
   ],
   "source": [
    "// find and index out of range zeta\n",
    "kt?([]name:`alpha`zeta)"
   ]
  },
  {
   "cell_type": "code",
   "execution_count": 46,
   "id": "e0edfdde",
   "metadata": {},
   "outputs": [
    {
     "data": {
      "text/plain": [
       "sym| name \r\n",
       "---| -----\r\n",
       "a  | alpha\r\n",
       "b  | beta \r\n",
       "d  |      \r\n"
      ]
     },
     "execution_count": 46,
     "metadata": {},
     "output_type": "execute_result"
    }
   ],
   "source": [
    "// allows us to create new entries to our table using a super domain\n",
    "([]sym:`a`b`d)#kt"
   ]
  },
  {
   "cell_type": "code",
   "execution_count": 47,
   "id": "e9e307a3",
   "metadata": {},
   "outputs": [
    {
     "data": {
      "text/plain": [
       "time                | price\r\n",
       "--------------------| -----\r\n",
       "0D00:00:00.000000000| 10   \r\n",
       "0D00:00:01.000000000| 20   \r\n",
       "0D00:00:02.000000000| 30   \r\n"
      ]
     },
     "execution_count": 47,
     "metadata": {},
     "output_type": "execute_result"
    }
   ],
   "source": [
    "// lets create a time bucket with the tabel\n",
    "select avg price by 0D00:00:00.5 xbar time from t"
   ]
  },
  {
   "cell_type": "code",
   "execution_count": 48,
   "id": "e6adc4b9",
   "metadata": {},
   "outputs": [
    {
     "data": {
      "text/plain": [
       "time                \r\n",
       "--------------------\r\n",
       "0D00:00:00.000000000\r\n",
       "0D00:00:00.500000000\r\n",
       "0D00:00:01.000000000\r\n",
       "0D00:00:01.500000000\r\n",
       "0D00:00:02.000000000\r\n"
      ]
     },
     "execution_count": 48,
     "metadata": {},
     "output_type": "execute_result"
    }
   ],
   "source": [
    "// lets use the concept of superdomain to create a timeseries table with higer granulrity\n",
    "timeT:([]time:`timespan$0D00:00:00 + 500000000 * til 5)\n",
    "timeT"
   ]
  },
  {
   "cell_type": "code",
   "execution_count": 49,
   "id": "ed051f24",
   "metadata": {},
   "outputs": [
    {
     "data": {
      "text/plain": [
       "time                | price\r\n",
       "--------------------| -----\r\n",
       "0D00:00:00.000000000| 10   \r\n",
       "0D00:00:00.500000000|      \r\n",
       "0D00:00:01.000000000| 20   \r\n",
       "0D00:00:01.500000000|      \r\n",
       "0D00:00:02.000000000| 30   \r\n"
      ]
     },
     "execution_count": 49,
     "metadata": {},
     "output_type": "execute_result"
    }
   ],
   "source": [
    "timeT#select avg price by 0D00:00:00.5 xbar time from t"
   ]
  },
  {
   "cell_type": "markdown",
   "id": "795897c4",
   "metadata": {},
   "source": [
    "We have just resampled the time series data in a simple way by understanding q"
   ]
  },
  {
   "cell_type": "code",
   "execution_count": null,
   "id": "7f7299d5",
   "metadata": {},
   "outputs": [],
   "source": []
  }
 ],
 "metadata": {
  "kernelspec": {
   "display_name": "Q (kdb+)",
   "language": "q",
   "name": "qpk"
  },
  "language_info": {
   "file_extension": ".q",
   "mimetype": "text/x-q",
   "name": "q",
   "version": "4.0"
  }
 },
 "nbformat": 4,
 "nbformat_minor": 5
}

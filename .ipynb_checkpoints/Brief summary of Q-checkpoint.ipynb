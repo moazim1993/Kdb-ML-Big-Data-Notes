{
 "cells": [
  {
   "cell_type": "markdown",
   "id": "dda1e972",
   "metadata": {},
   "source": [
    "# Other aspects of Q\n",
    "Notes on various aspects in q"
   ]
  },
  {
   "cell_type": "markdown",
   "id": "cd4fa31b",
   "metadata": {},
   "source": [
    "### Array processing Lanuge:\n",
    "Allows hardware to opperate on an entire array at once. As opposed to at a scaler level in cpu. Many modern languges have extentions to operate on an array, like numpy for Python.\n",
    "\n",
    "Use case:\n",
    "\n",
    "well suited for `implicite parallelization`. Note: not parallel as in parallel porcessing, since a single processor is used to operate on a list.\n",
    "\n",
    "Example:"
   ]
  },
  {
   "cell_type": "code",
   "execution_count": 27,
   "id": "419e29f1",
   "metadata": {},
   "outputs": [
    {
     "name": "stdout",
     "output_type": "stream",
     "text": [
      "[5, 7, 9]\n"
     ]
    }
   ],
   "source": [
    "p)# summing two arrays pairwise in python\n",
    "p)a = [1,2,3]\n",
    "p)b = [4,5,6]\n",
    "p)c = [x+y for x,y in zip(a,b)]\n",
    "p)print(c)"
   ]
  },
  {
   "cell_type": "code",
   "execution_count": 28,
   "id": "990c0f42",
   "metadata": {},
   "outputs": [
    {
     "name": "stdout",
     "output_type": "stream",
     "text": [
      "5 7 9\r\n"
     ]
    }
   ],
   "source": [
    "// summing in q\n",
    "a:1 2 3;\n",
    "b:4 5 6;\n",
    "// implicite parallelization\n",
    "show c:a+b"
   ]
  },
  {
   "cell_type": "markdown",
   "id": "664e530b",
   "metadata": {},
   "source": [
    "Try running the fibonacchi funciton using recursion vs scan/over and time the difference. Which is more efficent? Why?\n",
    "\n",
    "Try running Factorial as well"
   ]
  },
  {
   "cell_type": "code",
   "execution_count": 29,
   "id": "a7be5b9a",
   "metadata": {},
   "outputs": [
    {
     "data": {
      "text/plain": [
       "1 1 2 3 5\r\n"
      ]
     },
     "execution_count": 29,
     "metadata": {},
     "output_type": "execute_result"
    },
    {
     "data": {
      "text/plain": [
       "1480 4256\r\n"
      ]
     },
     "execution_count": 29,
     "metadata": {},
     "output_type": "execute_result"
    }
   ],
   "source": [
    "// fibonacci sequence with recursion\n",
    "fib:{$[x~0; :0; x~1; :1; :fib[x-1]+fib[x-2]]};\n",
    "fib each 1 + til 5\n",
    "\\ts fib each 1 + til 30"
   ]
  },
  {
   "cell_type": "code",
   "execution_count": 30,
   "id": "a7468a6a",
   "metadata": {},
   "outputs": [
    {
     "name": "stdout",
     "output_type": "stream",
     "text": [
      "0 1 1 2 3 5 8\r\n"
     ]
    },
    {
     "data": {
      "text/plain": [
       "0 1952\r\n"
      ]
     },
     "execution_count": 30,
     "metadata": {},
     "output_type": "execute_result"
    }
   ],
   "source": [
    "// fibonacci sequence with over\n",
    "show 5 {: x, sum -2#x}/ 0 1;\n",
    "\\ts 30 {: x, sum -2#x}/ 0 1"
   ]
  },
  {
   "cell_type": "code",
   "execution_count": 31,
   "id": "5ef770a1",
   "metadata": {},
   "outputs": [
    {
     "name": "stdout",
     "output_type": "stream",
     "text": [
      "120\r\n"
     ]
    },
    {
     "data": {
      "text/plain": [
       "0 3072\r\n"
      ]
     },
     "execution_count": 31,
     "metadata": {},
     "output_type": "execute_result"
    }
   ],
   "source": [
    "// factorial with with recursion\n",
    "show {$[x~1; :1 ; : x * .z.s[x-1]]} 5;\n",
    "\\ts {$[x~1; :1 ; : x * .z.s[x-1]]} 30"
   ]
  },
  {
   "cell_type": "code",
   "execution_count": 32,
   "id": "1097a7c1",
   "metadata": {},
   "outputs": [
    {
     "name": "stdout",
     "output_type": "stream",
     "text": [
      "120\r\n"
     ]
    },
    {
     "data": {
      "text/plain": [
       "0 2176\r\n"
      ]
     },
     "execution_count": 32,
     "metadata": {},
     "output_type": "execute_result"
    }
   ],
   "source": [
    "// factorial with over\n",
    "show {x */ desc 1+ til x-1}5;\n",
    "\\ts {x */ desc 1+ til x-1} 30"
   ]
  },
  {
   "cell_type": "markdown",
   "id": "cf3f78bb",
   "metadata": {},
   "source": [
    "We can see that over is exponentially faster since it takes advantage of q's array processing ability. Although the factorial funciton is fast in both it's memory complexity is less with over"
   ]
  },
  {
   "cell_type": "markdown",
   "id": "d2702dcd",
   "metadata": {},
   "source": [
    "### Attributes\n",
    "different attributes, why and how to apply to table.\n",
    "\n",
    "The 4 attributes:\n",
    "- \\`#s - sorted : \n",
    "    - Applied to lists columns that are sorted in ascending order. There in no memory overhead. \n",
    "    - Why? It allows for binary search to improve the search time of query.\n",
    "- \\`#u - unique : \n",
    "    - Applied to group of distinct items such as key column of a keyed table or domain of a dictionary. It creates an internal hashmap (allows it to find index in o(1) time) which uses a large amount of memory. \n",
    "    - Why? Speeds up searches like distinct and can end searches faster since it knows to only look for one occurance.\n",
    "- \\`#p - parted : \n",
    "    - Applied on lists when the items are continuous but not in ascending or decending order. It's usually applied to the sym column in HDB. There is a small memory overhead. \n",
    "    - Why? It creates an internal dictionary mapping each output to the first occurrance. Which then allows it to find all occurance quickly since it's located continuously, thereby speeding up the query.\n",
    "- \\`#g - grouped : \n",
    "    - Applied on lists with no apperent structure. Used like indexing in most databases. creates a dictionary withg each distinct occurance as a key and the indexes of that occurance as a value. The dictionary will use large amount of memory. \n",
    "    - Why? Greatly improves speed since it can search the duictionary instead of each item.\n",
    "\n",
    "\n",
    "Memory Overhead:\n",
    " - Grouped (largest)\n",
    " - Unique\n",
    " - Parted (Smallest)\n",
    " - Sorted (No memory overhead)\n",
    " \n",
    "- Which attribute will you find in HDB and RDB respectivly?\n",
    "    - HDB syms are parted\n",
    "    - RDB time is sorted\n",
    "    \n",
    "- What attribute would you place in a trade and quote table?\n",
    "    - sorted by time to maintain order of events\n",
    "    - grouped on sym if speed is of greater concern than memory and the table isn't appeneded to\n",
    "    - perhaps grouped on exchange if that's often of concern"
   ]
  },
  {
   "cell_type": "code",
   "execution_count": 33,
   "id": "854a9cb6",
   "metadata": {},
   "outputs": [
    {
     "name": "stdout",
     "output_type": "stream",
     "text": [
      "c     | t f a\r\n",
      "------| -----\r\n",
      "syms  | s    \r\n",
      "prices| f    \r\n"
     ]
    },
    {
     "data": {
      "text/plain": [
       "syms  prices  \r\n",
       "--------------\r\n",
       "AAPL  347.9384\r\n",
       "DELTA 159.7991\r\n",
       "DELTA 474.2426\r\n",
       "BABA  821.5712\r\n",
       "BABA  656.6956\r\n",
       "DELTA 728.6657\r\n",
       "AAPL  941.5102\r\n",
       "CAT   643.3012\r\n",
       "CAT   514.6122\r\n",
       "CAT   708.6662\r\n",
       "DELTA 887.5002\r\n",
       "BABA  274.4299\r\n",
       "BABA  878.2214\r\n",
       "EY    55.36874\r\n",
       "EY    58.1007 \r\n",
       "AAPL  568.2217\r\n",
       "DELTA 69.48637\r\n",
       "EY    677.7274\r\n",
       "EY    637.2055\r\n",
       "EY    724.9415\r\n",
       "..\r\n"
      ]
     },
     "execution_count": 33,
     "metadata": {},
     "output_type": "execute_result"
    }
   ],
   "source": [
    "// setting up table for examples\n",
    "t1:([]syms:500?`AAPL`BABA`CAT`DELTA`EY;prices:500?1000.00)\n",
    "show meta t1;\n",
    "t1"
   ]
  },
  {
   "cell_type": "code",
   "execution_count": 34,
   "id": "1ef8c5eb",
   "metadata": {},
   "outputs": [
    {
     "data": {
      "text/plain": [
       "c     | t f a\r\n",
       "------| -----\r\n",
       "syms  | s   s\r\n",
       "prices| f    \r\n"
      ]
     },
     "execution_count": 34,
     "metadata": {},
     "output_type": "execute_result"
    }
   ],
   "source": [
    "// set sorted attribute to sym column in table\n",
    "meta update syms:`s#asc syms from t1  // note sort is implicite (didnt need the `s#)"
   ]
  },
  {
   "cell_type": "code",
   "execution_count": 35,
   "id": "bee2b2a3",
   "metadata": {},
   "outputs": [
    {
     "data": {
      "text/plain": [
       "c     | t f a\r\n",
       "------| -----\r\n",
       "syms  | s   u\r\n",
       "prices| f    \r\n"
      ]
     },
     "execution_count": 35,
     "metadata": {},
     "output_type": "execute_result"
    }
   ],
   "source": [
    "meta select syms:`u#syms, prices from t1 where i=(first;i) fby syms // needed to make unique to apply attributute"
   ]
  },
  {
   "cell_type": "code",
   "execution_count": 36,
   "id": "b6967d29",
   "metadata": {},
   "outputs": [
    {
     "data": {
      "text/plain": [
       "c     | t f a\r\n",
       "------| -----\r\n",
       "syms  | s   p\r\n",
       "prices| f    \r\n"
      ]
     },
     "execution_count": 36,
     "metadata": {},
     "output_type": "execute_result"
    }
   ],
   "source": [
    "meta select syms:`p#syms, prices from `syms`prices xasc t1"
   ]
  },
  {
   "cell_type": "code",
   "execution_count": 37,
   "id": "de6087be-c2c2-49c4-a1bd-985bcd77e979",
   "metadata": {},
   "outputs": [
    {
     "data": {
      "text/plain": [
       "c     | t f a\r\n",
       "------| -----\r\n",
       "syms  | s   g\r\n",
       "prices| f    \r\n"
      ]
     },
     "execution_count": 37,
     "metadata": {},
     "output_type": "execute_result"
    }
   ],
   "source": [
    "meta update syms:`g#syms from t1 "
   ]
  },
  {
   "cell_type": "markdown",
   "id": "a839c9c3",
   "metadata": {},
   "source": [
    "- What is an enumeration? What is the use case?\n",
    "> Enumeration is a list mapped to a distinct list that contains its values.iT Allows us to reduce storage space by creating a map from the distinct list to its occurances. "
   ]
  },
  {
   "cell_type": "code",
   "execution_count": 38,
   "id": "62575266",
   "metadata": {},
   "outputs": [
    {
     "name": "stdout",
     "output_type": "stream",
     "text": [
      "`GOOG`BABA`AMZN`AAPL`BABA`TSLA`BABA`AAPL`AMZN`GOOG`AMZN`AAPL`AMZN`AAPL`TSLA`A..\r\n",
      "`distLst$`GOOG`BABA`AMZN`AAPL`BABA`TSLA`BABA`AAPL`AMZN`GOOG`AMZN`AAPL`AMZN`AA..\r\n"
     ]
    }
   ],
   "source": [
    "// example of enumeration\n",
    "distLst:`AAPL`BABA`GOOG`AMZN`TSLA;\n",
    "show lst:20?distLst;\n",
    "show lst2:`distLst$lst;"
   ]
  },
  {
   "cell_type": "code",
   "execution_count": 39,
   "id": "f83fb379",
   "metadata": {},
   "outputs": [
    {
     "data": {
      "text/plain": [
       "`distLst$`AAPL`BABA`GOOG`AMZN`TSLA\r\n"
      ]
     },
     "execution_count": 39,
     "metadata": {},
     "output_type": "execute_result"
    }
   ],
   "source": [
    "`distLst!til 5"
   ]
  },
  {
   "cell_type": "code",
   "execution_count": 40,
   "id": "c32f4720",
   "metadata": {},
   "outputs": [
    {
     "name": "stdout",
     "output_type": "stream",
     "text": [
      "`distLst$`GOOG`BABA`AMZN`AAPL`BABA`TSLA`BABA`AAPL`AMZN`GOOG`AMZN`AAPL`AMZN`AA..\r\n"
     ]
    },
    {
     "data": {
      "text/plain": [
       "`distLst$`AAPL`BABA`GOOG`AMZN`TSLA`FB`NFLX\r\n"
      ]
     },
     "execution_count": 40,
     "metadata": {},
     "output_type": "execute_result"
    }
   ],
   "source": [
    "// Extend enumeration\n",
    "show `distLst?lst2, 5?`NFLX`FB;\n",
    "`distLst!til 7"
   ]
  },
  {
   "cell_type": "code",
   "execution_count": 41,
   "id": "b988d996",
   "metadata": {},
   "outputs": [
    {
     "data": {
      "text/plain": [
       "`distLst$`AMZN`GOOG`AMZN`TSLA`TSLA`NFLX`FB`FB`FB`NFLX\r\n"
      ]
     },
     "execution_count": 41,
     "metadata": {},
     "output_type": "execute_result"
    }
   ],
   "source": [
    "-10#lst2,: 5?`NFLX`FB"
   ]
  },
  {
   "cell_type": "code",
   "execution_count": 42,
   "id": "5ece8cac",
   "metadata": {},
   "outputs": [
    {
     "data": {
      "text/plain": [
       "`AAPL`BABA`GOOG`AMZN`TSLA`FB`NFLX\r\n"
      ]
     },
     "execution_count": 42,
     "metadata": {},
     "output_type": "execute_result"
    }
   ],
   "source": [
    "distLst"
   ]
  },
  {
   "cell_type": "markdown",
   "id": "5db63a23",
   "metadata": {},
   "source": [
    "### Joins\n",
    "\n",
    "The 10 joins:\n",
    "- , : simple join\n",
    "- upsert : upsert\n",
    "- ij : inner join\n",
    "- lj : left join\n",
    "- uj : union join\n",
    "- ej : equal join\n",
    "- pj : plus join\n",
    "- aj : As of join;\n",
    "- asof : Second time join.\n",
    "- wj : Third Time join. \n",
    "\n",
    "\n",
    "- Joins where t2 must be keyed?\n",
    "    - ij\n",
    "    - lj\n",
    "    - pj\n",
    "\n",
    "- Joins where t2 must NOT be keyed?\n",
    "    - uj\n",
    "    - aj\n",
    "\n",
    "    \n",
    "- Whats the difference between aj and aj0?\n",
    "    - aj is used for getting the time in the first table while aj0 uses the time in the second table.\n",
    "\n",
    "- Whats the difference between lj and ljf?\n",
    "    - returns values from t1 if not present in t2, as of v3.6 its the same as lj."
   ]
  },
  {
   "cell_type": "code",
   "execution_count": 43,
   "id": "7eeb8920",
   "metadata": {},
   "outputs": [],
   "source": [
    "// Setting up tables for joins\n",
    "t1:([]a:1 2 3 4;b:10 20 30 45)\n",
    "t2:([]a:4 5 6;b:40 50 60)\n",
    "kt1:([a:1 2 3 4];b:10 20 30 45)\n",
    "kt2:([a:4 5 6];b:40 50 60)"
   ]
  },
  {
   "cell_type": "markdown",
   "id": "56966981",
   "metadata": {},
   "source": [
    "#### - , : simple join\n",
    "    - t1 , t2\n",
    "    - When using , the column names must match. The column types do not have to match. The result when using on unkeyed tables is simmilar to insert. When using on keyed table the result is simmilar to upsert where the values in t2 will replace the values in the same key if that key is present else it will add in a new key with the values from t2."
   ]
  },
  {
   "cell_type": "code",
   "execution_count": 44,
   "id": "e57cc69c",
   "metadata": {},
   "outputs": [
    {
     "name": "stdout",
     "output_type": "stream",
     "text": [
      "a b \r\n",
      "----\r\n",
      "1 10\r\n",
      "2 20\r\n",
      "3 30\r\n",
      "4 45\r\n",
      "4 40\r\n",
      "5 50\r\n",
      "6 60\r\n",
      "a b \r\n",
      "----\r\n",
      "1 10\r\n",
      "2 20\r\n",
      "3 30\r\n",
      "4 45\r\n",
      "4 40\r\n",
      "5 50\r\n",
      "6 60\r\n"
     ]
    }
   ],
   "source": [
    "show t1,t2;\n",
    "`t1 insert t2;\n",
    "show t1;\n",
    "// cleanup\n",
    "t1:-3_t1;"
   ]
  },
  {
   "cell_type": "code",
   "execution_count": 45,
   "id": "74354180",
   "metadata": {},
   "outputs": [
    {
     "name": "stdout",
     "output_type": "stream",
     "text": [
      "a| b \r\n",
      "-| --\r\n",
      "1| 10\r\n",
      "2| 20\r\n",
      "3| 30\r\n",
      "4| 40\r\n",
      "5| 50\r\n",
      "6| 60\r\n"
     ]
    },
    {
     "data": {
      "text/plain": [
       "1b\r\n"
      ]
     },
     "execution_count": 45,
     "metadata": {},
     "output_type": "execute_result"
    }
   ],
   "source": [
    "show kt1 upsert kt2;\n",
    "(kt1, kt2) ~ (kt1 upsert kt2)"
   ]
  },
  {
   "cell_type": "markdown",
   "id": "0c66467c",
   "metadata": {},
   "source": [
    "#### - upsert : upsert\n",
    "    - Simmilar to , (simple join). It adds in values from t1 to t2. When t1 is keyed it replaces the key's value with t2 when t1 is unkeyed it adds in the the values from t2. If t1 is unkeyed so must t2."
   ]
  },
  {
   "cell_type": "code",
   "execution_count": 46,
   "id": "ccb70912",
   "metadata": {},
   "outputs": [
    {
     "data": {
      "text/plain": [
       "a b \r\n",
       "----\r\n",
       "1 10\r\n",
       "2 20\r\n",
       "3 30\r\n",
       "4 45\r\n",
       "4 40\r\n",
       "5 50\r\n",
       "6 60\r\n"
      ]
     },
     "execution_count": 46,
     "metadata": {},
     "output_type": "execute_result"
    }
   ],
   "source": [
    "t1 upsert t2 // adds value like insert"
   ]
  },
  {
   "cell_type": "code",
   "execution_count": 47,
   "id": "b37e8e46",
   "metadata": {},
   "outputs": [
    {
     "data": {
      "text/plain": [
       "a| b \r\n",
       "-| --\r\n",
       "1| 10\r\n",
       "2| 20\r\n",
       "3| 30\r\n",
       "4| 40\r\n",
       "5| 50\r\n",
       "6| 60\r\n"
      ]
     },
     "execution_count": 47,
     "metadata": {},
     "output_type": "execute_result"
    }
   ],
   "source": [
    "kt1 upsert kt2 // upserts value replaces key"
   ]
  },
  {
   "cell_type": "markdown",
   "id": "19b681f4",
   "metadata": {},
   "source": [
    "#### - ij : inner join\n",
    "    - t1 ij t2\n",
    "    - Joins the rows in t1 with t2 for values present in the keys in t2. The columns in t1 must contain the keyed columns in t2, and t2 must be keyed. Will return the rows in t1 which are present in column of t2."
   ]
  },
  {
   "cell_type": "code",
   "execution_count": 48,
   "id": "62bf6d80",
   "metadata": {},
   "outputs": [
    {
     "name": "stdout",
     "output_type": "stream",
     "text": [
      "a b  c  \r\n",
      "--------\r\n",
      "1 10 100\r\n",
      "2 20 200\r\n",
      "3 30 300\r\n",
      "a| c    d    \r\n",
      "-| ----------\r\n",
      "1| -100 -100 \r\n",
      "2|      -2000\r\n",
      "4| -400 -4000\r\n"
     ]
    },
    {
     "data": {
      "text/plain": [
       "a b  c    d    \r\n",
       "---------------\r\n",
       "1 10 -100 -100 \r\n",
       "2 20      -2000\r\n"
      ]
     },
     "execution_count": 48,
     "metadata": {},
     "output_type": "execute_result"
    }
   ],
   "source": [
    "show t1:([]a:1 2 3;b:10 20 30;c:100 200 300);\n",
    "show kt2:([a:1 2 4]c:-100 0N -400; d:-100 -2000 -4000);\n",
    "t1 ij kt2"
   ]
  },
  {
   "cell_type": "code",
   "execution_count": 49,
   "id": "abaa11df",
   "metadata": {},
   "outputs": [
    {
     "data": {
      "text/plain": [
       "a| b  c    d    \r\n",
       "-| -------------\r\n",
       "1| 10 -100 -100 \r\n",
       "2| 20      -2000\r\n"
      ]
     },
     "execution_count": 49,
     "metadata": {},
     "output_type": "execute_result"
    }
   ],
   "source": [
    "(1!t1) ij kt2  // t1 may or maynot be keyed"
   ]
  },
  {
   "cell_type": "markdown",
   "id": "99cc515c",
   "metadata": {},
   "source": [
    "#### - lj : left join\n",
    "    - t1 lj t2\n",
    "    - Joins the columns of t1 with the columns in t2 for rows in t2 which must be keyed and have matching key column in t1. The difference from this and ij is it returns all the columns in t1 and adds in the values from t2 for rows that match on the keys. For the unmatched rows it returns."
   ]
  },
  {
   "cell_type": "code",
   "execution_count": 50,
   "id": "6ec14106",
   "metadata": {},
   "outputs": [
    {
     "data": {
      "text/plain": [
       "a b  c    d    \r\n",
       "---------------\r\n",
       "1 10 -100 -100 \r\n",
       "2 20      -2000\r\n",
       "3 30 300       \r\n"
      ]
     },
     "execution_count": 50,
     "metadata": {},
     "output_type": "execute_result"
    }
   ],
   "source": [
    "t1 lj kt2"
   ]
  },
  {
   "cell_type": "markdown",
   "id": "5877cc70",
   "metadata": {},
   "source": [
    "#### - uj : union join\n",
    "    - t1 uj t2\n",
    "    - Joins two table vertically, simmilar to a full outter join. Where t1 may or may not be keyed and t2 must not be keyed.The column names doesn't need to match. Common usecase for this is to join trade and quote and sort time to get a clear picture of how quotes lead to trade."
   ]
  },
  {
   "cell_type": "code",
   "execution_count": 51,
   "id": "38663953",
   "metadata": {},
   "outputs": [
    {
     "data": {
      "text/plain": [
       "a b c  d\r\n",
       "--------\r\n",
       "1 2 5   \r\n",
       "2 3 7   \r\n",
       "1 2 10 A\r\n",
       "2 3 20 B\r\n",
       "3 7 30 C\r\n"
      ]
     },
     "execution_count": 51,
     "metadata": {},
     "output_type": "execute_result"
    }
   ],
   "source": [
    "t1:([]a:1 2;b:2 3;c:5 7);\n",
    "t2:([]a:1 2 3;b:2 3 7;c:10 20 30;d:\"ABC\");\n",
    "t1 uj t2"
   ]
  },
  {
   "cell_type": "markdown",
   "id": "4ba391c8",
   "metadata": {},
   "source": [
    "#### - ej : equal join\n",
    "    - ej[c;t1;t2]\n",
    "    - Joins two tables based on matching column(s) c. If multiple values are present the rows are repeted."
   ]
  },
  {
   "cell_type": "code",
   "execution_count": 52,
   "id": "47c18ecd",
   "metadata": {},
   "outputs": [
    {
     "data": {
      "text/plain": [
       "sym  price      ex  MC  \r\n",
       "------------------------\r\n",
       "IBM  0.7029677  N   1000\r\n",
       "FDP  0.08378167 O   300 \r\n",
       "FDP  0.06046216 O   300 \r\n",
       "FDP  0.658985   O   300 \r\n",
       "IBM  0.2608152  N   1000\r\n",
       "MSFT 0.5433888  CME 250 \r\n"
      ]
     },
     "execution_count": 52,
     "metadata": {},
     "output_type": "execute_result"
    }
   ],
   "source": [
    "t1:([]sym:`IBM`FDP`FDP`FDP`IBM`MSFT;price:0.7029677 0.08378167 0.06046216 0.658985 0.2608152 0.5433888)\n",
    "t2:([]sym:`IBM`MSFT`FDP;ex:`N`CME`O;MC:1000 250 300)\n",
    "ej[`sym;t1;t2]"
   ]
  },
  {
   "cell_type": "code",
   "execution_count": 53,
   "id": "ad407880",
   "metadata": {},
   "outputs": [
    {
     "data": {
      "text/plain": [
       "sym  ex  MC   price     \r\n",
       "------------------------\r\n",
       "IBM  N   1000 0.7029677 \r\n",
       "IBM  N   1000 0.2608152 \r\n",
       "MSFT CME 250  0.5433888 \r\n",
       "FDP  O   300  0.08378167\r\n",
       "FDP  O   300  0.06046216\r\n",
       "FDP  O   300  0.658985  \r\n"
      ]
     },
     "execution_count": 53,
     "metadata": {},
     "output_type": "execute_result"
    }
   ],
   "source": [
    "ej[`sym;t2;t1]"
   ]
  },
  {
   "cell_type": "markdown",
   "id": "bd2d7210",
   "metadata": {},
   "source": [
    "#### - pj : plus join\n",
    "    - t1 pj t2\n",
    "    - Simmilar to an left join, it joins t1 with the keyed columns in t2 where t2 must be keyed, and returns row for every row in t1. adds the numeric values of the common cols other than the keyed columns. If no matching keys are in t2 it leaves the values un-added.\n",
    "    - Might be useful for joining quantities of stocks bought tracked in different tables"
   ]
  },
  {
   "cell_type": "code",
   "execution_count": 54,
   "id": "a28d0466",
   "metadata": {},
   "outputs": [
    {
     "data": {
      "text/plain": [
       "a b c  d  \r\n",
       "----------\r\n",
       "1 4 15 100\r\n",
       "2 6 27 200\r\n",
       "5 7 11 0  \r\n"
      ]
     },
     "execution_count": 54,
     "metadata": {},
     "output_type": "execute_result"
    }
   ],
   "source": [
    "t1:([]a:1 2 5;b:2 3 7;c:5 7 11);\n",
    "kt2:([a:1 2 3];b:2 3 7;c:10 20 30;d: 100 200 300);\n",
    "t1 pj kt2"
   ]
  },
  {
   "cell_type": "markdown",
   "id": "b8836f51",
   "metadata": {},
   "source": [
    "####  - aj : As of join\n",
    "    - aj[`col1...`coln`time;t1;t2]\n",
    "    - Simmilar to a left join it returns the last in time values from t2.\n",
    "    - First of the time joins. This join is for joining table with reference to time. It is used for getting the values of t2 that occured most recently respective to the time value in t1. \n",
    "    - In here t2 must not be keyed.\n",
    "    - The constraint columns c1 to cn are used to match the values in both table so if its present it needs to be in both table. The cols c1 to cn does not need to be specified, but the time column is required in both tables. The column order c1 to cn should be applied to reduce the search space in order. Where c1 narrows down the search space the most and c2 the second most and so on.\n",
    "    - This query is mainly used to find the prevailing quote for a trade, trade being t1 and quote t2.\n",
    "    \n",
    "    - aj0 - returns time from t2 whereas aj returns time from t1\n",
    "    "
   ]
  },
  {
   "cell_type": "code",
   "execution_count": 55,
   "id": "d3897e4d",
   "metadata": {},
   "outputs": [
    {
     "data": {
      "text/plain": [
       "time     sym  qty px \r\n",
       "---------------------\r\n",
       "10:01:01 msft 100 101\r\n",
       "10:01:03 ibm  200 98 \r\n",
       "10:01:04 ge   150    \r\n"
      ]
     },
     "execution_count": 55,
     "metadata": {},
     "output_type": "execute_result"
    }
   ],
   "source": [
    "t1:([]time:10:01:01 10:01:03 10:01:04;sym:`msft`ibm`ge;qty:100 200 150)\n",
    "t2::([]time:10:01:00 10:01:00 10:01:00 10:01:02;sym:`ibm`msft`msft`ibm;px:100 99 101 98)\n",
    "aj[`sym`time;t1;t2]"
   ]
  },
  {
   "cell_type": "code",
   "execution_count": 56,
   "id": "eba423dc",
   "metadata": {},
   "outputs": [
    {
     "data": {
      "text/plain": [
       "time     sym  qty px \r\n",
       "---------------------\r\n",
       "10:01:00 msft 100 101\r\n",
       "10:01:02 ibm  200 98 \r\n",
       "10:01:04 ge   150    \r\n"
      ]
     },
     "execution_count": 56,
     "metadata": {},
     "output_type": "execute_result"
    }
   ],
   "source": [
    "aj0[`sym`time;t1;t2]"
   ]
  },
  {
   "cell_type": "markdown",
   "id": "8ee7beb4",
   "metadata": {},
   "source": [
    "#### - asof : Second time join.\n",
    "    - asof[t1,t2 or d2]\n",
    "    - Joins t1 is a table with a time column, t2 is a table or dictionary with the last key or column as a time column. It returns the colums in t1 (as a dict or table based on input) thats last in time to t2/d2 with the matching keys (which are the keys or cols in d2/t2)  \n",
    "    - t2 or d2 must have all the cols in t1"
   ]
  },
  {
   "cell_type": "code",
   "execution_count": 57,
   "id": "a12d49b1",
   "metadata": {},
   "outputs": [
    {
     "data": {
      "text/plain": [
       "ex   | \"D\"\r\n",
       "price| 96.3\r\n",
       "size | 200\r\n"
      ]
     },
     "execution_count": 57,
     "metadata": {},
     "output_type": "execute_result"
    }
   ],
   "source": [
    "t1:([]sym:`AAPL`IBM;time:09:28:00.0 09:29:00.0;ex:\"TD\";price: 78.14 96.30;size:100 200)\n",
    "t1 asof`sym`time!(`IBM;09:30:00.0)"
   ]
  },
  {
   "cell_type": "code",
   "execution_count": 60,
   "id": "41621e7e",
   "metadata": {},
   "outputs": [
    {
     "data": {
      "text/plain": [
       "price size\r\n",
       "----------\r\n",
       "          \r\n",
       "96.3  200 \r\n"
      ]
     },
     "execution_count": 60,
     "metadata": {},
     "output_type": "execute_result"
    }
   ],
   "source": [
    "// only ibm trade is asof the times listed in this table\n",
    "t1 asof([]sym:`AAPL`IBM;ex:\"TD\";time:09:10:00.0 09:30:00.0)"
   ]
  },
  {
   "cell_type": "markdown",
   "id": "45ba54a2",
   "metadata": {},
   "source": [
    "#### - wj : Third Time join. \n",
    "    - wj[w; c; t1; t2] or wj[w; c; t1; (t2;(f0;c0);(f1;c1))]\n",
    "    - Join that returns for each record in t1 with values in t2 where the records are present in the time interval w.\n",
    "    - t1 and t2 are simple table (in real usecases t1 is trade and t2 is quote)\n",
    "    - c is a set of columns ending in time (cn=`time) as the last one, time is the only col thats required. c1..cn-1 should be ordered to decrease the rows the most.\n",
    "    - (f0;c0) is an aggregate function to be applied to a column in t2"
   ]
  },
  {
   "cell_type": "code",
   "execution_count": 61,
   "id": "53d11f1f",
   "metadata": {},
   "outputs": [],
   "source": [
    "t:([]sym:3#`ibm;time:10:01:01 10:01:04 10:01:08;price:100 101 105)\n",
    "q:([]sym:9#`ibm; time:10:01:01+til 9; ask:101 103 103 104 104 107 108 107 108; bid:98 99 102 103 103 104 106 106 107)"
   ]
  },
  {
   "cell_type": "code",
   "execution_count": 62,
   "id": "5eef9a7d",
   "metadata": {},
   "outputs": [
    {
     "data": {
      "text/plain": [
       "sym time     price ask bid\r\n",
       "--------------------------\r\n",
       "ibm 10:01:01 100   103 98 \r\n",
       "ibm 10:01:04 101   104 99 \r\n",
       "ibm 10:01:08 105   108 104\r\n"
      ]
     },
     "execution_count": 62,
     "metadata": {},
     "output_type": "execute_result"
    }
   ],
   "source": [
    "wj[-2 1+\\:t.time;`sym`time;t;(q;(max;`ask);(min;`bid))]"
   ]
  },
  {
   "cell_type": "markdown",
   "id": "1c61b1c3",
   "metadata": {},
   "source": [
    "### q-Sql vs Funcitonal Queries\n",
    "\n",
    "Functional Statements\n",
    " - For select or exec\n",
    " `?[t;c;b;a]`\n",
    " - for update or delete\n",
    " `![t;c;b;a]`\n",
    " - optional\n",
    " `?[t;c;b;a;n;(g;cn)]`\n",
    " \n",
    " - t : is the table \n",
    " - c : is a list of where clause constraints\n",
    " - b : dictionary of grouping constraints\n",
    " - a : dictionary of aggregates\n",
    " --- optional:\n",
    " - n the number of records or a window of records\n",
    " - (g;cn) g is a uninary grading funciton (example idesc - decending order) and cn is the column name it'll apply to\n",
    " \n",
    "- Whats the difference between select and exec?\n",
    "    - When attempting to exec for b, the grouping funciton, you would use an atom value 0b instead of () used for select.\n",
    " \n",
    "- Whats the difference between update and delete?\n",
    "    - When deleting the a becomes a simple list of column names, not a dictionary of aggregates. When deleting either a or c must be present not both, since it does not depete both columns and rows at the same time.\n",
    "    "
   ]
  },
  {
   "cell_type": "markdown",
   "id": "b41292e3",
   "metadata": {},
   "source": [
    "### Data in disk\n",
    "\n",
    "- Splayed \n",
    "- partitioned\n",
    "- segmented\n",
    "\n",
    "\n",
    "- .Q.en\n",
    "- .Q.dfpt\n",
    "- .Q.hdpf\n",
    "- .Q.dsftg"
   ]
  },
  {
   "cell_type": "markdown",
   "id": "db5c7697",
   "metadata": {},
   "source": [
    "### Timer and timer table\n",
    "- .z.ts opperates on the time set by \\t\n",
    "- we can use this to set a whole host of funcitons that opperate at intervals"
   ]
  },
  {
   "cell_type": "markdown",
   "id": "9e67e7a2",
   "metadata": {},
   "source": [
    "### Ticker Plant\n",
    "\n",
    "- What are the best practices when replaying a ticker plant log file?\n",
    "    - -11!`:/handle/To/LogFile\n",
    "        - same as q)value each get `:/handle/To/LogFile but uses far less memory\n",
    "        - if successful the number of entries is returnerd\n",
    "        - if not, will error with 'badtail\n",
    "     - if table or function is missing it'll display the name ie 'upd 'trade\n",
    "     - -11(-2;`:/handle/To/LogFile) returns the number of chuncks in valid tp file else it returns the number of valid chunks\n",
    "\n",
    "- Name 6 common ticker plant functions?\n",
    " - .u.pub - \n",
    " - .u.sub - \n",
    " - .u.upd - \n",
    " - .u.w - dictionary of tables->(handle;syms)\n",
    " - .u.end - save data in disk, clear and reload hdb\n",
    " - "
   ]
  },
  {
   "cell_type": "code",
   "execution_count": 63,
   "id": "3481dee1",
   "metadata": {},
   "outputs": [],
   "source": [
    "// to show examples for Ticker Plant"
   ]
  },
  {
   "cell_type": "markdown",
   "id": "466c6f10",
   "metadata": {},
   "source": [
    "### .z and .Q name space interesting funcitons\n",
    "\n",
    "- .z.pg\n",
    "- .z.ps\n",
    "- .z.W\n",
    "\n",
    "- .Q.ft\n",
    "- .Q."
   ]
  }
 ],
 "metadata": {
  "kernelspec": {
   "display_name": "Q (kdb+)",
   "language": "q",
   "name": "qpk"
  },
  "language_info": {
   "file_extension": ".q",
   "mimetype": "text/x-q",
   "name": "q",
   "version": "4.0"
  }
 },
 "nbformat": 4,
 "nbformat_minor": 5
}

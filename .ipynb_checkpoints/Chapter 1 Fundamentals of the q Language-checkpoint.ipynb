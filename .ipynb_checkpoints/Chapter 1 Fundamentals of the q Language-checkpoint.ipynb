{
 "cells": [
  {
   "cell_type": "markdown",
   "id": "5e8ffbe3",
   "metadata": {},
   "source": [
    "### Enlist - turn atom (singular values) into list\n",
    "\n",
    " - type evaluates list into positive int (number identifying type)\n",
    " - It evaluate atom as a negitive int"
   ]
  },
  {
   "cell_type": "code",
   "execution_count": 8,
   "id": "7eed0880",
   "metadata": {},
   "outputs": [
    {
     "name": "stdout",
     "output_type": "stream",
     "text": [
      "-7h\r\n",
      "7h\r\n"
     ]
    },
    {
     "data": {
      "text/plain": [
       "7h\r\n"
      ]
     },
     "execution_count": 8,
     "metadata": {},
     "output_type": "execute_result"
    }
   ],
   "source": [
    "// Ways to enlsit\n",
    "show type 2;\n",
    "show type 1 2 3;\n",
    "type enlist 2"
   ]
  },
  {
   "cell_type": "code",
   "execution_count": 2,
   "id": "4853dc88",
   "metadata": {},
   "outputs": [
    {
     "data": {
      "text/plain": [
       "7h\r\n"
      ]
     },
     "execution_count": 2,
     "metadata": {},
     "output_type": "execute_result"
    }
   ],
   "source": [
    "type 2,()"
   ]
  },
  {
   "cell_type": "markdown",
   "id": "0cde172e",
   "metadata": {},
   "source": [
    "Parsing : evaluates from right to left"
   ]
  },
  {
   "cell_type": "code",
   "execution_count": 3,
   "id": "a5a796e7",
   "metadata": {},
   "outputs": [
    {
     "data": {
      "text/plain": [
       "11000\r\n"
      ]
     },
     "execution_count": 3,
     "metadata": {},
     "output_type": "execute_result"
    }
   ],
   "source": [
    "10*100+1000"
   ]
  },
  {
   "cell_type": "markdown",
   "id": "a1329b4c",
   "metadata": {},
   "source": [
    "### ? - Rand/Find/conditioanl\n",
    "\n",
    "- command line -S {int} or \\S {int} can seem the random number generator\n",
    "- ?[boolean; value if true; value if false] this is the format for boolean conditional evaluaiton"
   ]
  },
  {
   "cell_type": "code",
   "execution_count": 4,
   "id": "63b55bde",
   "metadata": {},
   "outputs": [
    {
     "data": {
      "text/plain": [
       "4 0 2 1 2 1 2 3 2 4\r\n"
      ]
     },
     "execution_count": 4,
     "metadata": {},
     "output_type": "execute_result"
    }
   ],
   "source": [
    "/10 random selection from 0 to 5\n",
    "10?5"
   ]
  },
  {
   "cell_type": "code",
   "execution_count": 5,
   "id": "667bb90f",
   "metadata": {},
   "outputs": [
    {
     "data": {
      "text/plain": [
       "29 39 35 27 41 9 47 5 6 7\r\n"
      ]
     },
     "execution_count": 5,
     "metadata": {},
     "output_type": "execute_result"
    }
   ],
   "source": [
    "// sample without replacement\n",
    "-10?50"
   ]
  },
  {
   "cell_type": "code",
   "execution_count": 6,
   "id": "42110a37",
   "metadata": {},
   "outputs": [
    {
     "name": "stdout",
     "output_type": "stream",
     "text": [
      "0 1 2 3 4 5\r\n"
     ]
    },
    {
     "data": {
      "text/plain": [
       "3\r\n"
      ]
     },
     "execution_count": 6,
     "metadata": {},
     "output_type": "execute_result"
    }
   ],
   "source": [
    "/ find\n",
    "arr: til 6;\n",
    "show arr;\n",
    "arr?3"
   ]
  },
  {
   "cell_type": "code",
   "execution_count": 11,
   "id": "d425626c",
   "metadata": {},
   "outputs": [
    {
     "data": {
      "text/plain": [
       "6\r\n"
      ]
     },
     "execution_count": 11,
     "metadata": {},
     "output_type": "execute_result"
    }
   ],
   "source": [
    "/ if number not found it'll return 1+count of list\n",
    "arr?7"
   ]
  },
  {
   "cell_type": "code",
   "execution_count": 17,
   "id": "f7fa5cc9",
   "metadata": {},
   "outputs": [
    {
     "data": {
      "text/plain": [
       "10 2 30 4 50\r\n"
      ]
     },
     "execution_count": 17,
     "metadata": {},
     "output_type": "execute_result"
    }
   ],
   "source": [
    "// Conditional expression\n",
    "inp1:1 2 3 4 5;\n",
    "inp2:10 20 30 40 50;\n",
    "bool:01010b;\n",
    "?[bool;inp1;inp2]"
   ]
  },
  {
   "cell_type": "markdown",
   "id": "1b4d44d1",
   "metadata": {},
   "source": [
    "### xbar - rounds down each element of a vectior on the right to the closest multiple on the left"
   ]
  },
  {
   "cell_type": "code",
   "execution_count": 18,
   "id": "ddc8594c",
   "metadata": {},
   "outputs": [
    {
     "name": "stdout",
     "output_type": "stream",
     "text": [
      "44 28 20 30 34 77 61 70 36 12\r\n"
     ]
    },
    {
     "data": {
      "text/plain": [
       "40 25 20 30 30 75 60 70 35 10\r\n"
      ]
     },
     "execution_count": 18,
     "metadata": {},
     "output_type": "execute_result"
    }
   ],
   "source": [
    "show a:10?100;\n",
    "5 xbar a"
   ]
  },
  {
   "cell_type": "markdown",
   "id": "79e479f0",
   "metadata": {},
   "source": [
    "### ^ - Fill, fills in null values"
   ]
  },
  {
   "cell_type": "code",
   "execution_count": 19,
   "id": "a4dd4d6f",
   "metadata": {},
   "outputs": [
    {
     "data": {
      "text/plain": [
       "1 2 3 0 5 6 0 8\r\n"
      ]
     },
     "execution_count": 19,
     "metadata": {},
     "output_type": "execute_result"
    }
   ],
   "source": [
    "0^1 2 3 0N 5 6 0N 8"
   ]
  },
  {
   "cell_type": "markdown",
   "id": "d81ff863",
   "metadata": {},
   "source": [
    "### # - take / reshape"
   ]
  },
  {
   "cell_type": "code",
   "execution_count": 20,
   "id": "be4629df",
   "metadata": {},
   "outputs": [
    {
     "data": {
      "text/plain": [
       "1 2 3\r\n"
      ]
     },
     "execution_count": 20,
     "metadata": {},
     "output_type": "execute_result"
    }
   ],
   "source": [
    "// takes the first 3\n",
    "3#1 2 3 4 5 6"
   ]
  },
  {
   "cell_type": "code",
   "execution_count": 21,
   "id": "9bde0137",
   "metadata": {},
   "outputs": [
    {
     "data": {
      "text/plain": [
       "1 2 3\r\n",
       "4 5 6\r\n"
      ]
     },
     "execution_count": 21,
     "metadata": {},
     "output_type": "execute_result"
    }
   ],
   "source": [
    "// reshapes into 2 by 3 matrix\n",
    "2 3#1 2 3 4 5 6"
   ]
  },
  {
   "cell_type": "code",
   "execution_count": 22,
   "id": "9bc9e077",
   "metadata": {},
   "outputs": [
    {
     "data": {
      "text/plain": [
       "4 5 6\r\n"
      ]
     },
     "execution_count": 22,
     "metadata": {},
     "output_type": "execute_result"
    }
   ],
   "source": [
    "// take from the end\n",
    "-3#1 2 3 4 5 6"
   ]
  },
  {
   "cell_type": "markdown",
   "id": "b70edfc5",
   "metadata": {},
   "source": [
    "### _ - drop/Cut"
   ]
  },
  {
   "cell_type": "code",
   "execution_count": 23,
   "id": "9680b8ca",
   "metadata": {},
   "outputs": [
    {
     "data": {
      "text/plain": [
       "3 4 5 6 7 8 9\r\n"
      ]
     },
     "execution_count": 23,
     "metadata": {},
     "output_type": "execute_result"
    }
   ],
   "source": [
    "/ drop first 3\n",
    "3 _ til 10"
   ]
  },
  {
   "cell_type": "code",
   "execution_count": 24,
   "id": "97b09c98",
   "metadata": {},
   "outputs": [
    {
     "data": {
      "text/plain": [
       "0 1 2 3 4 5 6\r\n"
      ]
     },
     "execution_count": 24,
     "metadata": {},
     "output_type": "execute_result"
    }
   ],
   "source": [
    "// drop from the end\n",
    "-3_til 10"
   ]
  },
  {
   "cell_type": "code",
   "execution_count": 26,
   "id": "66337314",
   "metadata": {},
   "outputs": [
    {
     "data": {
      "text/plain": [
       "0 1 2 4 5 6 7 8 9\r\n"
      ]
     },
     "execution_count": 26,
     "metadata": {},
     "output_type": "execute_result"
    }
   ],
   "source": [
    "// can cut an item from a list (only an item)\n",
    "// Note the () is because it evaluates from right to left\n",
    "(til 10)_3"
   ]
  },
  {
   "cell_type": "code",
   "execution_count": 27,
   "id": "5c8809c0",
   "metadata": {},
   "outputs": [
    {
     "ename": "\u001b[0;31mdomain\u001b[0m",
     "evalue": "\u001b[0;31mdomain\u001b[0m",
     "output_type": "error",
     "traceback": [
      "\u001b[0;31mevaluation error:\n\u001b[0m",
      "\u001b[0;31mdomain\u001b[0m",
      "\u001b[0;31m\u001b[0m",
      "\u001b[0;31m  [0]  (til 10)_ 0 2 3\r\n               ^\r\n\u001b[0m"
     ]
    }
   ],
   "source": [
    "// this will error out since its a list on the right\n",
    "(til 10)_ 0 2 3"
   ]
  },
  {
   "cell_type": "code",
   "execution_count": 30,
   "id": "96379a15",
   "metadata": {},
   "outputs": [
    {
     "data": {
      "text/plain": [
       "1 2 3\r\n",
       "4 5 6\r\n",
       "7 8 9\r\n"
      ]
     },
     "execution_count": 30,
     "metadata": {},
     "output_type": "execute_result"
    }
   ],
   "source": [
    "// can partition a list by index\n",
    "1 4 7 _ til 10"
   ]
  },
  {
   "cell_type": "markdown",
   "id": "24a1c1ed",
   "metadata": {},
   "source": [
    "### | - max / or / reverse"
   ]
  },
  {
   "cell_type": "code",
   "execution_count": 31,
   "id": "6bfaada0",
   "metadata": {},
   "outputs": [
    {
     "data": {
      "text/plain": [
       "4 4 4 4 4 5 6 7 8\r\n"
      ]
     },
     "execution_count": 31,
     "metadata": {},
     "output_type": "execute_result"
    }
   ],
   "source": [
    "4 | til 9 // will return max between 4 and each on the right"
   ]
  },
  {
   "cell_type": "code",
   "execution_count": 33,
   "id": "c00777cb",
   "metadata": {},
   "outputs": [
    {
     "data": {
      "text/plain": [
       "4 9 6\r\n"
      ]
     },
     "execution_count": 33,
     "metadata": {},
     "output_type": "execute_result"
    }
   ],
   "source": [
    "4 5 6 | 3 9 5 // if both left and right are of the same size it'll return pairwise"
   ]
  },
  {
   "cell_type": "code",
   "execution_count": 43,
   "id": "ea795915",
   "metadata": {},
   "outputs": [
    {
     "data": {
      "text/plain": [
       "0111b\r\n"
      ]
     },
     "execution_count": 43,
     "metadata": {},
     "output_type": "execute_result"
    }
   ],
   "source": [
    "// the or boolian evaluation is in essance the same as max (as and in min)\n",
    "0101b|0011b"
   ]
  },
  {
   "cell_type": "code",
   "execution_count": 39,
   "id": "a20fb054",
   "metadata": {},
   "outputs": [
    {
     "name": "stdout",
     "output_type": "stream",
     "text": [
      "3 2 1\r\n"
     ]
    },
    {
     "data": {
      "text/plain": [
       "\"dlroW olleH\"\r\n"
      ]
     },
     "execution_count": 39,
     "metadata": {},
     "output_type": "execute_result"
    }
   ],
   "source": [
    "// When in perenthisis it can be used as reverse\n",
    "show (|) 1 2 3;\n",
    "(|) \"Hello World\""
   ]
  },
  {
   "cell_type": "markdown",
   "id": "5206a923",
   "metadata": {},
   "source": [
    "### & - min / and"
   ]
  },
  {
   "cell_type": "code",
   "execution_count": 40,
   "id": "29ab31fd",
   "metadata": {},
   "outputs": [
    {
     "data": {
      "text/plain": [
       "0 1 2 3 4 4 4 4 4\r\n"
      ]
     },
     "execution_count": 40,
     "metadata": {},
     "output_type": "execute_result"
    }
   ],
   "source": [
    "// min of left and each on right\n",
    "4 & til 9"
   ]
  },
  {
   "cell_type": "code",
   "execution_count": 42,
   "id": "b8a92df6",
   "metadata": {},
   "outputs": [
    {
     "data": {
      "text/plain": [
       "3 7 5\r\n"
      ]
     },
     "execution_count": 42,
     "metadata": {},
     "output_type": "execute_result"
    }
   ],
   "source": [
    "4 7 6 & 3 9 5"
   ]
  },
  {
   "cell_type": "code",
   "execution_count": 44,
   "id": "9b660fba",
   "metadata": {},
   "outputs": [
    {
     "data": {
      "text/plain": [
       "0001b\r\n"
      ]
     },
     "execution_count": 44,
     "metadata": {},
     "output_type": "execute_result"
    }
   ],
   "source": [
    "// min is in essance the same as and\n",
    "0101b&0011b"
   ]
  },
  {
   "cell_type": "markdown",
   "id": "8f450a8a",
   "metadata": {},
   "source": [
    "### where - where an item is in a list"
   ]
  },
  {
   "cell_type": "code",
   "execution_count": 46,
   "id": "219b11e6",
   "metadata": {},
   "outputs": [
    {
     "data": {
      "text/plain": [
       "1 3 6 7\r\n"
      ]
     },
     "execution_count": 46,
     "metadata": {},
     "output_type": "execute_result"
    }
   ],
   "source": [
    "//given a bool where is it true\n",
    "where 01010011b"
   ]
  },
  {
   "cell_type": "code",
   "execution_count": 49,
   "id": "67c30017",
   "metadata": {},
   "outputs": [
    {
     "name": "stdout",
     "output_type": "stream",
     "text": [
      "0 0 0 0 0 1 1 1 2\r\n"
     ]
    },
    {
     "data": {
      "text/plain": [
       "`a`a`a`a`a`b`b`b`c\r\n"
      ]
     },
     "execution_count": 49,
     "metadata": {},
     "output_type": "execute_result"
    }
   ],
   "source": [
    "// given where how many items are it'll produce the list\n",
    "show where 5 3 1;\n",
    "`a`b`c where 5 3 1 "
   ]
  },
  {
   "cell_type": "code",
   "execution_count": 50,
   "id": "1a8386d7",
   "metadata": {},
   "outputs": [
    {
     "data": {
      "text/plain": [
       "`b`c`c`d`d`d\r\n"
      ]
     },
     "execution_count": 50,
     "metadata": {},
     "output_type": "execute_result"
    }
   ],
   "source": [
    "// works well of dicts\n",
    "where `a`b`c`d!0 1 2 3 "
   ]
  },
  {
   "cell_type": "markdown",
   "id": "79def388",
   "metadata": {},
   "source": [
    "### , - simple join"
   ]
  },
  {
   "cell_type": "code",
   "execution_count": 52,
   "id": "1a5a7e55",
   "metadata": {},
   "outputs": [
    {
     "data": {
      "text/plain": [
       "0 1 2 3 4 6 7 8 9\r\n"
      ]
     },
     "execution_count": 52,
     "metadata": {},
     "output_type": "execute_result"
    }
   ],
   "source": [
    "// join 2 lists\n",
    "(til 5), 6 7 8 9"
   ]
  },
  {
   "cell_type": "code",
   "execution_count": 53,
   "id": "9b6da9f1",
   "metadata": {},
   "outputs": [
    {
     "data": {
      "text/plain": [
       "0\r\n",
       "1\r\n",
       "2\r\n",
       "3\r\n",
       "4\r\n",
       "`a\r\n",
       "`b\r\n",
       "`c\r\n",
       "\"h\"\r\n",
       "\"e\"\r\n",
       "\"l\"\r\n",
       "\"l\"\r\n",
       "\"o\"\r\n"
      ]
     },
     "execution_count": 53,
     "metadata": {},
     "output_type": "execute_result"
    }
   ],
   "source": [
    "// lsits of any type\n",
    "(til 5),`a`b`c,\"hello\""
   ]
  },
  {
   "cell_type": "markdown",
   "id": "a3218ebd",
   "metadata": {},
   "source": [
    "### 0N! - print consol"
   ]
  },
  {
   "cell_type": "code",
   "execution_count": 54,
   "id": "7edd47ae",
   "metadata": {},
   "outputs": [
    {
     "name": "stdout",
     "output_type": "stream",
     "text": [
      "\"Hello World\"\n"
     ]
    },
    {
     "data": {
      "text/plain": [
       "\"Hello World\"\r\n"
      ]
     },
     "execution_count": 54,
     "metadata": {},
     "output_type": "execute_result"
    }
   ],
   "source": [
    "0N! \"Hello World\""
   ]
  },
  {
   "cell_type": "code",
   "execution_count": 56,
   "id": "fa110eea",
   "metadata": {},
   "outputs": [
    {
     "name": "stdout",
     "output_type": "stream",
     "text": [
      "1\n",
      "2\n",
      "3\n"
     ]
    },
    {
     "data": {
      "text/plain": [
       "4\r\n"
      ]
     },
     "execution_count": 56,
     "metadata": {},
     "output_type": "execute_result"
    }
   ],
   "source": [
    "// useful for debugging\n",
    "1 + 0N!1 +0N!1+0N!1 "
   ]
  },
  {
   "cell_type": "markdown",
   "id": "baf7b5ae",
   "metadata": {},
   "source": [
    "### ; - seperator"
   ]
  },
  {
   "cell_type": "code",
   "execution_count": 59,
   "id": "e0998307",
   "metadata": {},
   "outputs": [
    {
     "data": {
      "text/plain": [
       "1 2\r\n",
       "3 4\r\n"
      ]
     },
     "execution_count": 59,
     "metadata": {},
     "output_type": "execute_result"
    }
   ],
   "source": [
    "// seperate list into nested\n",
    "(1 2 ; 3 4)"
   ]
  },
  {
   "cell_type": "markdown",
   "id": "6a845896",
   "metadata": {},
   "source": [
    "### @ - apply/Index"
   ]
  },
  {
   "cell_type": "code",
   "execution_count": 61,
   "id": "7df35ab5",
   "metadata": {},
   "outputs": [
    {
     "data": {
      "text/plain": [
       "1b\r\n"
      ]
     },
     "execution_count": 61,
     "metadata": {},
     "output_type": "execute_result"
    }
   ],
   "source": [
    "// equvalant in monadic functions\n",
    "max 1 2 3 = max@1 2 3"
   ]
  },
  {
   "cell_type": "code",
   "execution_count": 62,
   "id": "0e1f513f",
   "metadata": {},
   "outputs": [
    {
     "data": {
      "text/plain": [
       "4 5 6\r\n",
       "7 8 9\r\n"
      ]
     },
     "execution_count": 62,
     "metadata": {},
     "output_type": "execute_result"
    }
   ],
   "source": [
    "// Takes from nested list at the first depth\n",
    "x:(1 2 3;4 5 6;7 8 9);\n",
    "x@ 1 2"
   ]
  },
  {
   "cell_type": "markdown",
   "id": "008b412f",
   "metadata": {},
   "source": [
    "### () - precidence / list"
   ]
  },
  {
   "cell_type": "code",
   "execution_count": 63,
   "id": "7d73073d",
   "metadata": {},
   "outputs": [
    {
     "name": "stdout",
     "output_type": "stream",
     "text": [
      "15\r\n"
     ]
    },
    {
     "data": {
      "text/plain": [
       "21\r\n"
      ]
     },
     "execution_count": 63,
     "metadata": {},
     "output_type": "execute_result"
    }
   ],
   "source": [
    "// gives precidence in order of operation\n",
    "show 1+2*3+4;\n",
    "(1+2)*(3+4)"
   ]
  },
  {
   "cell_type": "code",
   "execution_count": 66,
   "id": "d6152d68",
   "metadata": {},
   "outputs": [
    {
     "name": "stdout",
     "output_type": "stream",
     "text": [
      "1 2\r\n",
      "\"----\"\r\n",
      "1 2\r\n",
      "3 4\r\n"
     ]
    }
   ],
   "source": [
    "//can enlist items\n",
    "show 1 2; 3 4;\n",
    "show \"----\";\n",
    "show (1 2; 3 4);"
   ]
  },
  {
   "cell_type": "markdown",
   "id": "01490b96",
   "metadata": {},
   "source": [
    "### raze - flatten or raze a list"
   ]
  },
  {
   "cell_type": "code",
   "execution_count": 69,
   "id": "e33e548f",
   "metadata": {},
   "outputs": [
    {
     "name": "stdout",
     "output_type": "stream",
     "text": [
      "1 2 3\r\n",
      "4   5\r\n",
      "1 2\r\n",
      "3\r\n",
      "4\r\n",
      "5\r\n",
      "1 2 3 4 5\r\n"
     ]
    }
   ],
   "source": [
    "show a:(((1;2);3);4 5);\n",
    "show raze a;\n",
    "show raze raze a;"
   ]
  },
  {
   "cell_type": "markdown",
   "id": "a35aee68",
   "metadata": {},
   "source": [
    "### [ ] - block, can group together multiple expressions\n",
    "    - useful inside conditional expressions"
   ]
  },
  {
   "cell_type": "code",
   "execution_count": 72,
   "id": "afba5253",
   "metadata": {},
   "outputs": [
    {
     "name": "stdout",
     "output_type": "stream",
     "text": [
      "\"true\"\r\n",
      "`false\r\n"
     ]
    },
    {
     "data": {
      "text/plain": [
       "::\r\n",
       "::\r\n"
      ]
     },
     "execution_count": 72,
     "metadata": {},
     "output_type": "execute_result"
    }
   ],
   "source": [
    "name1:`Mo\n",
    "name2:`Mark\n",
    "{$[x ~ `Mo;[.var.counter+:1;show \"true\"];show `false]} each (name1; name2)"
   ]
  },
  {
   "cell_type": "markdown",
   "id": "57054efa",
   "metadata": {},
   "source": [
    "### : - assigne/ammend\n",
    " - sets values to variables or updates it"
   ]
  },
  {
   "cell_type": "code",
   "execution_count": 74,
   "id": "0d8e9442",
   "metadata": {},
   "outputs": [
    {
     "name": "stdout",
     "output_type": "stream",
     "text": [
      "1\r\n",
      "2\r\n"
     ]
    }
   ],
   "source": [
    "//assigne\n",
    "variable:1;\n",
    "show variable;\n",
    "//ammend\n",
    "variable+:1;\n",
    "show variable"
   ]
  },
  {
   "cell_type": "markdown",
   "id": "e66cad0e",
   "metadata": {},
   "source": [
    "### Difference between string and symbol\n",
    "Under the surface q maintains a pool of strings to use as symbols and every usage of a symbol points to the value in this table. Whenever you need a use of a symbol repeatedly symbols are the right choice. Advantage of symbols is that comparisons are much faster, since the entire string is evaluated as a whole. If we have unique and complicated string we should stick to strings as to not blow up the memory"
   ]
  },
  {
   "cell_type": "markdown",
   "id": "fa55d7d6",
   "metadata": {},
   "source": [
    "### Enumerations\n",
    "\n",
    "underlying maps a discrete set to a list, where the values in the list are index of the distinct list its enumerated against. This then places the discrete enumerated list in memory and the index as the values and thereby increasing speed"
   ]
  },
  {
   "cell_type": "code",
   "execution_count": null,
   "id": "4503d60c",
   "metadata": {},
   "outputs": [],
   "source": []
  },
  {
   "cell_type": "code",
   "execution_count": null,
   "id": "0fe21714",
   "metadata": {},
   "outputs": [],
   "source": []
  }
 ],
 "metadata": {
  "kernelspec": {
   "display_name": "Q (kdb+)",
   "language": "q",
   "name": "qpk"
  },
  "language_info": {
   "file_extension": ".q",
   "mimetype": "text/x-q",
   "name": "q",
   "version": "4.0"
  }
 },
 "nbformat": 4,
 "nbformat_minor": 5
}

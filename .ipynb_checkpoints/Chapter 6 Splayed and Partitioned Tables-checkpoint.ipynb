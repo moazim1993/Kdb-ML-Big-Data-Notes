{
 "cells": [
  {
   "cell_type": "markdown",
   "id": "0f472aa4",
   "metadata": {},
   "source": [
    "# Chapter 6\n",
    "## Spalyed and Partitioned Tables\n",
    "\n",
    "### 6.1 Introduction\n",
    "This chapter will cover the concept of splayed and partitioned tables, and also show how to load and save data using q. Both types of tables, especially partitioned, is useful for representing large data sets."
   ]
  },
  {
   "cell_type": "code",
   "execution_count": 1,
   "id": "c6d92f0f",
   "metadata": {},
   "outputs": [],
   "source": [
    "trades:([]code:`symbol$(); date:`date$(); time:`time$();price:`float$();volume:`short$();mktflag:`symbol$();comments:())"
   ]
  },
  {
   "cell_type": "code",
   "execution_count": 2,
   "id": "8b110530",
   "metadata": {},
   "outputs": [
    {
     "data": {
      "text/plain": [
       "`trades\r\n"
      ]
     },
     "execution_count": 2,
     "metadata": {},
     "output_type": "execute_result"
    }
   ],
   "source": [
    "`trades upsert (\n",
    "    (`CLM16; 2016.04.07; 10:20:00.329; 38.3; 4h; `E; \"NYMEX/CME Group trade\");\n",
    "    (`GCM16; 2016.04.07; 12:00:00.055; 1239.7; 6h; `E; \"\");\n",
    "    (`GCM16; 2016.04.07; 12:37:02.106; 1240.5; 1h; `E; \"\");\n",
    "    (`CLM16; 2016.04.07; 13:00:00.128; 38.04; 3h; `E; \"NYMEX/CME Group trade\");\n",
    "    (`VKX16; 2016.04.07; 13:22:05.617; 18.85; 5h; `E; \"\");\n",
    "    (`GCM16; 2016.04.07; 14:35:01.241; 1241.2; 1h; `E; \"\");\n",
    "    (`GCM16; 2016.04.08; 10:13:01.048; 1240f; 3h; `E; \"\");\n",
    "    (`VKX16; 2016.04.08; 11:34:53.417; 18.53; 1h; `E; \"Transaction represents a trade in two contract months in the same class\");\n",
    "    (`CLM16; 2016.04.08; 12:00:00.227; 40.61; 3h; `E; \"NYMEX/CME Group trade\");\n",
    "    (`VXK16; 2016.04.08; 12:44:00.684; 18.44; 2h; `E; \"Transaction represents a trade in two contract months in the same class\");\n",
    "    (`VXK16; 2016.04.08; 12:45:33.130; 18.49; 1h; `E; \"Transaction represents a trade in two contract months in the same class\");\n",
    "    (`CLM16; 2016.04.08; 15:20:02.000; 40.78; 3h; `E; \"NYMEX/CME Group trade\");\n",
    "    (`CLM16; 2016.04.11; 11:00:00.105; 41.43; 2h; `E; \"NYMEX/CME Group trade\");\n",
    "    (`VXK16; 2016.04.11; 14:00:00.829; 18.35; 1h; `E; \"\");\n",
    "    (`VXK16; 2016.04.11; 15:14:58.775; 19.05; 2h; `E; \"\");\n",
    "    (`GCM16; 2016.04.11; 16:00:00.044; 1257.9; 1h; `E; \"\");\n",
    "    (`GCM16; 2016.04.11; 16:28:34.311; 1258.7; 1h; `E; \"\")\n",
    "    )"
   ]
  },
  {
   "cell_type": "code",
   "execution_count": 3,
   "id": "773906b7",
   "metadata": {},
   "outputs": [
    {
     "data": {
      "text/plain": [
       "code  date       time         price  volume mktflag comments                 ..\r\n",
       "-----------------------------------------------------------------------------..\r\n",
       "CLM16 2016.04.07 10:20:00.329 38.3   4      E       \"NYMEX/CME Group trade\"  ..\r\n",
       "GCM16 2016.04.07 12:00:00.055 1239.7 6      E       \"\"                       ..\r\n",
       "GCM16 2016.04.07 12:37:02.106 1240.5 1      E       \"\"                       ..\r\n",
       "CLM16 2016.04.07 13:00:00.128 38.04  3      E       \"NYMEX/CME Group trade\"  ..\r\n",
       "VKX16 2016.04.07 13:22:05.617 18.85  5      E       \"\"                       ..\r\n",
       "GCM16 2016.04.07 14:35:01.241 1241.2 1      E       \"\"                       ..\r\n",
       "GCM16 2016.04.08 10:13:01.048 1240   3      E       \"\"                       ..\r\n",
       "VKX16 2016.04.08 11:34:53.417 18.53  1      E       \"Transaction represents a..\r\n",
       "CLM16 2016.04.08 12:00:00.227 40.61  3      E       \"NYMEX/CME Group trade\"  ..\r\n",
       "VXK16 2016.04.08 12:44:00.684 18.44  2      E       \"Transaction represents a..\r\n",
       "VXK16 2016.04.08 12:45:33.130 18.49  1      E       \"Transaction represents a..\r\n",
       "CLM16 2016.04.08 15:20:02.000 40.78  3      E       \"NYMEX/CME Group trade\"  ..\r\n",
       "CLM16 2016.04.11 11:00:00.105 41.43  2      E       \"NYMEX/CME Group trade\"  ..\r\n",
       "VXK16 2016.04.11 14:00:00.829 18.35  1      E       \"\"                       ..\r\n",
       "VXK16 2016.04.11 15:14:58.775 19.05  2      E       \"\"                       ..\r\n",
       "GCM16 2016.04.11 16:00:00.044 1257.9 1      E       \"\"                       ..\r\n",
       "GCM16 2016.04.11 16:28:34.311 1258.7 1      E       \"\"                       ..\r\n"
      ]
     },
     "execution_count": 3,
     "metadata": {},
     "output_type": "execute_result"
    }
   ],
   "source": [
    "trades"
   ]
  },
  {
   "cell_type": "markdown",
   "id": "72bb5807",
   "metadata": {},
   "source": [
    "### 6.2 Saving a table as a single binary file"
   ]
  },
  {
   "cell_type": "code",
   "execution_count": 4,
   "id": "6111d08d",
   "metadata": {},
   "outputs": [
    {
     "data": {
      "text/plain": [
       "\"C:/Users/moazi/Documents/GitHub/Kdb-ML-Big-Data-Notes/test/db\"\r\n"
      ]
     },
     "execution_count": 4,
     "metadata": {},
     "output_type": "execute_result"
    }
   ],
   "source": [
    "dataDir:\"C:/Users/moazi/Documents/GitHub/Kdb-ML-Big-Data-Notes/test/db\"\n",
    "dataDir"
   ]
  },
  {
   "cell_type": "code",
   "execution_count": 5,
   "id": "ffb799f7",
   "metadata": {},
   "outputs": [],
   "source": [
    "//`dataDir set getenv`KDB_DATA"
   ]
  },
  {
   "cell_type": "code",
   "execution_count": 6,
   "id": "05b814c5",
   "metadata": {},
   "outputs": [],
   "source": [
    "//`tradesfile set trades"
   ]
  },
  {
   "cell_type": "markdown",
   "id": "e1cc5592",
   "metadata": {},
   "source": [
    "Running the above line will save the trades table in a binary file in the current directory. I commented it out as to not cluter the directory, but comment it out and run to see."
   ]
  },
  {
   "cell_type": "code",
   "execution_count": 7,
   "id": "f3717806",
   "metadata": {},
   "outputs": [
    {
     "name": "stdout",
     "output_type": "stream",
     "text": [
      "`:C:/Users/moazi/Documents/GitHub/Kdb-ML-Big-Data-Notes/test/db/tradesfile\r\n"
     ]
    }
   ],
   "source": [
    "show (`$\":\",dataDir,\"/tradesfile\") // set trades"
   ]
  },
  {
   "cell_type": "markdown",
   "id": "6be56872",
   "metadata": {},
   "source": [
    "The above line should save the file in the dedicated directroy I've created listed in dataDir.\n",
    "\n",
    "Note: the brackets are needed around the directory path as a sym. This is due to right to left evaluaiton of kdb.\n",
    "\n",
    "Now that we have the file saved, we can retrive the file into a table, using `get` or using `load`. "
   ]
  },
  {
   "cell_type": "code",
   "execution_count": 8,
   "id": "757e0a84",
   "metadata": {},
   "outputs": [
    {
     "name": "stdout",
     "output_type": "stream",
     "text": [
      "1b\r\n"
     ]
    },
    {
     "data": {
      "text/plain": [
       "code  date       time         price  volume mktflag comments                 ..\r\n",
       "-----------------------------------------------------------------------------..\r\n",
       "CLM16 2016.04.07 10:20:00.329 38.3   4      E       \"NYMEX/CME Group trade\"  ..\r\n",
       "GCM16 2016.04.07 12:00:00.055 1239.7 6      E       \"\"                       ..\r\n",
       "GCM16 2016.04.07 12:37:02.106 1240.5 1      E       \"\"                       ..\r\n",
       "CLM16 2016.04.07 13:00:00.128 38.04  3      E       \"NYMEX/CME Group trade\"  ..\r\n",
       "VKX16 2016.04.07 13:22:05.617 18.85  5      E       \"\"                       ..\r\n",
       "GCM16 2016.04.07 14:35:01.241 1241.2 1      E       \"\"                       ..\r\n",
       "GCM16 2016.04.08 10:13:01.048 1240   3      E       \"\"                       ..\r\n",
       "VKX16 2016.04.08 11:34:53.417 18.53  1      E       \"Transaction represents a..\r\n",
       "CLM16 2016.04.08 12:00:00.227 40.61  3      E       \"NYMEX/CME Group trade\"  ..\r\n",
       "VXK16 2016.04.08 12:44:00.684 18.44  2      E       \"Transaction represents a..\r\n",
       "VXK16 2016.04.08 12:45:33.130 18.49  1      E       \"Transaction represents a..\r\n",
       "CLM16 2016.04.08 15:20:02.000 40.78  3      E       \"NYMEX/CME Group trade\"  ..\r\n",
       "CLM16 2016.04.11 11:00:00.105 41.43  2      E       \"NYMEX/CME Group trade\"  ..\r\n",
       "VXK16 2016.04.11 14:00:00.829 18.35  1      E       \"\"                       ..\r\n",
       "VXK16 2016.04.11 15:14:58.775 19.05  2      E       \"\"                       ..\r\n",
       "GCM16 2016.04.11 16:00:00.044 1257.9 1      E       \"\"                       ..\r\n",
       "GCM16 2016.04.11 16:28:34.311 1258.7 1      E       \"\"                       ..\r\n"
      ]
     },
     "execution_count": 8,
     "metadata": {},
     "output_type": "execute_result"
    }
   ],
   "source": [
    "trades1:get `$\":\",dataDir,\"/tradesfile\"\n",
    "show trades1 ~ trades;\n",
    "trades1"
   ]
  },
  {
   "cell_type": "code",
   "execution_count": 9,
   "id": "26d1aef5",
   "metadata": {},
   "outputs": [],
   "source": [
    "load `$\":\",dataDir,\"/tradesfile\";\n",
    "tradesfile ~ trades;\n"
   ]
  },
  {
   "cell_type": "markdown",
   "id": "f61c8fca",
   "metadata": {},
   "source": [
    "The difference between get and laod, is load will load the file in with its given name \"tradesfile\", while get will get the data and hold it in whichever variable its assigned to."
   ]
  },
  {
   "cell_type": "markdown",
   "id": "36415679",
   "metadata": {},
   "source": [
    "Notice that the file discriptor, the code that denotes where in disk the file is, is writted as a symbol with \":\" being the first character. The built-in funciton hsym exists to convert file paths to descriptors."
   ]
  },
  {
   "cell_type": "code",
   "execution_count": 10,
   "id": "df1a653a",
   "metadata": {},
   "outputs": [
    {
     "name": "stdout",
     "output_type": "stream",
     "text": [
      "`C:/Users/moazi/Documents/GitHub/Kdb-ML-Big-Data-Notes/test/db\r\n",
      "`:C:/Users/moazi/Documents/GitHub/Kdb-ML-Big-Data-Notes/test/db\r\n"
     ]
    }
   ],
   "source": [
    "show `$dataDir;\n",
    "show hsym `$dataDir"
   ]
  },
  {
   "cell_type": "markdown",
   "id": "7da36671",
   "metadata": {},
   "source": [
    "### 6.3 Splayed tables\n",
    "Instead of saving as a binary file, we can also choose to save as a splayed table.\n",
    "\n",
    "Splayed table saves each column of the data in a binary file. This is useful for storing medium sized (about 100million rows) tables with many columns. This is useful for optimal querying of large data and getting back results fast. It allows queries to only read in the files that's required and leave the rest on disk.\n",
    "\n",
    "To save a table down as a spalyed table, you use the set function and add a \"/\" to the end to denote a directory. But that's not all\n"
   ]
  },
  {
   "cell_type": "code",
   "execution_count": 10,
   "id": "4c1524be",
   "metadata": {},
   "outputs": [
    {
     "ename": "\u001b[0;31mtype\u001b[0m",
     "evalue": "\u001b[0;31mtype\u001b[0m",
     "output_type": "error",
     "traceback": [
      "\u001b[0;31mevaluation error:\n\u001b[0m",
      "\u001b[0;31mtype\u001b[0m",
      "\u001b[0;31m\u001b[0m",
      "\u001b[0;31m  [1]  (.q.set)\n\n\u001b[0m",
      "\u001b[0;31m  [0]  hsym[`$dataDir,\"/tradesDir/\"] set trades\r\n                                     ^\r\n\u001b[0m"
     ]
    }
   ],
   "source": [
    "hsym[`$dataDir,\"/tradesDir/\"] set trades"
   ]
  },
  {
   "cell_type": "markdown",
   "id": "86ad95eb",
   "metadata": {},
   "source": [
    "The above failed due to the concept of enumeration for the type symbol."
   ]
  },
  {
   "cell_type": "code",
   "execution_count": 11,
   "id": "16083483",
   "metadata": {},
   "outputs": [
    {
     "data": {
      "text/plain": [
       "c       | t f a\r\n",
       "--------| -----\r\n",
       "code    | s    \r\n",
       "date    | d    \r\n",
       "time    | t    \r\n",
       "price   | f    \r\n",
       "volume  | h    \r\n",
       "mktflag | s    \r\n",
       "comments| C    \r\n"
      ]
     },
     "execution_count": 11,
     "metadata": {},
     "output_type": "execute_result"
    }
   ],
   "source": [
    "meta trades"
   ]
  },
  {
   "cell_type": "markdown",
   "id": "56d3b914",
   "metadata": {},
   "source": [
    "You can see that the columns code and mktflag is of type symbol, if we exclude those it'll save."
   ]
  },
  {
   "cell_type": "code",
   "execution_count": 12,
   "id": "f30f26b7",
   "metadata": {},
   "outputs": [
    {
     "data": {
      "text/plain": [
       "`:C:/Users/moazi/Documents/GitHub/Kdb-ML-Big-Data-Notes/test/db/tradesDir/\r\n"
      ]
     },
     "execution_count": 12,
     "metadata": {},
     "output_type": "execute_result"
    }
   ],
   "source": [
    "hsym[`$dataDir,\"/tradesDir/\"] set `code`mktflag _ trades"
   ]
  },
  {
   "cell_type": "code",
   "execution_count": 13,
   "id": "93f4ab1e",
   "metadata": {},
   "outputs": [
    {
     "data": {
      "text/plain": [
       "\" Volume in drive C is Windows-SSD\"\r\n",
       "\" Volume Serial Number is 4244-28BF\"\r\n",
       "\"\"\r\n",
       "\" Directory of C:\\\\Users\\\\moazi\\\\Documents\\\\GitHub\\\\Kdb-ML-Big-Data-Notes\\\\te..\r\n",
       "\"\"\r\n",
       "\"03/04/2022  07:44 PM    <DIR>          .\"\r\n",
       "\"03/04/2022  07:43 PM    <DIR>          ..\"\r\n",
       "\"03/04/2022  07:44 PM                40 .d\"\r\n",
       "\"03/04/2022  07:43 PM             4,232 code\"\r\n",
       "\"03/04/2022  07:44 PM             4,232 comments\"\r\n",
       "\"03/04/2022  07:44 PM             4,448 comments#\"\r\n",
       "\"03/04/2022  07:44 PM                84 date\"\r\n",
       "\"03/04/2022  07:43 PM             4,232 mktflag\"\r\n",
       "\"03/04/2022  07:44 PM               152 price\"\r\n",
       "\"02/24/2022  07:02 AM                34 sym\"\r\n",
       "\"03/04/2022  07:44 PM                84 time\"\r\n",
       "\"03/04/2022  07:44 PM                50 volume\"\r\n",
       "\"              10 File(s)         17,588 bytes\"\r\n",
       "\"               2 Dir(s)  793,847,279,616 bytes free\"\r\n"
      ]
     },
     "execution_count": 13,
     "metadata": {},
     "output_type": "execute_result"
    }
   ],
   "source": [
    "\\dir test\\db\\tradesDir"
   ]
  },
  {
   "cell_type": "markdown",
   "id": "5146c506",
   "metadata": {},
   "source": [
    "The above shows the list of files saved when saved as a spalyed table. Besides the `.d` and `comments#` file the rest are associated with the columns of trades. We are missing code and mktflag because those were ommited. We can save those by enumeration. We can do that with the function `.Q.en`"
   ]
  },
  {
   "cell_type": "code",
   "execution_count": 14,
   "id": "c846ab40",
   "metadata": {},
   "outputs": [],
   "source": [
    "tDir:hsym[`$dataDir,\"/tradesDir/\"];\n",
    "tradesEnum:.Q.en[tDir;trades];  // enumerating"
   ]
  },
  {
   "cell_type": "code",
   "execution_count": 15,
   "id": "0eecfa61",
   "metadata": {},
   "outputs": [
    {
     "data": {
      "text/plain": [
       "`:C:/Users/moazi/Documents/GitHub/Kdb-ML-Big-Data-Notes/test/db/tradesDir/\r\n"
      ]
     },
     "execution_count": 15,
     "metadata": {},
     "output_type": "execute_result"
    }
   ],
   "source": [
    "tDir set tradesEnum"
   ]
  },
  {
   "cell_type": "code",
   "execution_count": 16,
   "id": "182f99f1",
   "metadata": {},
   "outputs": [
    {
     "data": {
      "text/plain": [
       "\" Volume in drive C is Windows-SSD\"\r\n",
       "\" Volume Serial Number is 4244-28BF\"\r\n",
       "\"\"\r\n",
       "\" Directory of C:\\\\Users\\\\moazi\\\\Documents\\\\GitHub\\\\Kdb-ML-Big-Data-Notes\\\\te..\r\n",
       "\"\"\r\n",
       "\"03/04/2022  07:44 PM    <DIR>          .\"\r\n",
       "\"03/04/2022  07:43 PM    <DIR>          ..\"\r\n",
       "\"03/04/2022  07:44 PM                53 .d\"\r\n",
       "\"03/04/2022  07:44 PM             4,232 code\"\r\n",
       "\"03/04/2022  07:44 PM             4,232 comments\"\r\n",
       "\"03/04/2022  07:44 PM             4,448 comments#\"\r\n",
       "\"03/04/2022  07:44 PM                84 date\"\r\n",
       "\"03/04/2022  07:44 PM             4,232 mktflag\"\r\n",
       "\"03/04/2022  07:44 PM               152 price\"\r\n",
       "\"02/24/2022  07:02 AM                34 sym\"\r\n",
       "\"03/04/2022  07:44 PM                84 time\"\r\n",
       "\"03/04/2022  07:44 PM                50 volume\"\r\n",
       "\"              10 File(s)         17,601 bytes\"\r\n",
       "\"               2 Dir(s)  793,847,279,616 bytes free\"\r\n"
      ]
     },
     "execution_count": 16,
     "metadata": {},
     "output_type": "execute_result"
    }
   ],
   "source": [
    "\\dir test\\db\\tradesDir"
   ]
  },
  {
   "cell_type": "code",
   "execution_count": 17,
   "id": "81a37309",
   "metadata": {},
   "outputs": [
    {
     "data": {
      "text/plain": [
       "`sym$`CLM16`GCM16`GCM16`CLM16`VKX16`GCM16`GCM16`VKX16`CLM16`VXK16`VXK16`CLM16..\r\n"
      ]
     },
     "execution_count": 17,
     "metadata": {},
     "output_type": "execute_result"
    }
   ],
   "source": [
    "tradesEnum[`code]"
   ]
  },
  {
   "cell_type": "code",
   "execution_count": 18,
   "id": "fac87adc",
   "metadata": {},
   "outputs": [
    {
     "data": {
      "text/plain": [
       "`CLM16`GCM16`GCM16`CLM16`VKX16`GCM16`GCM16`VKX16`CLM16`VXK16`VXK16`CLM16`CLM1..\r\n"
      ]
     },
     "execution_count": 18,
     "metadata": {},
     "output_type": "execute_result"
    }
   ],
   "source": [
    "trades[`code]"
   ]
  },
  {
   "cell_type": "markdown",
   "id": "2eadd5c8",
   "metadata": {},
   "source": [
    "Now the table is saved as a splyed table in full, with code and mktflag column.  Notice how the `code` column is enumerated in `tradesEnum`. We also have an additional `sym` file. This is for the enumeration values. When we have a column of type symbol, we save all the symbols in a sym file, and the columns of type symbol lists the index of the symbols occurance in that sym file. Thus making symbols much faster than string to query.\n",
    "\n",
    "Note: Splayed table can't save keyed table. The table will first need to be unkeyed in order to save, else we'll recive a type error.\n",
    "\n",
    "The files in the `tradesDir` directory contains the serealized data for each column the file is named after. You can also save individual columns as serialized files as well."
   ]
  },
  {
   "cell_type": "code",
   "execution_count": 19,
   "id": "5f769c1a",
   "metadata": {},
   "outputs": [],
   "source": [
    "hsym[`$dataDir,\"/myPrice\"] set trades[`price];\n",
    "myPrice:get hsym[`$dataDir,\"/myPrice\"];"
   ]
  },
  {
   "cell_type": "code",
   "execution_count": 20,
   "id": "5a5d086f",
   "metadata": {},
   "outputs": [
    {
     "data": {
      "text/plain": [
       "1b\r\n"
      ]
     },
     "execution_count": 20,
     "metadata": {},
     "output_type": "execute_result"
    }
   ],
   "source": [
    "myPrice ~ trades[`price]"
   ]
  },
  {
   "cell_type": "markdown",
   "id": "e3d75c23",
   "metadata": {},
   "source": [
    "##### .d file\n",
    "\n",
    "The .d file is the collection of columns in the table set as a file."
   ]
  },
  {
   "cell_type": "code",
   "execution_count": 21,
   "id": "a43050ed",
   "metadata": {},
   "outputs": [
    {
     "data": {
      "text/plain": [
       "`code`date`time`price`volume`mktflag`comments\r\n"
      ]
     },
     "execution_count": 21,
     "metadata": {},
     "output_type": "execute_result"
    }
   ],
   "source": [
    "cols trades"
   ]
  },
  {
   "cell_type": "code",
   "execution_count": 22,
   "id": "c3de24f1",
   "metadata": {},
   "outputs": [
    {
     "data": {
      "text/plain": [
       "`code`date`time`price`volume`mktflag`comments\r\n"
      ]
     },
     "execution_count": 22,
     "metadata": {},
     "output_type": "execute_result"
    }
   ],
   "source": [
    "get hsym[`$dataDir,\"/tradesDir/.d\"]"
   ]
  },
  {
   "cell_type": "markdown",
   "id": "d5fade27",
   "metadata": {},
   "source": [
    "Regarding the `comments` and `comments#` files. Whenever we save a column of type list down, in this case its a string column which is a list of charecters, it'll save in 2 files. The file `comments` here stores a serealized list of charecters, and the `comments#` file stores which row has how many charecters so it can unserialize back into the table. For example the first comment is \"NYMEX/CME Group trade\", so the `comments` file will hold each charecter and `comments#` will store it is the first 25 charecters."
   ]
  },
  {
   "cell_type": "markdown",
   "id": "6a2973ae",
   "metadata": {},
   "source": [
    "To load a splayed table, we can use the function load, or load it in like a .q file with \\l. Note when loading in (as opposed to saving) we don't include the trailing \"/\". We do so below with the vs function."
   ]
  },
  {
   "cell_type": "code",
   "execution_count": 23,
   "id": "a115a552",
   "metadata": {},
   "outputs": [
    {
     "data": {
      "text/plain": [
       "`:C:/Users/moazi/Documents/GitHub/Kdb-ML-Big-Data-Notes/test/db/tradesDir/\r\n"
      ]
     },
     "execution_count": 23,
     "metadata": {},
     "output_type": "execute_result"
    }
   ],
   "source": [
    "tDir"
   ]
  },
  {
   "cell_type": "code",
   "execution_count": 24,
   "id": "2b8e8571",
   "metadata": {},
   "outputs": [
    {
     "data": {
      "text/plain": [
       "`:C:/Users/moazi/Documents/GitHub/Kdb-ML-Big-Data-Notes/test/db/tradesDir\r\n"
      ]
     },
     "execution_count": 24,
     "metadata": {},
     "output_type": "execute_result"
    }
   ],
   "source": [
    "first ` vs tDir"
   ]
  },
  {
   "cell_type": "code",
   "execution_count": 25,
   "id": "e8bf363a",
   "metadata": {},
   "outputs": [
    {
     "data": {
      "text/plain": [
       "`tradesDir\r\n"
      ]
     },
     "execution_count": 25,
     "metadata": {},
     "output_type": "execute_result"
    }
   ],
   "source": [
    "load first ` vs tDir"
   ]
  },
  {
   "cell_type": "code",
   "execution_count": 26,
   "id": "9c658597",
   "metadata": {},
   "outputs": [
    {
     "data": {
      "text/plain": [
       "code  date       time         price  volume mktflag comments                 ..\r\n",
       "-----------------------------------------------------------------------------..\r\n",
       "CLM16 2016.04.07 10:20:00.329 38.3   4      E       \"NYMEX/CME Group trade\"  ..\r\n",
       "GCM16 2016.04.07 12:00:00.055 1239.7 6      E       \"\"                       ..\r\n",
       "GCM16 2016.04.07 12:37:02.106 1240.5 1      E       \"\"                       ..\r\n",
       "CLM16 2016.04.07 13:00:00.128 38.04  3      E       \"NYMEX/CME Group trade\"  ..\r\n",
       "VKX16 2016.04.07 13:22:05.617 18.85  5      E       \"\"                       ..\r\n",
       "GCM16 2016.04.07 14:35:01.241 1241.2 1      E       \"\"                       ..\r\n",
       "GCM16 2016.04.08 10:13:01.048 1240   3      E       \"\"                       ..\r\n",
       "VKX16 2016.04.08 11:34:53.417 18.53  1      E       \"Transaction represents a..\r\n",
       "CLM16 2016.04.08 12:00:00.227 40.61  3      E       \"NYMEX/CME Group trade\"  ..\r\n",
       "VXK16 2016.04.08 12:44:00.684 18.44  2      E       \"Transaction represents a..\r\n",
       "VXK16 2016.04.08 12:45:33.130 18.49  1      E       \"Transaction represents a..\r\n",
       "CLM16 2016.04.08 15:20:02.000 40.78  3      E       \"NYMEX/CME Group trade\"  ..\r\n",
       "CLM16 2016.04.11 11:00:00.105 41.43  2      E       \"NYMEX/CME Group trade\"  ..\r\n",
       "VXK16 2016.04.11 14:00:00.829 18.35  1      E       \"\"                       ..\r\n",
       "VXK16 2016.04.11 15:14:58.775 19.05  2      E       \"\"                       ..\r\n",
       "GCM16 2016.04.11 16:00:00.044 1257.9 1      E       \"\"                       ..\r\n",
       "GCM16 2016.04.11 16:28:34.311 1258.7 1      E       \"\"                       ..\r\n"
      ]
     },
     "execution_count": 26,
     "metadata": {},
     "output_type": "execute_result"
    }
   ],
   "source": [
    "tradesDir"
   ]
  },
  {
   "cell_type": "code",
   "execution_count": 27,
   "id": "d1b2f49c",
   "metadata": {},
   "outputs": [
    {
     "data": {
      "text/plain": [
       "`test\\db\\tradesDir\r\n"
      ]
     },
     "execution_count": 27,
     "metadata": {},
     "output_type": "execute_result"
    }
   ],
   "source": [
    "\\l test\\db\\tradesDir"
   ]
  },
  {
   "cell_type": "code",
   "execution_count": 28,
   "id": "488e1892",
   "metadata": {},
   "outputs": [
    {
     "data": {
      "text/plain": [
       "code  date       time         price  volume mktflag comments                 ..\r\n",
       "-----------------------------------------------------------------------------..\r\n",
       "CLM16 2016.04.07 10:20:00.329 38.3   4      E       \"NYMEX/CME Group trade\"  ..\r\n",
       "GCM16 2016.04.07 12:00:00.055 1239.7 6      E       \"\"                       ..\r\n",
       "GCM16 2016.04.07 12:37:02.106 1240.5 1      E       \"\"                       ..\r\n",
       "CLM16 2016.04.07 13:00:00.128 38.04  3      E       \"NYMEX/CME Group trade\"  ..\r\n",
       "VKX16 2016.04.07 13:22:05.617 18.85  5      E       \"\"                       ..\r\n",
       "GCM16 2016.04.07 14:35:01.241 1241.2 1      E       \"\"                       ..\r\n",
       "GCM16 2016.04.08 10:13:01.048 1240   3      E       \"\"                       ..\r\n",
       "VKX16 2016.04.08 11:34:53.417 18.53  1      E       \"Transaction represents a..\r\n",
       "CLM16 2016.04.08 12:00:00.227 40.61  3      E       \"NYMEX/CME Group trade\"  ..\r\n",
       "VXK16 2016.04.08 12:44:00.684 18.44  2      E       \"Transaction represents a..\r\n",
       "VXK16 2016.04.08 12:45:33.130 18.49  1      E       \"Transaction represents a..\r\n",
       "CLM16 2016.04.08 15:20:02.000 40.78  3      E       \"NYMEX/CME Group trade\"  ..\r\n",
       "CLM16 2016.04.11 11:00:00.105 41.43  2      E       \"NYMEX/CME Group trade\"  ..\r\n",
       "VXK16 2016.04.11 14:00:00.829 18.35  1      E       \"\"                       ..\r\n",
       "VXK16 2016.04.11 15:14:58.775 19.05  2      E       \"\"                       ..\r\n",
       "GCM16 2016.04.11 16:00:00.044 1257.9 1      E       \"\"                       ..\r\n",
       "GCM16 2016.04.11 16:28:34.311 1258.7 1      E       \"\"                       ..\r\n"
      ]
     },
     "execution_count": 28,
     "metadata": {},
     "output_type": "execute_result"
    }
   ],
   "source": [
    "tradesDir"
   ]
  },
  {
   "cell_type": "markdown",
   "id": "141a5d4d",
   "metadata": {},
   "source": [
    "Finally, we list below two useful function to create and append a splayed table."
   ]
  },
  {
   "cell_type": "code",
   "execution_count": 29,
   "id": "4356e651",
   "metadata": {},
   "outputs": [],
   "source": [
    "\\l quantQ-master/lib/quantQ_io.q"
   ]
  },
  {
   "cell_type": "code",
   "execution_count": 30,
   "id": "d8ecdf30",
   "metadata": {},
   "outputs": [
    {
     "data": {
      "text/plain": [
       "{[tabPath;pvar;table]\r\n",
       "    // tabPath -- path where to store the table\r\n",
       "    // pvar -- variable to sort and index on for fast querying\r\n",
       "    // table -- name of the table to save\r\n",
       "    @[;pvar;`p#] pvar xasc (` sv (tabPath;`;table;`)) set .Q.en[tabPath] get ..\r\n",
       " }\r\n"
      ]
     },
     "execution_count": 30,
     "metadata": {},
     "output_type": "execute_result"
    }
   ],
   "source": [
    ".quantQ.io.saveSplayedTab"
   ]
  },
  {
   "cell_type": "code",
   "execution_count": 31,
   "id": "cbcc9562",
   "metadata": {},
   "outputs": [
    {
     "data": {
      "text/plain": [
       "`:C:/Users/moazi/Documents/GitHub/Kdb-ML-Big-Data-Notes/test/db/sdb//trades/\r\n"
      ]
     },
     "execution_count": 31,
     "metadata": {},
     "output_type": "execute_result"
    }
   ],
   "source": [
    ".quantQ.io.saveSplayedTab[hsym[`$dataDir,\"/sdb\"]; `code; `trades]"
   ]
  },
  {
   "cell_type": "code",
   "execution_count": 32,
   "id": "80d5d9aa",
   "metadata": {},
   "outputs": [
    {
     "data": {
      "text/plain": [
       "\" Volume in drive C is Windows-SSD\"\r\n",
       "\" Volume Serial Number is 4244-28BF\"\r\n",
       "\"\"\r\n",
       "\" Directory of C:\\\\Users\\\\moazi\\\\Documents\\\\GitHub\\\\Kdb-ML-Big-Data-Notes\\\\te..\r\n",
       "\"\"\r\n",
       "\"02/24/2022  07:45 AM    <DIR>          .\"\r\n",
       "\"03/04/2022  07:44 PM    <DIR>          ..\"\r\n",
       "\"02/24/2022  07:45 AM                34 sym\"\r\n",
       "\"03/04/2022  07:44 PM    <DIR>          trades\"\r\n",
       "\"               1 File(s)             34 bytes\"\r\n",
       "\"               3 Dir(s)  793,847,029,760 bytes free\"\r\n"
      ]
     },
     "execution_count": 32,
     "metadata": {},
     "output_type": "execute_result"
    }
   ],
   "source": [
    "\\dir test\\db\\sdb"
   ]
  },
  {
   "cell_type": "code",
   "execution_count": 33,
   "id": "2b7fa739",
   "metadata": {},
   "outputs": [
    {
     "data": {
      "text/plain": [
       "\" Volume in drive C is Windows-SSD\"\r\n",
       "\" Volume Serial Number is 4244-28BF\"\r\n",
       "\"\"\r\n",
       "\" Directory of C:\\\\Users\\\\moazi\\\\Documents\\\\GitHub\\\\Kdb-ML-Big-Data-Notes\\\\te..\r\n",
       "\"\"\r\n",
       "\"03/04/2022  07:44 PM    <DIR>          .\"\r\n",
       "\"02/24/2022  07:45 AM    <DIR>          ..\"\r\n",
       "\"03/04/2022  07:44 PM                53 .d\"\r\n",
       "\"03/04/2022  07:44 PM             4,416 code\"\r\n",
       "\"03/04/2022  07:44 PM             4,232 comments\"\r\n",
       "\"03/04/2022  07:44 PM             4,448 comments#\"\r\n",
       "\"03/04/2022  07:44 PM                84 date\"\r\n",
       "\"03/04/2022  07:44 PM             4,232 mktflag\"\r\n",
       "\"03/04/2022  07:44 PM               152 price\"\r\n",
       "\"03/04/2022  07:44 PM                84 time\"\r\n",
       "\"03/04/2022  07:44 PM                50 volume\"\r\n",
       "\"               9 File(s)         17,751 bytes\"\r\n",
       "\"               2 Dir(s)  793,847,029,760 bytes free\"\r\n"
      ]
     },
     "execution_count": 33,
     "metadata": {},
     "output_type": "execute_result"
    }
   ],
   "source": [
    "\\dir test\\db\\sdb\\trades"
   ]
  },
  {
   "cell_type": "markdown",
   "id": "8605a64c",
   "metadata": {},
   "source": [
    "Above it saved trades in a db called \"sdb\" and placed the sym file above the splayed table so multiple splayed tables can share the sym file."
   ]
  },
  {
   "cell_type": "code",
   "execution_count": 34,
   "id": "9c82db8f",
   "metadata": {},
   "outputs": [
    {
     "data": {
      "text/plain": [
       "{[tabPath;pvar;table;table2Add]\r\n",
       "    // tabPath -- path where to store the table\r\n",
       "    // pvar -- variable to sort and index on for fast querying\r\n",
       "    // table -- name of the saved table\r\n",
       "    // table2Add -- table to append\r\n",
       "    @[;pvar;`p#] pvar xasc (` sv (tabPath;`;table;`)) upsert .Q.en[tabPath] t..\r\n",
       " }\r\n"
      ]
     },
     "execution_count": 34,
     "metadata": {},
     "output_type": "execute_result"
    }
   ],
   "source": [
    ".quantQ.io.appendSplayedTab"
   ]
  },
  {
   "cell_type": "markdown",
   "id": "bd8d7b22",
   "metadata": {},
   "source": [
    "This function exists to add new data to existing splayed table. When passing in the new data in table2Add, you pass in without a backtick. The two functions are almost identicle except the append uses upsert instead of save."
   ]
  },
  {
   "cell_type": "markdown",
   "id": "0789a7db",
   "metadata": {},
   "source": [
    "### 6.4 Partitioned Table\n",
    "In addition to splaying table, we may partition tables. Partitions are defined by a partition column, for which each distinct value v a partition  is created. Typically this goes by date. So for each date a new patition is created, and in each partition a table or many tabels can be stored. Each table then is spalyed."
   ]
  },
  {
   "cell_type": "code",
   "execution_count": 35,
   "id": "4cdcc786",
   "metadata": {},
   "outputs": [
    {
     "data": {
      "text/plain": [
       "::\r\n",
       "::\r\n",
       "::\r\n"
      ]
     },
     "execution_count": 35,
     "metadata": {},
     "output_type": "execute_result"
    }
   ],
   "source": [
    "mydbdir:hsym `$dataDir,\"/mydb\";\n",
    "\n",
    "{`trd set select from trades where date=x; .Q.dpft[mydbdir;x;`code;`trd]; delete trd from `.;} each distinct trades[`date]"
   ]
  },
  {
   "cell_type": "code",
   "execution_count": 36,
   "id": "6f42810d",
   "metadata": {},
   "outputs": [
    {
     "data": {
      "text/plain": [
       "`:C:/Users/moazi/Documents/GitHub/Kdb-ML-Big-Data-Notes/test/db/mydb\r\n"
      ]
     },
     "execution_count": 36,
     "metadata": {},
     "output_type": "execute_result"
    }
   ],
   "source": [
    "mydbdir"
   ]
  },
  {
   "cell_type": "markdown",
   "id": "94c20ace",
   "metadata": {},
   "source": [
    " The funciton above calls .Q.dfpt for each instance of the partitioned value"
   ]
  },
  {
   "cell_type": "code",
   "execution_count": 37,
   "id": "3d68dd84",
   "metadata": {},
   "outputs": [
    {
     "data": {
      "text/plain": [
       "2016.04.07 2016.04.07 2016.04.07 2016.04.07 2016.04.07 2016.04.07 2016.04.08 ..\r\n"
      ]
     },
     "execution_count": 37,
     "metadata": {},
     "output_type": "execute_result"
    }
   ],
   "source": [
    "trades[`date]"
   ]
  },
  {
   "cell_type": "code",
   "execution_count": 38,
   "id": "cce1c5fd",
   "metadata": {},
   "outputs": [
    {
     "data": {
      "text/plain": [
       "code  date       time         price  volume mktflag comments               \r\n",
       "---------------------------------------------------------------------------\r\n",
       "CLM16 2016.04.07 10:20:00.329 38.3   4      E       \"NYMEX/CME Group trade\"\r\n",
       "GCM16 2016.04.07 12:00:00.055 1239.7 6      E       \"\"                     \r\n",
       "GCM16 2016.04.07 12:37:02.106 1240.5 1      E       \"\"                     \r\n",
       "CLM16 2016.04.07 13:00:00.128 38.04  3      E       \"NYMEX/CME Group trade\"\r\n",
       "VKX16 2016.04.07 13:22:05.617 18.85  5      E       \"\"                     \r\n",
       "GCM16 2016.04.07 14:35:01.241 1241.2 1      E       \"\"                     \r\n"
      ]
     },
     "execution_count": 38,
     "metadata": {},
     "output_type": "execute_result"
    }
   ],
   "source": [
    "select from trades where date=2016.04.07"
   ]
  },
  {
   "cell_type": "code",
   "execution_count": 39,
   "id": "406b2aa6",
   "metadata": {},
   "outputs": [],
   "source": [
    "delete trd from `.;"
   ]
  },
  {
   "cell_type": "code",
   "execution_count": 40,
   "id": "853cd000",
   "metadata": {},
   "outputs": [
    {
     "data": {
      "text/plain": [
       "\" Volume in drive C is Windows-SSD\"\r\n",
       "\" Volume Serial Number is 4244-28BF\"\r\n",
       "\"\"\r\n",
       "\" Directory of C:\\\\Users\\\\moazi\\\\Documents\\\\GitHub\\\\Kdb-ML-Big-Data-Notes\"\r\n",
       "\"\"\r\n",
       "\"03/04/2022  07:43 PM    <DIR>          .\"\r\n",
       "\"03/01/2022  09:50 PM    <DIR>          ..\"\r\n",
       "\"10/15/2021  07:37 PM                66 .gitattributes\"\r\n",
       "\"02/22/2022  08:47 PM    <DIR>          .ipynb_checkpoints\"\r\n",
       "\"03/03/2022  09:09 PM            32,093 Brief summary of Q.ipynb\"\r\n",
       "\"11/28/2021  04:30 PM            22,203 Chapter 1 Fundamentals of the q Langu..\r\n",
       "\"11/28/2021  04:40 PM            26,601 Chapter 2 Dictionaries and Tables.ipy..\r\n",
       "\"02/14/2022  04:38 PM            48,599 Chapter 3 Functions.ipynb\"\r\n",
       "\"02/19/2022  03:50 PM            20,149 Chapter 5 Debugging q Code.ipynb\"\r\n",
       "\"03/04/2022  07:43 PM            40,401 Chapter 6 Splayed and Partitioned Tab..\r\n",
       "\"12/30/2021  08:43 PM            35,822 Chapter12 Basic Overview of Statistic..\r\n",
       "\"01/11/2022  10:15 PM            11,721 cointegration test.ipynb\"\r\n",
       "\"12/15/2021  06:50 PM    <DIR>          helper\"\r\n",
       "\"02/25/2022  05:36 PM    <DIR>          mydb\"\r\n",
       "\"12/23/2021  04:12 AM             9,902 PracticeQuestions.ipynb\"\r\n",
       "\"01/11/2022  10:12 PM            19,611 python scractsheet.ipynb\"\r\n",
       "\"12/26/2021  08:02 PM               416 q scrapsheet.ipynb\"\r\n",
       "..\r\n"
      ]
     },
     "execution_count": 40,
     "metadata": {},
     "output_type": "execute_result"
    }
   ],
   "source": [
    "\\dir"
   ]
  },
  {
   "cell_type": "markdown",
   "id": "ce426b2c",
   "metadata": {},
   "source": [
    "In the directory structure above we have one folder for each date with the tables for that date in each folder. sym file is shared amongst all the tables in all the dates.\""
   ]
  },
  {
   "cell_type": "code",
   "execution_count": 41,
   "id": "3b5abf82",
   "metadata": {},
   "outputs": [
    {
     "data": {
      "text/plain": [
       "`quotes\r\n"
      ]
     },
     "execution_count": 41,
     "metadata": {},
     "output_type": "execute_result"
    }
   ],
   "source": [
    "// example with quotes table\n",
    "quotes:([]code:`symbol$(); date:`date$(); time:`time$(); bidprice:`float$(); bidsize:`short$();\n",
    "    askprice:`float$(); asksize:`short$(); mktflag:`symbol$());\n",
    "\n",
    "`quotes upsert ((`CLM16; 2016.04.07; 10:15:00.010; 38.34; 86h; 38.35; 3h; `E);\n",
    "    (`GCM16; 2016.04.07; 11:02:16.663; 1241.4; 22h; 1241.5; 1h; `E);\n",
    "    (`CLM16; 2016.04.07; 12:05:00.303; 38.12; 7h; 38.13; 13h; `E);\n",
    "    (`CLM16; 2016.04.07; 12:22:00.486; 38.11; 16h; 38.12; 8h; `E);\n",
    "    (`GCM16; 2016.04.07; 13:00:00.205; 1238.6; 8h; 1238.6; 7h; `E);\n",
    "    (`CLM16; 2016.04.07; 15:00:00.051; 38.52; 9h; 38.53; 18h; `E);\n",
    "    (`GCM16; 2016.04.07; 15:20:02.224; 1240.9; 6h; 1241f; 1h; `E);\n",
    "    (`CLM16; 2016.04.08; 10:53:00.002; 40.83; 6h; 40.83; 66h; `E);\n",
    "    (`CLM16; 2016.04.08; 13:56:30.070; 40.54; 38h; 40.54; 58h; `E);\n",
    "    (`CLM16; 2016.04.08; 15:20:02.000; 40.77; 26h; 40.79; 44h; `E);\n",
    "    (`CLM16; 2016.04.08; 15:21:43.786; 40.76; 3h; 40.77; 28h; `E))"
   ]
  },
  {
   "cell_type": "code",
   "execution_count": 42,
   "id": "58733622",
   "metadata": {},
   "outputs": [
    {
     "data": {
      "text/plain": [
       "code  date       time         bidprice bidsize askprice asksize mktflag\r\n",
       "-----------------------------------------------------------------------\r\n",
       "CLM16 2016.04.07 10:15:00.010 38.34    86      38.35    3       E      \r\n",
       "GCM16 2016.04.07 11:02:16.663 1241.4   22      1241.5   1       E      \r\n",
       "CLM16 2016.04.07 12:05:00.303 38.12    7       38.13    13      E      \r\n",
       "CLM16 2016.04.07 12:22:00.486 38.11    16      38.12    8       E      \r\n",
       "GCM16 2016.04.07 13:00:00.205 1238.6   8       1238.6   7       E      \r\n",
       "CLM16 2016.04.07 15:00:00.051 38.52    9       38.53    18      E      \r\n",
       "GCM16 2016.04.07 15:20:02.224 1240.9   6       1241     1       E      \r\n",
       "CLM16 2016.04.08 10:53:00.002 40.83    6       40.83    66      E      \r\n",
       "CLM16 2016.04.08 13:56:30.070 40.54    38      40.54    58      E      \r\n",
       "CLM16 2016.04.08 15:20:02.000 40.77    26      40.79    44      E      \r\n",
       "CLM16 2016.04.08 15:21:43.786 40.76    3       40.77    28      E      \r\n"
      ]
     },
     "execution_count": 42,
     "metadata": {},
     "output_type": "execute_result"
    }
   ],
   "source": [
    "quotes"
   ]
  },
  {
   "cell_type": "code",
   "execution_count": 43,
   "id": "620c0c9a",
   "metadata": {},
   "outputs": [
    {
     "data": {
      "text/plain": [
       "::\r\n",
       "::\r\n"
      ]
     },
     "execution_count": 43,
     "metadata": {},
     "output_type": "execute_result"
    }
   ],
   "source": [
    "{`qt set select from quotes where date = x; .Q.dpft[mydbdir; x; `code; `qt]; delete qt from `. ;} each distinct quotes[`date]"
   ]
  },
  {
   "cell_type": "markdown",
   "id": "63b1aed9",
   "metadata": {},
   "source": [
    "To load partitioned tables into kdb you must pass the name of the directory that contains them. typically, we load it into a q process like so:\n",
    "\n",
    "$q mydb"
   ]
  },
  {
   "cell_type": "markdown",
   "id": "653c3f55",
   "metadata": {},
   "source": [
    "Important to note that ww need all the tables in all the partitions inorder for it to work correctly."
   ]
  },
  {
   "cell_type": "code",
   "execution_count": 57,
   "id": "afc91152",
   "metadata": {},
   "outputs": [
    {
     "data": {
      "text/plain": [
       "`.\r\n"
      ]
     },
     "execution_count": 57,
     "metadata": {},
     "output_type": "execute_result"
    }
   ],
   "source": [
    "delete from `."
   ]
  },
  {
   "cell_type": "code",
   "execution_count": 81,
   "id": "f738d7b9",
   "metadata": {},
   "outputs": [
    {
     "data": {
      "text/plain": [
       "\"C:\\\\Users\\\\moazi\\\\Documents\\\\GitHub\\\\Kdb-ML-Big-Data-Notes\"\r\n"
      ]
     },
     "execution_count": 81,
     "metadata": {},
     "output_type": "execute_result"
    }
   ],
   "source": [
    "\\cd"
   ]
  },
  {
   "cell_type": "code",
   "execution_count": 82,
   "id": "91addecd",
   "metadata": {},
   "outputs": [],
   "source": [
    "\\l test/db/mydb"
   ]
  },
  {
   "cell_type": "code",
   "execution_count": 83,
   "id": "382d69d3",
   "metadata": {},
   "outputs": [
    {
     "data": {
      "text/plain": [
       ",`trd\r\n"
      ]
     },
     "execution_count": 83,
     "metadata": {},
     "output_type": "execute_result"
    }
   ],
   "source": [
    "\\a"
   ]
  },
  {
   "cell_type": "markdown",
   "id": "db52181b",
   "metadata": {},
   "source": [
    "Notice how only trd is listed but not quote"
   ]
  },
  {
   "cell_type": "code",
   "execution_count": 85,
   "id": "83a29972",
   "metadata": {},
   "outputs": [
    {
     "data": {
      "text/plain": [
       "\" Volume in drive C is Windows-SSD\"\r\n",
       "\" Volume Serial Number is 4244-28BF\"\r\n",
       "\"\"\r\n",
       "\" Directory of C:\\\\Users\\\\moazi\\\\Documents\\\\GitHub\\\\Kdb-ML-Big-Data-Notes\\\\te..\r\n",
       "\"\"\r\n",
       "\"03/03/2022  08:23 PM    <DIR>          .\"\r\n",
       "\"03/03/2022  08:23 PM    <DIR>          ..\"\r\n",
       "\"03/04/2022  07:44 PM    <DIR>          trd\"\r\n",
       "\"               0 File(s)              0 bytes\"\r\n",
       "\"               3 Dir(s)  793,843,507,200 bytes free\"\r\n"
      ]
     },
     "execution_count": 85,
     "metadata": {},
     "output_type": "execute_result"
    }
   ],
   "source": [
    "\\dir 2016.04.11"
   ]
  },
  {
   "cell_type": "code",
   "execution_count": 86,
   "id": "86d0cf6b",
   "metadata": {},
   "outputs": [
    {
     "data": {
      "text/plain": [
       "\" Volume in drive C is Windows-SSD\"\r\n",
       "\" Volume Serial Number is 4244-28BF\"\r\n",
       "\"\"\r\n",
       "\" Directory of C:\\\\Users\\\\moazi\\\\Documents\\\\GitHub\\\\Kdb-ML-Big-Data-Notes\\\\te..\r\n",
       "\"\"\r\n",
       "\"03/03/2022  09:08 PM    <DIR>          .\"\r\n",
       "\"03/03/2022  08:23 PM    <DIR>          ..\"\r\n",
       "\"03/04/2022  07:44 PM    <DIR>          qt\"\r\n",
       "\"03/04/2022  07:44 PM    <DIR>          trd\"\r\n",
       "\"               0 File(s)              0 bytes\"\r\n",
       "\"               4 Dir(s)  793,843,499,008 bytes free\"\r\n"
      ]
     },
     "execution_count": 86,
     "metadata": {},
     "output_type": "execute_result"
    }
   ],
   "source": [
    "\\dir  2016.04.08"
   ]
  },
  {
   "cell_type": "markdown",
   "id": "56a713ed",
   "metadata": {},
   "source": [
    "you can see that the quotes table isn't in the last directory, 2016.04.11, so it's not loaded. A useful funciton to fix this in .Q.chk. This will create an empty table in the directories where the table is missing."
   ]
  },
  {
   "cell_type": "code",
   "execution_count": 92,
   "id": "9ec3bd4e",
   "metadata": {},
   "outputs": [
    {
     "data": {
      "text/plain": [
       ",`:./2016.04.11\r\n",
       "()\r\n",
       "()\r\n"
      ]
     },
     "execution_count": 92,
     "metadata": {},
     "output_type": "execute_result"
    }
   ],
   "source": [
    ".Q.chk[`:.]"
   ]
  },
  {
   "cell_type": "code",
   "execution_count": 93,
   "id": "ba379c42",
   "metadata": {},
   "outputs": [],
   "source": [
    "\\l ."
   ]
  },
  {
   "cell_type": "code",
   "execution_count": 94,
   "id": "deb40b15",
   "metadata": {},
   "outputs": [
    {
     "data": {
      "text/plain": [
       "`qt`trd\r\n"
      ]
     },
     "execution_count": 94,
     "metadata": {},
     "output_type": "execute_result"
    }
   ],
   "source": [
    "\\a"
   ]
  },
  {
   "cell_type": "code",
   "execution_count": 95,
   "id": "2284c917",
   "metadata": {},
   "outputs": [
    {
     "data": {
      "text/plain": [
       "\" Volume in drive C is Windows-SSD\"\r\n",
       "\" Volume Serial Number is 4244-28BF\"\r\n",
       "\"\"\r\n",
       "\" Directory of C:\\\\Users\\\\moazi\\\\Documents\\\\GitHub\\\\Kdb-ML-Big-Data-Notes\\\\te..\r\n",
       "\"\"\r\n",
       "\"03/04/2022  08:00 PM    <DIR>          .\"\r\n",
       "\"03/03/2022  08:23 PM    <DIR>          ..\"\r\n",
       "\"03/04/2022  08:00 PM    <DIR>          qt\"\r\n",
       "\"03/04/2022  07:44 PM    <DIR>          trd\"\r\n",
       "\"               0 File(s)              0 bytes\"\r\n",
       "\"               4 Dir(s)  793,839,702,016 bytes free\"\r\n"
      ]
     },
     "execution_count": 95,
     "metadata": {},
     "output_type": "execute_result"
    }
   ],
   "source": [
    "\\dir 2016.04.11"
   ]
  },
  {
   "cell_type": "code",
   "execution_count": 96,
   "id": "477f4da6",
   "metadata": {},
   "outputs": [
    {
     "data": {
      "text/plain": [
       "date code time bidprice bidsize askprice asksize mktflag\r\n",
       "--------------------------------------------------------\r\n"
      ]
     },
     "execution_count": 96,
     "metadata": {},
     "output_type": "execute_result"
    }
   ],
   "source": [
    "select from qt where date = 2022.03.04"
   ]
  },
  {
   "cell_type": "markdown",
   "id": "5f4496c0",
   "metadata": {},
   "source": [
    "you can see that that an empty table was created in that last directory."
   ]
  },
  {
   "cell_type": "code",
   "execution_count": 97,
   "id": "0796cdcb",
   "metadata": {},
   "outputs": [],
   "source": [
    "\\cd .."
   ]
  },
  {
   "cell_type": "code",
   "execution_count": 98,
   "id": "3ada3252",
   "metadata": {},
   "outputs": [
    {
     "data": {
      "text/plain": [
       "\"C:\\\\Users\\\\moazi\\\\Documents\\\\GitHub\\\\Kdb-ML-Big-Data-Notes\\\\test\\\\db\"\r\n"
      ]
     },
     "execution_count": 98,
     "metadata": {},
     "output_type": "execute_result"
    }
   ],
   "source": [
    "\\cd"
   ]
  },
  {
   "cell_type": "code",
   "execution_count": 98,
   "id": "410a75b5",
   "metadata": {},
   "outputs": [
    {
     "ename": "\u001b[0;31m./2016.04.11/qt/code. OS reports: The system cannot find the path specified.\u001b[0m",
     "evalue": "\u001b[0;31m./2016.04.11/qt/code. OS reports: The system cannot find the path specified.\u001b[0m",
     "output_type": "error",
     "traceback": [
      "\u001b[0;31mevaluation error:\n\u001b[0m",
      "\u001b[0;31m./2016.04.11/qt/code. OS reports: The system cannot find the path specified.\u001b[0m",
      "\u001b[0;31m\u001b[0m",
      "\u001b[0;31m  [4]  (.Q.p2)\n\n\u001b[0m",
      "\u001b[0;31m  [3]  (.Q.p)\n\n\u001b[0m",
      "\u001b[0;31m  [2]  (.Q.foo)\n\n\u001b[0m",
      "\u001b[0;31m  [1]  (.Q.ps)\n\n\u001b[0m",
      "\u001b[0;31m  [0]  select from qt where date = 2022.03.04\r\n       ^\r\n\u001b[0m"
     ]
    }
   ],
   "source": [
    "select from qt where date = 2022.03.04"
   ]
  },
  {
   "cell_type": "markdown",
   "id": "f8103411",
   "metadata": {},
   "source": [
    "Notice how are queries stop working when we move out of the directory structure of the partitioed database."
   ]
  },
  {
   "cell_type": "code",
   "execution_count": 100,
   "id": "05352baf",
   "metadata": {},
   "outputs": [],
   "source": [
    "\\cd mydb"
   ]
  },
  {
   "cell_type": "code",
   "execution_count": 101,
   "id": "537ff229",
   "metadata": {},
   "outputs": [
    {
     "data": {
      "text/plain": [
       "date code time bidprice bidsize askprice asksize mktflag\r\n",
       "--------------------------------------------------------\r\n"
      ]
     },
     "execution_count": 101,
     "metadata": {},
     "output_type": "execute_result"
    }
   ],
   "source": [
    "select from qt where date = 2022.03.04"
   ]
  },
  {
   "cell_type": "markdown",
   "id": "72e0128c",
   "metadata": {},
   "source": [
    "And works again when we move back in."
   ]
  },
  {
   "cell_type": "code",
   "execution_count": 102,
   "id": "e3386840",
   "metadata": {},
   "outputs": [
    {
     "data": {
      "text/plain": [
       "`date`qt`sym`trd\r\n"
      ]
     },
     "execution_count": 102,
     "metadata": {},
     "output_type": "execute_result"
    }
   ],
   "source": [
    "\\v"
   ]
  },
  {
   "cell_type": "markdown",
   "id": "afc5b4f0",
   "metadata": {},
   "source": [
    "Also notice that there are two other variables besides the two tables qt and trd. They are date (our partition) and sym which stores all the values of type sym."
   ]
  },
  {
   "cell_type": "code",
   "execution_count": 103,
   "id": "63fda62d",
   "metadata": {},
   "outputs": [
    {
     "data": {
      "text/plain": [
       "2016.04.07 2016.04.08 2016.04.11\r\n"
      ]
     },
     "execution_count": 103,
     "metadata": {},
     "output_type": "execute_result"
    }
   ],
   "source": [
    "date"
   ]
  },
  {
   "cell_type": "code",
   "execution_count": 104,
   "id": "81a850ae",
   "metadata": {},
   "outputs": [
    {
     "data": {
      "text/plain": [
       "`CLM16`GCM16`VKX16`E`VXK16\r\n"
      ]
     },
     "execution_count": 104,
     "metadata": {},
     "output_type": "execute_result"
    }
   ],
   "source": [
    "sym"
   ]
  },
  {
   "cell_type": "code",
   "execution_count": null,
   "id": "98ccd42c",
   "metadata": {},
   "outputs": [],
   "source": []
  }
 ],
 "metadata": {
  "kernelspec": {
   "display_name": "Q (kdb+)",
   "language": "q",
   "name": "qpk"
  },
  "language_info": {
   "file_extension": ".q",
   "mimetype": "text/x-q",
   "name": "q",
   "version": "4.0"
  }
 },
 "nbformat": 4,
 "nbformat_minor": 5
}

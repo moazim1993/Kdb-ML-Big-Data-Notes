{
 "cells": [
  {
   "cell_type": "code",
   "execution_count": 43,
   "id": "7cd13012",
   "metadata": {},
   "outputs": [
    {
     "data": {
      "text/plain": [
       "21"
      ]
     },
     "execution_count": 43,
     "metadata": {},
     "output_type": "execute_result"
    }
   ],
   "source": [
    "# leet code submission 11/28/2021 22:59\tAccepted\t28 ms\t14.3 MB\tpython3\n",
    "\n",
    "def climbStairs( n: int):\n",
    "        if n <= 3:\n",
    "            return n\n",
    "        limit = round(n/2)\n",
    "        numTwos = 0\n",
    "        result = 0\n",
    "        def fact(n: int):\n",
    "            return n * fact(n - 1) if n > 1 else 1\n",
    "        while numTwos <= limit:\n",
    "            numOnes = n - (numTwos*2)\n",
    "            result += int(fact(numOnes + numTwos)/(fact(numTwos)*fact(numOnes)))\n",
    "            numTwos += 1\n",
    "        return result\n",
    "    \n",
    "climbStairs(7)"
   ]
  },
  {
   "cell_type": "code",
   "execution_count": 44,
   "id": "ef31f49f",
   "metadata": {},
   "outputs": [
    {
     "name": "stdout",
     "output_type": "stream",
     "text": [
      "1\n",
      "2\n",
      "3\n",
      "5\n",
      "8\n",
      "13\n",
      "21\n"
     ]
    }
   ],
   "source": [
    "for i in range(1,8):\n",
    "    print(climbStairs(i))"
   ]
  },
  {
   "cell_type": "code",
   "execution_count": 90,
   "id": "ebd46115",
   "metadata": {},
   "outputs": [
    {
     "name": "stdout",
     "output_type": "stream",
     "text": [
      "[[1], [1, 1], [1, 2, 1]]\n"
     ]
    }
   ],
   "source": [
    "# 11/28/2021 23:41\tAccepted\t28 ms\t14.2 MB\tpython3\n",
    "#Runtime: 28 ms, faster than 87.57% of Python3 online submissions for Pascal's Triangle.\n",
    "#Memory Usage: 14.2 MB, less than 82.42% of Python3 online submissions for Pascal's Triangle.\n",
    "\n",
    "\n",
    "def pascalTriangle(numRows: int):\n",
    "    if numRows == 1:\n",
    "        return [1]\n",
    "    elif numRows == 2:\n",
    "        return [[1],[1,1]]\n",
    "    else:\n",
    "        hold = pascalTriangle(numRows-1)\n",
    "        lst = [1]+[hold[-1][i-1]+hold[-1][i] for i in range(1, numRows-1)]+[1]\n",
    "        return hold + [lst]\n",
    "\n",
    "print(pascalTriangle(3))"
   ]
  },
  {
   "cell_type": "code",
   "execution_count": 88,
   "id": "e74af704",
   "metadata": {},
   "outputs": [
    {
     "name": "stdout",
     "output_type": "stream",
     "text": [
      "[[1], [1, 1], [1, 2, 1], [1, 3, 3, 1]]\n"
     ]
    }
   ],
   "source": [
    "print(pascalTriangle(4))"
   ]
  },
  {
   "cell_type": "code",
   "execution_count": 89,
   "id": "b32312c1",
   "metadata": {},
   "outputs": [
    {
     "name": "stdout",
     "output_type": "stream",
     "text": [
      "[[1], [1, 1], [1, 2, 1], [1, 3, 3, 1], [1, 4, 6, 4, 1]]\n"
     ]
    }
   ],
   "source": [
    "print(pascalTriangle(5))"
   ]
  },
  {
   "cell_type": "markdown",
   "id": "af1658fb",
   "metadata": {},
   "source": [
    "#### 11. Container With Most Water\n",
    "https://leetcode.com/problems/container-with-most-water/"
   ]
  },
  {
   "cell_type": "code",
   "execution_count": 1,
   "id": "001db3d5",
   "metadata": {},
   "outputs": [],
   "source": [
    "inp1 = [1,8,6,2,5,4,8,3,7]  # 49\n",
    "inp2 = [1,1]                # 1\n",
    "inp3 = [4,3,2,1,4]          # 16\n",
    "inp4 = [1,2,1]              # 2"
   ]
  },
  {
   "cell_type": "code",
   "execution_count": null,
   "id": "fee5924b",
   "metadata": {},
   "outputs": [],
   "source": [
    "def maxArea(height):\n",
    "    hold = -1\n",
    "    for h in height:\n",
    "        "
   ]
  },
  {
   "cell_type": "code",
   "execution_count": 5,
   "id": "42f4b0f5",
   "metadata": {},
   "outputs": [
    {
     "data": {
      "image/png": "[encoded data removed]",
      "text/plain": [
       "<Figure size 432x288 with 1 Axes>"
      ]
     },
     "metadata": {
      "needs_background": "light"
     },
     "output_type": "display_data"
    }
   ],
   "source": [
    "import matplotlib.pyplot as plt\n",
    "\n",
    "x = [0,1,2,3,4,5,6,7,8,9,10,11,12,13,14,15]\n",
    "y = [1, 103, 103, 95, 109, 117, 59, 73, 66, 56, 72, 124, 150, 118, 125, 129]\n",
    "plt.bar(x,y)\n",
    "plt.title('Histogram')\n",
    "plt.xlabel('Buckets')\n",
    "plt.ylabel('Quantity')\n",
    "plt.show()"
   ]
  },
  {
   "cell_type": "code",
   "execution_count": 6,
   "id": "b288174a",
   "metadata": {},
   "outputs": [
    {
     "ename": "SyntaxError",
     "evalue": "unmatched ')' (<ipython-input-6-48fa05635b67>, line 1)",
     "output_type": "error",
     "traceback": [
      "\u001b[1;36m  File \u001b[1;32m\"<ipython-input-6-48fa05635b67>\"\u001b[1;36m, line \u001b[1;32m1\u001b[0m\n\u001b[1;33m    p)x`\u001b[0m\n\u001b[1;37m     ^\u001b[0m\n\u001b[1;31mSyntaxError\u001b[0m\u001b[1;31m:\u001b[0m unmatched ')'\n"
     ]
    }
   ],
   "source": [
    "p)x`"
   ]
  },
  {
   "cell_type": "markdown",
   "id": "373911ec",
   "metadata": {},
   "source": [
    "### Cointegration Python Implimentation"
   ]
  },
  {
   "cell_type": "code",
   "execution_count": 1,
   "id": "f77813e6",
   "metadata": {},
   "outputs": [],
   "source": [
    "import inspect\n"
   ]
  },
  {
   "cell_type": "code",
   "execution_count": 3,
   "id": "7e27f21e",
   "metadata": {},
   "outputs": [
    {
     "data": {
      "text/plain": [
       "(-17.24210183559658,\n",
       " 6.0980230674301174e-30,\n",
       " 0,\n",
       " 249,\n",
       " {'1%': -3.4568881317725864,\n",
       "  '5%': -2.8732185133016057,\n",
       "  '10%': -2.5729936189738876},\n",
       " 647.3569757866532)"
      ]
     },
     "execution_count": 3,
     "metadata": {},
     "output_type": "execute_result"
    }
   ],
   "source": [
    "import numpy as np\n",
    "import statsmodels.api as sm\n",
    "import statsmodels.tsa.stattools as ts\n",
    "\n",
    "y = np.random.normal(0,1, 250)\n",
    "x = np.random.normal(0,1, 250)\n",
    "\n",
    "def cointegration_test(y, x):\n",
    "    # Step 1: regress on variable on the other \n",
    "    ols_result = sm.OLS(y, x).fit() \n",
    "    # Step 2: obtain the residual (ols_resuld.resid)\n",
    "    # Step 3: apply Augmented Dickey-Fuller test to see whether \n",
    "    #        the residual is unit root    \n",
    "    return ts.adfuller(ols_result.resid)\n",
    "\n",
    "cointegration_test(y,x)"
   ]
  },
  {
   "cell_type": "code",
   "execution_count": 10,
   "id": "12927844",
   "metadata": {},
   "outputs": [
    {
     "ename": "TypeError",
     "evalue": "'module' object is not callable",
     "output_type": "error",
     "traceback": [
      "\u001b[1;31m---------------------------------------------------------------------------\u001b[0m",
      "\u001b[1;31mTypeError\u001b[0m                                 Traceback (most recent call last)",
      "\u001b[1;32m<ipython-input-10-f637b2b93c38>\u001b[0m in \u001b[0;36m<module>\u001b[1;34m\u001b[0m\n\u001b[0;32m      1\u001b[0m \u001b[0mols\u001b[0m \u001b[1;33m=\u001b[0m \u001b[0msm\u001b[0m\u001b[1;33m.\u001b[0m\u001b[0mOLS\u001b[0m\u001b[1;33m(\u001b[0m\u001b[0my\u001b[0m\u001b[1;33m,\u001b[0m \u001b[0mx\u001b[0m\u001b[1;33m)\u001b[0m\u001b[1;33m\u001b[0m\u001b[1;33m\u001b[0m\u001b[0m\n\u001b[1;32m----> 2\u001b[1;33m \u001b[0minspect\u001b[0m\u001b[1;33m(\u001b[0m\u001b[0mols\u001b[0m\u001b[1;33m.\u001b[0m\u001b[0mfit\u001b[0m\u001b[1;33m(\u001b[0m\u001b[1;33m)\u001b[0m\u001b[1;33m)\u001b[0m\u001b[1;33m\u001b[0m\u001b[1;33m\u001b[0m\u001b[0m\n\u001b[0m",
      "\u001b[1;31mTypeError\u001b[0m: 'module' object is not callable"
     ]
    }
   ],
   "source": [
    "ols = sm.OLS(y, x)\n",
    "inspect(ols.fit())"
   ]
  },
  {
   "cell_type": "code",
   "execution_count": 11,
   "id": "0c6279e4",
   "metadata": {},
   "outputs": [],
   "source": [
    "import numpy as np"
   ]
  },
  {
   "cell_type": "code",
   "execution_count": 16,
   "id": "c03e2217",
   "metadata": {},
   "outputs": [
    {
     "data": {
      "text/plain": [
       "array([ 1,  1,  1, 15])"
      ]
     },
     "execution_count": 16,
     "metadata": {},
     "output_type": "execute_result"
    }
   ],
   "source": [
    "x = np.array([1, 2, 3, 4, 19])\n",
    "np.diff(x, axis=0)"
   ]
  },
  {
   "cell_type": "code",
   "execution_count": 17,
   "id": "b390432b",
   "metadata": {},
   "outputs": [
    {
     "ename": "TypeError",
     "evalue": "'module' object is not callable",
     "output_type": "error",
     "traceback": [
      "\u001b[1;31m---------------------------------------------------------------------------\u001b[0m",
      "\u001b[1;31mTypeError\u001b[0m                                 Traceback (most recent call last)",
      "\u001b[1;32m<ipython-input-17-845f7dbb9e0c>\u001b[0m in \u001b[0;36m<module>\u001b[1;34m\u001b[0m\n\u001b[0;32m      1\u001b[0m \u001b[1;32mfrom\u001b[0m \u001b[0mstatsmodels\u001b[0m\u001b[1;33m.\u001b[0m\u001b[0mtsa\u001b[0m\u001b[1;33m.\u001b[0m\u001b[0mtsatools\u001b[0m \u001b[1;32mimport\u001b[0m \u001b[0mlagmat\u001b[0m\u001b[1;33m\u001b[0m\u001b[1;33m\u001b[0m\u001b[0m\n\u001b[1;32m----> 2\u001b[1;33m \u001b[0minspect\u001b[0m\u001b[1;33m(\u001b[0m\u001b[0mlagmat\u001b[0m\u001b[1;33m)\u001b[0m\u001b[1;33m\u001b[0m\u001b[1;33m\u001b[0m\u001b[0m\n\u001b[0m",
      "\u001b[1;31mTypeError\u001b[0m: 'module' object is not callable"
     ]
    }
   ],
   "source": [
    "from statsmodels.tsa.tsatools import lagmat\n",
    "inspect(lagmat)"
   ]
  },
  {
   "cell_type": "code",
   "execution_count": 18,
   "id": "061bc6b4",
   "metadata": {},
   "outputs": [],
   "source": [
    "X = np.arange(1,7).reshape(-1,2)"
   ]
  },
  {
   "cell_type": "code",
   "execution_count": 19,
   "id": "287b3b79",
   "metadata": {},
   "outputs": [
    {
     "data": {
      "text/plain": [
       "array([[1, 2],\n",
       "       [3, 4],\n",
       "       [5, 6]])"
      ]
     },
     "execution_count": 19,
     "metadata": {},
     "output_type": "execute_result"
    }
   ],
   "source": [
    "X"
   ]
  },
  {
   "cell_type": "code",
   "execution_count": 20,
   "id": "c7e6d5e0",
   "metadata": {},
   "outputs": [
    {
     "data": {
      "text/plain": [
       "array([[1., 2., 0., 0., 0., 0.],\n",
       "       [3., 4., 1., 2., 0., 0.],\n",
       "       [5., 6., 3., 4., 1., 2.]])"
      ]
     },
     "execution_count": 20,
     "metadata": {},
     "output_type": "execute_result"
    }
   ],
   "source": [
    "lagmat(X, maxlag=2, trim=\"forward\", original='in')"
   ]
  },
  {
   "cell_type": "code",
   "execution_count": null,
   "id": "688dfba8",
   "metadata": {},
   "outputs": [],
   "source": []
  }
 ],
 "metadata": {
  "kernelspec": {
   "display_name": "Python 3",
   "language": "python",
   "name": "python3"
  },
  "language_info": {
   "codemirror_mode": {
    "name": "ipython",
    "version": 3
   },
   "file_extension": ".py",
   "mimetype": "text/x-python",
   "name": "python",
   "nbconvert_exporter": "python",
   "pygments_lexer": "ipython3",
   "version": "3.8.8"
  }
 },
 "nbformat": 4,
 "nbformat_minor": 5
}

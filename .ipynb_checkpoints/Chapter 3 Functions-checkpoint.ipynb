{
 "cells": [
  {
   "cell_type": "markdown",
   "id": "4d490238",
   "metadata": {},
   "source": [
    "## Functions\n",
    "#### types of fucntions\n",
    "    - operators and primitive functions\n",
    "    - q-sql functions (i.e. select, update, upsert, insert, etc.)\n",
    "    - user defined functions\n",
    "    - adverbs or derived functions"
   ]
  },
  {
   "cell_type": "code",
   "execution_count": 1,
   "id": "f8e8d6f2",
   "metadata": {},
   "outputs": [
    {
     "name": "stdout",
     "output_type": "stream",
     "text": [
      "12\r\n",
      "12\r\n",
      "12\r\n"
     ]
    }
   ],
   "source": [
    "// Infix and prefix notations\n",
    "show 5 + 7 // infix notation\n",
    "show +[5;7] // prefix notation\n",
    "show (+) . 5 7 // apply notation"
   ]
  },
  {
   "cell_type": "markdown",
   "id": "3c5c9519",
   "metadata": {},
   "source": [
    "A q function is deliminated with {} and has optional [] for the declared variables\n",
    "x,y,z are implicitly defined as inputs"
   ]
  },
  {
   "cell_type": "code",
   "execution_count": 2,
   "id": "0a5a6a6c",
   "metadata": {},
   "outputs": [
    {
     "data": {
      "text/plain": [
       "25f\r\n"
      ]
     },
     "execution_count": 2,
     "metadata": {},
     "output_type": "execute_result"
    }
   ],
   "source": [
    "{x*x} 5f"
   ]
  },
  {
   "cell_type": "code",
   "execution_count": 3,
   "id": "60c14181",
   "metadata": {},
   "outputs": [
    {
     "data": {
      "text/plain": [
       "25f\r\n"
      ]
     },
     "execution_count": 3,
     "metadata": {},
     "output_type": "execute_result"
    }
   ],
   "source": [
    "{[int] int*int} 5f"
   ]
  },
  {
   "cell_type": "markdown",
   "id": "9428bc57",
   "metadata": {},
   "source": [
    "- prefix notation [] maybe needed when using longer expressions due to right to left evaluation\n",
    "- Also good for code clerity\n",
    "- Functions can ne nested"
   ]
  },
  {
   "cell_type": "code",
   "execution_count": 4,
   "id": "67dbb7d0",
   "metadata": {},
   "outputs": [
    {
     "data": {
      "text/plain": [
       "26f\r\n"
      ]
     },
     "execution_count": 4,
     "metadata": {},
     "output_type": "execute_result"
    }
   ],
   "source": [
    "a:{[x;w]v:{[x;w] 3*w+x};v[x;2*w]-4f}\n",
    "a[4f;3f]"
   ]
  },
  {
   "cell_type": "markdown",
   "id": "273ca75e",
   "metadata": {},
   "source": [
    "Functions and variables defined within the fucntion are local to the functions.\n",
    "\n",
    "To declare global inside the function use ::"
   ]
  },
  {
   "cell_type": "code",
   "execution_count": 4,
   "id": "4339a65c",
   "metadata": {},
   "outputs": [
    {
     "ename": "\u001b[0;31mv\u001b[0m",
     "evalue": "\u001b[0;31mv\u001b[0m",
     "output_type": "error",
     "traceback": [
      "\u001b[0;31mevaluation error:\n\u001b[0m",
      "\u001b[0;31mv\u001b[0m",
      "\u001b[0;31m\u001b[0m",
      "\u001b[0;31m  [0]  v\r\n       ^\r\n\u001b[0m"
     ]
    }
   ],
   "source": [
    "// v has no visibility from above\n",
    "v"
   ]
  },
  {
   "cell_type": "code",
   "execution_count": 5,
   "id": "5a10f28c",
   "metadata": {},
   "outputs": [
    {
     "name": "stdout",
     "output_type": "stream",
     "text": [
      "13\r\n"
     ]
    },
    {
     "data": {
      "text/plain": [
       "6\r\n"
      ]
     },
     "execution_count": 5,
     "metadata": {},
     "output_type": "execute_result"
    }
   ],
   "source": [
    "f:{[b]a::6;a+b}\n",
    "show f[7];\n",
    "a // global"
   ]
  },
  {
   "cell_type": "markdown",
   "id": "b6397f45",
   "metadata": {},
   "source": [
    "Multivariate functions can be projected by specifying only part of the input params.\n",
    "\n",
    "Projecton is related to currying in functional programming.\n",
    "\n",
    "Monadic function can be a projection of dyadic funciton by fixing all except one input param"
   ]
  },
  {
   "cell_type": "code",
   "execution_count": 6,
   "id": "2394f712",
   "metadata": {},
   "outputs": [
    {
     "data": {
      "text/plain": [
       "9\r\n"
      ]
     },
     "execution_count": 6,
     "metadata": {},
     "output_type": "execute_result"
    }
   ],
   "source": [
    "f:{x+y}\n",
    "g:f[4;]\n",
    "g[5]"
   ]
  },
  {
   "cell_type": "markdown",
   "id": "849c6fd4",
   "metadata": {},
   "source": [
    "### 3.1Namespace\n",
    "A namespace is a context with which we resolve problems of unique naming. You can define variables and functions inside it.\n",
    "It can be used to resolve local vs global variable avilability.\n",
    "\n",
    "#### Limits in kdb/q:\n",
    "- Input params for function (8 max)\n",
    "- Constants (max 96)\n",
    "- Global variables (32 max)\n",
    "- Locals variables (24 max)\n",
    "- More than 999 nested columns in splayed table"
   ]
  },
  {
   "cell_type": "code",
   "execution_count": 7,
   "id": "24667283",
   "metadata": {},
   "outputs": [
    {
     "data": {
      "text/plain": [
       "2.386294\r\n"
      ]
     },
     "execution_count": 7,
     "metadata": {},
     "output_type": "execute_result"
    }
   ],
   "source": [
    ".namespace1.x:4f;\n",
    ".namespace1.f:{5+x};\n",
    ".namespace2.x:5;\n",
    ".namespace2.f:{1f+log x};\n",
    "// we can call from both\n",
    ".namespace2.f[.namespace1.x]"
   ]
  },
  {
   "cell_type": "markdown",
   "id": "8fe25c7a",
   "metadata": {},
   "source": [
    "#### 3.1.01 .quantQ Namespace\n",
    "In this book all the fucntions and variables defined are in this .quantQ namespace. All relavant funcitons are furthur listed in sub-namespaces (namespace with in the namespace) in logocal grouping."
   ]
  },
  {
   "cell_type": "code",
   "execution_count": 8,
   "id": "5d4f4fdb",
   "metadata": {},
   "outputs": [],
   "source": [
    "\\l quantQ-master\\lib\\quantQ_complex.q \n",
    "// Note: trying to load in the entire quantQ.q namespace results in error (Ram issue?)"
   ]
  },
  {
   "cell_type": "code",
   "execution_count": 9,
   "id": "192418ef",
   "metadata": {},
   "outputs": [
    {
     "data": {
      "text/plain": [
       "`conjugate`dft`dft1k`dftTab`dftTs`div`exp`fractal`log`mandelbrot`mandelbrot_`..\r\n"
      ]
     },
     "execution_count": 9,
     "metadata": {},
     "output_type": "execute_result"
    }
   ],
   "source": [
    "// subnamespace complex for fourier transformation \n",
    "\\f .quantQ.complex"
   ]
  },
  {
   "cell_type": "markdown",
   "id": "7462da3a",
   "metadata": {},
   "source": [
    "### 3.2 The six adverbs\n",
    " - Kdb has nouns, verbs and adverbs\n",
    " - Nouns : variables and functions are nouns\n",
    " - syntactic structures and arectmatic and logical operators are verbs like {} [] or + -\n",
    " - Adverbs are higer order functions that modify the applied to lists. They return derived functions known as derivatives.\n",
    "\n",
    "##### Adverbs\n",
    "- 1) each\n",
    "   -  1.2) each left \\:\n",
    "   -  1.3) each right /:\n",
    "   -  1.4) cross product (/:\\: (combination of each left and each right) or cross)\n",
    "   -  1.5) each both '\n",
    "   -  1.6) each prior ':\n",
    "- 2) compose (')\n",
    "- 3) Over/Fold /\n",
    "- 4) Scan \\\n",
    "- 5) converge / \\\n",
    "- 6) cross product `/:\\:` (or `cross` for cartisian product) "
   ]
  },
  {
   "cell_type": "code",
   "execution_count": 10,
   "id": "e436bd64",
   "metadata": {},
   "outputs": [
    {
     "data": {
      "text/plain": [
       "c b a\r\n",
       "f e d\r\n"
      ]
     },
     "execution_count": 10,
     "metadata": {},
     "output_type": "execute_result"
    }
   ],
   "source": [
    "// each modifies a monadic function, i.e. reverse\n",
    "reverse each ((`a`b`c);(`d`e`f))"
   ]
  },
  {
   "cell_type": "code",
   "execution_count": 11,
   "id": "03e8707b",
   "metadata": {},
   "outputs": [
    {
     "data": {
      "text/plain": [
       "d e f\r\n",
       "a b c\r\n"
      ]
     },
     "execution_count": 11,
     "metadata": {},
     "output_type": "execute_result"
    }
   ],
   "source": [
    "// without each\n",
    "reverse((`a`b`c);(`d`e`f))"
   ]
  },
  {
   "cell_type": "code",
   "execution_count": 12,
   "id": "d92666f7",
   "metadata": {},
   "outputs": [
    {
     "data": {
      "text/plain": [
       "\"Hello Mo\"\r\n",
       "\"Greetings Mo\"\r\n",
       "\"Welcome Mo\"\r\n"
      ]
     },
     "execution_count": 12,
     "metadata": {},
     "output_type": "execute_result"
    }
   ],
   "source": [
    "// Each left modifies a dyadic function to apply on each item in the left\n",
    "(\"Hello \";\"Greetings \";\"Welcome \"),\\: \"Mo\""
   ]
  },
  {
   "cell_type": "code",
   "execution_count": 13,
   "id": "1688c9ec",
   "metadata": {},
   "outputs": [
    {
     "data": {
      "text/plain": [
       "\"Hello Alice\"\r\n",
       "\"Hello Bob\"\r\n",
       "\"Hello Mo\"\r\n"
      ]
     },
     "execution_count": 13,
     "metadata": {},
     "output_type": "execute_result"
    }
   ],
   "source": [
    "// Each right modifies a dyadic function to apply on each item in the right\n",
    "\"Hello \",/:(\"Alice\";\"Bob\";\"Mo\")"
   ]
  },
  {
   "cell_type": "code",
   "execution_count": 14,
   "id": "38197bf5",
   "metadata": {},
   "outputs": [
    {
     "data": {
      "text/plain": [
       "1 0 0 0 0\r\n",
       "0 1 0 0 0\r\n",
       "0 0 1 0 0\r\n",
       "0 0 0 1 0\r\n",
       "0 0 0 0 1\r\n"
      ]
     },
     "execution_count": 14,
     "metadata": {},
     "output_type": "execute_result"
    }
   ],
   "source": [
    "// usecase in creating an identity matrix\n",
    ".quantQ.identity:{[n] `float$(til n)=/:til n}\n",
    ".quantQ.identity[5]"
   ]
  },
  {
   "cell_type": "code",
   "execution_count": 15,
   "id": "9c3f7b48",
   "metadata": {},
   "outputs": [
    {
     "data": {
      "text/plain": [
       "4 5\r\n",
       "4 6\r\n",
       "4 7\r\n",
       "5 5\r\n",
       "5 6\r\n",
       "5 7\r\n",
       "6 5\r\n",
       "6 6\r\n",
       "6 7\r\n"
      ]
     },
     "execution_count": 15,
     "metadata": {},
     "output_type": "execute_result"
    }
   ],
   "source": [
    "// cross product or Cartesian product is the composition of an each right withy an each left\n",
    "raze (4 5 6f) ,/:\\:(5 6 7f)"
   ]
  },
  {
   "cell_type": "code",
   "execution_count": 16,
   "id": "57a713ef",
   "metadata": {},
   "outputs": [
    {
     "data": {
      "text/plain": [
       "4 5\r\n",
       "4 6\r\n",
       "4 7\r\n",
       "5 5\r\n",
       "5 6\r\n",
       "5 7\r\n",
       "6 5\r\n",
       "6 6\r\n",
       "6 7\r\n"
      ]
     },
     "execution_count": 16,
     "metadata": {},
     "output_type": "execute_result"
    }
   ],
   "source": [
    "(4 5 6f) cross (5 6 7f)"
   ]
  },
  {
   "cell_type": "code",
   "execution_count": 17,
   "id": "caa36e3a",
   "metadata": {},
   "outputs": [
    {
     "data": {
      "text/plain": [
       "20 24 28\r\n",
       "25 30 35\r\n",
       "30 36 42\r\n"
      ]
     },
     "execution_count": 17,
     "metadata": {},
     "output_type": "execute_result"
    }
   ],
   "source": [
    "// cross is set, but /:\\: is more versitile and can modify a monadic function\n",
    "(4 5 6f) */:\\:(5 6 7f)"
   ]
  },
  {
   "cell_type": "code",
   "execution_count": 18,
   "id": "6ad6857b",
   "metadata": {},
   "outputs": [
    {
     "data": {
      "text/plain": [
       "20 30 42f\r\n"
      ]
     },
     "execution_count": 18,
     "metadata": {},
     "output_type": "execute_result"
    }
   ],
   "source": [
    "// simmilar to dot notation\n",
    "{x*y} . ((4 5 6f);(5 6 7f))"
   ]
  },
  {
   "cell_type": "code",
   "execution_count": 19,
   "id": "f4d1ca7f",
   "metadata": {},
   "outputs": [
    {
     "name": "stdout",
     "output_type": "stream",
     "text": [
      "20 30 42f\r\n"
     ]
    }
   ],
   "source": [
    "// Each both, apllied pairwise to items on lists (of the same size)\n",
    "show (4 5 6f) *'(5 6 7f)"
   ]
  },
  {
   "cell_type": "code",
   "execution_count": 19,
   "id": "b551fd47",
   "metadata": {},
   "outputs": [
    {
     "ename": "\u001b[0;31mlength\u001b[0m",
     "evalue": "\u001b[0;31mlength\u001b[0m",
     "output_type": "error",
     "traceback": [
      "\u001b[0;31mevaluation error:\n\u001b[0m",
      "\u001b[0;31mlength\u001b[0m",
      "\u001b[0;31m\u001b[0m",
      "\u001b[0;31m  [0]  (1 2 3) +'(4 5 6 7)\r\n                ^\r\n\u001b[0m"
     ]
    }
   ],
   "source": [
    "// returns 'length error when it's not the same `cardinality` (size)\n",
    "(1 2 3) +'(4 5 6 7)"
   ]
  },
  {
   "cell_type": "code",
   "execution_count": 20,
   "id": "2d3b80e2",
   "metadata": {},
   "outputs": [
    {
     "name": "stdout",
     "output_type": "stream",
     "text": [
      "sym| symCount\r\n",
      "---| --------\r\n",
      "A  | 2       \r\n",
      "B  | 2       \r\n",
      "D  | 1       \r\n",
      "sym| avgPrice\r\n",
      "---| --------\r\n",
      "A  | 217.5092\r\n",
      "B  | 180.7113\r\n",
      "D  | 289.2601\r\n"
     ]
    },
    {
     "data": {
      "text/plain": [
       "sym symCount avgPrice\r\n",
       "---------------------\r\n",
       "A   2        217.5092\r\n",
       "B   2        180.7113\r\n",
       "D   1        289.2601\r\n"
      ]
     },
     "execution_count": 20,
     "metadata": {},
     "output_type": "execute_result"
    }
   ],
   "source": [
    "// good usecase of each both is to add columm to table\n",
    "tbl:([sym:20?`A`B`C`D] market:20?`US`UK`CH`FR;price:20?500.00);\n",
    "show tbl1:select symCount:count i by sym from tbl where market=`US;\n",
    "show tbl2:select avgPrice:avg price by sym from tbl where market=`US;\n",
    "\n",
    "(0!tbl1) ,' select avgPrice from tbl2 // pairwise simple join"
   ]
  },
  {
   "cell_type": "code",
   "execution_count": 21,
   "id": "1992f3a4",
   "metadata": {},
   "outputs": [
    {
     "data": {
      "text/plain": [
       "1b\r\n"
      ]
     },
     "execution_count": 21,
     "metadata": {},
     "output_type": "execute_result"
    }
   ],
   "source": [
    "//note in many instances q's build in function is sufficent\n",
    "(sum 1 2 3f * ' 3 4 5f) ~ sum 1 2 3f * 3 4 5f"
   ]
  },
  {
   "cell_type": "code",
   "execution_count": 22,
   "id": "5975d0ea",
   "metadata": {},
   "outputs": [
    {
     "data": {
      "text/plain": [
       "26f\r\n"
      ]
     },
     "execution_count": 22,
     "metadata": {},
     "output_type": "execute_result"
    }
   ],
   "source": [
    "// $ - built in efficent dot product\n",
    "(1 2 3f)$(3 4 5f)"
   ]
  },
  {
   "cell_type": "markdown",
   "id": "e1e4c294",
   "metadata": {},
   "source": [
    "Here we show a more complex example of each both. It'll use a the calc function which takes in a nested list and a scaler and applies it  to create a new column"
   ]
  },
  {
   "cell_type": "code",
   "execution_count": 23,
   "id": "a259604d",
   "metadata": {},
   "outputs": [
    {
     "data": {
      "text/plain": [
       "a                                 b\r\n",
       "-----------------------------------\r\n",
       "-1.150396  2.228482    0.06312166 3\r\n",
       "0.2298615  1.824631    -0.942818  3\r\n",
       "1.566239   -1.854031   -1.761227  7\r\n",
       "-1.128865  0.3175266   1.919115   8\r\n",
       "-1.280403  0.8590627   1.819796   2\r\n",
       "1.719904   0.2131853   -2.112133  1\r\n",
       "0.6873184  2.380623    0.1984082  4\r\n",
       "1.081429   -0.5568522  0.1114899  2\r\n",
       "1.862513   0.7843671   2.312578   8\r\n",
       "-0.6425137 -1.62767    0.4486008  0\r\n",
       "2.275451   0.5792573   1.012275   5\r\n",
       "-0.7248097 -0.6924283  2.044766   8\r\n",
       "-1.468716  -0.09089507 -1.467188  5\r\n",
       "0.1145891  -0.830597   -0.4268948 2\r\n",
       "2.362907   0.2113628   0.5582909  8\r\n",
       "-0.7925044 2.258373    -1.915262  6\r\n",
       "1.579479   0.5457697   2.415397   9\r\n",
       "1.271561   -0.5931603  -2.344368  0\r\n",
       "-0.4026544 -1.568566   1.479765   0\r\n",
       "-0.6663624 0.08261704  -2.172915  0\r\n",
       "..\r\n"
      ]
     },
     "execution_count": 23,
     "metadata": {},
     "output_type": "execute_result"
    }
   ],
   "source": [
    "n:100\n",
    "t:([]a:-2.5 + (n#3) ?\\: 5f; b:n?10)\n",
    "t"
   ]
  },
  {
   "cell_type": "code",
   "execution_count": 24,
   "id": "c89b3626",
   "metadata": {},
   "outputs": [
    {
     "data": {
      "text/plain": [
       "-1.522446 11.06693 0.0002514984\r\n"
      ]
     },
     "execution_count": 24,
     "metadata": {},
     "output_type": "execute_result"
    }
   ],
   "source": [
    "\n",
    "calc:{$[all 0 < x;x xexp reciprocal y;x xexp y]}\n",
    "\n",
    "calc[t[`a][0];t[`b][0]]"
   ]
  },
  {
   "cell_type": "code",
   "execution_count": 25,
   "id": "3c395915",
   "metadata": {},
   "outputs": [
    {
     "data": {
      "text/plain": [
       "a                                 b c                                     \r\n",
       "--------------------------------------------------------------------------\r\n",
       "-1.150396  2.228482    0.06312166 3 -1.522446  11.06693       0.0002514984\r\n",
       "0.2298615  1.824631    -0.942818  3 0.01214504 6.074706       -0.8380763  \r\n",
       "1.566239   -1.854031   -1.761227  7 23.12097   -75.30413      -52.56622   \r\n",
       "-1.128865  0.3175266   1.919115   8 2.63716    0.0001033336   183.9958    \r\n",
       "-1.280403  0.8590627   1.819796   2 1.639432   0.7379887      3.311656    \r\n",
       "1.719904   0.2131853   -2.112133  1 1.719904   0.2131853      -2.112133   \r\n",
       "0.6873184  2.380623    0.1984082  4 0.91052    1.242146       0.6674057   \r\n",
       "1.081429   -0.5568522  0.1114899  2 1.169489   0.3100844      0.01243     \r\n",
       "1.862513   0.7843671   2.312578   8 1.080843   0.9700965      1.110483    \r\n",
       "-0.6425137 -1.62767    0.4486008  0 1          1              1           \r\n",
       "2.275451   0.5792573   1.012275   5 1.178728   0.8965496      1.002443    \r\n",
       "-0.7248097 -0.6924283  2.044766   8 0.0761714  0.05284435     305.5965    \r\n",
       "-1.468716  -0.09089507 -1.467188  5 -6.834213  -6.204425e-006 -6.79874    \r\n",
       "0.1145891  -0.830597   -0.4268948 2 0.01313066 0.6898914      0.1822392   \r\n",
       "2.362907   0.2113628   0.5582909  8 1.113476   0.8234336      0.9297315   \r\n",
       "-0.7925044 2.258373    -1.915262  6 0.2477479  132.6704       49.35938    \r\n",
       "1.579479   0.5457697   2.415397   9 1.0521     0.9349294      1.102946    \r\n",
       "1.271561   -0.5931603  -2.344368  0 1          1              1           \r\n",
       "-0.4026544 -1.568566   1.479765   0 1          1              1           \r\n",
       "-0.6663624 0.08261704  -2.172915  0 1          1              1           \r\n",
       "..\r\n"
      ]
     },
     "execution_count": 25,
     "metadata": {},
     "output_type": "execute_result"
    }
   ],
   "source": [
    "update c: calc'[a;b] from t"
   ]
  },
  {
   "cell_type": "markdown",
   "id": "51298abb",
   "metadata": {},
   "source": [
    "What about if column b was also nested?"
   ]
  },
  {
   "cell_type": "code",
   "execution_count": 26,
   "id": "a0e2b8f3",
   "metadata": {},
   "outputs": [],
   "source": [
    "t:([]a:-2.5 + (n#3) ?\\: 5f; b:-2.5 + (n#3) ?\\: 5f)"
   ]
  },
  {
   "cell_type": "code",
   "execution_count": 27,
   "id": "d3cffb4f",
   "metadata": {},
   "outputs": [
    {
     "data": {
      "text/plain": [
       "a                                   b                                \r\n",
       "---------------------------------------------------------------------\r\n",
       "2.437455    1.535103    1.463833    -0.7663692  -1.479921  -1.291772 \r\n",
       "1.597651    -1.266523   -0.989309   -1.314511   -1.720605  -0.3127593\r\n",
       "-0.6890435  0.9980537   1.124177    1.345071    1.840338   0.7115395 \r\n",
       "-0.6196833  1.034633    0.008489707 1.53274     -1.94559   -1.393202 \r\n",
       "0.07059285  0.3875733   -0.3547036  -0.03615975 -1.297779  1.679566  \r\n",
       "1.253362    1.562599    -0.9997442  1.40428     1.680652   2.41573   \r\n",
       "2.317354    1.043307    0.3830546   -1.806206   2.178324   -1.202933 \r\n",
       "0.9633372   -1.603524   0.4563688   -1.176237   -0.9048044 -0.5121039\r\n",
       "-0.01880895 0.001495699 -0.01061332 1.810424    -0.976364  0.5334768 \r\n",
       "1.539587    1.492969    -0.964727   1.871446    1.022177   -1.150008 \r\n",
       "1.892622    1.458575    2.184048    0.6060803   1.899847   0.2931551 \r\n",
       "2.177047    -1.900767   2.430673    -1.115314   -1.472695  1.459896  \r\n",
       "-1.006319   2.422636    0.5240541   1.054867    -1.383047  1.784428  \r\n",
       "-0.9545289  1.473937    0.3211452   1.738193    -0.7047185 -0.6680778\r\n",
       "-1.228041   -0.1719607  -1.713999   1.799089    1.500073   1.489256  \r\n",
       "0.7161745   1.578856    -0.5339601  0.8079961   1.460351   -0.7354918\r\n",
       "1.545387    0.5566162   -2.091224   -0.3111801  1.131568   2.231315  \r\n",
       "-1.299017   0.3921042   0.2827921   0.7092455   2.137964   -1.834242 \r\n",
       "-0.5552802  1.071177    1.069554    1.894089    2.378282   -1.556668 \r\n",
       "-0.06418705 2.143434    0.806258    -1.951778   -1.597219  0.09383839\r\n",
       "..\r\n"
      ]
     },
     "execution_count": 27,
     "metadata": {},
     "output_type": "execute_result"
    }
   ],
   "source": [
    "t"
   ]
  },
  {
   "cell_type": "code",
   "execution_count": 28,
   "id": "e3d7bc85",
   "metadata": {},
   "outputs": [
    {
     "data": {
      "text/plain": [
       "a                                   b                                 c      ..\r\n",
       "-----------------------------------------------------------------------------..\r\n",
       "2.437455    1.535103    1.463833    -0.7663692  -1.479921  -1.291772  0.31268..\r\n",
       "1.597651    -1.266523   -0.989309   -1.314511   -1.720605  -0.3127593 0.54015..\r\n",
       "-0.6890435  0.9980537   1.124177    1.345071    1.840338   0.7115395         ..\r\n",
       "-0.6196833  1.034633    0.008489707 1.53274     -1.94559   -1.393202         ..\r\n",
       "0.07059285  0.3875733   -0.3547036  -0.03615975 -1.297779  1.679566   1.10059..\r\n",
       "1.253362    1.562599    -0.9997442  1.40428     1.680652   2.41573    1.37317..\r\n",
       "2.317354    1.043307    0.3830546   -1.806206   2.178324   -1.202933  0.62794..\r\n",
       "0.9633372   -1.603524   0.4563688   -1.176237   -0.9048044 -0.5121039 1.04491..\r\n",
       "-0.01880895 0.001495699 -0.01061332 1.810424    -0.976364  0.5334768         ..\r\n",
       "1.539587    1.492969    -0.964727   1.871446    1.022177   -1.150008  2.24242..\r\n",
       "1.892622    1.458575    2.184048    0.6060803   1.899847   0.2931551  2.86510..\r\n",
       "2.177047    -1.900767   2.430673    -1.115314   -1.472695  1.459896   0.41992..\r\n",
       "-1.006319   2.422636    0.5240541   1.054867    -1.383047  1.784428          ..\r\n",
       "-0.9545289  1.473937    0.3211452   1.738193    -0.7047185 -0.6680778        ..\r\n",
       "-1.228041   -0.1719607  -1.713999   1.799089    1.500073   1.489256          ..\r\n",
       "0.7161745   1.578856    -0.5339601  0.8079961   1.460351   -0.7354918 0.76358..\r\n",
       "1.545387    0.5566162   -2.091224   -0.3111801  1.131568   2.231315   0.87332..\r\n",
       "-1.299017   0.3921042   0.2827921   0.7092455   2.137964   -1.834242         ..\r\n",
       "-0.5552802  1.071177    1.069554    1.894089    2.378282   -1.556668         ..\r\n",
       "-0.06418705 2.143434    0.806258    -1.951778   -1.597219  0.09383839        ..\r\n",
       "..\r\n"
      ]
     },
     "execution_count": 28,
     "metadata": {},
     "output_type": "execute_result"
    }
   ],
   "source": [
    "update c: calc'[a;b] from t"
   ]
  },
  {
   "cell_type": "markdown",
   "id": "768023d5",
   "metadata": {},
   "source": [
    "#### Each Prior\n",
    "a dyadic operatioon on each item of a list with it's predecessor"
   ]
  },
  {
   "cell_type": "code",
   "execution_count": 29,
   "id": "c567f007",
   "metadata": {},
   "outputs": [
    {
     "name": "stdout",
     "output_type": "stream",
     "text": [
      "5 4f\r\n",
      "6 5f\r\n",
      "7 6f\r\n"
     ]
    },
    {
     "data": {
      "text/plain": [
       "-11 -19 -29f\r\n"
      ]
     },
     "execution_count": 29,
     "metadata": {},
     "output_type": "execute_result"
    }
   ],
   "source": [
    "4f {show (x;y);x-y xexp 2}': 5 6 7f"
   ]
  },
  {
   "cell_type": "markdown",
   "id": "66602070",
   "metadata": {},
   "source": [
    "#### Compose(')\n",
    "The composition of a multivariate function f[a,b,c,...] with a monadic function g[x], expressed as g(f) is expressed as '[g;f]"
   ]
  },
  {
   "cell_type": "code",
   "execution_count": 30,
   "id": "b8ca7c9e",
   "metadata": {},
   "outputs": [
    {
     "data": {
      "text/plain": [
       "4.248495\r\n"
      ]
     },
     "execution_count": 30,
     "metadata": {},
     "output_type": "execute_result"
    }
   ],
   "source": [
    "f:{[a;b;c;d] a+(2*b)+(3*c)+4*d}; // multivariate function\n",
    "g:{log x}; // monadic function\n",
    "d:('[g;f]); // applies the multivariate first then monadic\n",
    "d[5;6;7;8]"
   ]
  },
  {
   "cell_type": "markdown",
   "id": "f16ebf8b",
   "metadata": {},
   "source": [
    "#### Over and Fold /\n",
    "Over adverb / modified a dyadic function to accumulate the results over a list.\n",
    "Let us denote $y_{i} , i \\in \\mathbb{N}^{*}_{+}$. The over adverb recursivly applies elements of y recursivly."
   ]
  },
  {
   "cell_type": "code",
   "execution_count": 31,
   "id": "4f145cb9",
   "metadata": {},
   "outputs": [
    {
     "data": {
      "text/plain": [
       "-106f\r\n"
      ]
     },
     "execution_count": 31,
     "metadata": {},
     "output_type": "execute_result"
    }
   ],
   "source": [
    "4f {x-y xexp 2}/(5 6 7f)"
   ]
  },
  {
   "cell_type": "code",
   "execution_count": 32,
   "id": "aa3cb71e",
   "metadata": {},
   "outputs": [
    {
     "data": {
      "text/plain": [
       "-106f\r\n"
      ]
     },
     "execution_count": 32,
     "metadata": {},
     "output_type": "execute_result"
    }
   ],
   "source": [
    "// equvalint to\n",
    "(((4f-5f xexp 2)-6f xexp 2)-7f xexp 2)"
   ]
  },
  {
   "cell_type": "code",
   "execution_count": 33,
   "id": "1ee57107",
   "metadata": {},
   "outputs": [
    {
     "data": {
      "text/plain": [
       "-106f\r\n"
      ]
     },
     "execution_count": 33,
     "metadata": {},
     "output_type": "execute_result"
    }
   ],
   "source": [
    "// can also work without spliting the list\n",
    "({x-y xexp 2}/) (4 5 6 7f)"
   ]
  },
  {
   "cell_type": "markdown",
   "id": "5609be5c",
   "metadata": {},
   "source": [
    "The over adverb is called fold, when the function has more than 2 arguments"
   ]
  },
  {
   "cell_type": "code",
   "execution_count": 34,
   "id": "42ecebd7",
   "metadata": {},
   "outputs": [
    {
     "data": {
      "text/plain": [
       "-36 -34f\r\n"
      ]
     },
     "execution_count": 34,
     "metadata": {},
     "output_type": "execute_result"
    }
   ],
   "source": [
    "({z+x-y xexp 2}/)[1 3f;4 5f;2f]"
   ]
  },
  {
   "cell_type": "code",
   "execution_count": 35,
   "id": "05334355",
   "metadata": {},
   "outputs": [
    {
     "data": {
      "text/plain": [
       "-36 -34f\r\n"
      ]
     },
     "execution_count": 35,
     "metadata": {},
     "output_type": "execute_result"
    }
   ],
   "source": [
    "// equivalant to\n",
    "(2f + (2f+1f-4f xexp 2)-5f xexp 2; 2f + (2f+3f-4f xexp 2)-5f xexp 2)"
   ]
  },
  {
   "cell_type": "markdown",
   "id": "112bd2e3",
   "metadata": {},
   "source": [
    "The adverb fold can be thought of in a map-reduce context, where we fold (aka reduce) the result set."
   ]
  },
  {
   "cell_type": "markdown",
   "id": "8d0398b1",
   "metadata": {},
   "source": [
    "#### Scan \\\n",
    "\n",
    "It's simmilar to the behavior of over, except it shows the intermediate results\n"
   ]
  },
  {
   "cell_type": "code",
   "execution_count": 36,
   "id": "56b63e5b",
   "metadata": {},
   "outputs": [
    {
     "data": {
      "text/plain": [
       "4 -21 -57 -106f\r\n"
      ]
     },
     "execution_count": 36,
     "metadata": {},
     "output_type": "execute_result"
    }
   ],
   "source": [
    "({x-y xexp 2}\\) (4 5 6 7f)"
   ]
  },
  {
   "cell_type": "markdown",
   "id": "221336fe",
   "metadata": {},
   "source": [
    "#### EMA: The Exponential Moving Average\n",
    "\n",
    "Lets show how scan can be used to compuite this very common itterative function for which we want the intermedeate results.\n",
    "\n",
    "Given a vector $x_{0}, ... x_{n}$ , and weight $\\lambda$ , the EMA is:\n",
    "   $EMA_{i} (\\lambda) = x_{i-1} * (1-\\lambda ) + EMA_{i-1} * \\lambda$"
   ]
  },
  {
   "cell_type": "code",
   "execution_count": 37,
   "id": "591b6c05",
   "metadata": {},
   "outputs": [
    {
     "data": {
      "text/plain": [
       "{[lambda;vector]\r\n",
       "    / lambda -- memory\r\n",
       "    / vector -- data\r\n",
       "    {[x;y;z] (x*y)+z}\\[ first vector; 1 - lambda; vector * lambda]\r\n",
       " }\r\n"
      ]
     },
     "execution_count": 37,
     "metadata": {},
     "output_type": "execute_result"
    }
   ],
   "source": [
    "\\l quantQ-master\\lib\\quantQ_stats.q\n",
    ".quantQ.stats.expma1"
   ]
  },
  {
   "cell_type": "code",
   "execution_count": 38,
   "id": "7ff3f61f",
   "metadata": {},
   "outputs": [
    {
     "data": {
      "text/plain": [
       "10 12 15.6\r\n"
      ]
     },
     "execution_count": 38,
     "metadata": {},
     "output_type": "execute_result"
    }
   ],
   "source": [
    ".quantQ.stats.expma1[.2;10 20 30]"
   ]
  },
  {
   "cell_type": "code",
   "execution_count": 39,
   "id": "44de913d",
   "metadata": {},
   "outputs": [
    {
     "data": {
      "text/plain": [
       "{[lambda;vector]\r\n",
       "    // lambda -- memory\r\n",
       "    // vector -- data\r\n",
       "    :(first vector)(1-lambda)\\vector*lambda;\r\n",
       " }\r\n"
      ]
     },
     "execution_count": 39,
     "metadata": {},
     "output_type": "execute_result"
    }
   ],
   "source": [
    ".quantQ.stats.expma"
   ]
  },
  {
   "cell_type": "markdown",
   "id": "32873539",
   "metadata": {},
   "source": [
    "#### Converge\n",
    "The over and scan adverbs can also be used to itterate over a list until convergence or until a loop is detected.\n",
    "\n",
    "#### converge-repeate\n",
    "applies the function f x times with initial value y. If x is a boolian function to indicate a condition on recursive iteration, the expression is equvalant to a while loop."
   ]
  },
  {
   "cell_type": "code",
   "execution_count": 40,
   "id": "5ee5b9f4",
   "metadata": {},
   "outputs": [
    {
     "data": {
      "text/plain": [
       "2 132 30 2 380f\r\n"
      ]
     },
     "execution_count": 40,
     "metadata": {},
     "output_type": "execute_result"
    }
   ],
   "source": [
    "2 {x*x-1}/(2 4 3 2 5f)"
   ]
  },
  {
   "cell_type": "code",
   "execution_count": 41,
   "id": "8fbeac55",
   "metadata": {},
   "outputs": [
    {
     "name": "stdout",
     "output_type": "stream",
     "text": [
      "2\r\n",
      "4\r\n",
      "16\r\n"
     ]
    },
    {
     "data": {
      "text/plain": [
       "256\r\n"
      ]
     },
     "execution_count": 41,
     "metadata": {},
     "output_type": "execute_result"
    }
   ],
   "source": [
    "{x<20}{show x;x*x}/2"
   ]
  },
  {
   "cell_type": "markdown",
   "id": "e8edbe1f",
   "metadata": {},
   "source": [
    "#### converge-iterate\n",
    "The converge-itterate pattern is a simmilar to the converge-repete pattern describe in the previous section but using scan adverb to display all intermediary. Hence, the previous example applied using the scan \\ adverb."
   ]
  },
  {
   "cell_type": "code",
   "execution_count": 42,
   "id": "738acf4f",
   "metadata": {},
   "outputs": [
    {
     "data": {
      "text/plain": [
       "2 4   3  2 5  \r\n",
       "2 12  6  2 20 \r\n",
       "2 132 30 2 380\r\n"
      ]
     },
     "execution_count": 42,
     "metadata": {},
     "output_type": "execute_result"
    }
   ],
   "source": [
    "2 {x*x-1}\\(2 4 3 2 5f)"
   ]
  },
  {
   "cell_type": "code",
   "execution_count": 43,
   "id": "5467f556",
   "metadata": {},
   "outputs": [
    {
     "name": "stdout",
     "output_type": "stream",
     "text": [
      "2\r\n",
      "4\r\n",
      "16\r\n"
     ]
    },
    {
     "data": {
      "text/plain": [
       "2 4 16 256\r\n"
      ]
     },
     "execution_count": 43,
     "metadata": {},
     "output_type": "execute_result"
    }
   ],
   "source": [
    "{x<20}{show x;x*x}\\2"
   ]
  },
  {
   "cell_type": "markdown",
   "id": "9252cd93",
   "metadata": {},
   "source": [
    "### 3.3 Apply\n",
    "##### @ (apply)\n",
    "The verb @ is used to apply a multivariate mapping to a list L with the syntax: @[L;I;f]. The following expression applies the function cosine on the first and third elements of the list; the second element 1.570796 being left unchanged."
   ]
  },
  {
   "cell_type": "code",
   "execution_count": 44,
   "id": "d5503187",
   "metadata": {},
   "outputs": [
    {
     "data": {
      "text/plain": [
       "0.7071068 1.570796 -1\r\n"
      ]
     },
     "execution_count": 44,
     "metadata": {},
     "output_type": "execute_result"
    }
   ],
   "source": [
    "@[(0.7853982; 1.570796; 3.141592654);0 2;cos]"
   ]
  },
  {
   "cell_type": "markdown",
   "id": "1a65c47b",
   "metadata": {},
   "source": [
    "When applied to dyadic function. @[L;I;f;a] applies a dyadic function f on the I-th element of a list L with seconds arguments a."
   ]
  },
  {
   "cell_type": "code",
   "execution_count": 45,
   "id": "455ced59",
   "metadata": {},
   "outputs": [
    {
     "data": {
      "text/plain": [
       "13 2 17 4f\r\n"
      ]
     },
     "execution_count": 45,
     "metadata": {},
     "output_type": "execute_result"
    }
   ],
   "source": [
    "@[1 2 3 4f; 0 2;{x+2*y};6 7f]"
   ]
  },
  {
   "cell_type": "markdown",
   "id": "082ae619",
   "metadata": {},
   "source": [
    "##### . (apply)\n",
    "A function of arity N applied to a list x of size N is executed with the . verb as .[f;x] or f . x."
   ]
  },
  {
   "cell_type": "code",
   "execution_count": 46,
   "id": "3492c057",
   "metadata": {},
   "outputs": [
    {
     "data": {
      "text/plain": [
       "-10\r\n"
      ]
     },
     "execution_count": 46,
     "metadata": {},
     "output_type": "execute_result"
    }
   ],
   "source": [
    "{[a;b;c;d] a+2*b+3*c-d} . (4;5;3;7)"
   ]
  },
  {
   "cell_type": "code",
   "execution_count": 47,
   "id": "f9904a3a",
   "metadata": {},
   "outputs": [
    {
     "name": "stdout",
     "output_type": "stream",
     "text": [
      "25\r\n",
      "25\r\n"
     ]
    }
   ],
   "source": [
    "// monadic\n",
    "show {x*x} . enlist 5;\n",
    "show {x*x}@5;"
   ]
  },
  {
   "cell_type": "markdown",
   "id": "3a17de2a",
   "metadata": {},
   "source": [
    "applied to lists, the verb . indexes a list at depth"
   ]
  },
  {
   "cell_type": "code",
   "execution_count": 48,
   "id": "f9f5feff",
   "metadata": {},
   "outputs": [
    {
     "data": {
      "text/plain": [
       "9f\r\n"
      ]
     },
     "execution_count": 48,
     "metadata": {},
     "output_type": "execute_result"
    }
   ],
   "source": [
    "L:((`a;4);(`c;5);(`d;7;(8;6;9f)))\n",
    "L . 2 2 2"
   ]
  },
  {
   "cell_type": "code",
   "execution_count": 49,
   "id": "1c6f9968",
   "metadata": {},
   "outputs": [
    {
     "name": "stdout",
     "output_type": "stream",
     "text": [
      "(`a;4)\r\n",
      "(`c;5)\r\n",
      "(`d;7;(8;6;9f))\r\n",
      "`c\r\n",
      "5\r\n"
     ]
    },
    {
     "data": {
      "text/plain": [
       "4 5 7\r\n"
      ]
     },
     "execution_count": 49,
     "metadata": {},
     "output_type": "execute_result"
    }
   ],
   "source": [
    "show L;\n",
    "// get a row in the list by\n",
    "show L[1];\n",
    "// get the column in a nested list by\n",
    "L . (::;1)"
   ]
  },
  {
   "cell_type": "code",
   "execution_count": 50,
   "id": "f2ffa2da",
   "metadata": {},
   "outputs": [
    {
     "data": {
      "text/plain": [
       "4 5 7\r\n"
      ]
     },
     "execution_count": 50,
     "metadata": {},
     "output_type": "execute_result"
    }
   ],
   "source": [
    "// equvilant notaition\n",
    "L[::;1]"
   ]
  },
  {
   "cell_type": "markdown",
   "id": "49f8c75c",
   "metadata": {},
   "source": [
    "The verb . can also be applied to dictionaries"
   ]
  },
  {
   "cell_type": "code",
   "execution_count": 51,
   "id": "5087aef7",
   "metadata": {},
   "outputs": [
    {
     "data": {
      "text/plain": [
       "5f\r\n"
      ]
     },
     "execution_count": 51,
     "metadata": {},
     "output_type": "execute_result"
    }
   ],
   "source": [
    "d:`a`b`c!((4f;5f;6f);3;`t);\n",
    "d . (`a;1)"
   ]
  },
  {
   "cell_type": "code",
   "execution_count": 52,
   "id": "f860a244",
   "metadata": {},
   "outputs": [
    {
     "data": {
      "text/plain": [
       "4 5 6f\r\n"
      ]
     },
     "execution_count": 52,
     "metadata": {},
     "output_type": "execute_result"
    }
   ],
   "source": [
    "d . (`a;::)"
   ]
  },
  {
   "cell_type": "markdown",
   "id": "5c4a43d8",
   "metadata": {},
   "source": [
    " This .[L;I;f] applies function f to Ith index of L and returns it, keeping the list unchanged.\n",
    "While .[`L;I;f] modifies the existing list (by reference)"
   ]
  },
  {
   "cell_type": "code",
   "execution_count": 53,
   "id": "0bde84ef",
   "metadata": {},
   "outputs": [
    {
     "name": "stdout",
     "output_type": "stream",
     "text": [
      "(`a;4)\r\n",
      "(`c;5)\r\n",
      "(`d;7;2.079442 1.791759 2.197225)\r\n"
     ]
    },
    {
     "data": {
      "text/plain": [
       "(`a;4)\r\n",
       "(`c;5)\r\n",
       "(`d;7;(8;6;9f))\r\n"
      ]
     },
     "execution_count": 53,
     "metadata": {},
     "output_type": "execute_result"
    }
   ],
   "source": [
    "L:((`a;4);(`c;5);(`d;7;(8;6;9f)));\n",
    "show .[L;2 2;log];\n",
    "L"
   ]
  },
  {
   "cell_type": "code",
   "execution_count": 54,
   "id": "8d383c08",
   "metadata": {},
   "outputs": [
    {
     "name": "stdout",
     "output_type": "stream",
     "text": [
      "`L\r\n"
     ]
    },
    {
     "data": {
      "text/plain": [
       "(`a;4)\r\n",
       "(`c;5)\r\n",
       "(`d;7;2.079442 1.791759 2.197225)\r\n"
      ]
     },
     "execution_count": 54,
     "metadata": {},
     "output_type": "execute_result"
    }
   ],
   "source": [
    "show .[`L;2 2;log];\n",
    "L"
   ]
  },
  {
   "cell_type": "markdown",
   "id": "4fc29b53",
   "metadata": {},
   "source": [
    "### 3.4 Protected Evaluation\n",
    "The concept of try catch, or protected evaluation, is inplimented with the samew @ and . verbs. The trap function has the syntax @[f;arg;err] where f is a monadic function, and arg its argument. For multivariate funcitons, use .[f;args;err] where args are a list of arguments.  "
   ]
  },
  {
   "cell_type": "code",
   "execution_count": 55,
   "id": "1f2a4621",
   "metadata": {},
   "outputs": [],
   "source": [
    "f:{@[sqrt;x;`err]}"
   ]
  },
  {
   "cell_type": "code",
   "execution_count": 56,
   "id": "dde4f52e",
   "metadata": {},
   "outputs": [
    {
     "data": {
      "text/plain": [
       "3f\r\n"
      ]
     },
     "execution_count": 56,
     "metadata": {},
     "output_type": "execute_result"
    }
   ],
   "source": [
    "f[9f]"
   ]
  },
  {
   "cell_type": "code",
   "execution_count": 57,
   "id": "a78b4320",
   "metadata": {},
   "outputs": [
    {
     "data": {
      "text/plain": [
       "`err\r\n"
      ]
     },
     "execution_count": 57,
     "metadata": {},
     "output_type": "execute_result"
    }
   ],
   "source": [
    "f[`a]"
   ]
  },
  {
   "cell_type": "code",
   "execution_count": 58,
   "id": "f85fdc5a",
   "metadata": {},
   "outputs": [
    {
     "name": "stdout",
     "output_type": "stream",
     "text": [
      "20\r\n"
     ]
    },
    {
     "data": {
      "text/plain": [
       "`err\r\n"
      ]
     },
     "execution_count": 58,
     "metadata": {},
     "output_type": "execute_result"
    }
   ],
   "source": [
    "mult:{.[*;(x;y);`err]};\n",
    "show mult[4;5];\n",
    "mult[4;\"toto\"]"
   ]
  },
  {
   "cell_type": "code",
   "execution_count": 59,
   "id": "f0c35f5c",
   "metadata": {},
   "outputs": [
    {
     "data": {
      "text/plain": [
       "\"Error is: type\"\r\n"
      ]
     },
     "execution_count": 59,
     "metadata": {},
     "output_type": "execute_result"
    }
   ],
   "source": [
    "// customize error handeler\n",
    "mult:{.[*;(x;y);{\"Error is: \",x}]};\n",
    "mult[4;\"toto\"]"
   ]
  },
  {
   "cell_type": "markdown",
   "id": "76a1ff13",
   "metadata": {},
   "source": [
    "### 3.5 Vector Operations\n",
    "In this section we will present a few more native functions which cover basic time series operations. We split the functions into two classes: aggregators.\n",
    "\n",
    "#### 3.5.1 Aggregators\n",
    "Simple Aggregators:\n",
    "   - min\n",
    "   - max\n",
    "   - avg\n",
    "   - med\n",
    "   - var\n",
    "   - dev\n",
    "   - svar\n",
    "   - sdev"
   ]
  },
  {
   "cell_type": "code",
   "execution_count": 60,
   "id": "cf4f84ea",
   "metadata": {},
   "outputs": [
    {
     "data": {
      "text/plain": [
       "1f\r\n"
      ]
     },
     "execution_count": 60,
     "metadata": {},
     "output_type": "execute_result"
    }
   ],
   "source": [
    "L:3 1 4 1 6 7 4 3 8 9 1 2f;\n",
    "min L"
   ]
  },
  {
   "cell_type": "code",
   "execution_count": 61,
   "id": "fe693ba7",
   "metadata": {},
   "outputs": [
    {
     "data": {
      "text/plain": [
       "9f\r\n"
      ]
     },
     "execution_count": 61,
     "metadata": {},
     "output_type": "execute_result"
    }
   ],
   "source": [
    "max L"
   ]
  },
  {
   "cell_type": "code",
   "execution_count": 62,
   "id": "16f3afca",
   "metadata": {},
   "outputs": [
    {
     "data": {
      "text/plain": [
       "4.083333\r\n"
      ]
     },
     "execution_count": 62,
     "metadata": {},
     "output_type": "execute_result"
    }
   ],
   "source": [
    "avg L"
   ]
  },
  {
   "cell_type": "code",
   "execution_count": 63,
   "id": "ec3c3e31",
   "metadata": {},
   "outputs": [
    {
     "data": {
      "text/plain": [
       "3.5\r\n"
      ]
     },
     "execution_count": 63,
     "metadata": {},
     "output_type": "execute_result"
    }
   ],
   "source": [
    "med L"
   ]
  },
  {
   "cell_type": "code",
   "execution_count": 64,
   "id": "1e6811b1",
   "metadata": {},
   "outputs": [
    {
     "data": {
      "text/plain": [
       "7.243056\r\n"
      ]
     },
     "execution_count": 64,
     "metadata": {},
     "output_type": "execute_result"
    }
   ],
   "source": [
    "var L"
   ]
  },
  {
   "cell_type": "code",
   "execution_count": 65,
   "id": "f0d833b6",
   "metadata": {},
   "outputs": [
    {
     "data": {
      "text/plain": [
       "2.691293\r\n"
      ]
     },
     "execution_count": 65,
     "metadata": {},
     "output_type": "execute_result"
    }
   ],
   "source": [
    "dev L"
   ]
  },
  {
   "cell_type": "code",
   "execution_count": 66,
   "id": "1994e1e8",
   "metadata": {},
   "outputs": [
    {
     "data": {
      "text/plain": [
       "7.901515\r\n"
      ]
     },
     "execution_count": 66,
     "metadata": {},
     "output_type": "execute_result"
    }
   ],
   "source": [
    "svar L"
   ]
  },
  {
   "cell_type": "code",
   "execution_count": 67,
   "id": "e38bb8ff",
   "metadata": {},
   "outputs": [
    {
     "data": {
      "text/plain": [
       "2.810963\r\n"
      ]
     },
     "execution_count": 67,
     "metadata": {},
     "output_type": "execute_result"
    }
   ],
   "source": [
    "sdev L"
   ]
  },
  {
   "cell_type": "markdown",
   "id": "1f24fe88",
   "metadata": {},
   "source": [
    "Weighted Aggregators\n",
    "\n",
    "Weight aggregators"
   ]
  }
 ],
 "metadata": {
  "kernelspec": {
   "display_name": "Q (kdb+)",
   "language": "q",
   "name": "qpk"
  },
  "language_info": {
   "file_extension": ".q",
   "mimetype": "text/x-q",
   "name": "q",
   "version": "4.0"
  }
 },
 "nbformat": 4,
 "nbformat_minor": 5
}

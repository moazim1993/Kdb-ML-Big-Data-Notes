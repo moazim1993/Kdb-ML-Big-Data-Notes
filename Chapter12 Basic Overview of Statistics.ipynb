{
 "cells": [
  {
   "cell_type": "markdown",
   "id": "83a0463d",
   "metadata": {},
   "source": [
    "### Basic overview of statisitcs\n",
    "\n",
    "- this chapter is combination of stats, tests, and vizualizations"
   ]
  },
  {
   "cell_type": "markdown",
   "id": "91abe4de",
   "metadata": {},
   "source": [
    "#### 12.1 Histograms\n",
    " - histograms are a repesentation of the data distribution, and a visual tool which can help in investigating our data. "
   ]
  },
  {
   "cell_type": "code",
   "execution_count": 34,
   "id": "a24e4765",
   "metadata": {},
   "outputs": [
    {
     "ename": "\u001b[0;31m{\u001b[0m",
     "evalue": "\u001b[0;31m{\u001b[0m",
     "output_type": "error",
     "traceback": [
      "\u001b[0;31mevaluation error:\n\u001b[0m",
      "\u001b[0;31m{\u001b[0m",
      "\u001b[0;31m\u001b[0m",
      "\u001b[0;31m  [3]  C:\\Users\\moazi\\Documents\\GitHub\\Kdb-ML-Big-Data-Notes\\quantQ-master\\lib\\quantQ_stats.q:133: \r\n    // return p-values\r\n    :(`pValueLeft`pValueRight`pValueTwoSided)!(sum .quantQ.stats.pdfBinomial[;N;0.5] each leftSample; sum .quantQ.stats.pdfBinomial[;N;0.5] each rightSample; sum .quantQ.stats.pdfBinomial[;N;0.5] each twoSample);\r\n                                                                                                                                                                                                                   ^\r\n\u001b[0m",
      "\u001b[0;31m  [0]  \\l quantQ-master/lib/quantQ_stats.q\r\n       ^\r\n\u001b[0m"
     ]
    }
   ],
   "source": [
    "\\l quantQ-master/lib/quantQ_stats.q\n",
    ".stats:.quantQ.stats"
   ]
  },
  {
   "cell_type": "code",
   "execution_count": 35,
   "id": "cfc3d6c0",
   "metadata": {},
   "outputs": [
    {
     "data": {
      "text/plain": [
       "{[data;rule]\r\n",
       "    // data -- array of data\r\n",
       "    // rule -- function which takes data and returns bins\r\n",
       "    // calculate bins\r\n",
       "    bins: rule data;\r\n",
       "    // return histogram table\r\n",
       "    :update 0^histogram from\r\n",
       "        ([bins:asc til count[bins]] x:bins) uj\r\n",
       "        (select histogram: count bins by bins from ([] bins:bins binr data));\r\n",
       " }\r\n"
      ]
     },
     "execution_count": 35,
     "metadata": {},
     "output_type": "execute_result"
    }
   ],
   "source": [
    ".quantQ.stats.getHistogram"
   ]
  },
  {
   "cell_type": "markdown",
   "id": "9fdbe4d8",
   "metadata": {},
   "source": [
    "The getHistogram function wraps around binr verb. Is accepts a vector and a fucntion which created the bins.\n",
    "\n",
    "Choices for the functions include:\n",
    "- Grid\n",
    "    - .quantQ.stats.histGrid  explicitly give the bins\n",
    "- Width\n",
    "    - .quantQ.stats.histWidth give the width of each bin then it divides the data\n",
    "- Bins\n",
    "    - .quantQ.stats.histBin give the number of bins desired\n",
    "- Square Root\n",
    "    - .quantQ.stats.histSquareRoot number of bins are the square root of the number of data\n",
    "- Sturges formula\n",
    "    - .quantQ.stats.histSturge number of bins are $1+ log_{2}N$ where N is the Number of data points\n",
    "- Rice's rule\n",
    "    - .quantQ.stats.histRice number of bins are $N^{1/3}$\n",
    "- Scotts rule\n",
    "    - .quantQ.stats.histScott number of bins $3.5 \\sigma^{2} / N^{1/3}$"
   ]
  },
  {
   "cell_type": "code",
   "execution_count": 36,
   "id": "6cb79441",
   "metadata": {},
   "outputs": [
    {
     "data": {
      "text/plain": [
       "i  data      \r\n",
       "-------------\r\n",
       "0  2.389119  \r\n",
       "1  1.789134  \r\n",
       "2  2.455691  \r\n",
       "3  1.792445  \r\n",
       "4  1.339298  \r\n",
       "5  0.8229613 \r\n",
       "6  0.3497951 \r\n",
       "7  1.37836   \r\n",
       "8  0.5465952 \r\n",
       "9  1.917355  \r\n",
       "10 1.566842  \r\n",
       "11 1.3491    \r\n",
       "12 2.849276  \r\n",
       "13 1.995666  \r\n",
       "14 1.709939  \r\n",
       "15 2.543438  \r\n",
       "16 2.899373  \r\n",
       "17 0.05270517\r\n",
       "18 2.480356  \r\n",
       "19 0.9661513 \r\n",
       "..\r\n"
      ]
     },
     "execution_count": 36,
     "metadata": {},
     "output_type": "execute_result"
    }
   ],
   "source": [
    "data:(1000?3.0),(200?1.0),(2.0+300?1.0);\n",
    "select i:i, data from ([]data)"
   ]
  },
  {
   "cell_type": "code",
   "execution_count": 37,
   "id": "a52ea3cd",
   "metadata": {},
   "outputs": [
    {
     "data": {
      "text/plain": [
       "bins| x            histogram\r\n",
       "----| ----------------------\r\n",
       "0   | 0.0009199788 1        \r\n",
       "1   | 0.20092      106      \r\n",
       "2   | 0.40092      102      \r\n",
       "3   | 0.60092      93       \r\n",
       "4   | 0.80092      103      \r\n",
       "5   | 1.00092      108      \r\n",
       "6   | 1.20092      65       \r\n",
       "7   | 1.40092      68       \r\n",
       "8   | 1.60092      70       \r\n",
       "9   | 1.80092      60       \r\n",
       "10  | 2.00092      75       \r\n",
       "11  | 2.20092      140      \r\n",
       "12  | 2.40092      116      \r\n",
       "13  | 2.60092      134      \r\n",
       "14  | 2.80092      131      \r\n",
       "15  | 3.00092      128      \r\n"
      ]
     },
     "execution_count": 37,
     "metadata": {},
     "output_type": "execute_result"
    }
   ],
   "source": [
    "histWidth:.quantQ.stats.getHistogram[data;.quantQ.stats.histWidth[0.2]]\n",
    "histWidth"
   ]
  },
  {
   "cell_type": "code",
   "execution_count": 38,
   "id": "184725bf",
   "metadata": {},
   "outputs": [],
   "source": [
    "x:exec bins from histWidth\n",
    "y:exec histogram from histWidth"
   ]
  },
  {
   "cell_type": "code",
   "execution_count": 39,
   "id": "8ac5ba65",
   "metadata": {},
   "outputs": [],
   "source": [
    "\\l helper/importmatplotlib.q"
   ]
  },
  {
   "cell_type": "code",
   "execution_count": 40,
   "id": "792e2004",
   "metadata": {},
   "outputs": [
    {
     "data": {
      "image/png": "[encoded data removed]",
      "text/plain": [
       "<Figure size 460.8x345.6 with 1 Axes>"
      ]
     },
     "metadata": {},
     "output_type": "display_data"
    }
   ],
   "source": [
    "plt:.matplotlib.pyplot[]\n",
    "plt.bar[x;y];\n",
    "plt.show[];"
   ]
  },
  {
   "cell_type": "code",
   "execution_count": 41,
   "id": "b01ef27c",
   "metadata": {},
   "outputs": [],
   "source": [
    "histScott:.quantQ.stats.getHistogram[data;.quantQ.stats.histScott]\n",
    "x:exec bins from histScott\n",
    "y:exec histogram from histScott"
   ]
  },
  {
   "cell_type": "code",
   "execution_count": 42,
   "id": "42df6acc",
   "metadata": {},
   "outputs": [
    {
     "data": {
      "image/png": "[encoded data removed]",
      "text/plain": [
       "<Figure size 460.8x345.6 with 1 Axes>"
      ]
     },
     "metadata": {},
     "output_type": "display_data"
    }
   ],
   "source": [
    "plt:.matplotlib.pyplot[]\n",
    "plt.bar[x;y];\n",
    "plt.show[];"
   ]
  },
  {
   "cell_type": "markdown",
   "id": "70ddc9bf",
   "metadata": {},
   "source": [
    "Scotts Rule above dosn't seem useful, and indeed its not. The assumtion behind it is a normal distribution and we constructed a data from 3 uniform sets. This demonstraits the need to choose bins carefully."
   ]
  },
  {
   "cell_type": "markdown",
   "id": "d466845a",
   "metadata": {},
   "source": [
    "#### 12.2 Firstr moments\n",
    "\n",
    "- skewness : for datatribution that are unimodal and not heavy tailed, negitive skew is skewed to the left (lower values) and positive skew is skewed to the right (higher values)\n",
    "\n",
    "- kurtosis : can be used to assess the heavy tail of the data. positive is said to be leptokurtic (heavy tailed) and negitive values are said to be platykurtic or relatively thin tailed compared to gaussian distribution"
   ]
  },
  {
   "cell_type": "code",
   "execution_count": 43,
   "id": "35e5407d",
   "metadata": {},
   "outputs": [
    {
     "data": {
      "text/plain": [
       "statistics                       values      \r\n",
       "---------------------------------------------\r\n",
       "\"Sample mean\"                    1.590679    \r\n",
       "\"Sample standard deviation\"      0.9197379   \r\n",
       "\"Sample skewness\"                -0.1579463  \r\n",
       "\"Sample kurtosis\"                -1.34855    \r\n",
       "\"Sample min\"                     0.0009199788\r\n",
       "\"Sample max\"                     2.994793    \r\n",
       "\"Number of observations\"         1500        \r\n",
       "\"Number of missing observations\" 0           \r\n"
      ]
     },
     "execution_count": 43,
     "metadata": {},
     "output_type": "execute_result"
    }
   ],
   "source": [
    ".stats.overviewStats[data]"
   ]
  },
  {
   "cell_type": "markdown",
   "id": "f8e13008",
   "metadata": {},
   "source": [
    "#### 12.3 Hypothsis testing\n",
    "- In order to review our data quantitativly we need tests like\n",
    "    - comparing two sample means\n",
    "    - sign test\n",
    "    - correlation\n",
    "\n",
    "##### p -values\n",
    "    - For many stats we require a Normal distribution $N(0,1)$\n",
    "    - We need to form a test to make sure that assumtion holds true\n",
    "    - To assess we make a null hypothesis and assess if we can reject that null hypothesis\n",
    "    - In order to calculate, we use p-values\n",
    "    - In order to assess the significance of the test we rely on confidence intervals"
   ]
  },
  {
   "cell_type": "code",
   "execution_count": 44,
   "id": "40d134ce",
   "metadata": {},
   "outputs": [
    {
     "data": {
      "text/plain": [
       "0.0005 3.290527  \r\n",
       "0.005  2.575829  \r\n",
       "0.01   2.326348  \r\n",
       "0.495  0.01253347\r\n",
       "0.5    0         \r\n"
      ]
     },
     "execution_count": 44,
     "metadata": {},
     "output_type": "execute_result"
    }
   ],
   "source": [
    "// Confidence intervals\n",
    ".stats.normTable // zscores for different p values"
   ]
  },
  {
   "cell_type": "code",
   "execution_count": 45,
   "id": "458de8b9",
   "metadata": {},
   "outputs": [
    {
     "data": {
      "text/plain": [
       "0.01\r\n"
      ]
     },
     "execution_count": 45,
     "metadata": {},
     "output_type": "execute_result"
    }
   ],
   "source": [
    "// confidence of two sided  test\n",
    ".stats.pValueTwoSided[2.58] "
   ]
  },
  {
   "cell_type": "code",
   "execution_count": 46,
   "id": "b9f6ef8a",
   "metadata": {},
   "outputs": [
    {
     "data": {
      "text/plain": [
       "0.001\r\n"
      ]
     },
     "execution_count": 46,
     "metadata": {},
     "output_type": "execute_result"
    }
   ],
   "source": [
    ".stats.pValueTwoSided[10.0]"
   ]
  },
  {
   "cell_type": "code",
   "execution_count": 47,
   "id": "773c531c",
   "metadata": {},
   "outputs": [
    {
     "data": {
      "text/plain": [
       "1f\r\n"
      ]
     },
     "execution_count": 47,
     "metadata": {},
     "output_type": "execute_result"
    }
   ],
   "source": [
    ".stats.pValueTwoSided[0.0]"
   ]
  },
  {
   "cell_type": "code",
   "execution_count": 48,
   "id": "e78b3265",
   "metadata": {},
   "outputs": [
    {
     "name": "stdout",
     "output_type": "stream",
     "text": [
      "0.005\r\n",
      "0.995\r\n"
     ]
    }
   ],
   "source": [
    "show .stats.pValueLeftSided[-2.58];\n",
    "show .stats.pValueLeftSided[2.58];"
   ]
  },
  {
   "cell_type": "code",
   "execution_count": 49,
   "id": "98f6ef3e",
   "metadata": {},
   "outputs": [
    {
     "name": "stdout",
     "output_type": "stream",
     "text": [
      "0.995\r\n",
      "0.005\r\n"
     ]
    }
   ],
   "source": [
    "show .stats.pValueRightSided[-2.58];\n",
    "show .stats.pValueRightSided[2.58];"
   ]
  },
  {
   "cell_type": "markdown",
   "id": "4b1354b9",
   "metadata": {},
   "source": [
    "##### Correlation\n",
    "$\\rho = \\frac{\\text{cov}(X,Y)}{\\sigma_x \\sigma_y}$\n",
    "\n",
    " - basic tool to assess dependece between two variables\n",
    " - cov is the covariance\n",
    " - $\\sigma$ are the squareroot of the variance\n",
    " - bounded by 1 and -1 with one being a positive correlation and -1 being negitive, uncorrelated is near 0\n",
    " \n",
    " \n",
    " Testing\n",
    " - Let $H_{o}$ denote the null hypothesis, that two random variables are not correlated\n",
    " - Let $H_{a}$ denote the alternitive hypothesis, that tw orandom variables are correlated\n",
    " "
   ]
  },
  {
   "cell_type": "code",
   "execution_count": 50,
   "id": "b9187167",
   "metadata": {},
   "outputs": [
    {
     "data": {
      "text/plain": [
       "0.357478\r\n"
      ]
     },
     "execution_count": 50,
     "metadata": {},
     "output_type": "execute_result"
    }
   ],
   "source": [
    "// constructing the data\n",
    "x:100?1.0;\n",
    "y:(0.2*x)+0.8*100?1.0;\n",
    "cor[x;y]"
   ]
  },
  {
   "cell_type": "code",
   "execution_count": 51,
   "id": "b99dad3f",
   "metadata": {},
   "outputs": [
    {
     "data": {
      "text/plain": [
       "3.789238\r\n"
      ]
     },
     "execution_count": 51,
     "metadata": {},
     "output_type": "execute_result"
    }
   ],
   "source": [
    "/calculate the t-statistic\n",
    ".stats.tStatsCorr[cor[x;y];count x]"
   ]
  },
  {
   "cell_type": "code",
   "execution_count": 52,
   "id": "c1975a54",
   "metadata": {},
   "outputs": [
    {
     "data": {
      "text/plain": [
       "0.001\r\n"
      ]
     },
     "execution_count": 52,
     "metadata": {},
     "output_type": "execute_result"
    }
   ],
   "source": [
    "//assess its significance level\n",
    ".stats.pValueTwoSided abs .stats.tStatsCorr[cor[x;y];count x]"
   ]
  },
  {
   "cell_type": "markdown",
   "id": "b4adc5a9",
   "metadata": {},
   "source": [
    "The results show that we can reject the Null hypothesis of the correlation being zero. The derived p-value smaller than or equal to zero."
   ]
  },
  {
   "cell_type": "markdown",
   "id": "a20b6c32",
   "metadata": {},
   "source": [
    "##### t-test One sample"
   ]
  },
  {
   "cell_type": "code",
   "execution_count": 53,
   "id": "9364d5cd",
   "metadata": {},
   "outputs": [
    {
     "data": {
      "text/plain": [
       "16.84401\r\n"
      ]
     },
     "execution_count": 53,
     "metadata": {},
     "output_type": "execute_result"
    }
   ],
   "source": [
    ".stats.tTestOneSample[xTest:100?1.0;0.045]"
   ]
  },
  {
   "cell_type": "code",
   "execution_count": 54,
   "id": "aa95a6be",
   "metadata": {},
   "outputs": [
    {
     "data": {
      "text/plain": [
       "0.01\r\n"
      ]
     },
     "execution_count": 54,
     "metadata": {},
     "output_type": "execute_result"
    }
   ],
   "source": [
    ".stats.pValueTwoSided abs .stats.tTestOneSample[xTest;0.45]"
   ]
  },
  {
   "cell_type": "markdown",
   "id": "beda1fb0",
   "metadata": {},
   "source": [
    "p-value of the test is 2%, which suggest we may reject the Null hypothesis at 2% confidence interval"
   ]
  },
  {
   "cell_type": "markdown",
   "id": "6b6f565d",
   "metadata": {},
   "source": [
    "##### t-test Two sample\n",
    "\n",
    "Drawn from two independent samples\n",
    "- $X_{N} = x_{1} ... x_{N}$ with mean $\\mu_{1}$ , and standard deviation $\\sigma_{1}$\n",
    "- $Y_{M} = y_{1} ... y_{M}$ with mean $\\mu_{2}$ , and standard deviation $\\sigma_{2}$\n",
    "\n",
    "###### Hypothesis\n",
    "- Let $H_{o}$ denote the null hypothesis, that two sample means are equal $\\mu_{1} = \\mu_{2}$\n",
    "- Let $H_{a}$ denote the alternitive hypothesis, that tw orandom variables are correlated\n",
    "\n",
    "To test we need a sutible test statistics. The statistics make assumtions on N, M, $\\sigma_{1}$, $\\sigma_{2}$. The stronger the assumtions, the closer we get to asymptotic behavior, but at a greater risk of model error if its incorrect.\n",
    "\n",
    "We focuse on the `Welch's test`, which has the least assumtions:\n",
    "    $t_{w} = \\dfrac{\\bar{x} - \\bar{y}}{ s_{w}}$\n",
    "    \n",
    "We reject the null hypothesis if $|t_{W}| > t_{critical, W_{df}}$, $t_{W} < -t$, $t_{W} > t_{critical, W_{df}}$"
   ]
  },
  {
   "cell_type": "code",
   "execution_count": 55,
   "id": "80b94c3d",
   "metadata": {},
   "outputs": [
    {
     "data": {
      "text/plain": [
       "{[x1;x2]\r\n",
       "    // x1,x2 -- two arrays to be tested, unequal length\r\n",
       "    // return Welch's statistics\r\n",
       "    :(avg[x1]-avg[x2])%sqrt ((s*s:dev[x1])%count[x1])+(z*z:dev[x2])%count[x2];\r\n",
       " }\r\n"
      ]
     },
     "execution_count": 55,
     "metadata": {},
     "output_type": "execute_result"
    }
   ],
   "source": [
    "/ implimentation\n",
    ".stats.tTestTwoSample"
   ]
  },
  {
   "cell_type": "code",
   "execution_count": 56,
   "id": "6c48680e",
   "metadata": {},
   "outputs": [
    {
     "data": {
      "text/plain": [
       "0.7811354\r\n"
      ]
     },
     "execution_count": 56,
     "metadata": {},
     "output_type": "execute_result"
    }
   ],
   "source": [
    "// test with two samples\n",
    "\n",
    ".stats.tTestTwoSample[xTest1:100?1.0;xTest2:neg[0.5]+1000?2.0]"
   ]
  },
  {
   "cell_type": "code",
   "execution_count": 57,
   "id": "4863f6a3",
   "metadata": {},
   "outputs": [
    {
     "data": {
      "text/plain": [
       "0.99\r\n"
      ]
     },
     "execution_count": 57,
     "metadata": {},
     "output_type": "execute_result"
    }
   ],
   "source": [
    "// p value \n",
    ".stats.pValueTwoSided abs .stats.tTestTwoSample[xTest1;xTest2]"
   ]
  },
  {
   "cell_type": "markdown",
   "id": "cfffe902",
   "metadata": {},
   "source": [
    "###### Sig Test\n"
   ]
  },
  {
   "cell_type": "code",
   "execution_count": 58,
   "id": "879f3f19",
   "metadata": {},
   "outputs": [
    {
     "data": {
      "text/plain": [
       "{[n;N;p]\r\n",
       "    // N -- population size\r\n",
       "    // n -- number of \"1\"\r\n",
       "    // p -- probability of \"1\" in every draw\r\n",
       "    // first four moments: mean\r\n",
       "    mean: N*p;\r\n",
       "    // first four moments: variance\r\n",
       "    variance: N*p*1-p;\r\n",
       "    // sigma -- convenient\r\n",
       "    sigma:sqrt variance;\r\n",
       "    // first four moments: skewness\r\n",
       "    skewness:(1-2.0*p)%sqrt[N*p*1-p];\r\n",
       "    // first four moments: kurtosis\r\n",
       "    kurtosis:(1-6.0*p*1-p)%N*p*1-p;\r\n",
       "    // the output object\r\n",
       "     :(`mean`variance`sigma`skewness`kurtosis)!(mean;variance;sigma;skewness;..\r\n",
       " }\r\n"
      ]
     },
     "execution_count": 58,
     "metadata": {},
     "output_type": "execute_result"
    }
   ],
   "source": [
    "/# implimentation of the Test\n",
    ".stats.characteristicsBinomial"
   ]
  },
  {
   "cell_type": "code",
   "execution_count": 59,
   "id": "1e043731",
   "metadata": {},
   "outputs": [
    {
     "data": {
      "text/plain": [
       "{[n;N;p]\r\n",
       "    // N -- population size\r\n",
       "    // n -- number of \"1\"\r\n",
       "    // p -- probability of \"1\" in every draw\r\n",
       "    :.quantQ.stats.coeffBinomial[N;n]*xexp[p;n]*xexp[1-p;N-n]\r\n",
       " }\r\n"
      ]
     },
     "execution_count": 59,
     "metadata": {},
     "output_type": "execute_result"
    }
   ],
   "source": [
    ".stats.pdfBinomial"
   ]
  },
  {
   "cell_type": "code",
   "execution_count": 60,
   "id": "cb352539",
   "metadata": {},
   "outputs": [
    {
     "data": {
      "text/plain": [
       "{[a;b]\r\n",
       "    // a, b -- integers\r\n",
       "    // a choose b calculation\r\n",
       "    :.quantQ.stats.factorial[a]%(.quantQ.stats.factorial[b]*.quantQ.stats.fac..\r\n",
       " }\r\n"
      ]
     },
     "execution_count": 60,
     "metadata": {},
     "output_type": "execute_result"
    }
   ],
   "source": [
    ".stats.coeffBinomial"
   ]
  },
  {
   "cell_type": "code",
   "execution_count": 61,
   "id": "de328937",
   "metadata": {},
   "outputs": [
    {
     "data": {
      "text/plain": [
       "20f\r\n"
      ]
     },
     "execution_count": 61,
     "metadata": {},
     "output_type": "execute_result"
    }
   ],
   "source": [
    ".stats.coeffBinomial[6;3]"
   ]
  },
  {
   "cell_type": "code",
   "execution_count": 62,
   "id": "b5b92746",
   "metadata": {},
   "outputs": [
    {
     "data": {
      "text/plain": [
       "{[n]\r\n",
       "    // n  -- the integer input\r\n",
       "    // for the purpose of calculation, the numbers are recast into float\r\n",
       "    :prd \"f\"$1 + til n;\r\n",
       " }\r\n"
      ]
     },
     "execution_count": 62,
     "metadata": {},
     "output_type": "execute_result"
    }
   ],
   "source": [
    ".stats.factorial"
   ]
  },
  {
   "cell_type": "code",
   "execution_count": 63,
   "id": "efe7271c",
   "metadata": {},
   "outputs": [
    {
     "data": {
      "text/plain": [
       "1.551121e+025\r\n"
      ]
     },
     "execution_count": 63,
     "metadata": {},
     "output_type": "execute_result"
    }
   ],
   "source": [
    ".stats.factorial[25]"
   ]
  },
  {
   "cell_type": "code",
   "execution_count": 64,
   "id": "46da91ed",
   "metadata": {},
   "outputs": [
    {
     "data": {
      "text/plain": [
       "mean    | 50\r\n",
       "variance| 25\r\n",
       "sigma   | 5\r\n",
       "skewness| 0\r\n",
       "kurtosis| -0.02\r\n"
      ]
     },
     "execution_count": 64,
     "metadata": {},
     "output_type": "execute_result"
    }
   ],
   "source": [
    ".stats.characteristicsBinomial[45;100;0.5]"
   ]
  },
  {
   "cell_type": "code",
   "execution_count": 65,
   "id": "affdbf3f",
   "metadata": {},
   "outputs": [
    {
     "data": {
      "text/plain": [
       "t  Binom        \r\n",
       "----------------\r\n",
       "0  7.888609e-031\r\n",
       "1  7.888609e-029\r\n",
       "2  3.904861e-027\r\n",
       "3  1.275588e-025\r\n",
       "4  3.093301e-024\r\n",
       "5  5.939138e-023\r\n",
       "6  9.403635e-022\r\n",
       "7  1.262774e-020\r\n",
       "8  1.467975e-019\r\n",
       "9  1.500596e-018\r\n",
       "10 1.365543e-017\r\n",
       "11 1.117262e-016\r\n",
       "12 8.286361e-016\r\n",
       "13 5.609229e-015\r\n",
       "14 3.485735e-014\r\n",
       "15 1.998488e-013\r\n",
       "16 1.061697e-012\r\n",
       "17 5.246031e-012\r\n",
       "18 2.419003e-011\r\n",
       "19 1.043991e-010\r\n",
       "..\r\n"
      ]
     },
     "execution_count": 65,
     "metadata": {},
     "output_type": "execute_result"
    }
   ],
   "source": [
    "tabBinom:([] t:til 100)\n",
    "update Binom:.stats.pdfBinomial[;100;0.5] each t from tabBinom"
   ]
  },
  {
   "cell_type": "raw",
   "id": "9042011b",
   "metadata": {},
   "source": [
    ".stats.pValSignTest"
   ]
  },
  {
   "cell_type": "code",
   "execution_count": null,
   "id": "ec14129c",
   "metadata": {},
   "outputs": [],
   "source": []
  }
 ],
 "metadata": {
  "kernelspec": {
   "display_name": "Q (kdb+)",
   "language": "q",
   "name": "qpk"
  },
  "language_info": {
   "file_extension": ".q",
   "mimetype": "text/x-q",
   "name": "q",
   "version": "4.0"
  }
 },
 "nbformat": 4,
 "nbformat_minor": 5
}

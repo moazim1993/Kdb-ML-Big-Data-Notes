{
 "cells": [
  {
   "cell_type": "markdown",
   "id": "be276aa3",
   "metadata": {},
   "source": [
    "## Debugging q Code\n",
    "\n",
    "First part of this chapter we make a brief overview of the native errors we may encounter when using incorrect syntax.\n",
    "\n",
    "Then we focus on how to debug the code when encountering errors and move on to advise on how we can structure our codebase better."
   ]
  },
  {
   "cell_type": "markdown",
   "id": "956f7f41",
   "metadata": {},
   "source": [
    "### 5.1 Introduction to making it wrong: Errors\n",
    "\n",
    "2 main pain points:\n",
    "\n",
    "    - Avoiding simple syntax errors when initially writing our code.\n",
    "    - interpreting the generally obscure and short q errors and how we can make these more verbose while our code increases in complexity"
   ]
  },
  {
   "cell_type": "code",
   "execution_count": null,
   "id": "241ed5b0",
   "metadata": {},
   "outputs": [],
   "source": []
  }
 ],
 "metadata": {
  "kernelspec": {
   "display_name": "Python 3",
   "language": "python",
   "name": "python3"
  },
  "language_info": {
   "codemirror_mode": {
    "name": "ipython",
    "version": 3
   },
   "file_extension": ".py",
   "mimetype": "text/x-python",
   "name": "python",
   "nbconvert_exporter": "python",
   "pygments_lexer": "ipython3",
   "version": "3.8.8"
  }
 },
 "nbformat": 4,
 "nbformat_minor": 5
}

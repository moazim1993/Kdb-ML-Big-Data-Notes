{
 "cells": [
  {
   "cell_type": "markdown",
   "id": "83a0463d",
   "metadata": {},
   "source": [
    "### Basic overview of statisitcs\n",
    "\n",
    "- this chapter is combination of stats, tests, and vizualizations"
   ]
  },
  {
   "cell_type": "markdown",
   "id": "91abe4de",
   "metadata": {},
   "source": [
    "#### 12.1 Histograms\n",
    " - histograms are a repesentation of the data distribution, and a visual tool which can help in investigating our data. "
   ]
  },
  {
   "cell_type": "code",
   "execution_count": 16,
   "id": "a24e4765",
   "metadata": {},
   "outputs": [],
   "source": [
    "\\l quantQ-master/lib/quantQ_stats.q\n",
    ".stats:.quantQ.stats"
   ]
  },
  {
   "cell_type": "code",
   "execution_count": 2,
   "id": "cfc3d6c0",
   "metadata": {},
   "outputs": [
    {
     "data": {
      "text/plain": [
       "{[data;rule]\r\n",
       "    // data -- array of data\r\n",
       "    // rule -- function which takes data and returns bins\r\n",
       "    // calculate bins\r\n",
       "    bins: rule data;\r\n",
       "    // return histogram table\r\n",
       "    :update 0^histogram from\r\n",
       "        ([bins:asc til count[bins]] x:bins) uj\r\n",
       "        (select histogram: count bins by bins from ([] bins:bins binr data));\r\n",
       " }\r\n"
      ]
     },
     "execution_count": 2,
     "metadata": {},
     "output_type": "execute_result"
    }
   ],
   "source": [
    ".quantQ.stats.getHistogram"
   ]
  },
  {
   "cell_type": "markdown",
   "id": "d72025af",
   "metadata": {},
   "source": [
    "The getHistogram function wraps around binr verb. Is accepts a vector and a fucntion which created the bins.\n",
    "\n",
    "Choices for the functions include:\n",
    "- Grid\n",
    "    - .quantQ.stats.histGrid  explicitly give the bins\n",
    "- Width\n",
    "    - .quantQ.stats.histWidth give the width of each bin then it divides the data\n",
    "- Bins\n",
    "    - .quantQ.stats.histBin give the number of bins desired\n",
    "- Square Root\n",
    "    - .quantQ.stats.histSquareRoot number of bins are the square root of the number of data\n",
    "- Sturges formula\n",
    "    - .quantQ.stats.histSturge number of bins are $1+ log_{2}N$ where N is the Number of data points\n",
    "- Rice's rule\n",
    "    - .quantQ.stats.histRice number of bins are $N^{1/3}$\n",
    "- Scotts rule\n",
    "    - .quantQ.stats.histScott number of bins $3.5 \\sigma^{2} / N^{1/3}$"
   ]
  },
  {
   "cell_type": "code",
   "execution_count": 9,
   "id": "6cb79441",
   "metadata": {},
   "outputs": [
    {
     "data": {
      "text/plain": [
       "i  data      \r\n",
       "-------------\r\n",
       "0  2.88033   \r\n",
       "1  0.3780501 \r\n",
       "2  2.692042  \r\n",
       "3  2.37501   \r\n",
       "4  0.7653596 \r\n",
       "5  2.012436  \r\n",
       "6  0.6109015 \r\n",
       "7  0.9657187 \r\n",
       "8  1.242962  \r\n",
       "9  2.051331  \r\n",
       "10 2.340832  \r\n",
       "11 0.9432745 \r\n",
       "12 0.9886312 \r\n",
       "13 1.583697  \r\n",
       "14 2.593988  \r\n",
       "15 2.134537  \r\n",
       "16 0.02390301\r\n",
       "17 2.588141  \r\n",
       "18 0.6394339 \r\n",
       "19 2.597418  \r\n",
       "..\r\n"
      ]
     },
     "execution_count": 9,
     "metadata": {},
     "output_type": "execute_result"
    }
   ],
   "source": [
    "data:(1000?3.0),(200?1.0),(2.0+300?1.0);\n",
    "select i:i, data from ([]data)"
   ]
  },
  {
   "cell_type": "code",
   "execution_count": 10,
   "id": "a52ea3cd",
   "metadata": {},
   "outputs": [
    {
     "data": {
      "text/plain": [
       "bins| x            histogram\r\n",
       "----| ----------------------\r\n",
       "0   | 0.0008223129 1        \r\n",
       "1   | 0.2008223    103      \r\n",
       "2   | 0.4008223    103      \r\n",
       "3   | 0.6008223    95       \r\n",
       "4   | 0.8008223    109      \r\n",
       "5   | 1.000822     117      \r\n",
       "6   | 1.200822     59       \r\n",
       "7   | 1.400822     73       \r\n",
       "8   | 1.600822     66       \r\n",
       "9   | 1.800822     56       \r\n",
       "10  | 2.000822     72       \r\n",
       "11  | 2.200822     124      \r\n",
       "12  | 2.400822     150      \r\n",
       "13  | 2.600822     118      \r\n",
       "14  | 2.800822     125      \r\n",
       "15  | 3.000822     129      \r\n"
      ]
     },
     "execution_count": 10,
     "metadata": {},
     "output_type": "execute_result"
    }
   ],
   "source": [
    "histWidth:.quantQ.stats.getHistogram[data;.quantQ.stats.histWidth[0.2]]\n",
    "histWidth"
   ]
  },
  {
   "cell_type": "code",
   "execution_count": 11,
   "id": "184725bf",
   "metadata": {},
   "outputs": [],
   "source": [
    "x:exec bins from histWidth\n",
    "y:exec histogram from histWidth"
   ]
  },
  {
   "cell_type": "code",
   "execution_count": 12,
   "id": "8ac5ba65",
   "metadata": {},
   "outputs": [],
   "source": [
    "\\l helper/importmatplotlib.q"
   ]
  },
  {
   "cell_type": "code",
   "execution_count": 13,
   "id": "792e2004",
   "metadata": {},
   "outputs": [
    {
     "data": {
      "image/png": "[encoded data removed]",
      "text/plain": [
       "<Figure size 460.8x345.6 with 1 Axes>"
      ]
     },
     "metadata": {},
     "output_type": "display_data"
    }
   ],
   "source": [
    "plt:.matplotlib.pyplot[]\n",
    "plt.bar[x;y];\n",
    "plt.show[];"
   ]
  },
  {
   "cell_type": "code",
   "execution_count": 14,
   "id": "a3fc4285",
   "metadata": {},
   "outputs": [],
   "source": [
    "histScott:.quantQ.stats.getHistogram[data;.quantQ.stats.histScott]\n",
    "x:exec bins from histScott\n",
    "y:exec histogram from histScott"
   ]
  },
  {
   "cell_type": "code",
   "execution_count": 15,
   "id": "6e5ae319",
   "metadata": {},
   "outputs": [
    {
     "data": {
      "image/png": "[encoded data removed]",
      "text/plain": [
       "<Figure size 460.8x345.6 with 1 Axes>"
      ]
     },
     "metadata": {},
     "output_type": "display_data"
    }
   ],
   "source": [
    "plt:.matplotlib.pyplot[]\n",
    "plt.bar[x;y];\n",
    "plt.show[];"
   ]
  },
  {
   "cell_type": "markdown",
   "id": "b2f5efbe",
   "metadata": {},
   "source": [
    "Scotts Rule above dosn't seem useful, and indeed its not. The assumtion behind it is a normal distribution and we constructed a data from 3 uniform sets. This demonstraits the need to choose bins carefully."
   ]
  },
  {
   "cell_type": "markdown",
   "id": "d82d7b9f",
   "metadata": {},
   "source": [
    "#### 12.2 Firstr moments\n",
    "\n",
    "- skewness : for datatribution that are unimodal and not heavy tailed, negitive skew is skewed to the left (lower values) and positive skew is skewed to the right (higher values)\n",
    "\n",
    "- kurtosis : can be used to assess the heavy tail of the data. positive is said to be leptokurtic (heavy tailed) and negitive values are said to be platykurtic or relatively thin tailed compared to gaussian distribution"
   ]
  },
  {
   "cell_type": "code",
   "execution_count": 17,
   "id": "577f6a99",
   "metadata": {},
   "outputs": [
    {
     "data": {
      "text/plain": [
       "statistics                       values      \r\n",
       "---------------------------------------------\r\n",
       "\"Sample mean\"                    1.584556    \r\n",
       "\"Sample standard deviation\"      0.9223831   \r\n",
       "\"Sample skewness\"                -0.1390056  \r\n",
       "\"Sample kurtosis\"                -1.383387   \r\n",
       "\"Sample min\"                     0.0008223129\r\n",
       "\"Sample max\"                     2.998934    \r\n",
       "\"Number of observations\"         1500        \r\n",
       "\"Number of missing observations\" 0           \r\n"
      ]
     },
     "execution_count": 17,
     "metadata": {},
     "output_type": "execute_result"
    }
   ],
   "source": [
    ".stats.overviewStats[data]"
   ]
  },
  {
   "cell_type": "markdown",
   "id": "f470ea53",
   "metadata": {},
   "source": [
    "#### 12.3 Hypothsis testing\n",
    "- In order to review our data quantitativly we need tests like\n",
    "    - comparing two sample means\n",
    "    - sign test\n",
    "    - correlation\n",
    "\n",
    "##### p -values\n",
    "    - For many stats we require a Normal distribution $N(0,1)$\n",
    "    - We need to form a test to make sure that assumtion holds true\n",
    "    - To assess we make a null hypothesis and assess if we can reject that null hypothesis\n",
    "    - In order to calculate, we use p-values\n",
    "    - In order to assess the significance of the test we rely on confidence intervals"
   ]
  },
  {
   "cell_type": "code",
   "execution_count": 27,
   "id": "52a6792b",
   "metadata": {},
   "outputs": [
    {
     "data": {
      "text/plain": [
       "0.0005 3.290527  \r\n",
       "0.005  2.575829  \r\n",
       "0.01   2.326348  \r\n",
       "0.495  0.01253347\r\n",
       "0.5    0         \r\n"
      ]
     },
     "execution_count": 27,
     "metadata": {},
     "output_type": "execute_result"
    }
   ],
   "source": [
    "// Confidence intervals\n",
    ".stats.normTable // zscores for different p values"
   ]
  },
  {
   "cell_type": "code",
   "execution_count": 28,
   "id": "69ee890d",
   "metadata": {},
   "outputs": [
    {
     "data": {
      "text/plain": [
       "0.01\r\n"
      ]
     },
     "execution_count": 28,
     "metadata": {},
     "output_type": "execute_result"
    }
   ],
   "source": [
    "// confidence of two sided  test\n",
    ".stats.pValueTwoSided[2.58] "
   ]
  },
  {
   "cell_type": "code",
   "execution_count": 23,
   "id": "6fc2b46e",
   "metadata": {},
   "outputs": [
    {
     "data": {
      "text/plain": [
       "0.001\r\n"
      ]
     },
     "execution_count": 23,
     "metadata": {},
     "output_type": "execute_result"
    }
   ],
   "source": [
    ".stats.pValueTwoSided[10.0]"
   ]
  },
  {
   "cell_type": "code",
   "execution_count": 24,
   "id": "ee96e5f9",
   "metadata": {},
   "outputs": [
    {
     "data": {
      "text/plain": [
       "1f\r\n"
      ]
     },
     "execution_count": 24,
     "metadata": {},
     "output_type": "execute_result"
    }
   ],
   "source": [
    ".stats.pValueTwoSided[0.0]"
   ]
  },
  {
   "cell_type": "code",
   "execution_count": 25,
   "id": "5465d128",
   "metadata": {},
   "outputs": [
    {
     "name": "stdout",
     "output_type": "stream",
     "text": [
      "0.005\r\n",
      "0.995\r\n"
     ]
    }
   ],
   "source": [
    "show .stats.pValueLeftSided[-2.58];\n",
    "show .stats.pValueLeftSided[2.58];"
   ]
  },
  {
   "cell_type": "code",
   "execution_count": 26,
   "id": "032bc45c",
   "metadata": {},
   "outputs": [
    {
     "name": "stdout",
     "output_type": "stream",
     "text": [
      "0.995\r\n",
      "0.005\r\n"
     ]
    }
   ],
   "source": [
    "show .stats.pValueRightSided[-2.58];\n",
    "show .stats.pValueRightSided[2.58];"
   ]
  },
  {
   "cell_type": "markdown",
   "id": "4ad14a84",
   "metadata": {},
   "source": [
    "##### Correlation\n",
    "$\\rho = \\frac{\\text{cov}(X,Y)}{\\sigma_x \\sigma_y}$\n",
    "\n",
    " - basic tool to assess dependece between two variables\n",
    " - cov is the covariance\n",
    " - $\\sigma$ are the squareroot of the variance\n",
    " - bounded by 1 and -1 with one being a positive correlation and -1 being negitive, uncorrelated is near 0\n",
    " \n",
    " \n",
    " Testing\n",
    " - Let $H_{o}$ denote the null hypothesis, that two random variables are not correlated\n",
    " - Let $H_{a}$ denote the alternitive hypothesis, that tw orandom variables are correlated\n",
    " "
   ]
  },
  {
   "cell_type": "code",
   "execution_count": 30,
   "id": "8c14245e",
   "metadata": {},
   "outputs": [
    {
     "data": {
      "text/plain": [
       "0.3496405\r\n"
      ]
     },
     "execution_count": 30,
     "metadata": {},
     "output_type": "execute_result"
    }
   ],
   "source": [
    "// constructing the data\n",
    "x:100?1.0;\n",
    "y:(0.2*x)+0.8*100?1.0;\n",
    "cor[x;y]"
   ]
  },
  {
   "cell_type": "code",
   "execution_count": 31,
   "id": "481db253",
   "metadata": {},
   "outputs": [
    {
     "data": {
      "text/plain": [
       "3.694443\r\n"
      ]
     },
     "execution_count": 31,
     "metadata": {},
     "output_type": "execute_result"
    }
   ],
   "source": [
    "/calculate the t-statistic\n",
    ".stats.tStatsCorr[cor[x;y];count x]"
   ]
  },
  {
   "cell_type": "code",
   "execution_count": 32,
   "id": "f6464be9",
   "metadata": {},
   "outputs": [
    {
     "data": {
      "text/plain": [
       "0.001\r\n"
      ]
     },
     "execution_count": 32,
     "metadata": {},
     "output_type": "execute_result"
    }
   ],
   "source": [
    "//assess its significance level\n",
    ".stats.pValueTwoSided abs .stats.tStatsCorr[cor[x;y];count x]"
   ]
  },
  {
   "cell_type": "markdown",
   "id": "cfa37136",
   "metadata": {},
   "source": [
    "The results show that we can reject the Null hypothesis of the correlation being zero. The derived p-value smaller than or equal to zero."
   ]
  },
  {
   "cell_type": "code",
   "execution_count": null,
   "id": "1739f50a",
   "metadata": {},
   "outputs": [],
   "source": []
  }
 ],
 "metadata": {
  "kernelspec": {
   "display_name": "Q (kdb+)",
   "language": "q",
   "name": "qpk"
  },
  "language_info": {
   "file_extension": ".q",
   "mimetype": "text/x-q",
   "name": "q",
   "version": "4.0"
  }
 },
 "nbformat": 4,
 "nbformat_minor": 5
}

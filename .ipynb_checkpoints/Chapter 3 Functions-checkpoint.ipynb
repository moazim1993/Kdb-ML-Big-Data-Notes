{
 "cells": [
  {
   "cell_type": "markdown",
   "id": "4d490238",
   "metadata": {},
   "source": [
    "## Functions\n",
    "#### types of fucntions\n",
    "    - operators and primitive functions\n",
    "    - q-sql finctions (i.e. select, update, upsert, insert, etc.)\n",
    "    - user defined functions\n",
    "    - adverbs or derived functions"
   ]
  },
  {
   "cell_type": "code",
   "execution_count": 3,
   "id": "f8e8d6f2",
   "metadata": {},
   "outputs": [
    {
     "name": "stdout",
     "output_type": "stream",
     "text": [
      "12\r\n",
      "12\r\n",
      "12\r\n"
     ]
    }
   ],
   "source": [
    "// Infix and prefix notations\n",
    "show 5 + 7 // infix notation\n",
    "show +[5;7] // prefix notation\n",
    "show (+) . 5 7 // apply notation"
   ]
  },
  {
   "cell_type": "markdown",
   "id": "3c5c9519",
   "metadata": {},
   "source": [
    "A q function is deliminated with {} and has optional [] for the declared variables\n",
    "x,y,z are implicitly defined as inputs"
   ]
  },
  {
   "cell_type": "code",
   "execution_count": 4,
   "id": "0a5a6a6c",
   "metadata": {},
   "outputs": [
    {
     "data": {
      "text/plain": [
       "25f\r\n"
      ]
     },
     "execution_count": 4,
     "metadata": {},
     "output_type": "execute_result"
    }
   ],
   "source": [
    "{x*x} 5f"
   ]
  },
  {
   "cell_type": "code",
   "execution_count": 5,
   "id": "60c14181",
   "metadata": {},
   "outputs": [
    {
     "data": {
      "text/plain": [
       "25f\r\n"
      ]
     },
     "execution_count": 5,
     "metadata": {},
     "output_type": "execute_result"
    }
   ],
   "source": [
    "{[int] int*int} 5f"
   ]
  },
  {
   "cell_type": "markdown",
   "id": "9428bc57",
   "metadata": {},
   "source": [
    "- prefix notation [] maybe needed when using longer expressions due to right to left evaluation\n",
    "- Also good for code clerity\n",
    "- Functions can ne nested"
   ]
  },
  {
   "cell_type": "code",
   "execution_count": 6,
   "id": "67dbb7d0",
   "metadata": {},
   "outputs": [
    {
     "data": {
      "text/plain": [
       "26f\r\n"
      ]
     },
     "execution_count": 6,
     "metadata": {},
     "output_type": "execute_result"
    }
   ],
   "source": [
    "a:{[x;w]v:{[x;w] 3*w+x};v[x;2*w]-4f}\n",
    "a[4f;3f]"
   ]
  },
  {
   "cell_type": "markdown",
   "id": "273ca75e",
   "metadata": {},
   "source": [
    "Functions and variables defined within the fucntion are local to the functions.\n",
    "\n",
    "To declare global inside the function use ::"
   ]
  },
  {
   "cell_type": "code",
   "execution_count": 6,
   "id": "4339a65c",
   "metadata": {},
   "outputs": [
    {
     "ename": "\u001b[0;31mv\u001b[0m",
     "evalue": "\u001b[0;31mv\u001b[0m",
     "output_type": "error",
     "traceback": [
      "\u001b[0;31mevaluation error:\n\u001b[0m",
      "\u001b[0;31mv\u001b[0m",
      "\u001b[0;31m\u001b[0m",
      "\u001b[0;31m  [0]  v\r\n       ^\r\n\u001b[0m"
     ]
    }
   ],
   "source": [
    "// v has no visibility\n",
    "v"
   ]
  },
  {
   "cell_type": "code",
   "execution_count": 7,
   "id": "5a10f28c",
   "metadata": {},
   "outputs": [
    {
     "data": {
      "text/plain": [
       "13\r\n"
      ]
     },
     "execution_count": 7,
     "metadata": {},
     "output_type": "execute_result"
    }
   ],
   "source": [
    "f:{[b]a::6;a+b}\n",
    "f[7]"
   ]
  },
  {
   "cell_type": "markdown",
   "id": "b6397f45",
   "metadata": {},
   "source": [
    "Multivariate functions can be projected by specifying only part of the input params.\n",
    "\n",
    "Projecton is related to currying in functional programming.\n",
    "\n",
    "Monadic function can be a projection of dyadic funciton by fixing all except one input param"
   ]
  },
  {
   "cell_type": "code",
   "execution_count": 8,
   "id": "2394f712",
   "metadata": {},
   "outputs": [
    {
     "data": {
      "text/plain": [
       "9\r\n"
      ]
     },
     "execution_count": 8,
     "metadata": {},
     "output_type": "execute_result"
    }
   ],
   "source": [
    "f:{x+y}\n",
    "g:f[4;]\n",
    "g[5]"
   ]
  },
  {
   "cell_type": "markdown",
   "id": "849c6fd4",
   "metadata": {},
   "source": [
    "### 3.1Namespace\n",
    "A namespace is a context with which we resolve problems of unique naming. You can define variables and functions inside it.\n",
    "It can be used to resolve local vs global variable avilability."
   ]
  },
  {
   "cell_type": "code",
   "execution_count": 9,
   "id": "24667283",
   "metadata": {},
   "outputs": [
    {
     "data": {
      "text/plain": [
       "2.386294\r\n"
      ]
     },
     "execution_count": 9,
     "metadata": {},
     "output_type": "execute_result"
    }
   ],
   "source": [
    ".namespace1.x:4f;\n",
    ".namespace1.f:{5+x};\n",
    ".namespace2.x:5;\n",
    ".namespace2.f:{1f+log x};\n",
    "// we can call from both\n",
    ".namespace2.f[.namespace1.x]"
   ]
  },
  {
   "cell_type": "markdown",
   "id": "8fe25c7a",
   "metadata": {},
   "source": [
    "#### 3.1.01 .quantQ Namespace\n",
    "In this book all the fucntions and variables defined are in this .quantQ namespace. All relavant funcitons are furthur listed in sub-namespaces (namespace with in the namespace) in logocal grouping."
   ]
  },
  {
   "cell_type": "code",
   "execution_count": 1,
   "id": "5d4f4fdb",
   "metadata": {},
   "outputs": [],
   "source": [
    "\\l quantQ-master\\lib\\quantQ_complex.q \n",
    "// Note: trying to load in the entire quantQ.q namespace results in error (Ram issue?)"
   ]
  },
  {
   "cell_type": "code",
   "execution_count": 2,
   "id": "192418ef",
   "metadata": {},
   "outputs": [
    {
     "data": {
      "text/plain": [
       "`conjugate`dft`dft1k`dftTab`dftTs`div`exp`fractal`log`mandelbrot`mandelbrot_`..\r\n"
      ]
     },
     "execution_count": 2,
     "metadata": {},
     "output_type": "execute_result"
    }
   ],
   "source": [
    "// subnamespace complex for fourier transformation \n",
    "\\f .quantQ.complex"
   ]
  },
  {
   "cell_type": "markdown",
   "id": "7462da3a",
   "metadata": {},
   "source": [
    "### 3.2 The six adverbs\n",
    " - Kdb has nouns, verbs and adverbs\n",
    " - Nouns : variables and functions are nouns\n",
    " - syntactic structures and arectmatic and logical operators are verbs like {} [] or + -\n",
    " - Adverbs are higer order functions that modify the applied to lists. They return derived functions known as derivatives.\n",
    "\n",
    "##### Adverbs\n",
    "- 1) each\n",
    "   -  1.2) each left \\:\n",
    "   -  1.3) each right /:\n",
    "   -  1.4) cross product (/:\\: or cross)\n",
    "   -  1.5) each both '\n",
    "- 2) each prior ':\n",
    "- 3) compose (')\n",
    "- 4) Over/Fold /\n",
    "- 5) Scan \\\n",
    "- 6) converge / \\"
   ]
  },
  {
   "cell_type": "code",
   "execution_count": null,
   "id": "e436bd64",
   "metadata": {},
   "outputs": [],
   "source": []
  }
 ],
 "metadata": {
  "kernelspec": {
   "display_name": "Q (kdb+)",
   "language": "q",
   "name": "qpk"
  },
  "language_info": {
   "file_extension": ".q",
   "mimetype": "text/x-q",
   "name": "q",
   "version": "4.0"
  }
 },
 "nbformat": 4,
 "nbformat_minor": 5
}

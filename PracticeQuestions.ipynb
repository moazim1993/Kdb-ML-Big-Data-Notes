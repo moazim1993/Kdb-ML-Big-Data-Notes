{
 "cells": [
  {
   "cell_type": "markdown",
   "id": "d7480631",
   "metadata": {},
   "source": [
    "### 1) Climbing Stairs\n",
    "https://leetcode.com/problems/climbing-stairs/\n",
    "You are climbing a staircase. It takes n steps to reach the top.\n",
    "\n",
    "Each time you can either climb 1 or 2 steps. In how many distinct ways can you climb to the top?"
   ]
  },
  {
   "cell_type": "code",
   "execution_count": 169,
   "id": "5c262a1a",
   "metadata": {},
   "outputs": [],
   "source": [
    "// Notes\n",
    "    // n = 1 -> 1\n",
    "    // n = 2 ->  1 1, 2\n",
    "    // n = 3 -> 1 1 1, 2 1, 1 2\n",
    "    // n = 4 -> 1111, 112, 121, 211, 22                                                        // 5  \n",
    "    // n = 5 -> 11111, 1112, 1121, 1211, 2111, 122, 212, 221                                   // 8\n",
    "    // n=6 -> 111111,11112,11121, 11211, 12111,21111, 1122,1212, 2112, 1221, 2121, 2211, 222   // 13\n",
    "    // n=7 -> 1111111, 111112, 111121, 111211, 112111, 121111, 211111,\n",
    "    //                    11122, 11221, 12211, 22111, 21211, 21121, 21112, 12121, 12112, 11212\n",
    "    //                    2221, 2212, 2122, 1222                                               // 21\n",
    "\n",
    "\n",
    "fact:{1 */(1 _ til x+1)}\n",
    "choose:{[n;r] fact[n]%fact[r] * fact[n-r]}\n",
    "\n",
    "\n",
    "\n",
    "climbStairs:{[n]\n",
    "    // n - number of steps; 1 <= n <= 45\n",
    "    // count the number of permutation with 0 2s then 1 2 then 2 2s until floor( n%2)\n",
    "    \n",
    "    res: 0;\n",
    "    twos:0;\n",
    "    lim:floor(n%2);\n",
    "    while[ twos <= lim;\n",
    "        ones: n - (twos*2);\n",
    "        res+: choose[ones+twos;twos];\n",
    "        twos+:1];\n",
    "    res}\n"
   ]
  },
  {
   "cell_type": "code",
   "execution_count": 170,
   "id": "9d18b87d",
   "metadata": {},
   "outputs": [
    {
     "data": {
      "text/plain": [
       "13f\r\n"
      ]
     },
     "execution_count": 170,
     "metadata": {},
     "output_type": "execute_result"
    }
   ],
   "source": [
    "climbStairs[6]  // should be 12"
   ]
  },
  {
   "cell_type": "code",
   "execution_count": 171,
   "id": "f11fcd67",
   "metadata": {},
   "outputs": [
    {
     "data": {
      "text/plain": [
       "21f\r\n"
      ]
     },
     "execution_count": 171,
     "metadata": {},
     "output_type": "execute_result"
    }
   ],
   "source": [
    "climbStairs[7]"
   ]
  },
  {
   "cell_type": "code",
   "execution_count": 172,
   "id": "d582dda1",
   "metadata": {},
   "outputs": [
    {
     "data": {
      "text/plain": [
       "1 2 3 5 8f\r\n"
      ]
     },
     "execution_count": 172,
     "metadata": {},
     "output_type": "execute_result"
    }
   ],
   "source": [
    "climbStairs each 1 2 3 4 5"
   ]
  },
  {
   "cell_type": "markdown",
   "id": "7894437a",
   "metadata": {},
   "source": [
    "### 2) Pascal's Triangle\n",
    "\n",
    "https://leetcode.com/problems/pascals-triangle/\n",
    "In Pascal's triangle, each number is the sum of the two numbers directly above it as shown:\n",
    "    1\n",
    "   1 1\n",
    "  1 2 1\n",
    " 1 3 3 1\n",
    "1 4 6 4 1\n",
    "\n",
    "Input: numRows = 5\n",
    "Output: [[1],[1,1],[1,2,1],[1,3,3,1],[1,4,6,4,1]]\n"
   ]
  },
  {
   "cell_type": "code",
   "execution_count": 173,
   "id": "a0be541e",
   "metadata": {},
   "outputs": [],
   "source": [
    "/p)def climbStairs( n):\n",
    "/p)        if n <= 3:\n",
    "/p)            return n\n",
    "/p)        limit = round(n/2)\n",
    "/p)        numTwos = 0\n",
    "/p)        result = 0\n",
    "/p)        def fact(n: int):\n",
    "/p)            return n * fact(n - 1) if n > 1 else 1\n",
    "/p)        while numTwos <= limit:\n",
    "/p)            numOnes = n - (numTwos*2)\n",
    "/p)            result += int(fact(numOnes + numTwos)/(fact(numTwos)*fact(numOnes)))\n",
    "/p)            numTwos += 1\n",
    "/p)        return result\n",
    "\n",
    "//11/28/2021 22:59\tAccepted\t28 ms\t14.3 MB\tpython3"
   ]
  },
  {
   "cell_type": "code",
   "execution_count": 174,
   "id": "49b5130a",
   "metadata": {},
   "outputs": [],
   "source": [
    "/# 11/28/2021 23:41\tAccepted\t28 ms\t14.2 MB\tpython3\n",
    "/#Runtime: 28 ms, faster than 87.57% of Python3 online submissions for Pascal's Triangle.\n",
    "/#Memory Usage: 14.2 MB, less than 82.42% of Python3 online submissions for Pascal's Triangle.\n",
    "\n",
    "\n",
    "/def pascalTriangle(numRows: int):\n",
    "/    if numRows == 1:\n",
    "/        return [1]\n",
    "/    elif numRows == 2:\n",
    "/        return [[1],[1,1]]\n",
    "/    else:\n",
    "/        hold = pascalTriangle(numRows-1)\n",
    "/        lst = [1]+[hold[-1][i-1]+hold[-1][i] for i in range(1, numRows-1)]+[1]\n",
    "/        return hold + [lst]\n",
    "\n",
    "/print(pascalTriangle(3))"
   ]
  },
  {
   "cell_type": "markdown",
   "id": "69c77746",
   "metadata": {},
   "source": [
    "#### For the q implimentation, lets try it with over instead of recursion, since that's more efficent in q"
   ]
  },
  {
   "cell_type": "code",
   "execution_count": 180,
   "id": "0dcc304e",
   "metadata": {},
   "outputs": [
    {
     "data": {
      "text/plain": [
       "1\r\n",
       "1 1\r\n",
       "1 2 1\r\n",
       "1 3 3 1\r\n",
       "1 4 6 4 1\r\n",
       "1 5 10 10 5 1\r\n",
       "1 6 15 20 15 6 1\r\n",
       "1 7 21 35 35 21 7 1\r\n"
      ]
     },
     "execution_count": 180,
     "metadata": {},
     "output_type": "execute_result"
    }
   ],
   "source": [
    "// recursive solution\n",
    "pTriangle:{[rows]\n",
    "    base:(1 ; 1 1; 1 2 1);\n",
    "    $[rows ~ 1; : base @ 0 ;\n",
    "        rows ~ 2; : base @ 0 1;\n",
    "        rows ~ 3; : base;\n",
    "        [hld:pTriangle[rows-1]; hld, enlist 1, (((-1#hld)[0][0]) +': 1_(-1#hld)[0]),1]]}\n",
    "\n",
    "\n",
    "pTriangle[8]"
   ]
  },
  {
   "cell_type": "code",
   "execution_count": 181,
   "id": "759d2be7",
   "metadata": {},
   "outputs": [
    {
     "data": {
      "text/plain": [
       "1 1\r\n",
       "1 2 1\r\n",
       "1 3 3 1\r\n",
       "1 4 6 4 1\r\n",
       "1 5 10 10 5 1\r\n"
      ]
     },
     "execution_count": 181,
     "metadata": {},
     "output_type": "execute_result"
    }
   ],
   "source": [
    "3 {: x, enlist 1, (((-1#x)[0][0]) +': 1_(-1#x)[0]),1}/( 1 1; 1 2 1)"
   ]
  },
  {
   "cell_type": "code",
   "execution_count": 177,
   "id": "d73d3385",
   "metadata": {},
   "outputs": [
    {
     "data": {
      "text/plain": [
       "1 1\r\n",
       "1 2 1\r\n",
       "1 3 3 1\r\n",
       "1 4 6 4 1\r\n",
       "1 5 10 10 5 1\r\n"
      ]
     },
     "execution_count": 177,
     "metadata": {},
     "output_type": "execute_result"
    }
   ],
   "source": [
    "pTriangle2:{[rows]\n",
    "    base:(1 ; 1 1; 1 2 1);\n",
    "    $[rows ~ 1; : base @ 0 ;\n",
    "        rows ~ 2; : base @ 0 1;\n",
    "        rows ~ 3; : base;\n",
    "        (rows-2) {: x, enlist 1, (((-1#x)[0][0]) +': 1_(-1#x)[0]),1}/( 1 1; 1 2 1)\n",
    "        ]}\n",
    "\n",
    "pTriangle2[5]"
   ]
  },
  {
   "cell_type": "code",
   "execution_count": 178,
   "id": "f943a373",
   "metadata": {},
   "outputs": [
    {
     "data": {
      "text/plain": [
       "0 3872\r\n"
      ]
     },
     "execution_count": 178,
     "metadata": {},
     "output_type": "execute_result"
    }
   ],
   "source": [
    "\\ts pTriangle[20]"
   ]
  },
  {
   "cell_type": "code",
   "execution_count": 179,
   "id": "e41fc0bc",
   "metadata": {},
   "outputs": [
    {
     "data": {
      "text/plain": [
       "0 4192\r\n"
      ]
     },
     "execution_count": 179,
     "metadata": {},
     "output_type": "execute_result"
    }
   ],
   "source": [
    "\\ts pTriangle2[20]"
   ]
  },
  {
   "cell_type": "code",
   "execution_count": 186,
   "id": "6e5c2782",
   "metadata": {},
   "outputs": [
    {
     "data": {
      "text/plain": [
       "1\r\n",
       "1 1\r\n",
       "1 2 1\r\n",
       "1 3 3 1\r\n",
       "1 4 6 4 1\r\n"
      ]
     },
     "execution_count": 186,
     "metadata": {},
     "output_type": "execute_result"
    }
   ],
   "source": [
    "pTriangle3:{[rows]\n",
    "    base:(1 ; 1 1);\n",
    "    $[rows ~ 1; : base @ 0 ;\n",
    "        rows ~ 2; : base @ 0 1;\n",
    "        //rows ~ 3; : base;\n",
    "        (rows-2) {: x, enlist 1, (((-1#x)[0][0]) +': 1_(-1#x)[0]),1}/base\n",
    "        ]}\n",
    "\n",
    "pTriangle3[5]"
   ]
  },
  {
   "cell_type": "code",
   "execution_count": 190,
   "id": "9f0ed519",
   "metadata": {},
   "outputs": [
    {
     "data": {
      "text/plain": [
       "0 17504\r\n"
      ]
     },
     "execution_count": 190,
     "metadata": {},
     "output_type": "execute_result"
    }
   ],
   "source": [
    "\\ts pTriangle3[50]"
   ]
  },
  {
   "cell_type": "code",
   "execution_count": 191,
   "id": "7d99a627",
   "metadata": {},
   "outputs": [
    {
     "data": {
      "text/plain": [
       "0 17440\r\n"
      ]
     },
     "execution_count": 191,
     "metadata": {},
     "output_type": "execute_result"
    }
   ],
   "source": [
    "\\ts pTriangle[50]"
   ]
  },
  {
   "cell_type": "code",
   "execution_count": null,
   "id": "5121b290",
   "metadata": {},
   "outputs": [],
   "source": []
  }
 ],
 "metadata": {
  "kernelspec": {
   "display_name": "Q (kdb+)",
   "language": "q",
   "name": "qpk"
  },
  "language_info": {
   "file_extension": ".q",
   "mimetype": "text/x-q",
   "name": "q",
   "version": "4.0"
  }
 },
 "nbformat": 4,
 "nbformat_minor": 5
}

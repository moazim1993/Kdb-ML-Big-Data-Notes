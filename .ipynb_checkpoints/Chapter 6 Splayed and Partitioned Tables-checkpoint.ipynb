{
 "cells": [
  {
   "cell_type": "markdown",
   "id": "0f472aa4",
   "metadata": {},
   "source": [
    "# Chapter 6\n",
    "## Spalyed and Partitioned Tables\n",
    "\n",
    "### 6.1 Introduction\n",
    "This chapter will cover the concept of splayed and partitioned tables, and also show how to load and save data using q. Both types of tables, especially partitioned, is useful for representing large data sets."
   ]
  },
  {
   "cell_type": "code",
   "execution_count": 9,
   "id": "c6d92f0f",
   "metadata": {},
   "outputs": [],
   "source": [
    "trades:([]code:`symbol$(); date:`date$(); time:`time$();price:`float$();volume:`short$();mktflag:`symbol$();comments:())"
   ]
  },
  {
   "cell_type": "code",
   "execution_count": 10,
   "id": "8b110530",
   "metadata": {},
   "outputs": [
    {
     "data": {
      "text/plain": [
       "`trades\r\n"
      ]
     },
     "execution_count": 10,
     "metadata": {},
     "output_type": "execute_result"
    }
   ],
   "source": [
    "`trades upsert (\n",
    "    (`CLM16; 2016.04.07; 10:20:00.329; 38.3; 4h; `E; \"NYMEX/CME Group trade\");\n",
    "    (`GCM16; 2016.04.07; 12:00:00.055; 1239.7; 6h; `E; \"\");\n",
    "    (`GCM16; 2016.04.07; 12:37:02.106; 1240.5; 1h; `E; \"\");\n",
    "    (`CLM16; 2016.04.07; 13:00:00.128; 38.04; 3h; `E; \"NYMEX/CME Group trade\");\n",
    "    (`VKX16; 2016.04.07; 13:22:05.617; 18.85; 5h; `E; \"\");\n",
    "    (`GCM16; 2016.04.07; 14:35:01.241; 1241.2; 1h; `E; \"\");\n",
    "    (`GCM16; 2016.04.08; 10:13:01.048; 1240f; 3h; `E; \"\");\n",
    "    (`VKX16; 2016.04.08; 11:34:53.417; 18.53; 1h; `E; \"Transaction represents a trade in two contract months in the same class\")\n",
    "    )"
   ]
  },
  {
   "cell_type": "code",
   "execution_count": 11,
   "id": "773906b7",
   "metadata": {},
   "outputs": [
    {
     "data": {
      "text/plain": [
       "code  date       time         price  volume mktflag comments                 ..\r\n",
       "-----------------------------------------------------------------------------..\r\n",
       "CLM16 2016.04.07 10:20:00.329 38.3   4      E       \"NYMEX/CME Group trade\"  ..\r\n",
       "GCM16 2016.04.07 12:00:00.055 1239.7 6      E       \"\"                       ..\r\n",
       "GCM16 2016.04.07 12:37:02.106 1240.5 1      E       \"\"                       ..\r\n",
       "CLM16 2016.04.07 13:00:00.128 38.04  3      E       \"NYMEX/CME Group trade\"  ..\r\n",
       "VKX16 2016.04.07 13:22:05.617 18.85  5      E       \"\"                       ..\r\n",
       "GCM16 2016.04.07 14:35:01.241 1241.2 1      E       \"\"                       ..\r\n",
       "GCM16 2016.04.08 10:13:01.048 1240   3      E       \"\"                       ..\r\n",
       "VKX16 2016.04.08 11:34:53.417 18.53  1      E       \"Transaction represents a..\r\n"
      ]
     },
     "execution_count": 11,
     "metadata": {},
     "output_type": "execute_result"
    }
   ],
   "source": [
    "trades"
   ]
  },
  {
   "cell_type": "code",
   "execution_count": null,
   "id": "cbaea16b",
   "metadata": {},
   "outputs": [],
   "source": []
  }
 ],
 "metadata": {
  "kernelspec": {
   "display_name": "Q (kdb+)",
   "language": "q",
   "name": "qpk"
  },
  "language_info": {
   "file_extension": ".q",
   "mimetype": "text/x-q",
   "name": "q",
   "version": "4.0"
  }
 },
 "nbformat": 4,
 "nbformat_minor": 5
}

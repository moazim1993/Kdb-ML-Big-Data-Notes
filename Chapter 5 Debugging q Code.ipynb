{
 "cells": [
  {
   "cell_type": "markdown",
   "id": "ce99639e",
   "metadata": {},
   "source": [
    "## Debugging q Code\n",
    "\n",
    "First part of this chapter we make a brief overview of the native errors we may encounter when using incorrect syntax.\n",
    "\n",
    "Then we focus on how to debug the code when encountering errors and move on to advise on how we can structure our codebase better."
   ]
  },
  {
   "cell_type": "markdown",
   "id": "fad6ee57",
   "metadata": {},
   "source": [
    "### 5.1 Introduction to making it wrong: Errors\n",
    "\n",
    "2 main pain points:\n",
    "\n",
    "    - Avoiding simple syntax errors when initially writing our code.\n",
    "    - interpreting the generally obscure and short q errors and how we can make these more verbose while our code increases in complexity\n",
    "    \n",
    "\n",
    "*syntax error*\n",
    "\n",
    "    - May waiste time to debug a syntax error like missing semi colon. Modern IDEs have plugins like intelliJ or QPad for q. Still the console provides an interactive way to run and thereby test the code.\n",
    "    \n",
    "*Runtime Errors*\n",
    "\n",
    "    - An error signal, or what is known as an exception, is denoted in q with a single quote folowed by a word or phrase signaling the error type."
   ]
  },
  {
   "cell_type": "code",
   "execution_count": 1,
   "id": "9dff63c7",
   "metadata": {},
   "outputs": [],
   "source": [
    "wrongFunction:{[x;y] add:x+y; add:add + 50; z+3};"
   ]
  },
  {
   "cell_type": "code",
   "execution_count": 1,
   "id": "0b0ed8d7",
   "metadata": {},
   "outputs": [
    {
     "ename": "\u001b[0;31mz\u001b[0m",
     "evalue": "\u001b[0;31mz\u001b[0m",
     "output_type": "error",
     "traceback": [
      "\u001b[0;31mevaluation error:\n\u001b[0m",
      "\u001b[0;31mz\u001b[0m",
      "\u001b[0;31m\u001b[0m",
      "\u001b[0;31m  [1]  wrongFunction:{[x;y] add:x+y; add:add + 50; z+3}\r\n                                                   ^\r\n\u001b[0m",
      "\u001b[0;31m  [0]  wrongFunction[50;12]\r\n       ^\r\n\u001b[0m"
     ]
    }
   ],
   "source": [
    "wrongFunction[50;12]"
   ]
  },
  {
   "cell_type": "markdown",
   "id": "7f744ea4",
   "metadata": {},
   "source": [
    "The error returns z (note there is no single quote due to the jupyter notebook ide), which is not defined. It also shows the location of the error in the lines [1] and [0].\n",
    "\n",
    "More frequently we find the error to be a build in q error.\n",
    "\n",
    "Full list of errors:\n",
    "  - https://code.kx.com/q/basics/errors/\n",
    "  - https://github.com/prodrive11/log4q\n"
   ]
  },
  {
   "cell_type": "code",
   "execution_count": 2,
   "id": "a25c525d",
   "metadata": {},
   "outputs": [
    {
     "data": {
      "text/plain": [
       "8f\r\n"
      ]
     },
     "execution_count": 2,
     "metadata": {},
     "output_type": "execute_result"
    }
   ],
   "source": [
    "// runs as intended\n",
    "two:2;\n",
    "two xexp 3"
   ]
  },
  {
   "cell_type": "code",
   "execution_count": 2,
   "id": "b432f180",
   "metadata": {},
   "outputs": [
    {
     "ename": "\u001b[0;31mthree\u001b[0m",
     "evalue": "\u001b[0;31mthree\u001b[0m",
     "output_type": "error",
     "traceback": [
      "\u001b[0;31mevaluation error:\n\u001b[0m",
      "\u001b[0;31mthree\u001b[0m",
      "\u001b[0;31m\u001b[0m",
      "\u001b[0;31m  [0]  three xexp 3\r\n       ^\r\n\u001b[0m"
     ]
    }
   ],
   "source": [
    "//type error\n",
    "three xexp 3"
   ]
  },
  {
   "cell_type": "markdown",
   "id": "565efd17",
   "metadata": {},
   "source": [
    "q is strongly types. Partially updating values of a variable to a different type results in a 'type error"
   ]
  },
  {
   "cell_type": "code",
   "execution_count": 2,
   "id": "ac396069",
   "metadata": {},
   "outputs": [
    {
     "name": "stdout",
     "output_type": "stream",
     "text": [
      "101 101.5 101.3\r\n"
     ]
    },
    {
     "ename": "\u001b[0;31mtype\u001b[0m",
     "evalue": "\u001b[0;31mtype\u001b[0m",
     "output_type": "error",
     "traceback": [
      "\u001b[0;31mevaluation error:\n\u001b[0m",
      "\u001b[0;31mtype\u001b[0m",
      "\u001b[0;31m\u001b[0m",
      "\u001b[0;31m  [0]  prices,: 10\r\n             ^\r\n\u001b[0m"
     ]
    }
   ],
   "source": [
    "show prices:101 101.5 101.3;\n",
    "prices,: 10"
   ]
  },
  {
   "cell_type": "markdown",
   "id": "d9dd7631",
   "metadata": {},
   "source": [
    "**NOTE: commonly causes a hard to find bug**\n",
    "  - when we forget to end a like with a semicolon, we may accidentially merge two statements which were meant to be processed indipendently.\n",
    "  - Due to the commonality of this error, two ways to minimise are:\n",
    "      - type check for function arguments\n",
    "      - logging to trace variables passed into functions"
   ]
  },
  {
   "cell_type": "code",
   "execution_count": 3,
   "id": "9a668490",
   "metadata": {},
   "outputs": [],
   "source": [
    ".quantQ.myspace.myfunc:{[prices;newPrices]\n",
    "    //prices -- verctor of prices\n",
    "    if[type[prices] <> type[newPrices]; '\"Prices are incompatable\"];\n",
    "    : prices,newPrices }"
   ]
  },
  {
   "cell_type": "code",
   "execution_count": 4,
   "id": "9430dff1",
   "metadata": {},
   "outputs": [
    {
     "data": {
      "text/plain": [
       "1 2 3 10 20 30f\r\n"
      ]
     },
     "execution_count": 4,
     "metadata": {},
     "output_type": "execute_result"
    }
   ],
   "source": [
    ".quantQ.myspace.myfunc[1 2 3f; 10 20 30f]"
   ]
  },
  {
   "cell_type": "code",
   "execution_count": 4,
   "id": "ac1d4d7b",
   "metadata": {},
   "outputs": [
    {
     "ename": "\u001b[0;31mPrices are incompatable\u001b[0m",
     "evalue": "\u001b[0;31mPrices are incompatable\u001b[0m",
     "output_type": "error",
     "traceback": [
      "\u001b[0;31mevaluation error:\n\u001b[0m",
      "\u001b[0;31mPrices are incompatable\u001b[0m",
      "\u001b[0;31m\u001b[0m",
      "\u001b[0;31m  [1]  .quantQ.myspace.myfunc:\r\n    //prices -- verctor of prices\r\n    if[type[prices] <> type[newPrices]; '\"Prices are incompatable\"];\r\n                                        ^\r\n    : prices,newPrices }\r\n\u001b[0m",
      "\u001b[0;31m  [0]  .quantQ.myspace.myfunc[1 2 3; 10.2 11.1 12.2f]\r\n       ^\r\n\u001b[0m"
     ]
    }
   ],
   "source": [
    ".quantQ.myspace.myfunc[1 2 3; 10.2 11.1 12.2f]"
   ]
  },
  {
   "cell_type": "markdown",
   "id": "c8b4f638",
   "metadata": {},
   "source": [
    "Notice the error message stated in the function is returned."
   ]
  },
  {
   "cell_type": "markdown",
   "id": "22f9e032",
   "metadata": {},
   "source": [
    "'lenght - Another common error type appearns when we perform an operation on two object5s which have incompatible lenghts:"
   ]
  },
  {
   "cell_type": "code",
   "execution_count": 4,
   "id": "d514ccf8",
   "metadata": {},
   "outputs": [
    {
     "ename": "\u001b[0;31mlength\u001b[0m",
     "evalue": "\u001b[0;31mlength\u001b[0m",
     "output_type": "error",
     "traceback": [
      "\u001b[0;31mevaluation error:\n\u001b[0m",
      "\u001b[0;31mlength\u001b[0m",
      "\u001b[0;31m\u001b[0m",
      "\u001b[0;31m  [0]  1 2 + 1 2 3\r\n           ^\r\n\u001b[0m"
     ]
    }
   ],
   "source": [
    "1 2 + 1 2 3"
   ]
  },
  {
   "cell_type": "markdown",
   "id": "073b6cfd",
   "metadata": {},
   "source": [
    "'mismatch - When two tables are being joined with an upsert (or a comma join) and the columns between them differ."
   ]
  },
  {
   "cell_type": "code",
   "execution_count": 4,
   "id": "91aa077f",
   "metadata": {},
   "outputs": [
    {
     "ename": "\u001b[0;31mmismatch\u001b[0m",
     "evalue": "\u001b[0;31mmismatch\u001b[0m",
     "output_type": "error",
     "traceback": [
      "\u001b[0;31mevaluation error:\n\u001b[0m",
      "\u001b[0;31mmismatch\u001b[0m",
      "\u001b[0;31m\u001b[0m",
      "\u001b[0;31m  [0]  t1,t2\r\n         ^\r\n\u001b[0m"
     ]
    }
   ],
   "source": [
    "t1:([]a:1 2;b:3 4);\n",
    "t2:([]c:10 20 30);\n",
    "t1,t2"
   ]
  },
  {
   "cell_type": "code",
   "execution_count": 4,
   "id": "15c0a10e",
   "metadata": {},
   "outputs": [
    {
     "ename": "\u001b[0;31mmismatch\u001b[0m",
     "evalue": "\u001b[0;31mmismatch\u001b[0m",
     "output_type": "error",
     "traceback": [
      "\u001b[0;31mevaluation error:\n\u001b[0m",
      "\u001b[0;31mmismatch\u001b[0m",
      "\u001b[0;31m\u001b[0m",
      "\u001b[0;31m  [0]  t1 upsert t2\r\n          ^\r\n\u001b[0m"
     ]
    }
   ],
   "source": [
    "t1 upsert t2"
   ]
  },
  {
   "cell_type": "markdown",
   "id": "ea4bf46b",
   "metadata": {},
   "source": [
    "#### ERRORS\n",
    "\n",
    "'constants - is an error for when we have declared too many constants, more than 96. This is q's guide to refactor our code into funcitons, and if in functions, break it into smaller functions.\n",
    "\n",
    "'domain - is an error for when we evaluate a function outside of the natural domain.\n",
    "\n",
    "'from - is an error for when we use one of the sql commands and forget (or misspell) the statement from or omit the table name.\n",
    "\n",
    "'noupdate - is an error for when we work on a server which has protection aginst writing or updating globals.\n",
    "\n",
    "'nyi - is an error for when a command looks meaningful but not able to exicute. Stands for 'not yet implimented'.\n",
    "\n",
    "'os - is an error for when the operating system command produces an error during its execution.\n",
    "\n",
    "'params - is an error for when a function with more than eight parameters is constructed.\n",
    "\n",
    "'rank - is an error for when the rank/valeance is lower than how its used. For example calling a function with more variables than the function expects.\n",
    "\n",
    "'wsfull - is an error for when we run out of virtual memory."
   ]
  },
  {
   "cell_type": "markdown",
   "id": "bf356927",
   "metadata": {},
   "source": [
    "#### 5.2 Debugging the code\n",
    "\n",
    "Lets look at the tools avilable to debug. Lets look again at the wrongFunction example"
   ]
  },
  {
   "cell_type": "code",
   "execution_count": 5,
   "id": "ce895a7a",
   "metadata": {},
   "outputs": [],
   "source": [
    "\\l test/test.q"
   ]
  },
  {
   "cell_type": "code",
   "execution_count": 6,
   "id": "c062ed9c",
   "metadata": {},
   "outputs": [
    {
     "data": {
      "text/plain": [
       "{[x;y]\r\n",
       "    add:x+y;\r\n",
       "    add:add + 50;\r\n",
       "    add:add + z}\r\n"
      ]
     },
     "execution_count": 6,
     "metadata": {},
     "output_type": "execute_result"
    }
   ],
   "source": [
    "wrongFunction"
   ]
  },
  {
   "cell_type": "code",
   "execution_count": 6,
   "id": "571ab6f7",
   "metadata": {},
   "outputs": [
    {
     "ename": "\u001b[0;31mz\u001b[0m",
     "evalue": "\u001b[0;31mz\u001b[0m",
     "output_type": "error",
     "traceback": [
      "\u001b[0;31mevaluation error:\n\u001b[0m",
      "\u001b[0;31mz\u001b[0m",
      "\u001b[0;31m\u001b[0m",
      "\u001b[0;31m  [1]  C:\\Users\\moazi\\Documents\\GitHub\\Kdb-ML-Big-Data-Notes\\test\\test.q:4: wrongFunction:\r\n    add:add + 50;\r\n    add:add + z}\r\n              ^\r\n\u001b[0m",
      "\u001b[0;31m  [0]  wrongFunction[1;2]\r\n       ^\r\n\u001b[0m"
     ]
    }
   ],
   "source": [
    "wrongFunction[1;2]"
   ]
  },
  {
   "cell_type": "markdown",
   "id": "6aedf469",
   "metadata": {},
   "source": [
    "you can see that the "
   ]
  }
 ],
 "metadata": {
  "kernelspec": {
   "display_name": "Q (kdb+)",
   "language": "q",
   "name": "qpk"
  },
  "language_info": {
   "file_extension": ".q",
   "mimetype": "text/x-q",
   "name": "q",
   "version": "4.0"
  }
 },
 "nbformat": 4,
 "nbformat_minor": 5
}

{
 "cells": [
  {
   "cell_type": "markdown",
   "id": "4d490238",
   "metadata": {},
   "source": [
    "## Functions\n",
    "#### types of fucntions\n",
    "    - operators and primitive functions\n",
    "    - q-sql functions (i.e. select, update, upsert, insert, etc.)\n",
    "    - user defined functions\n",
    "    - adverbs or derived functions"
   ]
  },
  {
   "cell_type": "code",
   "execution_count": 1,
   "id": "f8e8d6f2",
   "metadata": {},
   "outputs": [
    {
     "name": "stdout",
     "output_type": "stream",
     "text": [
      "12\r\n",
      "12\r\n",
      "12\r\n"
     ]
    }
   ],
   "source": [
    "// Infix and prefix notations\n",
    "show 5 + 7 // infix notation\n",
    "show +[5;7] // prefix notation\n",
    "show (+) . 5 7 // apply notation"
   ]
  },
  {
   "cell_type": "markdown",
   "id": "3c5c9519",
   "metadata": {},
   "source": [
    "A q function is deliminated with {} and has optional [] for the declared variables\n",
    "x,y,z are implicitly defined as inputs"
   ]
  },
  {
   "cell_type": "code",
   "execution_count": 2,
   "id": "0a5a6a6c",
   "metadata": {},
   "outputs": [
    {
     "data": {
      "text/plain": [
       "25f\r\n"
      ]
     },
     "execution_count": 2,
     "metadata": {},
     "output_type": "execute_result"
    }
   ],
   "source": [
    "{x*x} 5f"
   ]
  },
  {
   "cell_type": "code",
   "execution_count": 3,
   "id": "60c14181",
   "metadata": {},
   "outputs": [
    {
     "data": {
      "text/plain": [
       "25f\r\n"
      ]
     },
     "execution_count": 3,
     "metadata": {},
     "output_type": "execute_result"
    }
   ],
   "source": [
    "{[int] int*int} 5f"
   ]
  },
  {
   "cell_type": "markdown",
   "id": "9428bc57",
   "metadata": {},
   "source": [
    "- prefix notation [] maybe needed when using longer expressions due to right to left evaluation\n",
    "- Also good for code clerity\n",
    "- Functions can ne nested"
   ]
  },
  {
   "cell_type": "code",
   "execution_count": 4,
   "id": "67dbb7d0",
   "metadata": {},
   "outputs": [
    {
     "data": {
      "text/plain": [
       "26f\r\n"
      ]
     },
     "execution_count": 4,
     "metadata": {},
     "output_type": "execute_result"
    }
   ],
   "source": [
    "a:{[x;w]v:{[x;w] 3*w+x};v[x;2*w]-4f}\n",
    "a[4f;3f]"
   ]
  },
  {
   "cell_type": "markdown",
   "id": "273ca75e",
   "metadata": {},
   "source": [
    "Functions and variables defined within the fucntion are local to the functions.\n",
    "\n",
    "To declare global inside the function use ::"
   ]
  },
  {
   "cell_type": "code",
   "execution_count": 0,
   "id": "4339a65c",
   "metadata": {},
   "outputs": [
    {
     "ename": "\u001b[0;31mv\u001b[0m",
     "evalue": "\u001b[0;31mv\u001b[0m",
     "output_type": "error",
     "traceback": [
      "\u001b[0;31mevaluation error:\n\u001b[0m",
      "\u001b[0;31mv\u001b[0m",
      "\u001b[0;31m\u001b[0m",
      "\u001b[0;31m  [0]  v\r\n       ^\r\n\u001b[0m"
     ]
    }
   ],
   "source": [
    "// v has no visibility from above\n",
    "v"
   ]
  },
  {
   "cell_type": "code",
   "execution_count": 2,
   "id": "5a10f28c",
   "metadata": {},
   "outputs": [
    {
     "name": "stdout",
     "output_type": "stream",
     "text": [
      "13\r\n"
     ]
    },
    {
     "data": {
      "text/plain": [
       "6\r\n"
      ]
     },
     "execution_count": 2,
     "metadata": {},
     "output_type": "execute_result"
    }
   ],
   "source": [
    "f:{[b]a::6;a+b}\n",
    "show f[7];\n",
    "a // global"
   ]
  },
  {
   "cell_type": "markdown",
   "id": "b6397f45",
   "metadata": {},
   "source": [
    "Multivariate functions can be projected by specifying only part of the input params.\n",
    "\n",
    "Projecton is related to currying in functional programming.\n",
    "\n",
    "Monadic function can be a projection of dyadic funciton by fixing all except one input param"
   ]
  },
  {
   "cell_type": "code",
   "execution_count": 6,
   "id": "2394f712",
   "metadata": {},
   "outputs": [
    {
     "data": {
      "text/plain": [
       "9\r\n"
      ]
     },
     "execution_count": 6,
     "metadata": {},
     "output_type": "execute_result"
    }
   ],
   "source": [
    "f:{x+y}\n",
    "g:f[4;]\n",
    "g[5]"
   ]
  },
  {
   "cell_type": "markdown",
   "id": "849c6fd4",
   "metadata": {},
   "source": [
    "### 3.1Namespace\n",
    "A namespace is a context with which we resolve problems of unique naming. You can define variables and functions inside it.\n",
    "It can be used to resolve local vs global variable avilability.\n",
    "\n",
    "#### Limits in kdb/q:\n",
    "- Input params for function (8 max)\n",
    "- Constants (max 96)\n",
    "- Global variables (32 max)\n",
    "- Locals variables (24 max)\n",
    "- More than 999 nested columns in splayed table"
   ]
  },
  {
   "cell_type": "code",
   "execution_count": 7,
   "id": "24667283",
   "metadata": {},
   "outputs": [
    {
     "data": {
      "text/plain": [
       "2.386294\r\n"
      ]
     },
     "execution_count": 7,
     "metadata": {},
     "output_type": "execute_result"
    }
   ],
   "source": [
    ".namespace1.x:4f;\n",
    ".namespace1.f:{5+x};\n",
    ".namespace2.x:5;\n",
    ".namespace2.f:{1f+log x};\n",
    "// we can call from both\n",
    ".namespace2.f[.namespace1.x]"
   ]
  },
  {
   "cell_type": "markdown",
   "id": "8fe25c7a",
   "metadata": {},
   "source": [
    "#### 3.1.01 .quantQ Namespace\n",
    "In this book all the fucntions and variables defined are in this .quantQ namespace. All relavant funcitons are furthur listed in sub-namespaces (namespace with in the namespace) in logocal grouping."
   ]
  },
  {
   "cell_type": "code",
   "execution_count": 11,
   "id": "5d4f4fdb",
   "metadata": {},
   "outputs": [],
   "source": [
    "\\l quantQ-master\\lib\\quantQ_complex.q \n",
    "// Note: trying to load in the entire quantQ.q namespace results in error (Ram issue?)"
   ]
  },
  {
   "cell_type": "code",
   "execution_count": 9,
   "id": "192418ef",
   "metadata": {},
   "outputs": [
    {
     "data": {
      "text/plain": [
       "`conjugate`dft`dft1k`dftTab`dftTs`div`exp`fractal`log`mandelbrot`mandelbrot_`..\r\n"
      ]
     },
     "execution_count": 9,
     "metadata": {},
     "output_type": "execute_result"
    }
   ],
   "source": [
    "// subnamespace complex for fourier transformation \n",
    "\\f .quantQ.complex"
   ]
  },
  {
   "cell_type": "markdown",
   "id": "7462da3a",
   "metadata": {},
   "source": [
    "### 3.2 The six adverbs\n",
    " - Kdb has nouns, verbs and adverbs\n",
    " - Nouns : variables and functions are nouns\n",
    " - syntactic structures and arectmatic and logical operators are verbs like {} [] or + -\n",
    " - Adverbs are higer order functions that modify the applied to lists. They return derived functions known as derivatives.\n",
    "\n",
    "##### Adverbs\n",
    "- 1) each\n",
    "   -  1.2) each left \\:\n",
    "   -  1.3) each right /:\n",
    "   -  1.4) cross product (/:\\: (combination of each left and each right) or cross)\n",
    "   -  1.5) each both '\n",
    "   -  1.6) each prior ':\n",
    "- 2) compose (')\n",
    "- 3) Over/Fold /\n",
    "- 4) Scan \\\n",
    "- 5) converge / \\\n",
    "- 6) cross product `/:\\:` (or `cross` for cartisian product) "
   ]
  },
  {
   "cell_type": "code",
   "execution_count": 10,
   "id": "e436bd64",
   "metadata": {},
   "outputs": [
    {
     "data": {
      "text/plain": [
       "c b a\r\n",
       "f e d\r\n"
      ]
     },
     "execution_count": 10,
     "metadata": {},
     "output_type": "execute_result"
    }
   ],
   "source": [
    "// each modifies a monadic function, i.e. reverse\n",
    "reverse each ((`a`b`c);(`d`e`f))"
   ]
  },
  {
   "cell_type": "code",
   "execution_count": 11,
   "id": "03e8707b",
   "metadata": {},
   "outputs": [
    {
     "data": {
      "text/plain": [
       "d e f\r\n",
       "a b c\r\n"
      ]
     },
     "execution_count": 11,
     "metadata": {},
     "output_type": "execute_result"
    }
   ],
   "source": [
    "// without each\n",
    "reverse((`a`b`c);(`d`e`f))"
   ]
  },
  {
   "cell_type": "code",
   "execution_count": 12,
   "id": "d92666f7",
   "metadata": {},
   "outputs": [
    {
     "data": {
      "text/plain": [
       "\"Hello Mo\"\r\n",
       "\"Greetings Mo\"\r\n",
       "\"Welcome Mo\"\r\n"
      ]
     },
     "execution_count": 12,
     "metadata": {},
     "output_type": "execute_result"
    }
   ],
   "source": [
    "// Each left modifies a dyadic function to apply on each item in the left\n",
    "(\"Hello \";\"Greetings \";\"Welcome \"),\\: \"Mo\""
   ]
  },
  {
   "cell_type": "code",
   "execution_count": 13,
   "id": "1688c9ec",
   "metadata": {},
   "outputs": [
    {
     "data": {
      "text/plain": [
       "\"Hello Alice\"\r\n",
       "\"Hello Bob\"\r\n",
       "\"Hello Mo\"\r\n"
      ]
     },
     "execution_count": 13,
     "metadata": {},
     "output_type": "execute_result"
    }
   ],
   "source": [
    "// Each right modifies a dyadic function to apply on each item in the right\n",
    "\"Hello \",/:(\"Alice\";\"Bob\";\"Mo\")"
   ]
  },
  {
   "cell_type": "code",
   "execution_count": 3,
   "id": "38197bf5",
   "metadata": {},
   "outputs": [
    {
     "data": {
      "text/plain": [
       "1 0 0 0 0\r\n",
       "0 1 0 0 0\r\n",
       "0 0 1 0 0\r\n",
       "0 0 0 1 0\r\n",
       "0 0 0 0 1\r\n"
      ]
     },
     "execution_count": 3,
     "metadata": {},
     "output_type": "execute_result"
    }
   ],
   "source": [
    "// usecase in creating an identity matrix\n",
    ".quantQ.identity:{[n] `float$(til n)=/:til n}\n",
    ".quantQ.identity[5]"
   ]
  },
  {
   "cell_type": "code",
   "execution_count": 15,
   "id": "9c3f7b48",
   "metadata": {},
   "outputs": [
    {
     "data": {
      "text/plain": [
       "4 5\r\n",
       "4 6\r\n",
       "4 7\r\n",
       "5 5\r\n",
       "5 6\r\n",
       "5 7\r\n",
       "6 5\r\n",
       "6 6\r\n",
       "6 7\r\n"
      ]
     },
     "execution_count": 15,
     "metadata": {},
     "output_type": "execute_result"
    }
   ],
   "source": [
    "// cross product or Cartesian product is the composition of an each right withy an each left\n",
    "raze (4 5 6f) ,/:\\:(5 6 7f)"
   ]
  },
  {
   "cell_type": "code",
   "execution_count": 16,
   "id": "57a713ef",
   "metadata": {},
   "outputs": [
    {
     "data": {
      "text/plain": [
       "4 5\r\n",
       "4 6\r\n",
       "4 7\r\n",
       "5 5\r\n",
       "5 6\r\n",
       "5 7\r\n",
       "6 5\r\n",
       "6 6\r\n",
       "6 7\r\n"
      ]
     },
     "execution_count": 16,
     "metadata": {},
     "output_type": "execute_result"
    }
   ],
   "source": [
    "(4 5 6f) cross (5 6 7f)"
   ]
  },
  {
   "cell_type": "code",
   "execution_count": 19,
   "id": "caa36e3a",
   "metadata": {},
   "outputs": [
    {
     "data": {
      "text/plain": [
       "20 24 28\r\n",
       "25 30 35\r\n",
       "30 36 42\r\n"
      ]
     },
     "execution_count": 19,
     "metadata": {},
     "output_type": "execute_result"
    }
   ],
   "source": [
    "// cross is set, but /:\\: is more versitile and can modify a monadic function\n",
    "(4 5 6f) */:\\:(5 6 7f)"
   ]
  },
  {
   "cell_type": "code",
   "execution_count": 20,
   "id": "6ad6857b",
   "metadata": {},
   "outputs": [
    {
     "data": {
      "text/plain": [
       "20 30 42f\r\n"
      ]
     },
     "execution_count": 20,
     "metadata": {},
     "output_type": "execute_result"
    }
   ],
   "source": [
    "// simmilar to dot notation\n",
    "{x*y} . ((4 5 6f);(5 6 7f))"
   ]
  },
  {
   "cell_type": "code",
   "execution_count": 19,
   "id": "f4d1ca7f",
   "metadata": {},
   "outputs": [
    {
     "name": "stdout",
     "output_type": "stream",
     "text": [
      "20 30 42f\r\n"
     ]
    }
   ],
   "source": [
    "// Each both, apllied pairwise to items on lists (of the same size)\n",
    "show (4 5 6f) *'(5 6 7f)"
   ]
  },
  {
   "cell_type": "code",
   "execution_count": 19,
   "id": "b551fd47",
   "metadata": {},
   "outputs": [
    {
     "ename": "\u001b[0;31mlength\u001b[0m",
     "evalue": "\u001b[0;31mlength\u001b[0m",
     "output_type": "error",
     "traceback": [
      "\u001b[0;31mevaluation error:\n\u001b[0m",
      "\u001b[0;31mlength\u001b[0m",
      "\u001b[0;31m\u001b[0m",
      "\u001b[0;31m  [0]  (1 2 3) +'(4 5 6 7)\r\n                ^\r\n\u001b[0m"
     ]
    }
   ],
   "source": [
    "// returns 'length error when it's not the same `cardinality` (size)\n",
    "(1 2 3) +'(4 5 6 7)"
   ]
  },
  {
   "cell_type": "code",
   "execution_count": 21,
   "id": "2d3b80e2",
   "metadata": {},
   "outputs": [
    {
     "name": "stdout",
     "output_type": "stream",
     "text": [
      "sym| symCount\r\n",
      "---| --------\r\n",
      "A  | 2       \r\n",
      "B  | 2       \r\n",
      "D  | 1       \r\n",
      "sym| avgPrice\r\n",
      "---| --------\r\n",
      "A  | 217.5092\r\n",
      "B  | 180.7113\r\n",
      "D  | 289.2601\r\n"
     ]
    },
    {
     "data": {
      "text/plain": [
       "sym symCount avgPrice\r\n",
       "---------------------\r\n",
       "A   2        217.5092\r\n",
       "B   2        180.7113\r\n",
       "D   1        289.2601\r\n"
      ]
     },
     "execution_count": 21,
     "metadata": {},
     "output_type": "execute_result"
    }
   ],
   "source": [
    "// good usecase of each both is to add columm to table\n",
    "tbl:([sym:20?`A`B`C`D] market:20?`US`UK`CH`FR;price:20?500.00);\n",
    "show tbl1:select symCount:count i by sym from tbl where market=`US;\n",
    "show tbl2:select avgPrice:avg price by sym from tbl where market=`US;\n",
    "\n",
    "(0!tbl1) ,' select avgPrice from tbl2 // pairwise simple join"
   ]
  },
  {
   "cell_type": "code",
   "execution_count": 21,
   "id": "1992f3a4",
   "metadata": {},
   "outputs": [
    {
     "data": {
      "text/plain": [
       "1b\r\n"
      ]
     },
     "execution_count": 21,
     "metadata": {},
     "output_type": "execute_result"
    }
   ],
   "source": [
    "//note in many instances q's build in function is sufficent\n",
    "(sum 1 2 3f * ' 3 4 5f) ~ sum 1 2 3f * 3 4 5f"
   ]
  },
  {
   "cell_type": "code",
   "execution_count": 22,
   "id": "5975d0ea",
   "metadata": {},
   "outputs": [
    {
     "data": {
      "text/plain": [
       "26f\r\n"
      ]
     },
     "execution_count": 22,
     "metadata": {},
     "output_type": "execute_result"
    }
   ],
   "source": [
    "// $ - built in efficent dot product\n",
    "(1 2 3f)$(3 4 5f)"
   ]
  },
  {
   "cell_type": "markdown",
   "id": "e1e4c294",
   "metadata": {},
   "source": [
    "Here we show a more complex example of each both. It'll use a the calc function which takes in a nested list and a scaler and applies it  to create a new column"
   ]
  },
  {
   "cell_type": "code",
   "execution_count": 24,
   "id": "a259604d",
   "metadata": {},
   "outputs": [
    {
     "data": {
      "text/plain": [
       "a                                  b\r\n",
       "------------------------------------\r\n",
       "2.177047    -1.900767   2.430673   5\r\n",
       "-1.006319   2.422636    0.5240541  5\r\n",
       "-0.9545289  1.473937    0.3211452  3\r\n",
       "-1.228041   -0.1719607  -1.713999  4\r\n",
       "0.7161745   1.578856    -0.5339601 5\r\n",
       "1.545387    0.5566162   -2.091224  7\r\n",
       "-1.299017   0.3921042   0.2827921  7\r\n",
       "-0.5552802  1.071177    1.069554   7\r\n",
       "-0.06418705 2.143434    0.806258   6\r\n",
       "1.957702    -1.646659   -0.3918882 5\r\n",
       "1.517074    -0.7727823  0.4910278  1\r\n",
       "0.9617338   -0.7733395  0.4341187  1\r\n",
       "-0.3191604  0.637679    0.05999989 9\r\n",
       "-1.308504   1.86228     1.521763   9\r\n",
       "0.3704817   0.8489581   0.4435739  0\r\n",
       "0.3392884   -0.5277085  2.128066   6\r\n",
       "0.8015667   -0.1022303  2.377889   4\r\n",
       "-1.785298   -0.02305322 0.7883459  1\r\n",
       "0.7359993   -1.497223   -0.7002882 0\r\n",
       "1.09645     -0.4231628  1.655005   3\r\n",
       "..\r\n"
      ]
     },
     "execution_count": 24,
     "metadata": {},
     "output_type": "execute_result"
    }
   ],
   "source": [
    "n:100\n",
    "t:([]a:-2.5 + (n#3) ?\\: 5f; b:n?10)\n",
    "t"
   ]
  },
  {
   "cell_type": "code",
   "execution_count": 30,
   "id": "c89b3626",
   "metadata": {},
   "outputs": [
    {
     "data": {
      "text/plain": [
       "48.90336 -24.811 84.84628\r\n"
      ]
     },
     "execution_count": 30,
     "metadata": {},
     "output_type": "execute_result"
    }
   ],
   "source": [
    "\n",
    "calc:{$[all 0 < x;x xexp reciprocal y;x xexp y]}\n",
    "\n",
    "calc[t[`a][0];t[`b][0]]"
   ]
  },
  {
   "cell_type": "code",
   "execution_count": 32,
   "id": "3c395915",
   "metadata": {},
   "outputs": [
    {
     "data": {
      "text/plain": [
       "a                                  b c                                        \r\n",
       "------------------------------------------------------------------------------\r\n",
       "2.177047    -1.900767   2.430673   5 48.90336       -24.811      84.84628     \r\n",
       "-1.006319   2.422636    0.5240541  5 -1.031995      83.4527      0.03952578   \r\n",
       "-0.9545289  1.473937    0.3211452  3 -0.8696956     3.202112     0.03312108   \r\n",
       "-1.228041   -0.1719607  -1.713999  4 2.27432        0.0008744126 8.630628     \r\n",
       "0.7161745   1.578856    -0.5339601 5 0.1884058      9.810992     -0.04340542  \r\n",
       "1.545387    0.5566162   -2.091224  7 21.05041       0.01655355   -174.9059    \r\n",
       "-1.299017   0.3921042   0.2827921  7 -6.241698      0.001424987  0.0001446342 \r\n",
       "-0.5552802  1.071177    1.069554   7 -0.01627742    1.618187     1.601103     \r\n",
       "-0.06418705 2.143434    0.806258   6 6.99334e-008   96.97508     0.2746908    \r\n",
       "1.957702    -1.646659   -0.3918882 5 28.75632       -12.10648    -0.009242963 \r\n",
       "1.517074    -0.7727823  0.4910278  1 1.517074       -0.7727823   0.4910278    \r\n",
       "0.9617338   -0.7733395  0.4341187  1 0.9617338      -0.7733395   0.4341187    \r\n",
       "-0.3191604  0.637679    0.05999989 9 -3.436224e-005 0.01743488   1.007754e-011\r\n",
       "-1.308504   1.86228     1.521763   9 -11.24539      269.4051     43.76459     \r\n",
       "0.3704817   0.8489581   0.4435739  0 0              0            0            \r\n",
       "0.3392884   -0.5277085  2.128066   6 0.001525507    0.02159557   92.87745     \r\n",
       "0.8015667   -0.1022303  2.377889   4 0.4128181      0.0001092239 31.97174     \r\n",
       "-1.785298   -0.02305322 0.7883459  1 -1.785298      -0.02305322  0.7883459    \r\n",
       "0.7359993   -1.497223   -0.7002882 0 1              1            1            \r\n",
       "1.09645     -0.4231628  1.655005   3 1.318156       -0.0757744   4.533127     \r\n",
       "..\r\n"
      ]
     },
     "execution_count": 32,
     "metadata": {},
     "output_type": "execute_result"
    }
   ],
   "source": [
    "update c: calc'[a;b] from t"
   ]
  },
  {
   "cell_type": "markdown",
   "id": "51298abb",
   "metadata": {},
   "source": [
    "What about if column b was also nested?"
   ]
  },
  {
   "cell_type": "code",
   "execution_count": 33,
   "id": "a0e2b8f3",
   "metadata": {},
   "outputs": [],
   "source": [
    "t:([]a:-2.5 + (n#3) ?\\: 5f; b:-2.5 + (n#3) ?\\: 5f)"
   ]
  },
  {
   "cell_type": "code",
   "execution_count": 34,
   "id": "d3cffb4f",
   "metadata": {},
   "outputs": [
    {
     "data": {
      "text/plain": [
       "a                               b                                 \r\n",
       "------------------------------------------------------------------\r\n",
       "1.866501  1.567985   1.781887   1.147589   0.9143171   -1.940201  \r\n",
       "0.3259302 1.637819   -0.4991273 -1.48574   -1.312727   -1.958312  \r\n",
       "-2.268402 -1.120815  -0.9944251 -1.20311   0.8492526   0.8379796  \r\n",
       "0.418897  0.4538928  0.865698   -0.4398862 -1.182655   -2.397292  \r\n",
       "-1.817437 1.688792   2.392992   -0.3492527 -2.240802   -0.01130007\r\n",
       "-2.313862 -0.5138037 -1.035665  -0.1099137 2.047722    1.039351   \r\n",
       "-2.314594 2.167489   -2.002316  -1.435641  0.6231003   0.7126012  \r\n",
       "-1.674711 2.246816   1.689958   0.3332368  -1.016841   -0.1705641 \r\n",
       "1.993304  1.03037    -1.466092  -0.8256014 -2.254543   2.028039   \r\n",
       "0.2342439 -0.4484026 -2.42046   2.13775    0.44809     2.476484   \r\n",
       "-2.370333 -0.4071474 2.006625   -2.37483   0.9450842   -2.261345  \r\n",
       "-1.563257 0.2746066  1.547083   2.001417   -2.224359   -2.275522  \r\n",
       "-1.936092 1.178785   2.21097    0.5984827  -0.7861934  1.383438   \r\n",
       "-2.340486 0.02523996 0.8585571  2.46977    -0.05225057 0.7535551  \r\n",
       "0.6331876 -0.6857432 -1.80467   1.746108   2.04695     -1.118829  \r\n",
       "1.838969  -1.834435  -1.736074  -0.2268631 -2.42016    -0.9633322 \r\n",
       "1.83023   1.66596    1.11786    0.4543531  2.009006    1.358578   \r\n",
       "-1.524776 1.310791   1.926765   2.380476   -0.06385922 -0.8349991 \r\n",
       "1.33095   1.309154   -0.6930345 0.8828716  2.070458    2.111573   \r\n",
       "0.6280974 -0.5352087 -1.939695  -1.963137  0.2159079   -0.4718947 \r\n",
       "..\r\n"
      ]
     },
     "execution_count": 34,
     "metadata": {},
     "output_type": "execute_result"
    }
   ],
   "source": [
    "t"
   ]
  },
  {
   "cell_type": "code",
   "execution_count": 35,
   "id": "e3d7bc85",
   "metadata": {},
   "outputs": [
    {
     "data": {
      "text/plain": [
       "a                               b                                  c         ..\r\n",
       "-----------------------------------------------------------------------------..\r\n",
       "1.866501  1.567985   1.781887   1.147589   0.9143171   -1.940201   1.72255   ..\r\n",
       "0.3259302 1.637819   -0.4991273 -1.48574   -1.312727   -1.958312   5.288958  ..\r\n",
       "-2.268402 -1.120815  -0.9944251 -1.20311   0.8492526   0.8379796             ..\r\n",
       "0.418897  0.4538928  0.865698   -0.4398862 -1.182655   -2.397292   7.228852  ..\r\n",
       "-1.817437 1.688792   2.392992   -0.3492527 -2.240802   -0.01130007           ..\r\n",
       "-2.313862 -0.5138037 -1.035665  -0.1099137 2.047722    1.039351              ..\r\n",
       "-2.314594 2.167489   -2.002316  -1.435641  0.6231003   0.7126012             ..\r\n",
       "-1.674711 2.246816   1.689958   0.3332368  -1.016841   -0.1705641            ..\r\n",
       "1.993304  1.03037    -1.466092  -0.8256014 -2.254543   2.028039    0.5658113 ..\r\n",
       "0.2342439 -0.4484026 -2.42046   2.13775    0.44809     2.476484    0.04492711..\r\n",
       "-2.370333 -0.4071474 2.006625   -2.37483   0.9450842   -2.261345             ..\r\n",
       "-1.563257 0.2746066  1.547083   2.001417   -2.224359   -2.275522             ..\r\n",
       "-1.936092 1.178785   2.21097    0.5984827  -0.7861934  1.383438              ..\r\n",
       "-2.340486 0.02523996 0.8585571  2.46977    -0.05225057 0.7535551             ..\r\n",
       "0.6331876 -0.6857432 -1.80467   1.746108   2.04695     -1.118829   0.4502505 ..\r\n",
       "1.838969  -1.834435  -1.736074  -0.2268631 -2.42016    -0.9633322  0.8709191 ..\r\n",
       "1.83023   1.66596    1.11786    0.4543531  2.009006    1.358578    3.782309  ..\r\n",
       "-1.524776 1.310791   1.926765   2.380476   -0.06385922 -0.8349991            ..\r\n",
       "1.33095   1.309154   -0.6930345 0.8828716  2.070458    2.111573    1.287119  ..\r\n",
       "0.6280974 -0.5352087 -1.939695  -1.963137  0.2159079   -0.4718947  2.491728  ..\r\n",
       "..\r\n"
      ]
     },
     "execution_count": 35,
     "metadata": {},
     "output_type": "execute_result"
    }
   ],
   "source": [
    "update c: calc'[a;b] from t"
   ]
  },
  {
   "cell_type": "markdown",
   "id": "768023d5",
   "metadata": {},
   "source": [
    "#### Each Prior\n",
    "a dyadic operatioon on each item of a list with it's predecessor"
   ]
  },
  {
   "cell_type": "code",
   "execution_count": 46,
   "id": "c567f007",
   "metadata": {},
   "outputs": [
    {
     "name": "stdout",
     "output_type": "stream",
     "text": [
      "5 4f\r\n",
      "6 5f\r\n",
      "7 6f\r\n"
     ]
    },
    {
     "data": {
      "text/plain": [
       "-11 -19 -29f\r\n"
      ]
     },
     "execution_count": 46,
     "metadata": {},
     "output_type": "execute_result"
    }
   ],
   "source": [
    "4f {show (x;y);x-y xexp 2}': 5 6 7f"
   ]
  },
  {
   "cell_type": "markdown",
   "id": "66602070",
   "metadata": {},
   "source": [
    "#### Compose(')\n",
    "The composition of a multivariate function f[a,b,c,...] with a monadic function g[x], expressed as g(f) is expressed as '[g;f]"
   ]
  },
  {
   "cell_type": "code",
   "execution_count": 47,
   "id": "b8ca7c9e",
   "metadata": {},
   "outputs": [
    {
     "data": {
      "text/plain": [
       "4.248495\r\n"
      ]
     },
     "execution_count": 47,
     "metadata": {},
     "output_type": "execute_result"
    }
   ],
   "source": [
    "f:{[a;b;c;d] a+(2*b)+(3*c)+4*d}; // multivariate function\n",
    "g:{log x}; // monadic function\n",
    "d:('[g;f]); // applies the multivariate first then monadic\n",
    "d[5;6;7;8]"
   ]
  },
  {
   "cell_type": "markdown",
   "id": "f16ebf8b",
   "metadata": {},
   "source": [
    "#### Over and Fold /\n",
    "Over adverb / modified a dyadic function to accumulate the results over a list.\n",
    "Let us denote $y_{i} , i \\in \\mathbb{N}^{*}_{+}$. The over adverb recursivly applies elements of y recursivly."
   ]
  },
  {
   "cell_type": "code",
   "execution_count": 48,
   "id": "4f145cb9",
   "metadata": {},
   "outputs": [
    {
     "data": {
      "text/plain": [
       "-106f\r\n"
      ]
     },
     "execution_count": 48,
     "metadata": {},
     "output_type": "execute_result"
    }
   ],
   "source": [
    "4f {x-y xexp 2}/(5 6 7f)"
   ]
  },
  {
   "cell_type": "code",
   "execution_count": 1,
   "id": "aa3cb71e",
   "metadata": {},
   "outputs": [
    {
     "data": {
      "text/plain": [
       "-106f\r\n"
      ]
     },
     "execution_count": 1,
     "metadata": {},
     "output_type": "execute_result"
    }
   ],
   "source": [
    "// equvalint to\n",
    "(((4f-5f xexp 2)-6f xexp 2)-7f xexp 2)"
   ]
  },
  {
   "cell_type": "code",
   "execution_count": 4,
   "id": "1ee57107",
   "metadata": {},
   "outputs": [
    {
     "data": {
      "text/plain": [
       "-106f\r\n"
      ]
     },
     "execution_count": 4,
     "metadata": {},
     "output_type": "execute_result"
    }
   ],
   "source": [
    "// can also work without spliting the list\n",
    "({x-y xexp 2}/) (4 5 6 7f)"
   ]
  },
  {
   "cell_type": "markdown",
   "id": "5609be5c",
   "metadata": {},
   "source": [
    "The over adverb is called fold, when the function has more than 2 arguments"
   ]
  },
  {
   "cell_type": "code",
   "execution_count": 5,
   "id": "42ecebd7",
   "metadata": {},
   "outputs": [
    {
     "data": {
      "text/plain": [
       "-36 -34f\r\n"
      ]
     },
     "execution_count": 5,
     "metadata": {},
     "output_type": "execute_result"
    }
   ],
   "source": [
    "({z+x-y xexp 2}/)[1 3f;4 5f;2f]"
   ]
  },
  {
   "cell_type": "code",
   "execution_count": 8,
   "id": "05334355",
   "metadata": {},
   "outputs": [
    {
     "data": {
      "text/plain": [
       "-36 -34f\r\n"
      ]
     },
     "execution_count": 8,
     "metadata": {},
     "output_type": "execute_result"
    }
   ],
   "source": [
    "// equivalant to\n",
    "(2f + (2f+1f-4f xexp 2)-5f xexp 2; 2f + (2f+3f-4f xexp 2)-5f xexp 2)"
   ]
  },
  {
   "cell_type": "markdown",
   "id": "112bd2e3",
   "metadata": {},
   "source": [
    "The adverb fold can be thought of in a map-reduce context, where we fold (aka reduce) the result set."
   ]
  },
  {
   "cell_type": "markdown",
   "id": "8d0398b1",
   "metadata": {},
   "source": [
    "#### Scan \\\n",
    "\n",
    "It's simmilar to the behavior of over, except it shows the intermediate results\n"
   ]
  },
  {
   "cell_type": "code",
   "execution_count": 10,
   "id": "56b63e5b",
   "metadata": {},
   "outputs": [
    {
     "data": {
      "text/plain": [
       "4 -21 -57 -106f\r\n"
      ]
     },
     "execution_count": 10,
     "metadata": {},
     "output_type": "execute_result"
    }
   ],
   "source": [
    "({x-y xexp 2}\\) (4 5 6 7f)"
   ]
  },
  {
   "cell_type": "markdown",
   "id": "221336fe",
   "metadata": {},
   "source": [
    "#### EMA: The Exponential Moving Average\n",
    "\n",
    "Lets show how scan can be used to compuite this very common itterative function for which we want the intermedeate results.\n",
    "\n",
    "Given a vector $x_{0}, ... x_{n}$ , and weight $\\lambda$ , the EMA is:\n",
    "   $EMA_{i} (\\lambda) = x_{i-1} * (1-\\lambda ) + EMA_{i-1} * \\lambda$"
   ]
  },
  {
   "cell_type": "code",
   "execution_count": 1,
   "id": "591b6c05",
   "metadata": {},
   "outputs": [
    {
     "data": {
      "text/plain": [
       "{[lambda;vector]\r\n",
       "    / lambda -- memory\r\n",
       "    / vector -- data\r\n",
       "    {[x;y;z] (x*y)+z}\\[ first vector; 1 - lambda; vector * lambda]\r\n",
       " }\r\n"
      ]
     },
     "execution_count": 1,
     "metadata": {},
     "output_type": "execute_result"
    }
   ],
   "source": [
    "\\l quantQ-master\\lib\\quantQ_stats.q\n",
    ".quantQ.stats.expma1"
   ]
  },
  {
   "cell_type": "code",
   "execution_count": 2,
   "id": "7ff3f61f",
   "metadata": {},
   "outputs": [
    {
     "data": {
      "text/plain": [
       "10 12 15.6\r\n"
      ]
     },
     "execution_count": 2,
     "metadata": {},
     "output_type": "execute_result"
    }
   ],
   "source": [
    ".quantQ.stats.expma1[.2;10 20 30]"
   ]
  },
  {
   "cell_type": "code",
   "execution_count": 3,
   "id": "44de913d",
   "metadata": {},
   "outputs": [
    {
     "data": {
      "text/plain": [
       "{[lambda;vector]\r\n",
       "    // lambda -- memory\r\n",
       "    // vector -- data\r\n",
       "    :(first vector)(1-lambda)\\vector*lambda;\r\n",
       " }\r\n"
      ]
     },
     "execution_count": 3,
     "metadata": {},
     "output_type": "execute_result"
    }
   ],
   "source": [
    ".quantQ.stats.expma"
   ]
  },
  {
   "cell_type": "markdown",
   "id": "32873539",
   "metadata": {},
   "source": [
    "#### Converge\n",
    "The over and scan adverbs can also be used to itterate over a list until convergence or until a loop is detected.\n",
    "\n",
    "#### converge-repeate\n",
    "applies the function f x times with initial value y. If x is a boolian function to indicate a condition on recursive iteration, the expression is equvalant to a while loop."
   ]
  },
  {
   "cell_type": "code",
   "execution_count": 12,
   "id": "5ee5b9f4",
   "metadata": {},
   "outputs": [
    {
     "data": {
      "text/plain": [
       "2 132 30 2 380f\r\n"
      ]
     },
     "execution_count": 12,
     "metadata": {},
     "output_type": "execute_result"
    }
   ],
   "source": [
    "2 {x*x-1}/(2 4 3 2 5f)"
   ]
  },
  {
   "cell_type": "code",
   "execution_count": 17,
   "id": "8fbeac55",
   "metadata": {},
   "outputs": [
    {
     "name": "stdout",
     "output_type": "stream",
     "text": [
      "2\r\n",
      "4\r\n",
      "16\r\n"
     ]
    },
    {
     "data": {
      "text/plain": [
       "256\r\n"
      ]
     },
     "execution_count": 17,
     "metadata": {},
     "output_type": "execute_result"
    }
   ],
   "source": [
    "{x<20}{show x;x*x}/2"
   ]
  },
  {
   "cell_type": "markdown",
   "id": "e8edbe1f",
   "metadata": {},
   "source": [
    "#### converge-iterate\n",
    "The converge-itterate pattern is a simmilar to the converge-repete pattern describe in the previous section but using scan adverb to display all intermediary. Hence, the previous example applied using the scan \\ adverb."
   ]
  },
  {
   "cell_type": "code",
   "execution_count": 8,
   "id": "738acf4f",
   "metadata": {},
   "outputs": [
    {
     "data": {
      "text/plain": [
       "2 4   3  2 5  \r\n",
       "2 12  6  2 20 \r\n",
       "2 132 30 2 380\r\n"
      ]
     },
     "execution_count": 8,
     "metadata": {},
     "output_type": "execute_result"
    }
   ],
   "source": [
    "2 {x*x-1}\\(2 4 3 2 5f)"
   ]
  },
  {
   "cell_type": "code",
   "execution_count": 19,
   "id": "5467f556",
   "metadata": {},
   "outputs": [
    {
     "name": "stdout",
     "output_type": "stream",
     "text": [
      "2\r\n",
      "4\r\n",
      "16\r\n"
     ]
    },
    {
     "data": {
      "text/plain": [
       "2 4 16 256\r\n"
      ]
     },
     "execution_count": 19,
     "metadata": {},
     "output_type": "execute_result"
    }
   ],
   "source": [
    "{x<20}{show x;x*x}\\2"
   ]
  },
  {
   "cell_type": "markdown",
   "id": "9252cd93",
   "metadata": {},
   "source": [
    "### 3.3 Apply\n",
    "##### @ (apply)\n",
    "The verb @ is used to apply a multivariate mapping to a list L with the syntax: @[L;I;f]. The following expression applies the function cosine on the first and third elements of the list; the second element 1.570796 being left unchanged."
   ]
  },
  {
   "cell_type": "code",
   "execution_count": 20,
   "id": "d5503187",
   "metadata": {},
   "outputs": [
    {
     "data": {
      "text/plain": [
       "0.7071068 1.570796 -1\r\n"
      ]
     },
     "execution_count": 20,
     "metadata": {},
     "output_type": "execute_result"
    }
   ],
   "source": [
    "@[(0.7853982; 1.570796; 3.141592654);0 2;cos]"
   ]
  },
  {
   "cell_type": "markdown",
   "id": "1a65c47b",
   "metadata": {},
   "source": [
    "When applied to dyadic function. @[L;I;f;a] applies a dyadic function f on the I-th element of a list L with seconds arguments a."
   ]
  },
  {
   "cell_type": "code",
   "execution_count": 21,
   "id": "455ced59",
   "metadata": {},
   "outputs": [
    {
     "data": {
      "text/plain": [
       "13 2 17 4f\r\n"
      ]
     },
     "execution_count": 21,
     "metadata": {},
     "output_type": "execute_result"
    }
   ],
   "source": [
    "@[1 2 3 4f; 0 2;{x+2*y};6 7f]"
   ]
  },
  {
   "cell_type": "markdown",
   "id": "082ae619",
   "metadata": {},
   "source": [
    "##### . (apply)\n",
    "A function of arity N applied to a list x of size N is executed with the . verb as .[f;x] or f . x."
   ]
  },
  {
   "cell_type": "code",
   "execution_count": 23,
   "id": "3492c057",
   "metadata": {},
   "outputs": [
    {
     "data": {
      "text/plain": [
       "-10\r\n"
      ]
     },
     "execution_count": 23,
     "metadata": {},
     "output_type": "execute_result"
    }
   ],
   "source": [
    "{[a;b;c;d] a+2*b+3*c-d} . (4;5;3;7)"
   ]
  },
  {
   "cell_type": "code",
   "execution_count": 24,
   "id": "f9904a3a",
   "metadata": {},
   "outputs": [
    {
     "name": "stdout",
     "output_type": "stream",
     "text": [
      "25\r\n",
      "25\r\n"
     ]
    }
   ],
   "source": [
    "// monadic\n",
    "show {x*x} . enlist 5;\n",
    "show {x*x}@5;"
   ]
  },
  {
   "cell_type": "markdown",
   "id": "3a17de2a",
   "metadata": {},
   "source": [
    "applied to lists, the verb . indexes a list at depth"
   ]
  },
  {
   "cell_type": "code",
   "execution_count": 29,
   "id": "f9f5feff",
   "metadata": {},
   "outputs": [
    {
     "data": {
      "text/plain": [
       "9f\r\n"
      ]
     },
     "execution_count": 29,
     "metadata": {},
     "output_type": "execute_result"
    }
   ],
   "source": [
    "L:((`a;4);(`c;5);(`d;7;(8;6;9f)))\n",
    "L . 2 2 2"
   ]
  },
  {
   "cell_type": "code",
   "execution_count": 33,
   "id": "1c6f9968",
   "metadata": {},
   "outputs": [
    {
     "name": "stdout",
     "output_type": "stream",
     "text": [
      "(`a;4)\r\n",
      "(`c;5)\r\n",
      "(`d;7;(8;6;9f))\r\n",
      "`c\r\n",
      "5\r\n"
     ]
    },
    {
     "data": {
      "text/plain": [
       "4 5 7\r\n"
      ]
     },
     "execution_count": 33,
     "metadata": {},
     "output_type": "execute_result"
    }
   ],
   "source": [
    "show L;\n",
    "// get a row in the list by\n",
    "show L[1];\n",
    "// get the column in a nested list by\n",
    "L . (::;1)"
   ]
  },
  {
   "cell_type": "code",
   "execution_count": 34,
   "id": "f2ffa2da",
   "metadata": {},
   "outputs": [
    {
     "data": {
      "text/plain": [
       "4 5 7\r\n"
      ]
     },
     "execution_count": 34,
     "metadata": {},
     "output_type": "execute_result"
    }
   ],
   "source": [
    "// equvilant notaition\n",
    "L[::;1]"
   ]
  },
  {
   "cell_type": "markdown",
   "id": "e3e53859",
   "metadata": {},
   "source": [
    "The verb . can also be applied to dictionaries"
   ]
  },
  {
   "cell_type": "code",
   "execution_count": 1,
   "id": "800b8ebb",
   "metadata": {},
   "outputs": [
    {
     "data": {
      "text/plain": [
       "5f\r\n"
      ]
     },
     "execution_count": 1,
     "metadata": {},
     "output_type": "execute_result"
    }
   ],
   "source": [
    "d:`a`b`c!((4f;5f;6f);3;`t);\n",
    "d . (`a;1)"
   ]
  },
  {
   "cell_type": "code",
   "execution_count": 2,
   "id": "e89b3545",
   "metadata": {},
   "outputs": [
    {
     "data": {
      "text/plain": [
       "4 5 6f\r\n"
      ]
     },
     "execution_count": 2,
     "metadata": {},
     "output_type": "execute_result"
    }
   ],
   "source": [
    "d . (`a;::)"
   ]
  },
  {
   "cell_type": "markdown",
   "id": "8b095a5d",
   "metadata": {},
   "source": [
    " This .[L;I;f] applies function f to Ith index of L and returns it, keeping the list unchanged.\n",
    "While .[`L;I;f] modifies the existing list (by reference)"
   ]
  },
  {
   "cell_type": "code",
   "execution_count": 6,
   "id": "d8618106",
   "metadata": {},
   "outputs": [
    {
     "name": "stdout",
     "output_type": "stream",
     "text": [
      "(`a;4)\r\n",
      "(`c;5)\r\n",
      "(`d;7;2.079442 1.791759 2.197225)\r\n"
     ]
    },
    {
     "data": {
      "text/plain": [
       "(`a;4)\r\n",
       "(`c;5)\r\n",
       "(`d;7;(8;6;9f))\r\n"
      ]
     },
     "execution_count": 6,
     "metadata": {},
     "output_type": "execute_result"
    }
   ],
   "source": [
    "L:((`a;4);(`c;5);(`d;7;(8;6;9f)));\n",
    "show .[L;2 2;log];\n",
    "L"
   ]
  },
  {
   "cell_type": "code",
   "execution_count": 7,
   "id": "a16e387f",
   "metadata": {},
   "outputs": [
    {
     "name": "stdout",
     "output_type": "stream",
     "text": [
      "`L\r\n"
     ]
    },
    {
     "data": {
      "text/plain": [
       "(`a;4)\r\n",
       "(`c;5)\r\n",
       "(`d;7;2.079442 1.791759 2.197225)\r\n"
      ]
     },
     "execution_count": 7,
     "metadata": {},
     "output_type": "execute_result"
    }
   ],
   "source": [
    "show .[`L;2 2;log];\n",
    "L"
   ]
  },
  {
   "cell_type": "markdown",
   "id": "716803b7",
   "metadata": {},
   "source": [
    "### 3.4 Protected Evaluation\n",
    "The concept of try catch, or protected evaluation, is inplimented with the samew @ and . verbs. The trap function has the syntax @[f;arg;err] where f is a monadic function, and arg its argument. For multivariate funcitons, use .[f;args;err] where args are a list of arguments.  "
   ]
  },
  {
   "cell_type": "code",
   "execution_count": 22,
   "id": "ca1170fa",
   "metadata": {},
   "outputs": [],
   "source": [
    "f:{@[sqrt;x;`err]}"
   ]
  },
  {
   "cell_type": "code",
   "execution_count": 23,
   "id": "ea977f36",
   "metadata": {},
   "outputs": [
    {
     "data": {
      "text/plain": [
       "3f\r\n"
      ]
     },
     "execution_count": 23,
     "metadata": {},
     "output_type": "execute_result"
    }
   ],
   "source": [
    "f[9f]"
   ]
  },
  {
   "cell_type": "code",
   "execution_count": 25,
   "id": "ed33c8b1",
   "metadata": {},
   "outputs": [
    {
     "data": {
      "text/plain": [
       "`err\r\n"
      ]
     },
     "execution_count": 25,
     "metadata": {},
     "output_type": "execute_result"
    }
   ],
   "source": [
    "f[`a]"
   ]
  },
  {
   "cell_type": "code",
   "execution_count": 27,
   "id": "7c9cf7d7",
   "metadata": {},
   "outputs": [
    {
     "name": "stdout",
     "output_type": "stream",
     "text": [
      "20\r\n"
     ]
    },
    {
     "data": {
      "text/plain": [
       "`err\r\n"
      ]
     },
     "execution_count": 27,
     "metadata": {},
     "output_type": "execute_result"
    }
   ],
   "source": [
    "mult:{.[*;(x;y);`err]};\n",
    "show mult[4;5];\n",
    "mult[4;\"toto\"]"
   ]
  },
  {
   "cell_type": "code",
   "execution_count": 28,
   "id": "a900bd17",
   "metadata": {},
   "outputs": [
    {
     "data": {
      "text/plain": [
       "\"Error is: type\"\r\n"
      ]
     },
     "execution_count": 28,
     "metadata": {},
     "output_type": "execute_result"
    }
   ],
   "source": [
    "// customize error handeler\n",
    "mult:{.[*;(x;y);{\"Error is: \",x}]};\n",
    "mult[4;\"toto\"]"
   ]
  },
  {
   "cell_type": "markdown",
   "id": "bef8d6c9",
   "metadata": {},
   "source": [
    "### 3.5 Vector Operations\n",
    "In this section we will present a few more native functions which cover basic time series operations. We split the functions into two classes: aggregators."
   ]
  },
  {
   "cell_type": "code",
   "execution_count": null,
   "id": "536022a3",
   "metadata": {},
   "outputs": [],
   "source": []
  }
 ],
 "metadata": {
  "kernelspec": {
   "display_name": "Q (kdb+)",
   "language": "q",
   "name": "qpk"
  },
  "language_info": {
   "file_extension": ".q",
   "mimetype": "text/x-q",
   "name": "q",
   "version": "4.0"
  }
 },
 "nbformat": 4,
 "nbformat_minor": 5
}

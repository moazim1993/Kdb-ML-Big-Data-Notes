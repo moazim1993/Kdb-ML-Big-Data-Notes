{
 "cells": [
  {
   "cell_type": "markdown",
   "id": "83a0463d",
   "metadata": {},
   "source": [
    "### Basic overview of statisitcs\n",
    "\n",
    "- this chapter is combination of stats, tests, and vizualizations"
   ]
  },
  {
   "cell_type": "markdown",
   "id": "91abe4de",
   "metadata": {},
   "source": [
    "#### 12.1 Histograms\n",
    " - histograms are a repesentation of the data distribution, and a visual tool which can help in investigating our data. "
   ]
  },
  {
   "cell_type": "code",
   "execution_count": 1,
   "id": "a24e4765",
   "metadata": {},
   "outputs": [],
   "source": [
    "\\l quantQ-master/lib/quantQ_stats.q\n",
    ".stats:.quantQ.stats"
   ]
  },
  {
   "cell_type": "code",
   "execution_count": 2,
   "id": "cfc3d6c0",
   "metadata": {},
   "outputs": [
    {
     "data": {
      "text/plain": [
       "{[data;rule]\r\n",
       "    // data -- array of data\r\n",
       "    // rule -- function which takes data and returns bins\r\n",
       "    // calculate bins\r\n",
       "    bins: rule data;\r\n",
       "    // return histogram table\r\n",
       "    :update 0^histogram from\r\n",
       "        ([bins:asc til count[bins]] x:bins) uj\r\n",
       "        (select histogram: count bins by bins from ([] bins:bins binr data));\r\n",
       " }\r\n"
      ]
     },
     "execution_count": 2,
     "metadata": {},
     "output_type": "execute_result"
    }
   ],
   "source": [
    ".quantQ.stats.getHistogram"
   ]
  },
  {
   "cell_type": "markdown",
   "id": "9fdbe4d8",
   "metadata": {},
   "source": [
    "The getHistogram function wraps around binr verb. Is accepts a vector and a fucntion which created the bins.\n",
    "\n",
    "Choices for the functions include:\n",
    "- Grid\n",
    "    - .quantQ.stats.histGrid  explicitly give the bins\n",
    "- Width\n",
    "    - .quantQ.stats.histWidth give the width of each bin then it divides the data\n",
    "- Bins\n",
    "    - .quantQ.stats.histBin give the number of bins desired\n",
    "- Square Root\n",
    "    - .quantQ.stats.histSquareRoot number of bins are the square root of the number of data\n",
    "- Sturges formula\n",
    "    - .quantQ.stats.histSturge number of bins are $1+ log_{2}N$ where N is the Number of data points\n",
    "- Rice's rule\n",
    "    - .quantQ.stats.histRice number of bins are $N^{1/3}$\n",
    "- Scotts rule\n",
    "    - .quantQ.stats.histScott number of bins $3.5 \\sigma^{2} / N^{1/3}$"
   ]
  },
  {
   "cell_type": "code",
   "execution_count": 3,
   "id": "6cb79441",
   "metadata": {},
   "outputs": [
    {
     "data": {
      "text/plain": [
       "i  data     \r\n",
       "------------\r\n",
       "0  1.159753 \r\n",
       "1  2.979447 \r\n",
       "2  2.808603 \r\n",
       "3  1.45485  \r\n",
       "4  0.7777951\r\n",
       "5  2.800776 \r\n",
       "6  1.828469 \r\n",
       "7  1.37919  \r\n",
       "8  1.842248 \r\n",
       "9  2.961536 \r\n",
       "10 2.809398 \r\n",
       "11 1.906243 \r\n",
       "12 2.612867 \r\n",
       "13 0.5467829\r\n",
       "14 0.3829873\r\n",
       "15 1.144796 \r\n",
       "16 0.4174787\r\n",
       "17 0.7889424\r\n",
       "18 2.446032 \r\n",
       "19 1.151544 \r\n",
       "..\r\n"
      ]
     },
     "execution_count": 3,
     "metadata": {},
     "output_type": "execute_result"
    }
   ],
   "source": [
    "data:(1000?3.0),(200?1.0),(2.0+300?1.0);\n",
    "select i:i, data from ([]data)"
   ]
  },
  {
   "cell_type": "code",
   "execution_count": 4,
   "id": "a52ea3cd",
   "metadata": {},
   "outputs": [
    {
     "data": {
      "text/plain": [
       "bins| x           histogram\r\n",
       "----| ---------------------\r\n",
       "0   | 0.002184472 1        \r\n",
       "1   | 0.2021845   89       \r\n",
       "2   | 0.4021845   105      \r\n",
       "3   | 0.6021845   99       \r\n",
       "4   | 0.8021845   121      \r\n",
       "5   | 1.002184    106      \r\n",
       "6   | 1.202184    62       \r\n",
       "7   | 1.402184    75       \r\n",
       "8   | 1.602184    57       \r\n",
       "9   | 1.802184    75       \r\n",
       "10  | 2.002184    74       \r\n",
       "11  | 2.202184    132      \r\n",
       "12  | 2.402184    114      \r\n",
       "13  | 2.602184    144      \r\n",
       "14  | 2.802184    122      \r\n",
       "15  | 3.002184    124      \r\n"
      ]
     },
     "execution_count": 4,
     "metadata": {},
     "output_type": "execute_result"
    }
   ],
   "source": [
    "histWidth:.quantQ.stats.getHistogram[data;.quantQ.stats.histWidth[0.2]]\n",
    "histWidth"
   ]
  },
  {
   "cell_type": "code",
   "execution_count": 5,
   "id": "184725bf",
   "metadata": {},
   "outputs": [],
   "source": [
    "x:exec bins from histWidth\n",
    "y:exec histogram from histWidth"
   ]
  },
  {
   "cell_type": "code",
   "execution_count": 6,
   "id": "8ac5ba65",
   "metadata": {},
   "outputs": [],
   "source": [
    "\\l helper/importmatplotlib.q"
   ]
  },
  {
   "cell_type": "code",
   "execution_count": 7,
   "id": "792e2004",
   "metadata": {},
   "outputs": [
    {
     "data": {
      "image/png": "[encoded data removed]",
      "text/plain": [
       "<Figure size 460.8x345.6 with 1 Axes>"
      ]
     },
     "metadata": {},
     "output_type": "display_data"
    }
   ],
   "source": [
    "plt:.matplotlib.pyplot[]\n",
    "plt.bar[x;y];\n",
    "plt.show[];"
   ]
  },
  {
   "cell_type": "code",
   "execution_count": 8,
   "id": "b01ef27c",
   "metadata": {},
   "outputs": [],
   "source": [
    "histScott:.quantQ.stats.getHistogram[data;.quantQ.stats.histScott]\n",
    "x:exec bins from histScott\n",
    "y:exec histogram from histScott"
   ]
  },
  {
   "cell_type": "code",
   "execution_count": 9,
   "id": "42df6acc",
   "metadata": {},
   "outputs": [
    {
     "data": {
      "image/png": "[encoded data removed]",
      "text/plain": [
       "<Figure size 460.8x345.6 with 1 Axes>"
      ]
     },
     "metadata": {},
     "output_type": "display_data"
    }
   ],
   "source": [
    "plt:.matplotlib.pyplot[]\n",
    "plt.bar[x;y];\n",
    "plt.show[];"
   ]
  },
  {
   "cell_type": "markdown",
   "id": "70ddc9bf",
   "metadata": {},
   "source": [
    "Scotts Rule above dosn't seem useful, and indeed its not. The assumtion behind it is a normal distribution and we constructed a data from 3 uniform sets. This demonstraits the need to choose bins carefully."
   ]
  },
  {
   "cell_type": "markdown",
   "id": "d466845a",
   "metadata": {},
   "source": [
    "#### 12.2 Firstr moments\n",
    "\n",
    "- skewness : for datatribution that are unimodal and not heavy tailed, negitive skew is skewed to the left (lower values) and positive skew is skewed to the right (higher values)\n",
    "\n",
    "- kurtosis : can be used to assess the heavy tail of the data. positive is said to be leptokurtic (heavy tailed) and negitive values are said to be platykurtic or relatively thin tailed compared to gaussian distribution"
   ]
  },
  {
   "cell_type": "code",
   "execution_count": 10,
   "id": "35e5407d",
   "metadata": {},
   "outputs": [
    {
     "data": {
      "text/plain": [
       "statistics                       values     \r\n",
       "--------------------------------------------\r\n",
       "\"Sample mean\"                    1.590165   \r\n",
       "\"Sample standard deviation\"      0.910036   \r\n",
       "\"Sample skewness\"                -0.1340279 \r\n",
       "\"Sample kurtosis\"                -1.368232  \r\n",
       "\"Sample min\"                     0.002184472\r\n",
       "\"Sample max\"                     2.999608   \r\n",
       "\"Number of observations\"         1500       \r\n",
       "\"Number of missing observations\" 0          \r\n"
      ]
     },
     "execution_count": 10,
     "metadata": {},
     "output_type": "execute_result"
    }
   ],
   "source": [
    ".stats.overviewStats[data]"
   ]
  },
  {
   "cell_type": "markdown",
   "id": "f8e13008",
   "metadata": {},
   "source": [
    "#### 12.3 Hypothsis testing\n",
    "- In order to review our data quantitativly we need tests like\n",
    "    - comparing two sample means\n",
    "    - sign test\n",
    "    - correlation\n",
    "\n",
    "##### p -values\n",
    "    - For many stats we require a Normal distribution $N(0,1)$\n",
    "    - We need to form a test to make sure that assumtion holds true\n",
    "    - To assess we make a null hypothesis and assess if we can reject that null hypothesis\n",
    "    - In order to calculate, we use p-values\n",
    "    - In order to assess the significance of the test we rely on confidence intervals"
   ]
  },
  {
   "cell_type": "code",
   "execution_count": 11,
   "id": "40d134ce",
   "metadata": {},
   "outputs": [
    {
     "data": {
      "text/plain": [
       "0.0005 3.290527  \r\n",
       "0.005  2.575829  \r\n",
       "0.01   2.326348  \r\n",
       "0.495  0.01253347\r\n",
       "0.5    0         \r\n"
      ]
     },
     "execution_count": 11,
     "metadata": {},
     "output_type": "execute_result"
    }
   ],
   "source": [
    "// Confidence intervals\n",
    ".stats.normTable // zscores for different p values"
   ]
  },
  {
   "cell_type": "code",
   "execution_count": 12,
   "id": "458de8b9",
   "metadata": {},
   "outputs": [
    {
     "data": {
      "text/plain": [
       "0.01\r\n"
      ]
     },
     "execution_count": 12,
     "metadata": {},
     "output_type": "execute_result"
    }
   ],
   "source": [
    "// confidence of two sided  test\n",
    ".stats.pValueTwoSided[2.58] "
   ]
  },
  {
   "cell_type": "code",
   "execution_count": 13,
   "id": "b9f6ef8a",
   "metadata": {},
   "outputs": [
    {
     "data": {
      "text/plain": [
       "0.001\r\n"
      ]
     },
     "execution_count": 13,
     "metadata": {},
     "output_type": "execute_result"
    }
   ],
   "source": [
    ".stats.pValueTwoSided[10.0]"
   ]
  },
  {
   "cell_type": "code",
   "execution_count": 14,
   "id": "773c531c",
   "metadata": {},
   "outputs": [
    {
     "data": {
      "text/plain": [
       "1f\r\n"
      ]
     },
     "execution_count": 14,
     "metadata": {},
     "output_type": "execute_result"
    }
   ],
   "source": [
    ".stats.pValueTwoSided[0.0]"
   ]
  },
  {
   "cell_type": "code",
   "execution_count": 15,
   "id": "e78b3265",
   "metadata": {},
   "outputs": [
    {
     "name": "stdout",
     "output_type": "stream",
     "text": [
      "0.005\r\n",
      "0.995\r\n"
     ]
    }
   ],
   "source": [
    "show .stats.pValueLeftSided[-2.58];\n",
    "show .stats.pValueLeftSided[2.58];"
   ]
  },
  {
   "cell_type": "code",
   "execution_count": 16,
   "id": "98f6ef3e",
   "metadata": {},
   "outputs": [
    {
     "name": "stdout",
     "output_type": "stream",
     "text": [
      "0.995\r\n",
      "0.005\r\n"
     ]
    }
   ],
   "source": [
    "show .stats.pValueRightSided[-2.58];\n",
    "show .stats.pValueRightSided[2.58];"
   ]
  },
  {
   "cell_type": "markdown",
   "id": "4b1354b9",
   "metadata": {},
   "source": [
    "##### Correlation\n",
    "$\\rho = \\frac{\\text{cov}(X,Y)}{\\sigma_x \\sigma_y}$\n",
    "\n",
    " - basic tool to assess dependece between two variables\n",
    " - cov is the covariance\n",
    " - $\\sigma$ are the squareroot of the variance\n",
    " - bounded by 1 and -1 with one being a positive correlation and -1 being negitive, uncorrelated is near 0\n",
    " \n",
    " \n",
    " Testing\n",
    " - Let $H_{o}$ denote the null hypothesis, that two random variables are not correlated\n",
    " - Let $H_{a}$ denote the alternitive hypothesis, that tw orandom variables are correlated\n",
    " "
   ]
  },
  {
   "cell_type": "code",
   "execution_count": 17,
   "id": "b9187167",
   "metadata": {},
   "outputs": [
    {
     "data": {
      "text/plain": [
       "0.2675067\r\n"
      ]
     },
     "execution_count": 17,
     "metadata": {},
     "output_type": "execute_result"
    }
   ],
   "source": [
    "// constructing the data\n",
    "x:100?1.0;\n",
    "y:(0.2*x)+0.8*100?1.0;\n",
    "cor[x;y]"
   ]
  },
  {
   "cell_type": "code",
   "execution_count": 18,
   "id": "b99dad3f",
   "metadata": {},
   "outputs": [
    {
     "data": {
      "text/plain": [
       "2.748341\r\n"
      ]
     },
     "execution_count": 18,
     "metadata": {},
     "output_type": "execute_result"
    }
   ],
   "source": [
    "/calculate the t-statistic\n",
    ".stats.tStatsCorr[cor[x;y];count x]"
   ]
  },
  {
   "cell_type": "code",
   "execution_count": 19,
   "id": "c1975a54",
   "metadata": {},
   "outputs": [
    {
     "data": {
      "text/plain": [
       "0.01\r\n"
      ]
     },
     "execution_count": 19,
     "metadata": {},
     "output_type": "execute_result"
    }
   ],
   "source": [
    "//assess its significance level\n",
    ".stats.pValueTwoSided abs .stats.tStatsCorr[cor[x;y];count x]"
   ]
  },
  {
   "cell_type": "markdown",
   "id": "b4adc5a9",
   "metadata": {},
   "source": [
    "The results show that we can reject the Null hypothesis of the correlation being zero. The derived p-value smaller than or equal to zero."
   ]
  },
  {
   "cell_type": "markdown",
   "id": "a20b6c32",
   "metadata": {},
   "source": [
    "##### t-test One sample"
   ]
  },
  {
   "cell_type": "code",
   "execution_count": 20,
   "id": "9364d5cd",
   "metadata": {},
   "outputs": [
    {
     "data": {
      "text/plain": [
       "15.67621\r\n"
      ]
     },
     "execution_count": 20,
     "metadata": {},
     "output_type": "execute_result"
    }
   ],
   "source": [
    ".stats.tTestOneSample[xTest:100?1.0;0.045]"
   ]
  },
  {
   "cell_type": "code",
   "execution_count": 21,
   "id": "aa95a6be",
   "metadata": {},
   "outputs": [
    {
     "data": {
      "text/plain": [
       "0.99\r\n"
      ]
     },
     "execution_count": 21,
     "metadata": {},
     "output_type": "execute_result"
    }
   ],
   "source": [
    ".stats.pValueTwoSided abs .stats.tTestOneSample[xTest;0.45]"
   ]
  },
  {
   "cell_type": "markdown",
   "id": "beda1fb0",
   "metadata": {},
   "source": [
    "p-value of the test is 2%, which suggest we may reject the Null hypothesis at 2% confidence interval"
   ]
  },
  {
   "cell_type": "markdown",
   "id": "6b6f565d",
   "metadata": {},
   "source": [
    "##### t-test Two sample\n",
    "\n",
    "Drawn from two independent samples\n",
    "- $X_{N} = x_{1} ... x_{N}$ with mean $\\mu_{1}$ , and standard deviation $\\sigma_{1}$\n",
    "- $Y_{M} = y_{1} ... y_{M}$ with mean $\\mu_{2}$ , and standard deviation $\\sigma_{2}$\n",
    "\n",
    "###### Hypothesis\n",
    "- Let $H_{o}$ denote the null hypothesis, that two sample means are equal $\\mu_{1} = \\mu_{2}$\n",
    "- Let $H_{a}$ denote the alternitive hypothesis, that tw orandom variables are correlated\n",
    "\n",
    "To test we need a sutible test statistics. The statistics make assumtions on N, M, $\\sigma_{1}$, $\\sigma_{2}$. The stronger the assumtions, the closer we get to asymptotic behavior, but at a greater risk of model error if its incorrect.\n",
    "\n",
    "We focuse on the `Welch's test`, which has the least assumtions:\n",
    "    $t_{w} = \\dfrac{\\bar{x} - \\bar{y}}{ s_{w}}$"
   ]
  },
  {
   "cell_type": "code",
   "execution_count": null,
   "id": "80b94c3d",
   "metadata": {},
   "outputs": [],
   "source": []
  }
 ],
 "metadata": {
  "kernelspec": {
   "display_name": "Q (kdb+)",
   "language": "q",
   "name": "qpk"
  },
  "language_info": {
   "file_extension": ".q",
   "mimetype": "text/x-q",
   "name": "q",
   "version": "4.0"
  }
 },
 "nbformat": 4,
 "nbformat_minor": 5
}

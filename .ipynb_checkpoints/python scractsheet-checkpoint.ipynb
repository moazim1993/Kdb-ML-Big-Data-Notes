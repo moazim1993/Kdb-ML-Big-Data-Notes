{
 "cells": [
  {
   "cell_type": "code",
   "execution_count": 43,
   "id": "7cd13012",
   "metadata": {},
   "outputs": [
    {
     "data": {
      "text/plain": [
       "21"
      ]
     },
     "execution_count": 43,
     "metadata": {},
     "output_type": "execute_result"
    }
   ],
   "source": [
    "# leet code submission 11/28/2021 22:59\tAccepted\t28 ms\t14.3 MB\tpython3\n",
    "\n",
    "def climbStairs( n: int):\n",
    "        if n <= 3:\n",
    "            return n\n",
    "        limit = round(n/2)\n",
    "        numTwos = 0\n",
    "        result = 0\n",
    "        def fact(n: int):\n",
    "            return n * fact(n - 1) if n > 1 else 1\n",
    "        while numTwos <= limit:\n",
    "            numOnes = n - (numTwos*2)\n",
    "            result += int(fact(numOnes + numTwos)/(fact(numTwos)*fact(numOnes)))\n",
    "            numTwos += 1\n",
    "        return result\n",
    "    \n",
    "climbStairs(7)"
   ]
  },
  {
   "cell_type": "code",
   "execution_count": 44,
   "id": "ef31f49f",
   "metadata": {},
   "outputs": [
    {
     "name": "stdout",
     "output_type": "stream",
     "text": [
      "1\n",
      "2\n",
      "3\n",
      "5\n",
      "8\n",
      "13\n",
      "21\n"
     ]
    }
   ],
   "source": [
    "for i in range(1,8):\n",
    "    print(climbStairs(i))"
   ]
  },
  {
   "cell_type": "code",
   "execution_count": 90,
   "id": "ebd46115",
   "metadata": {},
   "outputs": [
    {
     "name": "stdout",
     "output_type": "stream",
     "text": [
      "[[1], [1, 1], [1, 2, 1]]\n"
     ]
    }
   ],
   "source": [
    "# 11/28/2021 23:41\tAccepted\t28 ms\t14.2 MB\tpython3\n",
    "#Runtime: 28 ms, faster than 87.57% of Python3 online submissions for Pascal's Triangle.\n",
    "#Memory Usage: 14.2 MB, less than 82.42% of Python3 online submissions for Pascal's Triangle.\n",
    "\n",
    "\n",
    "def pascalTriangle(numRows: int):\n",
    "    if numRows == 1:\n",
    "        return [1]\n",
    "    elif numRows == 2:\n",
    "        return [[1],[1,1]]\n",
    "    else:\n",
    "        hold = pascalTriangle(numRows-1)\n",
    "        lst = [1]+[hold[-1][i-1]+hold[-1][i] for i in range(1, numRows-1)]+[1]\n",
    "        return hold + [lst]\n",
    "\n",
    "print(pascalTriangle(3))"
   ]
  },
  {
   "cell_type": "code",
   "execution_count": 88,
   "id": "e74af704",
   "metadata": {},
   "outputs": [
    {
     "name": "stdout",
     "output_type": "stream",
     "text": [
      "[[1], [1, 1], [1, 2, 1], [1, 3, 3, 1]]\n"
     ]
    }
   ],
   "source": [
    "print(pascalTriangle(4))"
   ]
  },
  {
   "cell_type": "code",
   "execution_count": 89,
   "id": "b32312c1",
   "metadata": {},
   "outputs": [
    {
     "name": "stdout",
     "output_type": "stream",
     "text": [
      "[[1], [1, 1], [1, 2, 1], [1, 3, 3, 1], [1, 4, 6, 4, 1]]\n"
     ]
    }
   ],
   "source": [
    "print(pascalTriangle(5))"
   ]
  },
  {
   "cell_type": "markdown",
   "id": "af1658fb",
   "metadata": {},
   "source": [
    "#### 11. Container With Most Water\n",
    "https://leetcode.com/problems/container-with-most-water/"
   ]
  },
  {
   "cell_type": "code",
   "execution_count": 1,
   "id": "001db3d5",
   "metadata": {},
   "outputs": [],
   "source": [
    "inp1 = [1,8,6,2,5,4,8,3,7]  # 49\n",
    "inp2 = [1,1]                # 1\n",
    "inp3 = [4,3,2,1,4]          # 16\n",
    "inp4 = [1,2,1]              # 2"
   ]
  },
  {
   "cell_type": "code",
   "execution_count": null,
   "id": "fee5924b",
   "metadata": {},
   "outputs": [],
   "source": [
    "def maxArea(height):\n",
    "    hold = -1\n",
    "    for h in height:\n",
    "        "
   ]
  }
 ],
 "metadata": {
  "kernelspec": {
   "display_name": "Python 3",
   "language": "python",
   "name": "python3"
  },
  "language_info": {
   "codemirror_mode": {
    "name": "ipython",
    "version": 3
   },
   "file_extension": ".py",
   "mimetype": "text/x-python",
   "name": "python",
   "nbconvert_exporter": "python",
   "pygments_lexer": "ipython3",
   "version": "3.8.8"
  }
 },
 "nbformat": 4,
 "nbformat_minor": 5
}

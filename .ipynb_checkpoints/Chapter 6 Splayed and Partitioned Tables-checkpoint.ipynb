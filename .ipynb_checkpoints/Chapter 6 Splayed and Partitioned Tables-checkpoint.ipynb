{
 "cells": [
  {
   "cell_type": "markdown",
   "id": "0f472aa4",
   "metadata": {},
   "source": [
    "# Chapter 6\n",
    "## Spalyed and Partitioned Tables\n",
    "\n",
    "### 6.1 Introduction\n",
    "This chapter will cover the concept of splayed and partitioned tables, and also show how to load and save data using q. Both types of tables, especially partitioned, is useful for representing large data sets."
   ]
  },
  {
   "cell_type": "code",
   "execution_count": 3,
   "id": "c6d92f0f",
   "metadata": {},
   "outputs": [],
   "source": [
    "trades:([]code:`symbol$(); date:`date$(); time:`time$();price:`float$();volume:`short$();mktflag:`symbol$();comments:())"
   ]
  },
  {
   "cell_type": "code",
   "execution_count": 4,
   "id": "8b110530",
   "metadata": {},
   "outputs": [
    {
     "data": {
      "text/plain": [
       "`trades\r\n"
      ]
     },
     "execution_count": 4,
     "metadata": {},
     "output_type": "execute_result"
    }
   ],
   "source": [
    "`trades upsert (\n",
    "    (`CLM16; 2016.04.07; 10:20:00.329; 38.3; 4h; `E; \"NYMEX/CME Group trade\");\n",
    "    (`GCM16; 2016.04.07; 12:00:00.055; 1239.7; 6h; `E; \"\");\n",
    "    (`GCM16; 2016.04.07; 12:37:02.106; 1240.5; 1h; `E; \"\");\n",
    "    (`CLM16; 2016.04.07; 13:00:00.128; 38.04; 3h; `E; \"NYMEX/CME Group trade\");\n",
    "    (`VKX16; 2016.04.07; 13:22:05.617; 18.85; 5h; `E; \"\");\n",
    "    (`GCM16; 2016.04.07; 14:35:01.241; 1241.2; 1h; `E; \"\");\n",
    "    (`GCM16; 2016.04.08; 10:13:01.048; 1240f; 3h; `E; \"\");\n",
    "    (`VKX16; 2016.04.08; 11:34:53.417; 18.53; 1h; `E; \"Transaction represents a trade in two contract months in the same class\");\n",
    "    (`CLM16; 2016.04.08; 12:00:00.227; 40.61; 3h; `E; \"NYMEX/CME Group trade\");\n",
    "    (`VXK16; 2016.04.08; 12:44:00.684; 18.44; 2h; `E; \"Transaction represents a trade in two contract months in the same class\");\n",
    "    (`VXK16; 2016.04.08; 12:45:33.130; 18.49; 1h; `E; \"Transaction represents a trade in two contract months in the same class\");\n",
    "    (`CLM16; 2016.04.08; 15:20:02.000; 40.78; 3h; `E; \"NYMEX/CME Group trade\");\n",
    "    (`CLM16; 2016.04.11; 11:00:00.105; 41.43; 2h; `E; \"NYMEX/CME Group trade\");\n",
    "    (`VXK16; 2016.04.11; 14:00:00.829; 18.35; 1h; `E; \"\");\n",
    "    (`VXK16; 2016.04.11; 15:14:58.775; 19.05; 2h; `E; \"\");\n",
    "    (`GCM16; 2016.04.11; 16:00:00.044; 1257.9; 1h; `E; \"\");\n",
    "    (`GCM16; 2016.04.11; 16:28:34.311; 1258.7; 1h; `E; \"\")\n",
    "    )"
   ]
  },
  {
   "cell_type": "code",
   "execution_count": 5,
   "id": "773906b7",
   "metadata": {},
   "outputs": [
    {
     "data": {
      "text/plain": [
       "code  date       time         price  volume mktflag comments                 ..\r\n",
       "-----------------------------------------------------------------------------..\r\n",
       "CLM16 2016.04.07 10:20:00.329 38.3   4      E       \"NYMEX/CME Group trade\"  ..\r\n",
       "GCM16 2016.04.07 12:00:00.055 1239.7 6      E       \"\"                       ..\r\n",
       "GCM16 2016.04.07 12:37:02.106 1240.5 1      E       \"\"                       ..\r\n",
       "CLM16 2016.04.07 13:00:00.128 38.04  3      E       \"NYMEX/CME Group trade\"  ..\r\n",
       "VKX16 2016.04.07 13:22:05.617 18.85  5      E       \"\"                       ..\r\n",
       "GCM16 2016.04.07 14:35:01.241 1241.2 1      E       \"\"                       ..\r\n",
       "GCM16 2016.04.08 10:13:01.048 1240   3      E       \"\"                       ..\r\n",
       "VKX16 2016.04.08 11:34:53.417 18.53  1      E       \"Transaction represents a..\r\n",
       "CLM16 2016.04.08 12:00:00.227 40.61  3      E       \"NYMEX/CME Group trade\"  ..\r\n",
       "VXK16 2016.04.08 12:44:00.684 18.44  2      E       \"Transaction represents a..\r\n",
       "VXK16 2016.04.08 12:45:33.130 18.49  1      E       \"Transaction represents a..\r\n",
       "CLM16 2016.04.08 15:20:02.000 40.78  3      E       \"NYMEX/CME Group trade\"  ..\r\n",
       "CLM16 2016.04.11 11:00:00.105 41.43  2      E       \"NYMEX/CME Group trade\"  ..\r\n",
       "VXK16 2016.04.11 14:00:00.829 18.35  1      E       \"\"                       ..\r\n",
       "VXK16 2016.04.11 15:14:58.775 19.05  2      E       \"\"                       ..\r\n",
       "GCM16 2016.04.11 16:00:00.044 1257.9 1      E       \"\"                       ..\r\n",
       "GCM16 2016.04.11 16:28:34.311 1258.7 1      E       \"\"                       ..\r\n"
      ]
     },
     "execution_count": 5,
     "metadata": {},
     "output_type": "execute_result"
    }
   ],
   "source": [
    "trades"
   ]
  },
  {
   "cell_type": "markdown",
   "id": "72bb5807",
   "metadata": {},
   "source": [
    "### 6.2 Saving a table as a single binary file"
   ]
  },
  {
   "cell_type": "code",
   "execution_count": 6,
   "id": "6111d08d",
   "metadata": {},
   "outputs": [
    {
     "data": {
      "text/plain": [
       "\"C:/Users/moazi/Documents/GitHub/Kdb-ML-Big-Data-Notes/test/db\"\r\n"
      ]
     },
     "execution_count": 6,
     "metadata": {},
     "output_type": "execute_result"
    }
   ],
   "source": [
    "dataDir:\"C:/Users/moazi/Documents/GitHub/Kdb-ML-Big-Data-Notes/test/db\"\n",
    "dataDir"
   ]
  },
  {
   "cell_type": "code",
   "execution_count": 7,
   "id": "ffb799f7",
   "metadata": {},
   "outputs": [
    {
     "data": {
      "text/plain": [
       "`dataDir\r\n"
      ]
     },
     "execution_count": 7,
     "metadata": {},
     "output_type": "execute_result"
    }
   ],
   "source": [
    "`dataDir set getenv`KDB_DATA"
   ]
  },
  {
   "cell_type": "code",
   "execution_count": 8,
   "id": "05b814c5",
   "metadata": {},
   "outputs": [],
   "source": [
    "//`tradesfile set trades"
   ]
  },
  {
   "cell_type": "markdown",
   "id": "e1cc5592",
   "metadata": {},
   "source": [
    "Running the above line will save the trades table in a binary file in the current directory. I commented it out as to not cluter the directory, but comment it out and run to see."
   ]
  },
  {
   "cell_type": "code",
   "execution_count": 8,
   "id": "f3717806",
   "metadata": {},
   "outputs": [
    {
     "ename": "\u001b[0;31m/tradesfile. OS reports: Access is denied.\u001b[0m",
     "evalue": "\u001b[0;31m/tradesfile. OS reports: Access is denied.\u001b[0m",
     "output_type": "error",
     "traceback": [
      "\u001b[0;31mevaluation error:\n\u001b[0m",
      "\u001b[0;31m/tradesfile. OS reports: Access is denied.\u001b[0m",
      "\u001b[0;31m\u001b[0m",
      "\u001b[0;31m  [1]  (.q.set)\n\n\u001b[0m",
      "\u001b[0;31m  [0]  (`$\":\",dataDir,\"/tradesfile\") set trades\r\n                                     ^\r\n\u001b[0m"
     ]
    }
   ],
   "source": [
    "(`$\":\",dataDir,\"/tradesfile\") set trades"
   ]
  },
  {
   "cell_type": "markdown",
   "id": "6be56872",
   "metadata": {},
   "source": [
    "The above line should save the file in the dedicated directroy I've created listed in dataDir.\n",
    "\n",
    "Note: the brackets are needed around the directory path as a sym. This is due to right to left evaluaiton of kdb.\n",
    "\n",
    "Now that we have the file saved, we can retrive the file into a table, using `get` or using `load`. "
   ]
  },
  {
   "cell_type": "code",
   "execution_count": 8,
   "id": "757e0a84",
   "metadata": {},
   "outputs": [
    {
     "ename": "\u001b[0;31m/tradesfile. OS reports: The system cannot find the file specified.\u001b[0m",
     "evalue": "\u001b[0;31m/tradesfile. OS reports: The system cannot find the file specified.\u001b[0m",
     "output_type": "error",
     "traceback": [
      "\u001b[0;31mevaluation error:\n\u001b[0m",
      "\u001b[0;31m/tradesfile. OS reports: The system cannot find the file specified.\u001b[0m",
      "\u001b[0;31m\u001b[0m",
      "\u001b[0;31m  [0]  trades1:get `$\":\",dataDir,\"/tradesfile\"\r\n               ^\r\n\u001b[0m"
     ]
    }
   ],
   "source": [
    "trades1:get `$\":\",dataDir,\"/tradesfile\"\n",
    "show trades1 ~ trades;\n",
    "trades1"
   ]
  },
  {
   "cell_type": "code",
   "execution_count": 8,
   "id": "26d1aef5",
   "metadata": {},
   "outputs": [
    {
     "ename": "\u001b[0;31m/tradesfile. OS reports: The system cannot find the file specified.\u001b[0m",
     "evalue": "\u001b[0;31m/tradesfile. OS reports: The system cannot find the file specified.\u001b[0m",
     "output_type": "error",
     "traceback": [
      "\u001b[0;31mevaluation error:\n\u001b[0m",
      "\u001b[0;31m/tradesfile. OS reports: The system cannot find the file specified.\u001b[0m",
      "\u001b[0;31m\u001b[0m",
      "\u001b[0;31m  [1]  (C:\\Users\\moazi\\anaconda3\\q\\q.k:61)\n\n\u001b[0m",
      "\u001b[0;31m  [0]  load `$\":\",dataDir,\"/tradesfile\";\r\n       ^\r\n\u001b[0m"
     ]
    }
   ],
   "source": [
    "load `$\":\",dataDir,\"/tradesfile\";\n",
    "tradesfile ~ trades;\n",
    "tradesfile"
   ]
  },
  {
   "cell_type": "markdown",
   "id": "f61c8fca",
   "metadata": {},
   "source": [
    "The difference between get and laod, is load will load the file in with its given name \"tradesfile\", while get will get the data and hold it in whichever variable its assigned to."
   ]
  },
  {
   "cell_type": "markdown",
   "id": "36415679",
   "metadata": {},
   "source": [
    "Notice that the file discriptor, the code that denotes where in disk the file is, is writted as a symbol with \":\" being the first character. The built-in funciton hsym exists to convert file paths to descriptors."
   ]
  },
  {
   "cell_type": "code",
   "execution_count": 9,
   "id": "df1a653a",
   "metadata": {},
   "outputs": [
    {
     "name": "stdout",
     "output_type": "stream",
     "text": [
      "`\r\n",
      "`\r\n"
     ]
    }
   ],
   "source": [
    "show `$dataDir;\n",
    "show hsym `$dataDir"
   ]
  },
  {
   "cell_type": "markdown",
   "id": "7da36671",
   "metadata": {},
   "source": [
    "### 6.3 Splayed tables\n",
    "Instead of saving as a binary file, we can also choose to save as a splayed table.\n",
    "\n",
    "Splayed table saves each column of the data in a binary file. This is useful for storing medium sized (about 100million rows) tables with many columns. This is useful for optimal querying of large data and getting back results fast. It allows queries to only read in the files that's required and leave the rest on disk.\n",
    "\n",
    "To save a table down as a spalyed table, you use the set function and add a \"/\" to the end to denote a directory. But that's not all\n"
   ]
  },
  {
   "cell_type": "code",
   "execution_count": 9,
   "id": "4c1524be",
   "metadata": {},
   "outputs": [
    {
     "ename": "\u001b[0;31mtype\u001b[0m",
     "evalue": "\u001b[0;31mtype\u001b[0m",
     "output_type": "error",
     "traceback": [
      "\u001b[0;31mevaluation error:\n\u001b[0m",
      "\u001b[0;31mtype\u001b[0m",
      "\u001b[0;31m\u001b[0m",
      "\u001b[0;31m  [1]  (.q.set)\n\n\u001b[0m",
      "\u001b[0;31m  [0]  hsym[`$dataDir,\"/tradesDir/\"] set trades\r\n                                     ^\r\n\u001b[0m"
     ]
    }
   ],
   "source": [
    "hsym[`$dataDir,\"/tradesDir/\"] set trades"
   ]
  },
  {
   "cell_type": "markdown",
   "id": "86ad95eb",
   "metadata": {},
   "source": [
    "The above failed due to the concept of enumeration for the type symbol."
   ]
  },
  {
   "cell_type": "code",
   "execution_count": 10,
   "id": "16083483",
   "metadata": {},
   "outputs": [
    {
     "data": {
      "text/plain": [
       "c       | t f a\r\n",
       "--------| -----\r\n",
       "code    | s    \r\n",
       "date    | d    \r\n",
       "time    | t    \r\n",
       "price   | f    \r\n",
       "volume  | h    \r\n",
       "mktflag | s    \r\n",
       "comments| C    \r\n"
      ]
     },
     "execution_count": 10,
     "metadata": {},
     "output_type": "execute_result"
    }
   ],
   "source": [
    "meta trades"
   ]
  },
  {
   "cell_type": "markdown",
   "id": "56d3b914",
   "metadata": {},
   "source": [
    "You can see that the columns code and mktflag is of type symbol, if we exclude those it'll save."
   ]
  },
  {
   "cell_type": "code",
   "execution_count": 11,
   "id": "f30f26b7",
   "metadata": {},
   "outputs": [
    {
     "data": {
      "text/plain": [
       "`:/tradesDir/\r\n"
      ]
     },
     "execution_count": 11,
     "metadata": {},
     "output_type": "execute_result"
    }
   ],
   "source": [
    "hsym[`$dataDir,\"/tradesDir/\"] set `code`mktflag _ trades"
   ]
  },
  {
   "cell_type": "code",
   "execution_count": 12,
   "id": "93f4ab1e",
   "metadata": {},
   "outputs": [
    {
     "data": {
      "text/plain": [
       "\" Volume in drive C is Windows-SSD\"\r\n",
       "\" Volume Serial Number is 4244-28BF\"\r\n",
       "\"\"\r\n",
       "\" Directory of C:\\\\Users\\\\moazi\\\\Documents\\\\GitHub\\\\Kdb-ML-Big-Data-Notes\\\\te..\r\n",
       "\"\"\r\n",
       "\"02/24/2022  07:03 AM    <DIR>          .\"\r\n",
       "\"02/24/2022  07:45 AM    <DIR>          ..\"\r\n",
       "\"02/24/2022  07:03 AM                53 .d\"\r\n",
       "\"02/24/2022  07:03 AM             4,232 code\"\r\n",
       "\"02/24/2022  07:03 AM             4,232 comments\"\r\n",
       "\"02/24/2022  07:03 AM             4,448 comments#\"\r\n",
       "\"02/24/2022  07:03 AM                84 date\"\r\n",
       "\"02/24/2022  07:03 AM             4,232 mktflag\"\r\n",
       "\"02/24/2022  07:03 AM               152 price\"\r\n",
       "\"02/24/2022  07:02 AM                34 sym\"\r\n",
       "\"02/24/2022  07:03 AM                84 time\"\r\n",
       "\"02/24/2022  07:03 AM                50 volume\"\r\n",
       "\"              10 File(s)         17,601 bytes\"\r\n",
       "\"               2 Dir(s)  781,979,492,352 bytes free\"\r\n"
      ]
     },
     "execution_count": 12,
     "metadata": {},
     "output_type": "execute_result"
    }
   ],
   "source": [
    "\\dir test\\db\\tradesDir"
   ]
  },
  {
   "cell_type": "markdown",
   "id": "5146c506",
   "metadata": {},
   "source": [
    "The above shows the list of files saved when saved as a spalyed table. Besides the `.d` and `comments#` file the rest are associated with the columns of trades. We are missing code and mktflag because those were ommited. We can save those by enumeration. We can do that with the function `.Q.en`"
   ]
  },
  {
   "cell_type": "code",
   "execution_count": 13,
   "id": "c846ab40",
   "metadata": {},
   "outputs": [],
   "source": [
    "tDir:hsym[`$dataDir,\"/tradesDir/\"];\n",
    "tradesEnum:.Q.en[tDir;trades];  // enumerating"
   ]
  },
  {
   "cell_type": "code",
   "execution_count": 14,
   "id": "0eecfa61",
   "metadata": {},
   "outputs": [
    {
     "data": {
      "text/plain": [
       "`:/tradesDir/\r\n"
      ]
     },
     "execution_count": 14,
     "metadata": {},
     "output_type": "execute_result"
    }
   ],
   "source": [
    "tDir set tradesEnum"
   ]
  },
  {
   "cell_type": "code",
   "execution_count": 15,
   "id": "182f99f1",
   "metadata": {},
   "outputs": [
    {
     "data": {
      "text/plain": [
       "\" Volume in drive C is Windows-SSD\"\r\n",
       "\" Volume Serial Number is 4244-28BF\"\r\n",
       "\"\"\r\n",
       "\" Directory of C:\\\\Users\\\\moazi\\\\Documents\\\\GitHub\\\\Kdb-ML-Big-Data-Notes\\\\te..\r\n",
       "\"\"\r\n",
       "\"02/24/2022  07:03 AM    <DIR>          .\"\r\n",
       "\"02/24/2022  07:45 AM    <DIR>          ..\"\r\n",
       "\"02/24/2022  07:03 AM                53 .d\"\r\n",
       "\"02/24/2022  07:03 AM             4,232 code\"\r\n",
       "\"02/24/2022  07:03 AM             4,232 comments\"\r\n",
       "\"02/24/2022  07:03 AM             4,448 comments#\"\r\n",
       "\"02/24/2022  07:03 AM                84 date\"\r\n",
       "\"02/24/2022  07:03 AM             4,232 mktflag\"\r\n",
       "\"02/24/2022  07:03 AM               152 price\"\r\n",
       "\"02/24/2022  07:02 AM                34 sym\"\r\n",
       "\"02/24/2022  07:03 AM                84 time\"\r\n",
       "\"02/24/2022  07:03 AM                50 volume\"\r\n",
       "\"              10 File(s)         17,601 bytes\"\r\n",
       "\"               2 Dir(s)  781,979,492,352 bytes free\"\r\n"
      ]
     },
     "execution_count": 15,
     "metadata": {},
     "output_type": "execute_result"
    }
   ],
   "source": [
    "\\dir test\\db\\tradesDir"
   ]
  },
  {
   "cell_type": "code",
   "execution_count": 16,
   "id": "81a37309",
   "metadata": {},
   "outputs": [
    {
     "data": {
      "text/plain": [
       "`sym$`CLM16`GCM16`GCM16`CLM16`VKX16`GCM16`GCM16`VKX16`CLM16`VXK16`VXK16`CLM16..\r\n"
      ]
     },
     "execution_count": 16,
     "metadata": {},
     "output_type": "execute_result"
    }
   ],
   "source": [
    "tradesEnum[`code]"
   ]
  },
  {
   "cell_type": "code",
   "execution_count": 17,
   "id": "fac87adc",
   "metadata": {},
   "outputs": [
    {
     "data": {
      "text/plain": [
       "`CLM16`GCM16`GCM16`CLM16`VKX16`GCM16`GCM16`VKX16`CLM16`VXK16`VXK16`CLM16`CLM1..\r\n"
      ]
     },
     "execution_count": 17,
     "metadata": {},
     "output_type": "execute_result"
    }
   ],
   "source": [
    "trades[`code]"
   ]
  },
  {
   "cell_type": "markdown",
   "id": "2eadd5c8",
   "metadata": {},
   "source": [
    "Now the table is saved as a splyed table in full, with code and mktflag column.  Notice how the `code` column is enumerated in `tradesEnum`. We also have an additional `sym` file. This is for the enumeration values. When we have a column of type symbol, we save all the symbols in a sym file, and the columns of type symbol lists the index of the symbols occurance in that sym file. Thus making symbols much faster than string to query.\n",
    "\n",
    "Note: Splayed table can't save keyed table. The table will first need to be unkeyed in order to save, else we'll recive a type error.\n",
    "\n",
    "The files in the `tradesDir` directory contains the serealized data for each column the file is named after. You can also save individual columns as serialized files as well."
   ]
  },
  {
   "cell_type": "code",
   "execution_count": 17,
   "id": "5f769c1a",
   "metadata": {},
   "outputs": [
    {
     "ename": "\u001b[0;31m/myPrice. OS reports: Access is denied.\u001b[0m",
     "evalue": "\u001b[0;31m/myPrice. OS reports: Access is denied.\u001b[0m",
     "output_type": "error",
     "traceback": [
      "\u001b[0;31mevaluation error:\n\u001b[0m",
      "\u001b[0;31m/myPrice. OS reports: Access is denied.\u001b[0m",
      "\u001b[0;31m\u001b[0m",
      "\u001b[0;31m  [1]  (.q.set)\n\n\u001b[0m",
      "\u001b[0;31m  [0]  hsym[`$dataDir,\"/myPrice\"] set trades[`price];\r\n                                  ^\r\n\u001b[0m"
     ]
    }
   ],
   "source": [
    "hsym[`$dataDir,\"/myPrice\"] set trades[`price];\n",
    "myPrice:get hsym[`$dataDir,\"/myPrice\"];"
   ]
  },
  {
   "cell_type": "code",
   "execution_count": 17,
   "id": "5a5d086f",
   "metadata": {},
   "outputs": [
    {
     "ename": "\u001b[0;31mmyPrice\u001b[0m",
     "evalue": "\u001b[0;31mmyPrice\u001b[0m",
     "output_type": "error",
     "traceback": [
      "\u001b[0;31mevaluation error:\n\u001b[0m",
      "\u001b[0;31mmyPrice\u001b[0m",
      "\u001b[0;31m\u001b[0m",
      "\u001b[0;31m  [0]  myPrice ~ trades[`price]\r\n       ^\r\n\u001b[0m"
     ]
    }
   ],
   "source": [
    "myPrice ~ trades[`price]"
   ]
  },
  {
   "cell_type": "markdown",
   "id": "e3d75c23",
   "metadata": {},
   "source": [
    "##### .d file\n",
    "\n",
    "The .d file is the collection of columns in the table set as a file."
   ]
  },
  {
   "cell_type": "code",
   "execution_count": 18,
   "id": "a43050ed",
   "metadata": {},
   "outputs": [
    {
     "data": {
      "text/plain": [
       "`code`date`time`price`volume`mktflag`comments\r\n"
      ]
     },
     "execution_count": 18,
     "metadata": {},
     "output_type": "execute_result"
    }
   ],
   "source": [
    "cols trades"
   ]
  },
  {
   "cell_type": "code",
   "execution_count": 19,
   "id": "c3de24f1",
   "metadata": {},
   "outputs": [
    {
     "data": {
      "text/plain": [
       "`code`date`time`price`volume`mktflag`comments\r\n"
      ]
     },
     "execution_count": 19,
     "metadata": {},
     "output_type": "execute_result"
    }
   ],
   "source": [
    "get hsym[`$dataDir,\"/tradesDir/.d\"]"
   ]
  },
  {
   "cell_type": "markdown",
   "id": "d5fade27",
   "metadata": {},
   "source": [
    "Regarding the `comments` and `comments#` files. Whenever we save a column of type list down, in this case its a string column which is a list of charecters, it'll save in 2 files. The file `comments` here stores a serealized list of charecters, and the `comments#` file stores which row has how many charecters so it can unserialize back into the table. For example the first comment is \"NYMEX/CME Group trade\", so the `comments` file will hold each charecter and `comments#` will store it is the first 25 charecters."
   ]
  },
  {
   "cell_type": "markdown",
   "id": "6a2973ae",
   "metadata": {},
   "source": [
    "To load a splayed table, we can use the function load, or load it in like a .q file with \\l. Note when loading in (as opposed to saving) we don't include the trailing \"/\". We do so below with the vs function."
   ]
  },
  {
   "cell_type": "code",
   "execution_count": 20,
   "id": "a115a552",
   "metadata": {},
   "outputs": [
    {
     "data": {
      "text/plain": [
       "`:/tradesDir/\r\n"
      ]
     },
     "execution_count": 20,
     "metadata": {},
     "output_type": "execute_result"
    }
   ],
   "source": [
    "tDir"
   ]
  },
  {
   "cell_type": "code",
   "execution_count": 21,
   "id": "2b8e8571",
   "metadata": {},
   "outputs": [
    {
     "data": {
      "text/plain": [
       "`:/tradesDir\r\n"
      ]
     },
     "execution_count": 21,
     "metadata": {},
     "output_type": "execute_result"
    }
   ],
   "source": [
    "first ` vs tDir"
   ]
  },
  {
   "cell_type": "code",
   "execution_count": 22,
   "id": "e8bf363a",
   "metadata": {},
   "outputs": [
    {
     "data": {
      "text/plain": [
       "`tradesDir\r\n"
      ]
     },
     "execution_count": 22,
     "metadata": {},
     "output_type": "execute_result"
    }
   ],
   "source": [
    "load first ` vs tDir"
   ]
  },
  {
   "cell_type": "code",
   "execution_count": 23,
   "id": "9c658597",
   "metadata": {},
   "outputs": [
    {
     "data": {
      "text/plain": [
       "code  date       time         price  volume mktflag comments                 ..\r\n",
       "-----------------------------------------------------------------------------..\r\n",
       "CLM16 2016.04.07 10:20:00.329 38.3   4      E       \"NYMEX/CME Group trade\"  ..\r\n",
       "GCM16 2016.04.07 12:00:00.055 1239.7 6      E       \"\"                       ..\r\n",
       "GCM16 2016.04.07 12:37:02.106 1240.5 1      E       \"\"                       ..\r\n",
       "CLM16 2016.04.07 13:00:00.128 38.04  3      E       \"NYMEX/CME Group trade\"  ..\r\n",
       "VKX16 2016.04.07 13:22:05.617 18.85  5      E       \"\"                       ..\r\n",
       "GCM16 2016.04.07 14:35:01.241 1241.2 1      E       \"\"                       ..\r\n",
       "GCM16 2016.04.08 10:13:01.048 1240   3      E       \"\"                       ..\r\n",
       "VKX16 2016.04.08 11:34:53.417 18.53  1      E       \"Transaction represents a..\r\n",
       "CLM16 2016.04.08 12:00:00.227 40.61  3      E       \"NYMEX/CME Group trade\"  ..\r\n",
       "VXK16 2016.04.08 12:44:00.684 18.44  2      E       \"Transaction represents a..\r\n",
       "VXK16 2016.04.08 12:45:33.130 18.49  1      E       \"Transaction represents a..\r\n",
       "CLM16 2016.04.08 15:20:02.000 40.78  3      E       \"NYMEX/CME Group trade\"  ..\r\n",
       "CLM16 2016.04.11 11:00:00.105 41.43  2      E       \"NYMEX/CME Group trade\"  ..\r\n",
       "VXK16 2016.04.11 14:00:00.829 18.35  1      E       \"\"                       ..\r\n",
       "VXK16 2016.04.11 15:14:58.775 19.05  2      E       \"\"                       ..\r\n",
       "GCM16 2016.04.11 16:00:00.044 1257.9 1      E       \"\"                       ..\r\n",
       "GCM16 2016.04.11 16:28:34.311 1258.7 1      E       \"\"                       ..\r\n"
      ]
     },
     "execution_count": 23,
     "metadata": {},
     "output_type": "execute_result"
    }
   ],
   "source": [
    "tradesDir"
   ]
  },
  {
   "cell_type": "code",
   "execution_count": 24,
   "id": "d1b2f49c",
   "metadata": {},
   "outputs": [
    {
     "data": {
      "text/plain": [
       "`test\\db\\tradesDir\r\n"
      ]
     },
     "execution_count": 24,
     "metadata": {},
     "output_type": "execute_result"
    }
   ],
   "source": [
    "\\l test\\db\\tradesDir"
   ]
  },
  {
   "cell_type": "code",
   "execution_count": 25,
   "id": "488e1892",
   "metadata": {},
   "outputs": [
    {
     "data": {
      "text/plain": [
       "code  date       time         price  volume mktflag comments                 ..\r\n",
       "-----------------------------------------------------------------------------..\r\n",
       "CLM16 2016.04.07 10:20:00.329 38.3   4      E       \"NYMEX/CME Group trade\"  ..\r\n",
       "GCM16 2016.04.07 12:00:00.055 1239.7 6      E       \"\"                       ..\r\n",
       "GCM16 2016.04.07 12:37:02.106 1240.5 1      E       \"\"                       ..\r\n",
       "CLM16 2016.04.07 13:00:00.128 38.04  3      E       \"NYMEX/CME Group trade\"  ..\r\n",
       "VKX16 2016.04.07 13:22:05.617 18.85  5      E       \"\"                       ..\r\n",
       "GCM16 2016.04.07 14:35:01.241 1241.2 1      E       \"\"                       ..\r\n",
       "GCM16 2016.04.08 10:13:01.048 1240   3      E       \"\"                       ..\r\n",
       "VKX16 2016.04.08 11:34:53.417 18.53  1      E       \"Transaction represents a..\r\n",
       "CLM16 2016.04.08 12:00:00.227 40.61  3      E       \"NYMEX/CME Group trade\"  ..\r\n",
       "VXK16 2016.04.08 12:44:00.684 18.44  2      E       \"Transaction represents a..\r\n",
       "VXK16 2016.04.08 12:45:33.130 18.49  1      E       \"Transaction represents a..\r\n",
       "CLM16 2016.04.08 15:20:02.000 40.78  3      E       \"NYMEX/CME Group trade\"  ..\r\n",
       "CLM16 2016.04.11 11:00:00.105 41.43  2      E       \"NYMEX/CME Group trade\"  ..\r\n",
       "VXK16 2016.04.11 14:00:00.829 18.35  1      E       \"\"                       ..\r\n",
       "VXK16 2016.04.11 15:14:58.775 19.05  2      E       \"\"                       ..\r\n",
       "GCM16 2016.04.11 16:00:00.044 1257.9 1      E       \"\"                       ..\r\n",
       "GCM16 2016.04.11 16:28:34.311 1258.7 1      E       \"\"                       ..\r\n"
      ]
     },
     "execution_count": 25,
     "metadata": {},
     "output_type": "execute_result"
    }
   ],
   "source": [
    "tradesDir"
   ]
  },
  {
   "cell_type": "markdown",
   "id": "141a5d4d",
   "metadata": {},
   "source": [
    "Finally, we list below two useful function to create and append a splayed table."
   ]
  },
  {
   "cell_type": "code",
   "execution_count": 26,
   "id": "4356e651",
   "metadata": {},
   "outputs": [],
   "source": [
    "\\l quantQ-master/lib/quantQ_io.q"
   ]
  },
  {
   "cell_type": "code",
   "execution_count": 27,
   "id": "d8ecdf30",
   "metadata": {},
   "outputs": [
    {
     "data": {
      "text/plain": [
       "{[tabPath;pvar;table]\r\n",
       "    // tabPath -- path where to store the table\r\n",
       "    // pvar -- variable to sort and index on for fast querying\r\n",
       "    // table -- name of the table to save\r\n",
       "    @[;pvar;`p#] pvar xasc (` sv (tabPath;`;table;`)) set .Q.en[tabPath] get ..\r\n",
       " }\r\n"
      ]
     },
     "execution_count": 27,
     "metadata": {},
     "output_type": "execute_result"
    }
   ],
   "source": [
    ".quantQ.io.saveSplayedTab"
   ]
  },
  {
   "cell_type": "code",
   "execution_count": 28,
   "id": "cbcc9562",
   "metadata": {},
   "outputs": [
    {
     "data": {
      "text/plain": [
       "`:/sdb//trades/\r\n"
      ]
     },
     "execution_count": 28,
     "metadata": {},
     "output_type": "execute_result"
    }
   ],
   "source": [
    ".quantQ.io.saveSplayedTab[hsym[`$dataDir,\"/sdb\"]; `code; `trades]"
   ]
  },
  {
   "cell_type": "code",
   "execution_count": 29,
   "id": "80d5d9aa",
   "metadata": {},
   "outputs": [
    {
     "data": {
      "text/plain": [
       "\" Volume in drive C is Windows-SSD\"\r\n",
       "\" Volume Serial Number is 4244-28BF\"\r\n",
       "\"\"\r\n",
       "\" Directory of C:\\\\Users\\\\moazi\\\\Documents\\\\GitHub\\\\Kdb-ML-Big-Data-Notes\\\\te..\r\n",
       "\"\"\r\n",
       "\"02/24/2022  07:45 AM    <DIR>          .\"\r\n",
       "\"02/24/2022  07:45 AM    <DIR>          ..\"\r\n",
       "\"02/24/2022  07:45 AM                34 sym\"\r\n",
       "\"02/24/2022  07:45 AM    <DIR>          trades\"\r\n",
       "\"               1 File(s)             34 bytes\"\r\n",
       "\"               3 Dir(s)  781,979,492,352 bytes free\"\r\n"
      ]
     },
     "execution_count": 29,
     "metadata": {},
     "output_type": "execute_result"
    }
   ],
   "source": [
    "\\dir test\\db\\sdb"
   ]
  },
  {
   "cell_type": "code",
   "execution_count": 30,
   "id": "2b7fa739",
   "metadata": {},
   "outputs": [
    {
     "data": {
      "text/plain": [
       "\" Volume in drive C is Windows-SSD\"\r\n",
       "\" Volume Serial Number is 4244-28BF\"\r\n",
       "\"\"\r\n",
       "\" Directory of C:\\\\Users\\\\moazi\\\\Documents\\\\GitHub\\\\Kdb-ML-Big-Data-Notes\\\\te..\r\n",
       "\"\"\r\n",
       "\"02/24/2022  07:45 AM    <DIR>          .\"\r\n",
       "\"02/24/2022  07:45 AM    <DIR>          ..\"\r\n",
       "\"02/24/2022  07:45 AM                53 .d\"\r\n",
       "\"02/24/2022  07:45 AM             4,416 code\"\r\n",
       "\"02/24/2022  07:45 AM             4,232 comments\"\r\n",
       "\"02/24/2022  07:45 AM             4,448 comments#\"\r\n",
       "\"02/24/2022  07:45 AM                84 date\"\r\n",
       "\"02/24/2022  07:45 AM             4,232 mktflag\"\r\n",
       "\"02/24/2022  07:45 AM               152 price\"\r\n",
       "\"02/24/2022  07:45 AM                84 time\"\r\n",
       "\"02/24/2022  07:45 AM                50 volume\"\r\n",
       "\"               9 File(s)         17,751 bytes\"\r\n",
       "\"               2 Dir(s)  781,979,426,816 bytes free\"\r\n"
      ]
     },
     "execution_count": 30,
     "metadata": {},
     "output_type": "execute_result"
    }
   ],
   "source": [
    "\\dir test\\db\\sdb\\trades"
   ]
  },
  {
   "cell_type": "markdown",
   "id": "8605a64c",
   "metadata": {},
   "source": [
    "Above it saved trades in a db called \"sdb\" and placed the sym file above the splayed table so multiple splayed tables can share the sym file."
   ]
  },
  {
   "cell_type": "code",
   "execution_count": 31,
   "id": "9c82db8f",
   "metadata": {},
   "outputs": [
    {
     "data": {
      "text/plain": [
       "{[tabPath;pvar;table;table2Add]\r\n",
       "    // tabPath -- path where to store the table\r\n",
       "    // pvar -- variable to sort and index on for fast querying\r\n",
       "    // table -- name of the saved table\r\n",
       "    // table2Add -- table to append\r\n",
       "    @[;pvar;`p#] pvar xasc (` sv (tabPath;`;table;`)) upsert .Q.en[tabPath] t..\r\n",
       " }\r\n"
      ]
     },
     "execution_count": 31,
     "metadata": {},
     "output_type": "execute_result"
    }
   ],
   "source": [
    ".quantQ.io.appendSplayedTab"
   ]
  },
  {
   "cell_type": "markdown",
   "id": "bd8d7b22",
   "metadata": {},
   "source": [
    "This function exists to add new data to existing splayed table. When passing in the new data in table2Add, you pass in without a backtick. The two functions are almost identicle except the append uses upsert instead of save."
   ]
  },
  {
   "cell_type": "markdown",
   "id": "0789a7db",
   "metadata": {},
   "source": [
    "### 6.4 Partitioned Table\n",
    "In addition to splaying table, we may partition tables. Partitions are defined by a partition column, for which each distinct value v a partition  is created. Typically this goes by date. So for each date a new patition is created, and in each partition a table or many tabels can be stored. Each table then is spalyed."
   ]
  },
  {
   "cell_type": "code",
   "execution_count": 32,
   "id": "4cdcc786",
   "metadata": {},
   "outputs": [
    {
     "data": {
      "text/plain": [
       "::\r\n",
       "::\r\n",
       "::\r\n"
      ]
     },
     "execution_count": 32,
     "metadata": {},
     "output_type": "execute_result"
    }
   ],
   "source": [
    "mydbdir:hsym `$dataDir,\"/mydb\";\n",
    "\n",
    "{`trd set select from trades where date=x; .Q.dpft[mydbdir;x;`code;`trd]; delete trd from `.;} each distinct trades[`date]"
   ]
  },
  {
   "cell_type": "code",
   "execution_count": 35,
   "id": "6f42810d",
   "metadata": {},
   "outputs": [
    {
     "data": {
      "text/plain": [
       "`:/mydb\r\n"
      ]
     },
     "execution_count": 35,
     "metadata": {},
     "output_type": "execute_result"
    }
   ],
   "source": [
    "mydbdir"
   ]
  },
  {
   "cell_type": "markdown",
   "id": "50f7ab5d",
   "metadata": {},
   "source": [
    " The funciton above calls .Q.dfpt for each instance of the partitioned value"
   ]
  },
  {
   "cell_type": "code",
   "execution_count": 36,
   "id": "53710612",
   "metadata": {},
   "outputs": [
    {
     "data": {
      "text/plain": [
       "2016.04.07 2016.04.07 2016.04.07 2016.04.07 2016.04.07 2016.04.07 2016.04.08 ..\r\n"
      ]
     },
     "execution_count": 36,
     "metadata": {},
     "output_type": "execute_result"
    }
   ],
   "source": [
    "trades[`date]"
   ]
  },
  {
   "cell_type": "code",
   "execution_count": 37,
   "id": "021d5f54",
   "metadata": {},
   "outputs": [
    {
     "data": {
      "text/plain": [
       "code  date       time         price  volume mktflag comments               \r\n",
       "---------------------------------------------------------------------------\r\n",
       "CLM16 2016.04.07 10:20:00.329 38.3   4      E       \"NYMEX/CME Group trade\"\r\n",
       "GCM16 2016.04.07 12:00:00.055 1239.7 6      E       \"\"                     \r\n",
       "GCM16 2016.04.07 12:37:02.106 1240.5 1      E       \"\"                     \r\n",
       "CLM16 2016.04.07 13:00:00.128 38.04  3      E       \"NYMEX/CME Group trade\"\r\n",
       "VKX16 2016.04.07 13:22:05.617 18.85  5      E       \"\"                     \r\n",
       "GCM16 2016.04.07 14:35:01.241 1241.2 1      E       \"\"                     \r\n"
      ]
     },
     "execution_count": 37,
     "metadata": {},
     "output_type": "execute_result"
    }
   ],
   "source": [
    "select from trades where date=2016.04.07"
   ]
  },
  {
   "cell_type": "code",
   "execution_count": null,
   "id": "2465673b",
   "metadata": {},
   "outputs": [],
   "source": []
  }
 ],
 "metadata": {
  "kernelspec": {
   "display_name": "Q (kdb+)",
   "language": "q",
   "name": "qpk"
  },
  "language_info": {
   "file_extension": ".q",
   "mimetype": "text/x-q",
   "name": "q",
   "version": "4.0"
  }
 },
 "nbformat": 4,
 "nbformat_minor": 5
}

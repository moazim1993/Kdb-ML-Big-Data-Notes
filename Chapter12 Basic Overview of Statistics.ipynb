{
 "cells": [
  {
   "cell_type": "markdown",
   "id": "83a0463d",
   "metadata": {},
   "source": [
    "### Basic overview of statisitcs\n",
    "\n",
    "- this chapter is combination of stats, tests, and vizualizations"
   ]
  },
  {
   "cell_type": "markdown",
   "id": "91abe4de",
   "metadata": {},
   "source": [
    "#### 12.1 Histograms\n",
    " - histograms are a repesentation of the data distribution, and a visual tool which can help in investigating our data. "
   ]
  },
  {
   "cell_type": "code",
   "execution_count": 22,
   "id": "a24e4765",
   "metadata": {},
   "outputs": [],
   "source": [
    "\\l quantQ-master/lib/quantQ_stats.q\n",
    ".stats:.quantQ.stats"
   ]
  },
  {
   "cell_type": "code",
   "execution_count": 23,
   "id": "cfc3d6c0",
   "metadata": {},
   "outputs": [
    {
     "data": {
      "text/plain": [
       "{[data;rule]\r\n",
       "    // data -- array of data\r\n",
       "    // rule -- function which takes data and returns bins\r\n",
       "    // calculate bins\r\n",
       "    bins: rule data;\r\n",
       "    // return histogram table\r\n",
       "    :update 0^histogram from\r\n",
       "        ([bins:asc til count[bins]] x:bins) uj\r\n",
       "        (select histogram: count bins by bins from ([] bins:bins binr data));\r\n",
       " }\r\n"
      ]
     },
     "execution_count": 23,
     "metadata": {},
     "output_type": "execute_result"
    }
   ],
   "source": [
    ".quantQ.stats.getHistogram"
   ]
  },
  {
   "cell_type": "markdown",
   "id": "9fdbe4d8",
   "metadata": {},
   "source": [
    "The getHistogram function wraps around binr verb. Is accepts a vector and a fucntion which created the bins.\n",
    "\n",
    "Choices for the functions include:\n",
    "- Grid\n",
    "    - .quantQ.stats.histGrid  explicitly give the bins\n",
    "- Width\n",
    "    - .quantQ.stats.histWidth give the width of each bin then it divides the data\n",
    "- Bins\n",
    "    - .quantQ.stats.histBin give the number of bins desired\n",
    "- Square Root\n",
    "    - .quantQ.stats.histSquareRoot number of bins are the square root of the number of data\n",
    "- Sturges formula\n",
    "    - .quantQ.stats.histSturge number of bins are $1+ log_{2}N$ where N is the Number of data points\n",
    "- Rice's rule\n",
    "    - .quantQ.stats.histRice number of bins are $N^{1/3}$\n",
    "- Scotts rule\n",
    "    - .quantQ.stats.histScott number of bins $3.5 \\sigma^{2} / N^{1/3}$"
   ]
  },
  {
   "cell_type": "code",
   "execution_count": 24,
   "id": "6cb79441",
   "metadata": {},
   "outputs": [
    {
     "data": {
      "text/plain": [
       "i  data      \r\n",
       "-------------\r\n",
       "0  0.09106382\r\n",
       "1  1.511778  \r\n",
       "2  1.474142  \r\n",
       "3  0.1995901 \r\n",
       "4  2.288034  \r\n",
       "5  2.976986  \r\n",
       "6  2.06046   \r\n",
       "7  1.088019  \r\n",
       "8  2.903652  \r\n",
       "9  2.308542  \r\n",
       "10 0.655659  \r\n",
       "11 0.208557  \r\n",
       "12 1.826099  \r\n",
       "13 1.916956  \r\n",
       "14 2.057854  \r\n",
       "15 0.02859233\r\n",
       "16 1.16014   \r\n",
       "17 0.1402431 \r\n",
       "18 0.1893067 \r\n",
       "19 1.766569  \r\n",
       "..\r\n"
      ]
     },
     "execution_count": 24,
     "metadata": {},
     "output_type": "execute_result"
    }
   ],
   "source": [
    "data:(1000?3.0),(200?1.0),(2.0+300?1.0);\n",
    "select i:i, data from ([]data)"
   ]
  },
  {
   "cell_type": "code",
   "execution_count": 25,
   "id": "a52ea3cd",
   "metadata": {},
   "outputs": [
    {
     "data": {
      "text/plain": [
       "bins| x            histogram\r\n",
       "----| ----------------------\r\n",
       "0   | 0.0008223129 1        \r\n",
       "1   | 0.2008223    111      \r\n",
       "2   | 0.4008223    99       \r\n",
       "3   | 0.6008223    103      \r\n",
       "4   | 0.8008223    98       \r\n",
       "5   | 1.000822     100      \r\n",
       "6   | 1.200822     67       \r\n",
       "7   | 1.400822     74       \r\n",
       "8   | 1.600822     58       \r\n",
       "9   | 1.800822     58       \r\n",
       "10  | 2.000822     66       \r\n",
       "11  | 2.200822     123      \r\n",
       "12  | 2.400822     144      \r\n",
       "13  | 2.600822     111      \r\n",
       "14  | 2.800822     145      \r\n",
       "15  | 3.000822     142      \r\n"
      ]
     },
     "execution_count": 25,
     "metadata": {},
     "output_type": "execute_result"
    }
   ],
   "source": [
    "histWidth:.quantQ.stats.getHistogram[data;.quantQ.stats.histWidth[0.2]]\n",
    "histWidth"
   ]
  },
  {
   "cell_type": "code",
   "execution_count": 26,
   "id": "184725bf",
   "metadata": {},
   "outputs": [],
   "source": [
    "x:exec bins from histWidth\n",
    "y:exec histogram from histWidth"
   ]
  },
  {
   "cell_type": "code",
   "execution_count": 27,
   "id": "8ac5ba65",
   "metadata": {},
   "outputs": [],
   "source": [
    "\\l helper/importmatplotlib.q"
   ]
  },
  {
   "cell_type": "code",
   "execution_count": 28,
   "id": "792e2004",
   "metadata": {},
   "outputs": [
    {
     "data": {
      "image/png": "[encoded data removed]",
      "text/plain": [
       "<Figure size 460.8x345.6 with 1 Axes>"
      ]
     },
     "metadata": {},
     "output_type": "display_data"
    }
   ],
   "source": [
    "plt:.matplotlib.pyplot[]\n",
    "plt.bar[x;y];\n",
    "plt.show[];"
   ]
  },
  {
   "cell_type": "code",
   "execution_count": 29,
   "id": "b01ef27c",
   "metadata": {},
   "outputs": [],
   "source": [
    "histScott:.quantQ.stats.getHistogram[data;.quantQ.stats.histScott]\n",
    "x:exec bins from histScott\n",
    "y:exec histogram from histScott"
   ]
  },
  {
   "cell_type": "code",
   "execution_count": 30,
   "id": "42df6acc",
   "metadata": {},
   "outputs": [
    {
     "data": {
      "image/png": "[encoded data removed]",
      "text/plain": [
       "<Figure size 460.8x345.6 with 1 Axes>"
      ]
     },
     "metadata": {},
     "output_type": "display_data"
    }
   ],
   "source": [
    "plt:.matplotlib.pyplot[]\n",
    "plt.bar[x;y];\n",
    "plt.show[];"
   ]
  },
  {
   "cell_type": "markdown",
   "id": "70ddc9bf",
   "metadata": {},
   "source": [
    "Scotts Rule above dosn't seem useful, and indeed its not. The assumtion behind it is a normal distribution and we constructed a data from 3 uniform sets. This demonstraits the need to choose bins carefully."
   ]
  },
  {
   "cell_type": "markdown",
   "id": "d466845a",
   "metadata": {},
   "source": [
    "#### 12.2 Firstr moments\n",
    "\n",
    "- skewness : for datatribution that are unimodal and not heavy tailed, negitive skew is skewed to the left (lower values) and positive skew is skewed to the right (higher values)\n",
    "\n",
    "- kurtosis : can be used to assess the heavy tail of the data. positive is said to be leptokurtic (heavy tailed) and negitive values are said to be platykurtic or relatively thin tailed compared to gaussian distribution"
   ]
  },
  {
   "cell_type": "code",
   "execution_count": 31,
   "id": "35e5407d",
   "metadata": {},
   "outputs": [
    {
     "data": {
      "text/plain": [
       "statistics                       values      \r\n",
       "---------------------------------------------\r\n",
       "\"Sample mean\"                    1.602063    \r\n",
       "\"Sample standard deviation\"      0.9377828   \r\n",
       "\"Sample skewness\"                -0.1696391  \r\n",
       "\"Sample kurtosis\"                -1.389667   \r\n",
       "\"Sample min\"                     0.0008223129\r\n",
       "\"Sample max\"                     2.998934    \r\n",
       "\"Number of observations\"         1500        \r\n",
       "\"Number of missing observations\" 0           \r\n"
      ]
     },
     "execution_count": 31,
     "metadata": {},
     "output_type": "execute_result"
    }
   ],
   "source": [
    ".stats.overviewStats[data]"
   ]
  },
  {
   "cell_type": "markdown",
   "id": "f8e13008",
   "metadata": {},
   "source": [
    "#### 12.3 Hypothsis testing\n",
    "- In order to review our data quantitativly we need tests like\n",
    "    - comparing two sample means\n",
    "    - sign test\n",
    "    - correlation\n",
    "\n",
    "##### p -values\n",
    "    - For many stats we require a Normal distribution $N(0,1)$\n",
    "    - We need to form a test to make sure that assumtion holds true\n",
    "    - To assess we make a null hypothesis and assess if we can reject that null hypothesis\n",
    "    - In order to calculate, we use p-values\n",
    "    - In order to assess the significance of the test we rely on confidence intervals"
   ]
  },
  {
   "cell_type": "code",
   "execution_count": 32,
   "id": "40d134ce",
   "metadata": {},
   "outputs": [
    {
     "data": {
      "text/plain": [
       "0.0005 3.290527  \r\n",
       "0.005  2.575829  \r\n",
       "0.01   2.326348  \r\n",
       "0.495  0.01253347\r\n",
       "0.5    0         \r\n"
      ]
     },
     "execution_count": 32,
     "metadata": {},
     "output_type": "execute_result"
    }
   ],
   "source": [
    "// Confidence intervals\n",
    ".stats.normTable // zscores for different p values"
   ]
  },
  {
   "cell_type": "code",
   "execution_count": 33,
   "id": "458de8b9",
   "metadata": {},
   "outputs": [
    {
     "data": {
      "text/plain": [
       "0.01\r\n"
      ]
     },
     "execution_count": 33,
     "metadata": {},
     "output_type": "execute_result"
    }
   ],
   "source": [
    "// confidence of two sided  test\n",
    ".stats.pValueTwoSided[2.58] "
   ]
  },
  {
   "cell_type": "code",
   "execution_count": 34,
   "id": "b9f6ef8a",
   "metadata": {},
   "outputs": [
    {
     "data": {
      "text/plain": [
       "0.001\r\n"
      ]
     },
     "execution_count": 34,
     "metadata": {},
     "output_type": "execute_result"
    }
   ],
   "source": [
    ".stats.pValueTwoSided[10.0]"
   ]
  },
  {
   "cell_type": "code",
   "execution_count": 35,
   "id": "773c531c",
   "metadata": {},
   "outputs": [
    {
     "data": {
      "text/plain": [
       "1f\r\n"
      ]
     },
     "execution_count": 35,
     "metadata": {},
     "output_type": "execute_result"
    }
   ],
   "source": [
    ".stats.pValueTwoSided[0.0]"
   ]
  },
  {
   "cell_type": "code",
   "execution_count": 36,
   "id": "e78b3265",
   "metadata": {},
   "outputs": [
    {
     "name": "stdout",
     "output_type": "stream",
     "text": [
      "0.005\r\n",
      "0.995\r\n"
     ]
    }
   ],
   "source": [
    "show .stats.pValueLeftSided[-2.58];\n",
    "show .stats.pValueLeftSided[2.58];"
   ]
  },
  {
   "cell_type": "code",
   "execution_count": 37,
   "id": "98f6ef3e",
   "metadata": {},
   "outputs": [
    {
     "name": "stdout",
     "output_type": "stream",
     "text": [
      "0.995\r\n",
      "0.005\r\n"
     ]
    }
   ],
   "source": [
    "show .stats.pValueRightSided[-2.58];\n",
    "show .stats.pValueRightSided[2.58];"
   ]
  },
  {
   "cell_type": "markdown",
   "id": "4b1354b9",
   "metadata": {},
   "source": [
    "##### Correlation\n",
    "$\\rho = \\frac{\\text{cov}(X,Y)}{\\sigma_x \\sigma_y}$\n",
    "\n",
    " - basic tool to assess dependece between two variables\n",
    " - cov is the covariance\n",
    " - $\\sigma$ are the squareroot of the variance\n",
    " - bounded by 1 and -1 with one being a positive correlation and -1 being negitive, uncorrelated is near 0\n",
    " \n",
    " \n",
    " Testing\n",
    " - Let $H_{o}$ denote the null hypothesis, that two random variables are not correlated\n",
    " - Let $H_{a}$ denote the alternitive hypothesis, that tw orandom variables are correlated\n",
    " "
   ]
  },
  {
   "cell_type": "code",
   "execution_count": 38,
   "id": "b9187167",
   "metadata": {},
   "outputs": [
    {
     "data": {
      "text/plain": [
       "0.1386074\r\n"
      ]
     },
     "execution_count": 38,
     "metadata": {},
     "output_type": "execute_result"
    }
   ],
   "source": [
    "// constructing the data\n",
    "x:100?1.0;\n",
    "y:(0.2*x)+0.8*100?1.0;\n",
    "cor[x;y]"
   ]
  },
  {
   "cell_type": "code",
   "execution_count": 39,
   "id": "b99dad3f",
   "metadata": {},
   "outputs": [
    {
     "data": {
      "text/plain": [
       "1.385517\r\n"
      ]
     },
     "execution_count": 39,
     "metadata": {},
     "output_type": "execute_result"
    }
   ],
   "source": [
    "/calculate the t-statistic\n",
    ".stats.tStatsCorr[cor[x;y];count x]"
   ]
  },
  {
   "cell_type": "code",
   "execution_count": 40,
   "id": "c1975a54",
   "metadata": {},
   "outputs": [
    {
     "data": {
      "text/plain": [
       "0.99\r\n"
      ]
     },
     "execution_count": 40,
     "metadata": {},
     "output_type": "execute_result"
    }
   ],
   "source": [
    "//assess its significance level\n",
    ".stats.pValueTwoSided abs .stats.tStatsCorr[cor[x;y];count x]"
   ]
  },
  {
   "cell_type": "markdown",
   "id": "b4adc5a9",
   "metadata": {},
   "source": [
    "The results show that we can reject the Null hypothesis of the correlation being zero. The derived p-value smaller than or equal to zero."
   ]
  },
  {
   "cell_type": "markdown",
   "id": "a20b6c32",
   "metadata": {},
   "source": [
    "##### t-test One sample"
   ]
  },
  {
   "cell_type": "code",
   "execution_count": 41,
   "id": "9364d5cd",
   "metadata": {},
   "outputs": [
    {
     "data": {
      "text/plain": [
       "16.57484\r\n"
      ]
     },
     "execution_count": 41,
     "metadata": {},
     "output_type": "execute_result"
    }
   ],
   "source": [
    ".stats.tTestOneSample[xTest:100?1.0;0.045]"
   ]
  },
  {
   "cell_type": "code",
   "execution_count": 42,
   "id": "aa95a6be",
   "metadata": {},
   "outputs": [
    {
     "data": {
      "text/plain": [
       "0.99\r\n"
      ]
     },
     "execution_count": 42,
     "metadata": {},
     "output_type": "execute_result"
    }
   ],
   "source": [
    ".stats.pValueTwoSided abs .stats.tTestOneSample[xTest;0.45]"
   ]
  },
  {
   "cell_type": "markdown",
   "id": "beda1fb0",
   "metadata": {},
   "source": [
    "p-value of the test is 2%, which suggest we may reject the Null hypothesis at 2% confidence interval"
   ]
  },
  {
   "cell_type": "markdown",
   "id": "6b6f565d",
   "metadata": {},
   "source": [
    "##### t-test Two sample\n",
    "\n",
    "Drawn from two independent samples\n",
    "- $X_{N} = x_{1} ... x_{N}$ with mean $\\mu_{1}$ , and standard deviation $\\sigma_{1}$\n",
    "- $Y_{M} = y_{1} ... y_{M}$ with mean $\\mu_{2}$ , and standard deviation $\\sigma_{2}$\n",
    "\n",
    "###### Hypothesis\n",
    "- Let $H_{o}$ denote the null hypothesis, that two sample means are equal $\\mu_{1} = \\mu_{2}$\n",
    "- Let $H_{a}$ denote the alternitive hypothesis, that tw orandom variables are correlated\n",
    "\n",
    "To test we need a sutible test statistics. The statistics make assumtions on N, M, $\\sigma_{1}$, $\\sigma_{2}$. The stronger the assumtions, the closer we get to asymptotic behavior, but at a greater risk of model error if its incorrect.\n",
    "\n",
    "We focuse on the `Welch's test`, which has the least assumtions:\n",
    "    $t_{w} = \\dfrac{\\bar{x} - \\bar{y}}{ s_{w}}$\n",
    "    \n",
    "We reject the null hypothesis if $|t_{W}| > t_{critical, W_{df}}$, $t_{W} < -t$, $t_{W} > t_{critical, W_{df}}$"
   ]
  },
  {
   "cell_type": "code",
   "execution_count": 45,
   "id": "80b94c3d",
   "metadata": {},
   "outputs": [
    {
     "data": {
      "text/plain": [
       "{[x1;x2]\r\n",
       "    // x1,x2 -- two arrays to be tested, unequal length\r\n",
       "    // return Welch's statistics\r\n",
       "    :(avg[x1]-avg[x2])%sqrt ((s*s:dev[x1])%count[x1])+(z*z:dev[x2])%count[x2];\r\n",
       " }\r\n"
      ]
     },
     "execution_count": 45,
     "metadata": {},
     "output_type": "execute_result"
    }
   ],
   "source": [
    "/ implimentation\n",
    ".stats.tTestTwoSample"
   ]
  },
  {
   "cell_type": "code",
   "execution_count": 46,
   "id": "6c48680e",
   "metadata": {},
   "outputs": [
    {
     "data": {
      "text/plain": [
       "0.08538221\r\n"
      ]
     },
     "execution_count": 46,
     "metadata": {},
     "output_type": "execute_result"
    }
   ],
   "source": [
    "// test with two samples\n",
    "\n",
    ".stats.tTestTwoSample[xTest1:100?1.0;xTest2:neg[0.5]+1000?2.0]"
   ]
  },
  {
   "cell_type": "code",
   "execution_count": 47,
   "id": "4863f6a3",
   "metadata": {},
   "outputs": [
    {
     "data": {
      "text/plain": [
       "0.99\r\n"
      ]
     },
     "execution_count": 47,
     "metadata": {},
     "output_type": "execute_result"
    }
   ],
   "source": [
    "// p value \n",
    ".stats.pValueTwoSided abs .stats.tTestTwoSample[xTest1;xTest2]"
   ]
  },
  {
   "cell_type": "markdown",
   "id": "cfffe902",
   "metadata": {},
   "source": [
    "###### Sig Test\n"
   ]
  }
 ],
 "metadata": {
  "kernelspec": {
   "display_name": "Q (kdb+)",
   "language": "q",
   "name": "qpk"
  },
  "language_info": {
   "file_extension": ".q",
   "mimetype": "text/x-q",
   "name": "q",
   "version": "4.0"
  }
 },
 "nbformat": 4,
 "nbformat_minor": 5
}
